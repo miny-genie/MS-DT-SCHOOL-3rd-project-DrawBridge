{
 "cells": [
  {
   "cell_type": "markdown",
   "metadata": {
    "application/vnd.databricks.v1+cell": {
     "cellMetadata": {
      "byteLimit": 2048000,
      "rowLimit": 10000
     },
     "inputWidgets": {},
     "nuid": "4403186a-7868-4bbe-b763-be7fb75baf94",
     "showTitle": false,
     "tableResultSettingsMap": {},
     "title": ""
    }
   },
   "source": [
    "# 0. 라이브러리"
   ]
  },
  {
   "cell_type": "code",
   "execution_count": 0,
   "metadata": {
    "application/vnd.databricks.v1+cell": {
     "cellMetadata": {
      "byteLimit": 2048000,
      "rowLimit": 10000
     },
     "inputWidgets": {},
     "nuid": "e37b0b7e-a963-4742-82f1-b277597ced70",
     "showTitle": false,
     "tableResultSettingsMap": {},
     "title": ""
    }
   },
   "outputs": [],
   "source": [
    "# import sys\n",
    "# !{sys.executable} -m pip install seaborn statsmodels"
   ]
  },
  {
   "cell_type": "code",
   "execution_count": 0,
   "metadata": {
    "application/vnd.databricks.v1+cell": {
     "cellMetadata": {
      "byteLimit": 2048000,
      "rowLimit": 10000
     },
     "inputWidgets": {},
     "nuid": "d19c6d0e-9213-4fc9-a076-b7a43530d3cd",
     "showTitle": false,
     "tableResultSettingsMap": {},
     "title": ""
    }
   },
   "outputs": [],
   "source": [
    "import pandas as pd\n",
    "import numpy as np\n",
    "import random\n",
    "import string\n",
    "import matplotlib.pyplot as plt\n",
    "from matplotlib import font_manager, rc\n",
    "import datetime\n",
    "import pytz"
   ]
  },
  {
   "cell_type": "markdown",
   "metadata": {
    "application/vnd.databricks.v1+cell": {
     "cellMetadata": {
      "byteLimit": 2048000,
      "rowLimit": 10000
     },
     "inputWidgets": {},
     "nuid": "3a75ed54-7683-4b00-8d60-13a05bd9f1f1",
     "showTitle": false,
     "tableResultSettingsMap": {},
     "title": ""
    }
   },
   "source": [
    "# 1. 데이터 불러오기"
   ]
  },
  {
   "cell_type": "code",
   "execution_count": 0,
   "metadata": {
    "application/vnd.databricks.v1+cell": {
     "cellMetadata": {
      "byteLimit": 2048000,
      "rowLimit": 10000
     },
     "inputWidgets": {},
     "nuid": "50c41aed-0592-43b1-b407-be95b87b48ee",
     "showTitle": false,
     "tableResultSettingsMap": {},
     "title": ""
    }
   },
   "outputs": [],
   "source": [
    "df_jk = pd.read_csv(\"jobkorea_data.csv\")                # age, gender, education 참고 \n",
    "job_df = pd.read_csv(\"job_skill_ratio.csv\")             # job, skills 참고\n",
    "career_df = pd.read_csv('career_ratio.csv')             # career 참고\n",
    "df_region = pd.read_csv('region_plus_closet_v3.csv')    # location, work_location 참고\n",
    "df_salary = pd.read_csv(\"job_exp_salary_v3.csv\")        # salary 참고"
   ]
  },
  {
   "cell_type": "markdown",
   "metadata": {
    "application/vnd.databricks.v1+cell": {
     "cellMetadata": {
      "byteLimit": 2048000,
      "rowLimit": 10000
     },
     "inputWidgets": {},
     "nuid": "319fbcdd-4e01-451b-9924-86041b0d7262",
     "showTitle": false,
     "tableResultSettingsMap": {},
     "title": ""
    }
   },
   "source": [
    "# 2. 데이터 생성"
   ]
  },
  {
   "cell_type": "markdown",
   "metadata": {
    "application/vnd.databricks.v1+cell": {
     "cellMetadata": {
      "byteLimit": 2048000,
      "rowLimit": 10000
     },
     "inputWidgets": {},
     "nuid": "b0116269-0245-4ec0-ab6b-0d6ce8ba1ce1",
     "showTitle": false,
     "tableResultSettingsMap": {},
     "title": ""
    }
   },
   "source": [
    "## 2.1 age, career"
   ]
  },
  {
   "cell_type": "code",
   "execution_count": 0,
   "metadata": {
    "application/vnd.databricks.v1+cell": {
     "cellMetadata": {
      "byteLimit": 2048000,
      "rowLimit": 10000
     },
     "inputWidgets": {},
     "nuid": "93b4f7a0-0885-44d9-9826-56f179107f6f",
     "showTitle": false,
     "tableResultSettingsMap": {},
     "title": ""
    }
   },
   "outputs": [],
   "source": [
    "# -----------------------------\n",
    "# 2. 전체 나이대 비율\n",
    "# -----------------------------\n",
    "age_ratio_dict = {\n",
    "    \"25세이하\": 18.72,\n",
    "    \"26세~30세\": 34.61,\n",
    "    \"31세~35세\": 17.88,\n",
    "    \"36세~40세\": 7.18,\n",
    "    \"41세~45세\": 8.19,\n",
    "    \"46세이상\": 13.42\n",
    "}\n",
    "age_ratio_series = pd.Series(age_ratio_dict, dtype=float)\n",
    "age_ratio_series /= age_ratio_series.sum()\n",
    "\n",
    "# -----------------------------\n",
    "# 3. 경력 순서 및 숫자 변환 함수\n",
    "# -----------------------------\n",
    "career_order = [\"신입\",\"1년\",\"2년\",\"3년\",\"4년\",\"5년\",\"6년\",\"7년\",\"8년\",\"9년\",\n",
    "                \"10년\",\"11년\",\"12년\",\"13년\",\"14년\",\"15년\",\"16년\",\"17년\",\"18년\",\"19년\",\"20년 이상\"]\n",
    "\n",
    "def exp_to_num(exp):\n",
    "    if exp == \"신입\":\n",
    "        return 0\n",
    "    elif exp == \"20년 이상\":\n",
    "        return 30\n",
    "    else:\n",
    "        return int(exp.replace(\"년\",\"\"))\n",
    "\n",
    "career_num = [exp_to_num(c) for c in career_order]\n",
    "\n",
    "# -----------------------------\n",
    "# 4. 경력 비율 불러오기\n",
    "# -----------------------------\n",
    "career_df['비율'] = career_df['비율'] / career_df['비율'].sum()\n",
    "career_target_ratio = career_df.set_index('경력')['비율'].reindex(career_order).fillna(0)\n",
    "\n",
    "# -----------------------------\n",
    "# 5. 나이대별 경력 가능한 최대\n",
    "# -----------------------------\n",
    "max_exp_by_age = {\n",
    "    \"25세이하\": 3,\n",
    "    \"26세~30세\": 7,\n",
    "    \"31세~35세\": 12,\n",
    "    \"36세~40세\": 17,\n",
    "    \"41세~45세\": 23,\n",
    "    \"46세이상\": 30\n",
    "}\n",
    "\n",
    "# -----------------------------\n",
    "# 6. 초기 나이대별 경력 비율 (가우시안 중심)\n",
    "# -----------------------------\n",
    "age_career_matrix = pd.DataFrame(0.0, index=age_ratio_series.index, columns=career_order, dtype=float)\n",
    "\n",
    "for age in age_ratio_series.index:\n",
    "    max_exp = max_exp_by_age[age]\n",
    "    center = max_exp - 2\n",
    "    sigma = max_exp / 4\n",
    "    for c in career_order:\n",
    "        num = exp_to_num(c)\n",
    "        if num <= max_exp:\n",
    "            age_career_matrix.loc[age, c] = np.exp(-0.5*((num - center)/sigma)**2)\n",
    "    # 정규화\n",
    "    if age_career_matrix.loc[age].sum() > 0:\n",
    "        age_career_matrix.loc[age] /= age_career_matrix.loc[age].sum()\n",
    "    else:\n",
    "        age_career_matrix.loc[age] = 1.0 / len(career_order)\n",
    "\n",
    "# -----------------------------\n",
    "# 7. 나이대별 세세한 가중치 적용\n",
    "# -----------------------------\n",
    "weight_matrix = pd.DataFrame(0.0, index=age_ratio_series.index, columns=career_order, dtype=float)\n",
    "\n",
    "# 각 나이대별 가중치\n",
    "weight_matrix.loc[\"25세이하\"] = [1.5,1.3,1.2,1.1,1.0,0.9,0.8,0.7,0.6,0.5,\n",
    "                                 0.4,0.3,0.2,0.15,0.1,0.1,0.05,0.05,0.03,0.02,0.01]\n",
    "weight_matrix.loc[\"26세~30세\"] = [1.2,1.1,1.05,1.0,0.95,0.9,0.85,0.8,0.7,0.6,\n",
    "                                  0.5,0.4,0.3,0.2,0.15,0.1,0.05,0.05,0.03,0.02,0.01]\n",
    "weight_matrix.loc[\"31세~35세\"] = [0.05,0.1,0.2,0.4,0.6,0.8,1.0,1.1,1.0,0.9,\n",
    "                                  0.8,0.7,0.6,0.5,0.4,0.3,0.2,0.1,0.05,0.03,0.01]\n",
    "weight_matrix.loc[\"36세~40세\"] = [0.01,0.05,0.1,0.3,0.5,0.7,1.0,1.1,1.2,1.3,\n",
    "                                  1.2,1.1,1.0,0.9,0.8,0.7,0.6,0.5,0.4,0.3,0.2]\n",
    "weight_matrix.loc[\"41세~45세\"] = [0.0,0.02,0.05,0.1,0.3,0.5,0.8,1.0,1.2,1.3,\n",
    "                                  1.4,1.3,1.2,1.1,1.0,0.9,0.8,0.7,0.6,0.5,0.4]\n",
    "weight_matrix.loc[\"46세이상\"] = [0.0,0.01,0.02,0.05,0.1,0.3,0.5,0.7,0.9,1.0,\n",
    "                                  1.2,1.3,1.4,1.3,1.2,1.1,1.0,0.9,0.8,0.7,0.6]\n",
    "\n",
    "age_career_matrix = age_career_matrix * weight_matrix\n",
    "age_career_matrix = age_career_matrix.div(age_career_matrix.sum(axis=1), axis=0)\n",
    "\n",
    "# -----------------------------\n",
    "# 8. 전체 경력 비율 맞춤 루프\n",
    "# -----------------------------\n",
    "for iteration in range(50):\n",
    "    current_career_ratio = (age_career_matrix.T * age_ratio_series).T.sum()\n",
    "    correction = career_target_ratio / current_career_ratio\n",
    "    correction.replace([np.inf, -np.inf], 1, inplace=True)\n",
    "    correction.fillna(1, inplace=True)\n",
    "    for age in age_career_matrix.index:\n",
    "        age_career_matrix.loc[age] *= correction\n",
    "        age_career_matrix.loc[age] /= age_career_matrix.loc[age].sum()\n",
    "\n",
    "# -----------------------------\n",
    "# 9. 나이대 샘플링 \n",
    "# -----------------------------\n",
    "#####################\n",
    "###더미 생성량 옵션###\n",
    "#####################\n",
    "N = 10000 ###########\n",
    "#####################\n",
    "#####################\n",
    "\n",
    "age_samples = np.random.choice(age_ratio_series.index, size=N, p=age_ratio_series.values.astype(float))\n",
    "\n",
    "# -----------------------------\n",
    "# 10. 나이대별 경력 샘플링\n",
    "# -----------------------------\n",
    "exp_samples = []\n",
    "for age in age_samples:\n",
    "    probs = age_career_matrix.loc[age].values.astype(float)\n",
    "    exp_samples.append(np.random.choice(career_order, p=probs))\n",
    "\n",
    "# -----------------------------\n",
    "# 11. 더미 데이터 생성\n",
    "# -----------------------------\n",
    "df_dummy = pd.DataFrame({\n",
    "    'age_category': age_samples,\n",
    "    'career': exp_samples\n",
    "})"
   ]
  },
  {
   "cell_type": "code",
   "execution_count": 0,
   "metadata": {
    "application/vnd.databricks.v1+cell": {
     "cellMetadata": {
      "byteLimit": 2048000,
      "rowLimit": 10000
     },
     "inputWidgets": {},
     "nuid": "8cb050d0-e1e7-40a8-a375-25a2f181dbdd",
     "showTitle": false,
     "tableResultSettingsMap": {},
     "title": ""
    }
   },
   "outputs": [],
   "source": [
    "df_dummy['age'] = df_dummy['age_category'].map({\n",
    "    '25세이하': lambda _: random.randint(20, 25),\n",
    "    '26세~30세': lambda _: random.randint(26, 30),\n",
    "    '31세~35세': lambda _: random.randint(31, 35),\n",
    "    '36세~40세': lambda _: random.randint(36, 40),\n",
    "    '41세~45세': lambda _: random.randint(41, 45),\n",
    "    '46세이상': lambda _: random.randint(46, 51)\n",
    "}).apply(lambda f: f(None))"
   ]
  },
  {
   "cell_type": "markdown",
   "metadata": {
    "application/vnd.databricks.v1+cell": {
     "cellMetadata": {
      "byteLimit": 2048000,
      "rowLimit": 10000
     },
     "inputWidgets": {},
     "nuid": "5c653cb6-76cc-4142-abf2-db07d067cd20",
     "showTitle": false,
     "tableResultSettingsMap": {},
     "title": ""
    }
   },
   "source": [
    "## 2.2 job, skills_current"
   ]
  },
  {
   "cell_type": "code",
   "execution_count": 0,
   "metadata": {
    "application/vnd.databricks.v1+cell": {
     "cellMetadata": {
      "byteLimit": 2048000,
      "rowLimit": 10000
     },
     "inputWidgets": {},
     "nuid": "38ad803e-80b7-4ebd-8b11-e2674e2cc44e",
     "showTitle": false,
     "tableResultSettingsMap": {},
     "title": ""
    }
   },
   "outputs": [],
   "source": [
    "# -----------------------------\n",
    "# 12. 직무 + 스킬 추가\n",
    "# -----------------------------\n",
    "job_df[\"비율\"] = job_df[\"비율\"] / job_df[\"비율\"].sum()\n",
    "job_probs = job_df[\"비율\"].values.astype(float)\n",
    "job_roles = job_df[\"직무\"].values\n",
    "chosen_jobs = np.random.choice(job_roles, size=N, p=job_probs)\n",
    "df_dummy[\"job\"] = chosen_jobs\n",
    "\n",
    "skills_list = []\n",
    "for job in chosen_jobs:\n",
    "    available_skills = job_df.loc[job_df[\"직무\"]==job,\"스킬\"].values[0]\n",
    "    available_skills = available_skills.strip(\"{}\").split(\";\")\n",
    "    n_skills = random.randint(3,5)\n",
    "    chosen_skills = random.sample(available_skills, min(n_skills,len(available_skills)))\n",
    "    skills_list.append(\";\".join(chosen_skills))\n",
    "df_dummy[\"skills_current\"] = skills_list"
   ]
  },
  {
   "cell_type": "markdown",
   "metadata": {
    "application/vnd.databricks.v1+cell": {
     "cellMetadata": {
      "byteLimit": 2048000,
      "rowLimit": 10000
     },
     "inputWidgets": {},
     "nuid": "c6ea804a-1c0f-4fac-931a-66739038e64b",
     "showTitle": false,
     "tableResultSettingsMap": {},
     "title": ""
    }
   },
   "source": [
    "## 2.2.1 skfn_current (=skillfulness_current)"
   ]
  },
  {
   "cell_type": "code",
   "execution_count": 0,
   "metadata": {
    "application/vnd.databricks.v1+cell": {
     "cellMetadata": {
      "byteLimit": 2048000,
      "rowLimit": 10000
     },
     "inputWidgets": {},
     "nuid": "2f42189a-f7d3-494b-ba0a-a6a5e83394b7",
     "showTitle": false,
     "tableResultSettingsMap": {},
     "title": ""
    }
   },
   "outputs": [],
   "source": [
    "career_category = {\n",
    "    '신입': '신입',\n",
    "    '주니어': ['1년', '2년', '3년'],\n",
    "    '미드': ['4년', '5년', '6년'],\n",
    "    '시니어': ['7년', '8년', '9년', '10년', '11년', '12년', '13년', '14년', '15년', '16년', '17년', '18년', '19년', '20년 이상']\n",
    "}\n",
    "\n",
    "skfn_range = {\n",
    "    '신입': [0, 10],\n",
    "    '주니어': [11, 25],\n",
    "    '미드': [26, 40],\n",
    "    '시니어': [41, 55] \n",
    "}"
   ]
  },
  {
   "cell_type": "code",
   "execution_count": 0,
   "metadata": {
    "application/vnd.databricks.v1+cell": {
     "cellMetadata": {
      "byteLimit": 2048000,
      "rowLimit": 10000
     },
     "inputWidgets": {},
     "nuid": "0a1aefaf-7834-4491-91a1-ea04ceec05ac",
     "showTitle": false,
     "tableResultSettingsMap": {},
     "title": ""
    }
   },
   "outputs": [],
   "source": [
    "def get_career_category(career):\n",
    "    if career == '신입':\n",
    "        return '신입'\n",
    "    for cat, years in career_category.items():\n",
    "        if career in years:\n",
    "            return cat\n",
    "    return '시니어'\n",
    "\n",
    "def generate_skillfulness(row):\n",
    "    cat = get_career_category(row['career'])\n",
    "    min, max = skfn_range[cat]\n",
    "    skills = row['skills_current'].split(';')\n",
    "    vals = [str(random.randint(min, max)) for skill in skills]\n",
    "    return ';'.join(vals)\n",
    "\n",
    "df_dummy['skfn_current'] = df_dummy.apply(generate_skillfulness, axis=1)"
   ]
  },
  {
   "cell_type": "code",
   "execution_count": 0,
   "metadata": {
    "application/vnd.databricks.v1+cell": {
     "cellMetadata": {
      "byteLimit": 2048000,
      "rowLimit": 10000
     },
     "inputWidgets": {},
     "nuid": "dc18722a-7abb-4d15-be98-2829baf8f506",
     "showTitle": false,
     "tableResultSettingsMap": {},
     "title": ""
    }
   },
   "outputs": [
    {
     "output_type": "execute_result",
     "data": {
      "text/html": [
       "<div>\n",
       "<style scoped>\n",
       "    .dataframe tbody tr th:only-of-type {\n",
       "        vertical-align: middle;\n",
       "    }\n",
       "\n",
       "    .dataframe tbody tr th {\n",
       "        vertical-align: top;\n",
       "    }\n",
       "\n",
       "    .dataframe thead th {\n",
       "        text-align: right;\n",
       "    }\n",
       "</style>\n",
       "<table border=\"1\" class=\"dataframe\">\n",
       "  <thead>\n",
       "    <tr style=\"text-align: right;\">\n",
       "      <th></th>\n",
       "      <th>age_category</th>\n",
       "      <th>career</th>\n",
       "      <th>age</th>\n",
       "      <th>job</th>\n",
       "      <th>skills_current</th>\n",
       "      <th>skfn_current</th>\n",
       "    </tr>\n",
       "  </thead>\n",
       "  <tbody>\n",
       "    <tr>\n",
       "      <th>0</th>\n",
       "      <td>41세~45세</td>\n",
       "      <td>2년</td>\n",
       "      <td>42</td>\n",
       "      <td>서버/백엔드 개발자</td>\n",
       "      <td>MVVM;Classic ASP;Microsoft Excel</td>\n",
       "      <td>16;19;18</td>\n",
       "    </tr>\n",
       "    <tr>\n",
       "      <th>1</th>\n",
       "      <td>31세~35세</td>\n",
       "      <td>신입</td>\n",
       "      <td>31</td>\n",
       "      <td>DBA</td>\n",
       "      <td>Amazon ElastiCache;SQL;Python;NGINX</td>\n",
       "      <td>2;10;2;6</td>\n",
       "    </tr>\n",
       "    <tr>\n",
       "      <th>2</th>\n",
       "      <td>26세~30세</td>\n",
       "      <td>1년</td>\n",
       "      <td>29</td>\n",
       "      <td>안드로이드 개발자</td>\n",
       "      <td>Mac OS X;Webpack;Dart;Lottie;React</td>\n",
       "      <td>11;18;15;15;22</td>\n",
       "    </tr>\n",
       "    <tr>\n",
       "      <th>3</th>\n",
       "      <td>26세~30세</td>\n",
       "      <td>2년</td>\n",
       "      <td>30</td>\n",
       "      <td>크로스플랫폼 앱개발자</td>\n",
       "      <td>React Native;Zustand;Spring Framework</td>\n",
       "      <td>22;23;11</td>\n",
       "    </tr>\n",
       "    <tr>\n",
       "      <th>4</th>\n",
       "      <td>31세~35세</td>\n",
       "      <td>3년</td>\n",
       "      <td>31</td>\n",
       "      <td>인공지능/머신러닝</td>\n",
       "      <td>PyTorch;C#;yolo;Windows;DVC</td>\n",
       "      <td>12;14;18;11;21</td>\n",
       "    </tr>\n",
       "  </tbody>\n",
       "</table>\n",
       "</div>"
      ],
      "text/plain": [
       "  age_category career  ...                         skills_current    skfn_current\n",
       "0      41세~45세     2년  ...       MVVM;Classic ASP;Microsoft Excel        16;19;18\n",
       "1      31세~35세     신입  ...    Amazon ElastiCache;SQL;Python;NGINX        2;10;2;6\n",
       "2      26세~30세     1년  ...     Mac OS X;Webpack;Dart;Lottie;React  11;18;15;15;22\n",
       "3      26세~30세     2년  ...  React Native;Zustand;Spring Framework        22;23;11\n",
       "4      31세~35세     3년  ...            PyTorch;C#;yolo;Windows;DVC  12;14;18;11;21\n",
       "\n",
       "[5 rows x 6 columns]"
      ]
     },
     "execution_count": 9,
     "metadata": {},
     "output_type": "execute_result"
    }
   ],
   "source": [
    "df_dummy.head()"
   ]
  },
  {
   "cell_type": "markdown",
   "metadata": {
    "application/vnd.databricks.v1+cell": {
     "cellMetadata": {
      "byteLimit": 2048000,
      "rowLimit": 10000
     },
     "inputWidgets": {},
     "nuid": "632dfbb5-4a66-4177-a020-0ae2ba0aae7f",
     "showTitle": false,
     "tableResultSettingsMap": {},
     "title": ""
    }
   },
   "source": [
    "## 2.2.2 skills_past/pp, skfn_past/pp"
   ]
  },
  {
   "cell_type": "code",
   "execution_count": 0,
   "metadata": {
    "application/vnd.databricks.v1+cell": {
     "cellMetadata": {
      "byteLimit": 2048000,
      "rowLimit": 10000
     },
     "inputWidgets": {},
     "nuid": "d289f9a8-29b5-4ba9-802b-7752f03991fe",
     "showTitle": false,
     "tableResultSettingsMap": {},
     "title": ""
    }
   },
   "outputs": [],
   "source": [
    "df_dummy['skills_past'] = None\n",
    "df_dummy['skfn_past'] = None\n",
    "df_dummy['skills_p2'] = None\n",
    "df_dummy['skfn_p2'] = None\n",
    "df_dummy['skills_p3'] = None\n",
    "df_dummy['skfn_p3'] = None\n",
    "df_dummy['skills_p4'] = None\n",
    "df_dummy['skfn_p4'] = None\n",
    "df_dummy['skills_p5'] = None\n",
    "df_dummy['skfn_p5'] = None\n",
    "df_dummy['skills_p6'] = None\n",
    "df_dummy['skfn_p6'] = None"
   ]
  },
  {
   "cell_type": "markdown",
   "metadata": {
    "application/vnd.databricks.v1+cell": {
     "cellMetadata": {
      "byteLimit": 2048000,
      "rowLimit": 10000
     },
     "inputWidgets": {},
     "nuid": "70097a93-ad65-4757-9574-3b68840372d5",
     "showTitle": false,
     "tableResultSettingsMap": {},
     "title": ""
    }
   },
   "source": [
    "## 2.3 employee_ID"
   ]
  },
  {
   "cell_type": "code",
   "execution_count": 0,
   "metadata": {
    "application/vnd.databricks.v1+cell": {
     "cellMetadata": {
      "byteLimit": 2048000,
      "rowLimit": 10000
     },
     "inputWidgets": {},
     "nuid": "8d7cbe62-066e-4b9c-8717-626517ce9aa8",
     "showTitle": false,
     "tableResultSettingsMap": {},
     "title": ""
    }
   },
   "outputs": [],
   "source": [
    "# -----------------------------\n",
    "# 13. 구직자 ID 생성\n",
    "# -----------------------------\n",
    "letters = list(string.ascii_lowercase)\n",
    "ids = []\n",
    "counter = 1\n",
    "letter_index = 0\n",
    "\n",
    "for i in range(N):\n",
    "    ids.append(f\"{letters[letter_index]}{counter:08d}\")\n",
    "    counter += 1\n",
    "    if counter > 99999999:\n",
    "        counter = 1\n",
    "        letter_index += 1\n",
    "df_dummy[\"employee_id\"] = ids"
   ]
  },
  {
   "cell_type": "markdown",
   "metadata": {
    "application/vnd.databricks.v1+cell": {
     "cellMetadata": {
      "byteLimit": 2048000,
      "rowLimit": 10000
     },
     "inputWidgets": {},
     "nuid": "00d4852f-2e93-4893-a747-621703afa8fe",
     "showTitle": false,
     "tableResultSettingsMap": {},
     "title": ""
    }
   },
   "source": [
    "## 2.4 gender, education"
   ]
  },
  {
   "cell_type": "code",
   "execution_count": 0,
   "metadata": {
    "application/vnd.databricks.v1+cell": {
     "cellMetadata": {
      "byteLimit": 2048000,
      "rowLimit": 10000
     },
     "inputWidgets": {},
     "nuid": "be54e720-ec96-4f4a-ae87-cc8074c7589e",
     "showTitle": false,
     "tableResultSettingsMap": {},
     "title": ""
    }
   },
   "outputs": [],
   "source": [
    "# 합산에 필요한 column list 정의\n",
    "age_cols = ['25세이하', '26세~30세', '31세~35세', '36세~40세', '41세~45세', '46세이상']\n",
    "gender_cols = ['남자', '여자']\n",
    "edu_cols = ['고졸미만', '고졸(예정)', '초대졸(예정)', '대졸(예정)', '석박사(예정)']\n",
    "\n",
    "# 각 column마다 합산\n",
    "age_total = [df_jk[col].sum() for col in age_cols]\n",
    "gender_total = [df_jk[col].sum() for col in gender_cols]\n",
    "edu_total = [df_jk[col].sum() for col in edu_cols]\n",
    "\n",
    "age_total = np.array(age_total)\n",
    "gender_total = np.array(gender_total)\n",
    "edu_total = np.array(edu_total)\n",
    "\n",
    "total_count = df_jk['지원자수'].sum()\n",
    "\n",
    "# 결과를 저장할 변수 초기화\n",
    "best_max_diff = float('inf')\n",
    "best_iterations = 0\n",
    "best_joint_array = None\n",
    "\n",
    "# 반복 횟수 리스트\n",
    "iterations_list = [500, 1000, 3000, 10000, 20000]\n",
    "\n",
    "# 각 반복 횟수에 대해 시뮬레이션 실행\n",
    "for max_iterations in iterations_list:\n",
    "    # 매 시뮬레이션마다 joint_array를 초기화\n",
    "    joint_array = np.ones((6, 2, 5))\n",
    "    # tol = 1e-6\n",
    "    tol = 1\n",
    "    \n",
    "    for i in range(max_iterations):\n",
    "        # a. 연령대 합계에 맞춰 조정\n",
    "        age_sum = joint_array.sum(axis=(1, 2))\n",
    "        joint_array *= (age_total / age_sum)[:, np.newaxis, np.newaxis]\n",
    "    \n",
    "        # b. 성별 합계에 맞춰 조정\n",
    "        gender_sum = joint_array.sum(axis=(0, 2))\n",
    "        joint_array *= (gender_total / gender_sum)[np.newaxis, :, np.newaxis]\n",
    "        \n",
    "        # c. 학력 합계에 맞춰 조정\n",
    "        edu_sum = joint_array.sum(axis=(0, 1))\n",
    "        joint_array *= (edu_total / edu_sum)[np.newaxis, np.newaxis, :]\n",
    "        \n",
    "        # 수렴 여부 확인 (주석 해제 권장)\n",
    "        age_diff = np.abs(joint_array.sum(axis=(1,2)) - age_total).sum()\n",
    "        gender_diff = np.abs(joint_array.sum(axis=(0,2)) - gender_total).sum()\n",
    "        edu_diff = np.abs(joint_array.sum(axis=(0,1)) - edu_total).sum()\n",
    "        \n",
    "        if age_diff < tol and gender_diff < tol and edu_diff < tol:\n",
    "            print(f\"IPF가 {i}번의 반복 후 수렴했습니다.\")\n",
    "            break\n",
    "            \n",
    "    # 현재 시뮬레이션의 최대 오차 계산\n",
    "    max_diff = max(age_diff, gender_diff, edu_diff)\n",
    "\n",
    "    # 최적 결과 업데이트\n",
    "    if max_diff < best_max_diff:\n",
    "        best_max_diff = max_diff\n",
    "        best_iterations = max_iterations\n",
    "        best_joint_array = joint_array.copy()\n",
    "\n",
    "# 확률 분포로 변환\n",
    "total_sum = best_joint_array.sum()\n",
    "joint_prob = best_joint_array / total_sum\n",
    "\n",
    "# 확률 분포를 1차원 배열로 평탄화\n",
    "flat_prob = joint_prob.flatten()"
   ]
  },
  {
   "cell_type": "code",
   "execution_count": 0,
   "metadata": {
    "application/vnd.databricks.v1+cell": {
     "cellMetadata": {
      "byteLimit": 2048000,
      "rowLimit": 10000
     },
     "inputWidgets": {},
     "nuid": "1b3d58bf-23c0-49db-809e-c895baad58ba",
     "showTitle": false,
     "tableResultSettingsMap": {},
     "title": ""
    }
   },
   "outputs": [],
   "source": [
    "# 모든 가능한 조합 리스트 생성\n",
    "all_combinations = []\n",
    "for age in age_cols:\n",
    "    for gender in gender_cols:\n",
    "        for edu in edu_cols:\n",
    "            all_combinations.append((age, gender, edu))"
   ]
  },
  {
   "cell_type": "code",
   "execution_count": 0,
   "metadata": {
    "application/vnd.databricks.v1+cell": {
     "cellMetadata": {
      "byteLimit": 2048000,
      "rowLimit": 10000
     },
     "inputWidgets": {},
     "nuid": "56453bf1-6d95-45fb-85cc-26bff34f2e3b",
     "showTitle": false,
     "tableResultSettingsMap": {},
     "title": ""
    }
   },
   "outputs": [
    {
     "output_type": "execute_result",
     "data": {
      "text/html": [
       "<div>\n",
       "<style scoped>\n",
       "    .dataframe tbody tr th:only-of-type {\n",
       "        vertical-align: middle;\n",
       "    }\n",
       "\n",
       "    .dataframe tbody tr th {\n",
       "        vertical-align: top;\n",
       "    }\n",
       "\n",
       "    .dataframe thead th {\n",
       "        text-align: right;\n",
       "    }\n",
       "</style>\n",
       "<table border=\"1\" class=\"dataframe\">\n",
       "  <thead>\n",
       "    <tr style=\"text-align: right;\">\n",
       "      <th></th>\n",
       "      <th>age_category</th>\n",
       "      <th>career</th>\n",
       "      <th>age</th>\n",
       "      <th>job</th>\n",
       "      <th>skills_current</th>\n",
       "      <th>skfn_current</th>\n",
       "      <th>skills_past</th>\n",
       "      <th>skfn_past</th>\n",
       "      <th>skills_pp</th>\n",
       "      <th>skfn_pp</th>\n",
       "      <th>employee_id</th>\n",
       "      <th>gender</th>\n",
       "      <th>education</th>\n",
       "    </tr>\n",
       "  </thead>\n",
       "  <tbody>\n",
       "    <tr>\n",
       "      <th>0</th>\n",
       "      <td>25세이하</td>\n",
       "      <td>신입</td>\n",
       "      <td>21</td>\n",
       "      <td>SW/솔루션</td>\n",
       "      <td>Adobe Target;FW;MSA</td>\n",
       "      <td>5;1;4</td>\n",
       "      <td>None</td>\n",
       "      <td>None</td>\n",
       "      <td>None</td>\n",
       "      <td>None</td>\n",
       "      <td>a00000001</td>\n",
       "      <td>남자</td>\n",
       "      <td>대졸(예정)</td>\n",
       "    </tr>\n",
       "    <tr>\n",
       "      <th>1</th>\n",
       "      <td>36세~40세</td>\n",
       "      <td>11년</td>\n",
       "      <td>37</td>\n",
       "      <td>SW/솔루션</td>\n",
       "      <td>React Router;Ccnp;NestJS</td>\n",
       "      <td>46;46;43</td>\n",
       "      <td>None</td>\n",
       "      <td>None</td>\n",
       "      <td>None</td>\n",
       "      <td>None</td>\n",
       "      <td>a00000002</td>\n",
       "      <td>남자</td>\n",
       "      <td>대졸(예정)</td>\n",
       "    </tr>\n",
       "    <tr>\n",
       "      <th>2</th>\n",
       "      <td>25세이하</td>\n",
       "      <td>신입</td>\n",
       "      <td>22</td>\n",
       "      <td>인공지능/머신러닝</td>\n",
       "      <td>Next.js;CrewAI;GraphicsMagick</td>\n",
       "      <td>9;10;7</td>\n",
       "      <td>None</td>\n",
       "      <td>None</td>\n",
       "      <td>None</td>\n",
       "      <td>None</td>\n",
       "      <td>a00000003</td>\n",
       "      <td>남자</td>\n",
       "      <td>대졸(예정)</td>\n",
       "    </tr>\n",
       "    <tr>\n",
       "      <th>3</th>\n",
       "      <td>31세~35세</td>\n",
       "      <td>8년</td>\n",
       "      <td>33</td>\n",
       "      <td>QA 엔지니어</td>\n",
       "      <td>Android OS;Redmine;C</td>\n",
       "      <td>55;46;49</td>\n",
       "      <td>None</td>\n",
       "      <td>None</td>\n",
       "      <td>None</td>\n",
       "      <td>None</td>\n",
       "      <td>a00000004</td>\n",
       "      <td>남자</td>\n",
       "      <td>대졸(예정)</td>\n",
       "    </tr>\n",
       "    <tr>\n",
       "      <th>4</th>\n",
       "      <td>26세~30세</td>\n",
       "      <td>1년</td>\n",
       "      <td>28</td>\n",
       "      <td>DevOps/시스템 엔지니어</td>\n",
       "      <td>K8S;Vue.js;Looker</td>\n",
       "      <td>19;19;11</td>\n",
       "      <td>None</td>\n",
       "      <td>None</td>\n",
       "      <td>None</td>\n",
       "      <td>None</td>\n",
       "      <td>a00000005</td>\n",
       "      <td>남자</td>\n",
       "      <td>대졸(예정)</td>\n",
       "    </tr>\n",
       "    <tr>\n",
       "      <th>...</th>\n",
       "      <td>...</td>\n",
       "      <td>...</td>\n",
       "      <td>...</td>\n",
       "      <td>...</td>\n",
       "      <td>...</td>\n",
       "      <td>...</td>\n",
       "      <td>...</td>\n",
       "      <td>...</td>\n",
       "      <td>...</td>\n",
       "      <td>...</td>\n",
       "      <td>...</td>\n",
       "      <td>...</td>\n",
       "      <td>...</td>\n",
       "    </tr>\n",
       "    <tr>\n",
       "      <th>9995</th>\n",
       "      <td>26세~30세</td>\n",
       "      <td>3년</td>\n",
       "      <td>27</td>\n",
       "      <td>DevOps/시스템 엔지니어</td>\n",
       "      <td>Amazon EKS;Apache Tomcat;ASP.NET;Kotlin;Window...</td>\n",
       "      <td>18;19;12;16;12</td>\n",
       "      <td>None</td>\n",
       "      <td>None</td>\n",
       "      <td>None</td>\n",
       "      <td>None</td>\n",
       "      <td>a00009996</td>\n",
       "      <td>여자</td>\n",
       "      <td>대졸(예정)</td>\n",
       "    </tr>\n",
       "    <tr>\n",
       "      <th>9996</th>\n",
       "      <td>46세이상</td>\n",
       "      <td>20년 이상</td>\n",
       "      <td>47</td>\n",
       "      <td>정보보안 담당자</td>\n",
       "      <td>QueryDSL;vmware;Windows Terminal;Insight</td>\n",
       "      <td>51;45;49;55</td>\n",
       "      <td>None</td>\n",
       "      <td>None</td>\n",
       "      <td>None</td>\n",
       "      <td>None</td>\n",
       "      <td>a00009997</td>\n",
       "      <td>여자</td>\n",
       "      <td>대졸(예정)</td>\n",
       "    </tr>\n",
       "    <tr>\n",
       "      <th>9997</th>\n",
       "      <td>26세~30세</td>\n",
       "      <td>2년</td>\n",
       "      <td>27</td>\n",
       "      <td>정보보안 담당자</td>\n",
       "      <td>Solidity;CloudFlare;L3;React Query</td>\n",
       "      <td>16;23;20;25</td>\n",
       "      <td>None</td>\n",
       "      <td>None</td>\n",
       "      <td>None</td>\n",
       "      <td>None</td>\n",
       "      <td>a00009998</td>\n",
       "      <td>남자</td>\n",
       "      <td>대졸(예정)</td>\n",
       "    </tr>\n",
       "    <tr>\n",
       "      <th>9998</th>\n",
       "      <td>26세~30세</td>\n",
       "      <td>1년</td>\n",
       "      <td>26</td>\n",
       "      <td>프론트엔드 개발자</td>\n",
       "      <td>Kafka;Backendless;RxJS;PostgreSQL</td>\n",
       "      <td>23;18;12;14</td>\n",
       "      <td>None</td>\n",
       "      <td>None</td>\n",
       "      <td>None</td>\n",
       "      <td>None</td>\n",
       "      <td>a00009999</td>\n",
       "      <td>여자</td>\n",
       "      <td>대졸(예정)</td>\n",
       "    </tr>\n",
       "    <tr>\n",
       "      <th>9999</th>\n",
       "      <td>25세이하</td>\n",
       "      <td>신입</td>\n",
       "      <td>25</td>\n",
       "      <td>SW/솔루션</td>\n",
       "      <td>DB2;NGINX;Visual C++</td>\n",
       "      <td>8;0;5</td>\n",
       "      <td>None</td>\n",
       "      <td>None</td>\n",
       "      <td>None</td>\n",
       "      <td>None</td>\n",
       "      <td>a00010000</td>\n",
       "      <td>여자</td>\n",
       "      <td>대졸(예정)</td>\n",
       "    </tr>\n",
       "  </tbody>\n",
       "</table>\n",
       "<p>10000 rows × 13 columns</p>\n",
       "</div>"
      ],
      "text/plain": [
       "     age_category  career  age  ... employee_id gender education\n",
       "0           25세이하      신입   21  ...   a00000001     남자    대졸(예정)\n",
       "1         36세~40세     11년   37  ...   a00000002     남자    대졸(예정)\n",
       "2           25세이하      신입   22  ...   a00000003     남자    대졸(예정)\n",
       "3         31세~35세      8년   33  ...   a00000004     남자    대졸(예정)\n",
       "4         26세~30세      1년   28  ...   a00000005     남자    대졸(예정)\n",
       "...           ...     ...  ...  ...         ...    ...       ...\n",
       "9995      26세~30세      3년   27  ...   a00009996     여자    대졸(예정)\n",
       "9996        46세이상  20년 이상   47  ...   a00009997     여자    대졸(예정)\n",
       "9997      26세~30세      2년   27  ...   a00009998     남자    대졸(예정)\n",
       "9998      26세~30세      1년   26  ...   a00009999     여자    대졸(예정)\n",
       "9999        25세이하      신입   25  ...   a00010000     여자    대졸(예정)\n",
       "\n",
       "[10000 rows x 13 columns]"
      ]
     },
     "execution_count": 12,
     "metadata": {},
     "output_type": "execute_result"
    }
   ],
   "source": [
    "# age별 조건부 분포 계산\n",
    "conditional_probs = best_joint_array / best_joint_array.sum(axis=(1,2), keepdims=True)\n",
    "\n",
    "# 샘플링 함수\n",
    "def sample_gender_edu(age_value):\n",
    "    age_idx = age_cols.index(age_value)\n",
    "    probs = conditional_probs[age_idx].flatten()  # shape (10,)\n",
    "    choice = np.random.choice(len(probs), p=probs)\n",
    "    g_idx, e_idx = divmod(choice, len(edu_cols))\n",
    "    return gender_cols[g_idx], edu_cols[e_idx]\n",
    "\n",
    "# df_jk에 gender, edu 채워넣기\n",
    "df_dummy['gender'], df_dummy['education'] = zip(*df_dummy['age_category'].map(sample_gender_edu))\n",
    "\n",
    "df_dummy"
   ]
  },
  {
   "cell_type": "markdown",
   "metadata": {
    "application/vnd.databricks.v1+cell": {
     "cellMetadata": {
      "byteLimit": 2048000,
      "rowLimit": 10000
     },
     "inputWidgets": {},
     "nuid": "49f5c32c-4a0a-482e-9495-e38829169605",
     "showTitle": false,
     "tableResultSettingsMap": {},
     "title": ""
    }
   },
   "source": [
    "## 2.5 location, work_location"
   ]
  },
  {
   "cell_type": "code",
   "execution_count": 0,
   "metadata": {
    "application/vnd.databricks.v1+cell": {
     "cellMetadata": {
      "byteLimit": 2048000,
      "rowLimit": 10000
     },
     "inputWidgets": {},
     "nuid": "3c0ae598-9420-42cd-a133-0eb012b2b360",
     "showTitle": false,
     "tableResultSettingsMap": {},
     "title": ""
    }
   },
   "outputs": [],
   "source": [
    "# '경제활동인구' 기반 확률(p) 계산\n",
    "pop_weights = np.array(df_region['경제활동인구 (천명)'])\n",
    "proba = pop_weights / pop_weights.sum()\n",
    "\n",
    "# 분포에 맞춰 할당\n",
    "df_dummy['location'] = np.random.choice(\n",
    "    df_region['행정구역명'],\n",
    "    size=len(df_dummy),\n",
    "    p=proba\n",
    ")"
   ]
  },
  {
   "cell_type": "code",
   "execution_count": 0,
   "metadata": {
    "application/vnd.databricks.v1+cell": {
     "cellMetadata": {
      "byteLimit": 2048000,
      "rowLimit": 10000
     },
     "inputWidgets": {},
     "nuid": "573a09b2-3210-44bb-af47-c7d0d104a738",
     "showTitle": false,
     "tableResultSettingsMap": {},
     "title": ""
    }
   },
   "outputs": [],
   "source": [
    "# 문자열을 리스트로 변환\n",
    "df_region['closest_sidos_list'] = df_region['closest_sidos'].str.split(';')\n",
    "df_region['closest_sigungu_list'] = df_region['closest_sigungu'].str.split(';')\n",
    "\n",
    "# 딕셔너리\n",
    "df_region_unique = df_region.drop_duplicates(subset=['행정구역명'], keep='first')\n",
    "region_dict = df_region_unique.set_index('행정구역명').to_dict('index')\n",
    "\n",
    "conditions = [\n",
    "    '시/도 전체 1개',\n",
    "    '시/도 전체 2개',\n",
    "    '시군구 2개',\n",
    "    '시/도 전체 1개 + 시군구 2개',\n",
    "    '시군구 3개'\n",
    "]\n",
    "\n",
    "def get_work_location(location):\n",
    "    region_info = region_dict.get(location, {})\n",
    "    current_sido = region_info.get('시도명')\n",
    "    sido_list = region_info.get('closest_sidos_list', [])\n",
    "    sigungu_list = region_info.get('closest_sigungu_list', [])\n",
    "\n",
    "    def select_locations(cond):\n",
    "        if cond == '시/도 전체 1개':\n",
    "            return [current_sido]\n",
    "        elif cond == '시/도 전체 2개':\n",
    "            return [current_sido] + random.sample(sido_list, min(1, len(sido_list)))\n",
    "        elif cond == '시군구 2개':\n",
    "            return [location] + random.sample(sigungu_list, min(1, len(sigungu_list)))\n",
    "        elif cond == '시/도 전체 1개 + 시군구 2개':\n",
    "            return random.sample(sido_list, min(1, len(sido_list))) + [location] + random.sample(sigungu_list, min(1, len(sigungu_list)))\n",
    "        elif cond == '시군구 3개':\n",
    "            return [location] + random.sample(sigungu_list, min(2, len(sigungu_list)))\n",
    "        return []\n",
    "\n",
    "    chosen_condition = random.choice(conditions)\n",
    "    location_candidates = select_locations(chosen_condition)\n",
    "\n",
    "    # 후보가 없으면 기본값 fallback\n",
    "    if not location_candidates:\n",
    "        location_candidates = [current_sido]\n",
    "\n",
    "    return ', '.join(location_candidates)\n",
    "\n",
    "\n",
    "# df_dummy_test에 'work_location' 열 추가\n",
    "df_dummy['work_location'] = df_dummy['location'].apply(get_work_location)"
   ]
  },
  {
   "cell_type": "markdown",
   "metadata": {
    "application/vnd.databricks.v1+cell": {
     "cellMetadata": {
      "byteLimit": 2048000,
      "rowLimit": 10000
     },
     "inputWidgets": {},
     "nuid": "70abd1b9-3082-4896-bb8d-1383be941203",
     "showTitle": false,
     "tableResultSettingsMap": {},
     "title": ""
    }
   },
   "source": [
    "## 2.6 employee_name"
   ]
  },
  {
   "cell_type": "code",
   "execution_count": 0,
   "metadata": {
    "application/vnd.databricks.v1+cell": {
     "cellMetadata": {
      "byteLimit": 2048000,
      "rowLimit": 10000
     },
     "inputWidgets": {},
     "nuid": "e96a87c2-9262-4672-8907-b6e70808e11f",
     "showTitle": false,
     "tableResultSettingsMap": {},
     "title": ""
    }
   },
   "outputs": [],
   "source": [
    "N = df_dummy.shape[0]\n",
    "surnames = [\"김\",\"이\",\"박\",\"최\",\"정\",\"강\",\"조\",\"윤\",\"장\",\"임\",\"한\",\"오\",\"서\",\"신\",\"권\",\"황\",\"안\",\"송\",\"전\",\n",
    "            \"홍\",\"유\",\"고\",\"문\",\"양\",\"손\",\"배\",\"조\",\"백\",\"허\",\"유\",\"남\",\"심\",\"노\",\"정\",\"하\",\"곽\",\"성\",\n",
    "            \"차\",\"주\",\"우\",\"구\",\"신\",\"임\",\"전\",\"민\",\"유\",\"류\",\"나\"]\n",
    "\n",
    "employee_names = [random.choice(surnames) + \"XX\" for _ in range(N)]\n",
    "df_dummy[\"employee_name\"] = employee_names"
   ]
  },
  {
   "cell_type": "markdown",
   "metadata": {
    "application/vnd.databricks.v1+cell": {
     "cellMetadata": {
      "byteLimit": 2048000,
      "rowLimit": 10000
     },
     "inputWidgets": {},
     "nuid": "34e76897-4326-4e1a-9fcc-8b6fa98a426b",
     "showTitle": false,
     "tableResultSettingsMap": {},
     "title": ""
    }
   },
   "source": [
    "## 2.7 hope_salary"
   ]
  },
  {
   "cell_type": "code",
   "execution_count": 0,
   "metadata": {
    "application/vnd.databricks.v1+cell": {
     "cellMetadata": {
      "byteLimit": 2048000,
      "rowLimit": 10000
     },
     "inputWidgets": {},
     "nuid": "99fac6b0-ad6c-4689-be40-cb0810e01e41",
     "showTitle": false,
     "tableResultSettingsMap": {},
     "title": ""
    }
   },
   "outputs": [],
   "source": [
    "# -----------------------------\n",
    "# 15. 희망연봉 할당 (job_exp_salary_v3 기준)\n",
    "# -----------------------------\n",
    "\n",
    "# 2. career -> job_exp_salary_v3 컬럼 매핑\n",
    "career_to_col = {\n",
    "    \"신입\": \"0년차\",\n",
    "    \"1년\": \"1년차\",\n",
    "    \"2년\": \"2년차\",\n",
    "    \"3년\": \"3년차\",\n",
    "    \"4년\": \"4년차\",\n",
    "    \"5년\": \"5년차\",\n",
    "    \"6년\": \"6년차\",\n",
    "    \"7년\": \"7년차\",\n",
    "    \"8년\": \"8년차\",\n",
    "    \"9년\": \"9년차\",\n",
    "    \"10년\": \"10년차\",\n",
    "    \"11년\": \"11년차\",\n",
    "    \"12년\": \"12년차\",\n",
    "    \"13년\": \"13년차\",\n",
    "    \"14년\": \"14년차\",\n",
    "    \"15년\": \"15년차\",\n",
    "    \"16년\": \"16년차\",\n",
    "    \"17년\": \"17년차\",\n",
    "    \"18년\": \"18년차\",\n",
    "    \"19년\": \"19년차\",\n",
    "    \"20년 이상\": \"20년차\"\n",
    "}\n",
    "\n",
    "# 3. 전체 연봉 컬럼 및 비율 계산 (df_jk 기준)\n",
    "salary_cols = [\"1800미만\", \"1800~2200\", \"2200~2600\", \"2600~3000\",\n",
    "               \"3000~3400\", \"3400~4000\", \"4000이상\", \"면접후결정\"]\n",
    "\n",
    "salary_dist = df_jk[salary_cols].sum()\n",
    "salary_ratio = salary_dist / salary_dist.sum()\n",
    "\n",
    "# df_dummy 총 N\n",
    "N = df_dummy.shape[0]\n",
    "\n",
    "# 인원 카운터 초기화\n",
    "salary_counter = {col: int(round(salary_ratio[col]*N)) for col in salary_cols}\n",
    "\n",
    "# 4. 희망연봉 배정\n",
    "hope_salary = []\n",
    "\n",
    "for idx, row in df_dummy.iterrows():\n",
    "    job = row['job']\n",
    "    career = row['career']\n",
    "    career_col = career_to_col[career]\n",
    "    \n",
    "    # job_exp_salary_v3에서 해당 연봉값 가져오기\n",
    "    try:\n",
    "        val = df_salary.loc[df_salary['job']==job, career_col].values[0]\n",
    "    except:\n",
    "        val = \"면접후결정\"\n",
    "    \n",
    "    # 남은 인원 확인 후 배정\n",
    "    if val in salary_counter and salary_counter[val] > 0:\n",
    "        hope_salary.append(val)\n",
    "        salary_counter[val] -= 1\n",
    "    else:\n",
    "        hope_salary.append(\"면접후결정\")\n",
    "\n",
    "# 5. df_dummy에 컬럼 추가\n",
    "df_dummy['hope_salary'] = hope_salary"
   ]
  },
  {
   "cell_type": "markdown",
   "metadata": {
    "application/vnd.databricks.v1+cell": {
     "cellMetadata": {
      "byteLimit": 2048000,
      "rowLimit": 10000
     },
     "inputWidgets": {},
     "nuid": "3c166a3a-478c-47cc-befc-9b05222a0faa",
     "showTitle": false,
     "tableResultSettingsMap": {},
     "title": ""
    }
   },
   "source": [
    "## 2.8 timestamp"
   ]
  },
  {
   "cell_type": "code",
   "execution_count": 0,
   "metadata": {
    "application/vnd.databricks.v1+cell": {
     "cellMetadata": {
      "byteLimit": 2048000,
      "rowLimit": 10000
     },
     "inputWidgets": {},
     "nuid": "46e4470d-2180-49c0-b7b6-e38873e190dc",
     "showTitle": false,
     "tableResultSettingsMap": {},
     "title": ""
    }
   },
   "outputs": [
    {
     "output_type": "execute_result",
     "data": {
      "text/html": [
       "<div>\n",
       "<style scoped>\n",
       "    .dataframe tbody tr th:only-of-type {\n",
       "        vertical-align: middle;\n",
       "    }\n",
       "\n",
       "    .dataframe tbody tr th {\n",
       "        vertical-align: top;\n",
       "    }\n",
       "\n",
       "    .dataframe thead th {\n",
       "        text-align: right;\n",
       "    }\n",
       "</style>\n",
       "<table border=\"1\" class=\"dataframe\">\n",
       "  <thead>\n",
       "    <tr style=\"text-align: right;\">\n",
       "      <th></th>\n",
       "      <th>age_category</th>\n",
       "      <th>career</th>\n",
       "      <th>age</th>\n",
       "      <th>job</th>\n",
       "      <th>skills_current</th>\n",
       "      <th>skfn_current</th>\n",
       "      <th>skills_past</th>\n",
       "      <th>skfn_past</th>\n",
       "      <th>skills_pp</th>\n",
       "      <th>skfn_pp</th>\n",
       "      <th>employee_id</th>\n",
       "      <th>gender</th>\n",
       "      <th>education</th>\n",
       "      <th>location</th>\n",
       "      <th>work_location</th>\n",
       "      <th>employee_name</th>\n",
       "      <th>hope_salary</th>\n",
       "      <th>timestamp</th>\n",
       "    </tr>\n",
       "  </thead>\n",
       "  <tbody>\n",
       "    <tr>\n",
       "      <th>0</th>\n",
       "      <td>25세이하</td>\n",
       "      <td>신입</td>\n",
       "      <td>21</td>\n",
       "      <td>SW/솔루션</td>\n",
       "      <td>Adobe Target;FW;MSA</td>\n",
       "      <td>5;1;4</td>\n",
       "      <td>None</td>\n",
       "      <td>None</td>\n",
       "      <td>None</td>\n",
       "      <td>None</td>\n",
       "      <td>a00000001</td>\n",
       "      <td>남자</td>\n",
       "      <td>대졸(예정)</td>\n",
       "      <td>인천광역시 부평구</td>\n",
       "      <td>인천광역시 부평구, 인천광역시 동구</td>\n",
       "      <td>백XX</td>\n",
       "      <td>3400~4000</td>\n",
       "      <td>2025-09-23 09:33:15.850945+09:00</td>\n",
       "    </tr>\n",
       "    <tr>\n",
       "      <th>1</th>\n",
       "      <td>36세~40세</td>\n",
       "      <td>11년</td>\n",
       "      <td>37</td>\n",
       "      <td>SW/솔루션</td>\n",
       "      <td>React Router;Ccnp;NestJS</td>\n",
       "      <td>46;46;43</td>\n",
       "      <td>None</td>\n",
       "      <td>None</td>\n",
       "      <td>None</td>\n",
       "      <td>None</td>\n",
       "      <td>a00000002</td>\n",
       "      <td>남자</td>\n",
       "      <td>대졸(예정)</td>\n",
       "      <td>광주광역시 북구</td>\n",
       "      <td>광주광역시, 전북특별자치도</td>\n",
       "      <td>황XX</td>\n",
       "      <td>4000이상</td>\n",
       "      <td>2025-09-23 09:33:15.850945+09:00</td>\n",
       "    </tr>\n",
       "    <tr>\n",
       "      <th>2</th>\n",
       "      <td>25세이하</td>\n",
       "      <td>신입</td>\n",
       "      <td>22</td>\n",
       "      <td>인공지능/머신러닝</td>\n",
       "      <td>Next.js;CrewAI;GraphicsMagick</td>\n",
       "      <td>9;10;7</td>\n",
       "      <td>None</td>\n",
       "      <td>None</td>\n",
       "      <td>None</td>\n",
       "      <td>None</td>\n",
       "      <td>a00000003</td>\n",
       "      <td>남자</td>\n",
       "      <td>대졸(예정)</td>\n",
       "      <td>인천광역시 중구</td>\n",
       "      <td>인천광역시 중구, 인천광역시 동구, 인천광역시 연수구</td>\n",
       "      <td>남XX</td>\n",
       "      <td>3400~4000</td>\n",
       "      <td>2025-09-23 09:33:15.850945+09:00</td>\n",
       "    </tr>\n",
       "    <tr>\n",
       "      <th>3</th>\n",
       "      <td>31세~35세</td>\n",
       "      <td>8년</td>\n",
       "      <td>33</td>\n",
       "      <td>QA 엔지니어</td>\n",
       "      <td>Android OS;Redmine;C</td>\n",
       "      <td>55;46;49</td>\n",
       "      <td>None</td>\n",
       "      <td>None</td>\n",
       "      <td>None</td>\n",
       "      <td>None</td>\n",
       "      <td>a00000004</td>\n",
       "      <td>남자</td>\n",
       "      <td>대졸(예정)</td>\n",
       "      <td>인천광역시 부평구</td>\n",
       "      <td>경기도, 인천광역시 부평구, 인천광역시 계양구</td>\n",
       "      <td>이XX</td>\n",
       "      <td>4000이상</td>\n",
       "      <td>2025-09-23 09:33:15.850945+09:00</td>\n",
       "    </tr>\n",
       "    <tr>\n",
       "      <th>4</th>\n",
       "      <td>26세~30세</td>\n",
       "      <td>1년</td>\n",
       "      <td>28</td>\n",
       "      <td>DevOps/시스템 엔지니어</td>\n",
       "      <td>K8S;Vue.js;Looker</td>\n",
       "      <td>19;19;11</td>\n",
       "      <td>None</td>\n",
       "      <td>None</td>\n",
       "      <td>None</td>\n",
       "      <td>None</td>\n",
       "      <td>a00000005</td>\n",
       "      <td>남자</td>\n",
       "      <td>대졸(예정)</td>\n",
       "      <td>부산광역시 북구</td>\n",
       "      <td>경상남도, 부산광역시 북구, 부산광역시 강서구</td>\n",
       "      <td>권XX</td>\n",
       "      <td>3400~4000</td>\n",
       "      <td>2025-09-23 09:33:15.850945+09:00</td>\n",
       "    </tr>\n",
       "  </tbody>\n",
       "</table>\n",
       "</div>"
      ],
      "text/plain": [
       "  age_category career  ...  hope_salary                        timestamp\n",
       "0        25세이하     신입  ...    3400~4000 2025-09-23 09:33:15.850945+09:00\n",
       "1      36세~40세    11년  ...       4000이상 2025-09-23 09:33:15.850945+09:00\n",
       "2        25세이하     신입  ...    3400~4000 2025-09-23 09:33:15.850945+09:00\n",
       "3      31세~35세     8년  ...       4000이상 2025-09-23 09:33:15.850945+09:00\n",
       "4      26세~30세     1년  ...    3400~4000 2025-09-23 09:33:15.850945+09:00\n",
       "\n",
       "[5 rows x 18 columns]"
      ]
     },
     "execution_count": 17,
     "metadata": {},
     "output_type": "execute_result"
    }
   ],
   "source": [
    "current_timestamp = datetime.datetime.now(pytz.timezone('Asia/Seoul'))\n",
    "df_dummy['timestamp'] = current_timestamp\n",
    "\n",
    "df_dummy.head()"
   ]
  },
  {
   "cell_type": "markdown",
   "metadata": {
    "application/vnd.databricks.v1+cell": {
     "cellMetadata": {
      "byteLimit": 2048000,
      "rowLimit": 10000
     },
     "inputWidgets": {},
     "nuid": "070358f0-3c14-41fd-bebf-05b741c53bf9",
     "showTitle": false,
     "tableResultSettingsMap": {},
     "title": ""
    }
   },
   "source": [
    "# 3. 컬럼 재정렬"
   ]
  },
  {
   "cell_type": "code",
   "execution_count": 0,
   "metadata": {
    "application/vnd.databricks.v1+cell": {
     "cellMetadata": {
      "byteLimit": 2048000,
      "rowLimit": 10000
     },
     "inputWidgets": {},
     "nuid": "9d6b9b12-4cb4-42f1-b7dc-9ac5c0f78732",
     "showTitle": false,
     "tableResultSettingsMap": {},
     "title": ""
    }
   },
   "outputs": [
    {
     "output_type": "execute_result",
     "data": {
      "text/html": [
       "<div>\n",
       "<style scoped>\n",
       "    .dataframe tbody tr th:only-of-type {\n",
       "        vertical-align: middle;\n",
       "    }\n",
       "\n",
       "    .dataframe tbody tr th {\n",
       "        vertical-align: top;\n",
       "    }\n",
       "\n",
       "    .dataframe thead th {\n",
       "        text-align: right;\n",
       "    }\n",
       "</style>\n",
       "<table border=\"1\" class=\"dataframe\">\n",
       "  <thead>\n",
       "    <tr style=\"text-align: right;\">\n",
       "      <th></th>\n",
       "      <th>employee_id</th>\n",
       "      <th>employee_name</th>\n",
       "      <th>age</th>\n",
       "      <th>age_category</th>\n",
       "      <th>gender</th>\n",
       "      <th>location</th>\n",
       "      <th>education</th>\n",
       "      <th>career</th>\n",
       "      <th>job</th>\n",
       "      <th>skills_current</th>\n",
       "      <th>skfn_current</th>\n",
       "      <th>work_location</th>\n",
       "      <th>hope_salary</th>\n",
       "      <th>skills_past</th>\n",
       "      <th>skfn_past</th>\n",
       "      <th>skills_p2</th>\n",
       "      <th>skfn_p2</th>\n",
       "      <th>skills_p3</th>\n",
       "      <th>skfn_p3</th>\n",
       "      <th>skills_p4</th>\n",
       "      <th>skfn_p4</th>\n",
       "      <th>skills_p5</th>\n",
       "      <th>skfn_p5</th>\n",
       "      <th>skills_p6</th>\n",
       "      <th>skfn_p6</th>\n",
       "      <th>timestamp</th>\n",
       "    </tr>\n",
       "  </thead>\n",
       "  <tbody>\n",
       "    <tr>\n",
       "      <th>0</th>\n",
       "      <td>a00000001</td>\n",
       "      <td>백XX</td>\n",
       "      <td>21</td>\n",
       "      <td>25세이하</td>\n",
       "      <td>남자</td>\n",
       "      <td>인천광역시 부평구</td>\n",
       "      <td>대졸(예정)</td>\n",
       "      <td>신입</td>\n",
       "      <td>SW/솔루션</td>\n",
       "      <td>Adobe Target;FW;MSA</td>\n",
       "      <td>5;1;4</td>\n",
       "      <td>인천광역시 부평구, 인천광역시 동구</td>\n",
       "      <td>3400~4000</td>\n",
       "      <td>None</td>\n",
       "      <td>None</td>\n",
       "      <td>None</td>\n",
       "      <td>None</td>\n",
       "      <td>None</td>\n",
       "      <td>None</td>\n",
       "      <td>None</td>\n",
       "      <td>None</td>\n",
       "      <td>None</td>\n",
       "      <td>None</td>\n",
       "      <td>None</td>\n",
       "      <td>None</td>\n",
       "      <td>2025-09-23 09:33:15.850945+09:00</td>\n",
       "    </tr>\n",
       "    <tr>\n",
       "      <th>1</th>\n",
       "      <td>a00000002</td>\n",
       "      <td>황XX</td>\n",
       "      <td>37</td>\n",
       "      <td>36세~40세</td>\n",
       "      <td>남자</td>\n",
       "      <td>광주광역시 북구</td>\n",
       "      <td>대졸(예정)</td>\n",
       "      <td>11년</td>\n",
       "      <td>SW/솔루션</td>\n",
       "      <td>React Router;Ccnp;NestJS</td>\n",
       "      <td>46;46;43</td>\n",
       "      <td>광주광역시, 전북특별자치도</td>\n",
       "      <td>4000이상</td>\n",
       "      <td>None</td>\n",
       "      <td>None</td>\n",
       "      <td>None</td>\n",
       "      <td>None</td>\n",
       "      <td>None</td>\n",
       "      <td>None</td>\n",
       "      <td>None</td>\n",
       "      <td>None</td>\n",
       "      <td>None</td>\n",
       "      <td>None</td>\n",
       "      <td>None</td>\n",
       "      <td>None</td>\n",
       "      <td>2025-09-23 09:33:15.850945+09:00</td>\n",
       "    </tr>\n",
       "    <tr>\n",
       "      <th>2</th>\n",
       "      <td>a00000003</td>\n",
       "      <td>남XX</td>\n",
       "      <td>22</td>\n",
       "      <td>25세이하</td>\n",
       "      <td>남자</td>\n",
       "      <td>인천광역시 중구</td>\n",
       "      <td>대졸(예정)</td>\n",
       "      <td>신입</td>\n",
       "      <td>인공지능/머신러닝</td>\n",
       "      <td>Next.js;CrewAI;GraphicsMagick</td>\n",
       "      <td>9;10;7</td>\n",
       "      <td>인천광역시 중구, 인천광역시 동구, 인천광역시 연수구</td>\n",
       "      <td>3400~4000</td>\n",
       "      <td>None</td>\n",
       "      <td>None</td>\n",
       "      <td>None</td>\n",
       "      <td>None</td>\n",
       "      <td>None</td>\n",
       "      <td>None</td>\n",
       "      <td>None</td>\n",
       "      <td>None</td>\n",
       "      <td>None</td>\n",
       "      <td>None</td>\n",
       "      <td>None</td>\n",
       "      <td>None</td>\n",
       "      <td>2025-09-23 09:33:15.850945+09:00</td>\n",
       "    </tr>\n",
       "    <tr>\n",
       "      <th>3</th>\n",
       "      <td>a00000004</td>\n",
       "      <td>이XX</td>\n",
       "      <td>33</td>\n",
       "      <td>31세~35세</td>\n",
       "      <td>남자</td>\n",
       "      <td>인천광역시 부평구</td>\n",
       "      <td>대졸(예정)</td>\n",
       "      <td>8년</td>\n",
       "      <td>QA 엔지니어</td>\n",
       "      <td>Android OS;Redmine;C</td>\n",
       "      <td>55;46;49</td>\n",
       "      <td>경기도, 인천광역시 부평구, 인천광역시 계양구</td>\n",
       "      <td>4000이상</td>\n",
       "      <td>None</td>\n",
       "      <td>None</td>\n",
       "      <td>None</td>\n",
       "      <td>None</td>\n",
       "      <td>None</td>\n",
       "      <td>None</td>\n",
       "      <td>None</td>\n",
       "      <td>None</td>\n",
       "      <td>None</td>\n",
       "      <td>None</td>\n",
       "      <td>None</td>\n",
       "      <td>None</td>\n",
       "      <td>2025-09-23 09:33:15.850945+09:00</td>\n",
       "    </tr>\n",
       "    <tr>\n",
       "      <th>4</th>\n",
       "      <td>a00000005</td>\n",
       "      <td>권XX</td>\n",
       "      <td>28</td>\n",
       "      <td>26세~30세</td>\n",
       "      <td>남자</td>\n",
       "      <td>부산광역시 북구</td>\n",
       "      <td>대졸(예정)</td>\n",
       "      <td>1년</td>\n",
       "      <td>DevOps/시스템 엔지니어</td>\n",
       "      <td>K8S;Vue.js;Looker</td>\n",
       "      <td>19;19;11</td>\n",
       "      <td>경상남도, 부산광역시 북구, 부산광역시 강서구</td>\n",
       "      <td>3400~4000</td>\n",
       "      <td>None</td>\n",
       "      <td>None</td>\n",
       "      <td>None</td>\n",
       "      <td>None</td>\n",
       "      <td>None</td>\n",
       "      <td>None</td>\n",
       "      <td>None</td>\n",
       "      <td>None</td>\n",
       "      <td>None</td>\n",
       "      <td>None</td>\n",
       "      <td>None</td>\n",
       "      <td>None</td>\n",
       "      <td>2025-09-23 09:33:15.850945+09:00</td>\n",
       "    </tr>\n",
       "  </tbody>\n",
       "</table>\n",
       "</div>"
      ],
      "text/plain": [
       "  employee_id employee_name  ...  skfn_p6                        timestamp\n",
       "0   a00000001           백XX  ...     None 2025-09-23 09:33:15.850945+09:00\n",
       "1   a00000002           황XX  ...     None 2025-09-23 09:33:15.850945+09:00\n",
       "2   a00000003           남XX  ...     None 2025-09-23 09:33:15.850945+09:00\n",
       "3   a00000004           이XX  ...     None 2025-09-23 09:33:15.850945+09:00\n",
       "4   a00000005           권XX  ...     None 2025-09-23 09:33:15.850945+09:00\n",
       "\n",
       "[5 rows x 26 columns]"
      ]
     },
     "execution_count": 22,
     "metadata": {},
     "output_type": "execute_result"
    }
   ],
   "source": [
    "df_dummy = df_dummy[['employee_id', 'employee_name', 'age', 'age_category', 'gender', 'location', 'education', 'career', 'job', 'skills_current', 'skfn_current', 'work_location', 'hope_salary', 'skills_past', 'skfn_past', 'skills_p2', 'skfn_p2', 'skills_p3', 'skfn_p3', 'skills_p4', 'skfn_p4', 'skills_p5', 'skfn_p5', 'skills_p6', 'skfn_p6', 'timestamp']]\n",
    "\n",
    "df_dummy.head()"
   ]
  },
  {
   "cell_type": "markdown",
   "metadata": {
    "application/vnd.databricks.v1+cell": {
     "cellMetadata": {
      "byteLimit": 2048000,
      "rowLimit": 10000
     },
     "inputWidgets": {},
     "nuid": "75bd88f1-8b05-4d47-b36d-03675817f3f3",
     "showTitle": false,
     "tableResultSettingsMap": {},
     "title": ""
    }
   },
   "source": [
    "# 4. 데이터 저장"
   ]
  },
  {
   "cell_type": "code",
   "execution_count": 0,
   "metadata": {
    "application/vnd.databricks.v1+cell": {
     "cellMetadata": {
      "byteLimit": 2048000,
      "rowLimit": 10000
     },
     "inputWidgets": {},
     "nuid": "c11b68bc-9602-4590-b712-cf735147d140",
     "showTitle": false,
     "tableResultSettingsMap": {},
     "title": ""
    }
   },
   "outputs": [],
   "source": [
    "df_dummy.to_csv('brz_employee_info.csv', index=False)"
   ]
  }
 ],
 "metadata": {
  "application/vnd.databricks.v1+notebook": {
   "computePreferences": null,
   "dashboards": [],
   "environmentMetadata": null,
   "inputWidgetPreferences": null,
   "language": "python",
   "notebookMetadata": {
    "pythonIndentUnit": 4
   },
   "notebookName": "250909 구직자 더미 데이터 생성",
   "widgets": {}
  },
  "kernelspec": {
   "display_name": "Python 3",
   "language": "python",
   "name": "python3"
  },
  "language_info": {
   "name": "python"
  }
 },
 "nbformat": 4,
 "nbformat_minor": 0
}