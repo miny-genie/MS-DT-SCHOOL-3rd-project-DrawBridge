{
 "cells": [
  {
   "cell_type": "markdown",
   "metadata": {
    "application/vnd.databricks.v1+cell": {
     "cellMetadata": {},
     "inputWidgets": {},
     "nuid": "509ea859-e6c4-412e-8cc1-ea734de9393f",
     "showTitle": false,
     "tableResultSettingsMap": {},
     "title": ""
    }
   },
   "source": [
    "# 1. 라이브러리 설치 및 호출"
   ]
  },
  {
   "cell_type": "code",
   "execution_count": 0,
   "metadata": {
    "application/vnd.databricks.v1+cell": {
     "cellMetadata": {
      "byteLimit": 2048000,
      "rowLimit": 10000
     },
     "inputWidgets": {},
     "nuid": "ed5c3a6c-8b82-48f3-931f-085407aac2ab",
     "showTitle": false,
     "tableResultSettingsMap": {},
     "title": ""
    }
   },
   "outputs": [],
   "source": [
    "from typing import Union\n",
    "import pandas as pd\n",
    "import pyspark\n",
    "from pyspark import sql as pysql\n",
    "from pyspark.sql import SparkSession"
   ]
  },
  {
   "cell_type": "markdown",
   "metadata": {
    "application/vnd.databricks.v1+cell": {
     "cellMetadata": {},
     "inputWidgets": {},
     "nuid": "abd0a722-c80f-4d7d-b4cd-5ec55c964f32",
     "showTitle": false,
     "tableResultSettingsMap": {},
     "title": ""
    }
   },
   "source": [
    "# 2. 사용자 정의 함수: 유틸 함수들"
   ]
  },
  {
   "cell_type": "markdown",
   "metadata": {
    "application/vnd.databricks.v1+cell": {
     "cellMetadata": {},
     "inputWidgets": {},
     "nuid": "700050a6-8b98-4ac4-ae4a-b307ae5f6182",
     "showTitle": false,
     "tableResultSettingsMap": {},
     "title": ""
    }
   },
   "source": [
    "## 2-1. 데이터베이스 조회"
   ]
  },
  {
   "cell_type": "code",
   "execution_count": 0,
   "metadata": {
    "application/vnd.databricks.v1+cell": {
     "cellMetadata": {
      "byteLimit": 2048000,
      "rowLimit": 10000
     },
     "inputWidgets": {},
     "nuid": "89c98fcc-38c8-4e48-a6c9-4ec74b235967",
     "showTitle": false,
     "tableResultSettingsMap": {},
     "title": ""
    }
   },
   "outputs": [],
   "source": [
    "def show_databases() -> None:\n",
    "    host = \"20.196.145.211\"\n",
    "    port = \"5432\"\n",
    "    user = \"postgres\"\n",
    "    password = \"asdASD123!@#\"\n",
    "\n",
    "    jdbc_url = f\"jdbc:postgresql://{host}:{port}/postgres?user={user}&password={password}\"\n",
    "    query = \"(SELECT datname FROM pg_database WHERE datistemplate = false) AS databases\"\n",
    "    df = spark.read.jdbc(url=jdbc_url, table=query, properties={\"driver\": \"org.postgresql.Driver\"})\n",
    "    df.show(truncate=False)"
   ]
  },
  {
   "cell_type": "markdown",
   "metadata": {
    "application/vnd.databricks.v1+cell": {
     "cellMetadata": {},
     "inputWidgets": {},
     "nuid": "22646108-6a47-40d7-aca8-db38f4d8b8ee",
     "showTitle": false,
     "tableResultSettingsMap": {},
     "title": ""
    }
   },
   "source": [
    "## 2-2. 스키마 조회"
   ]
  },
  {
   "cell_type": "code",
   "execution_count": 0,
   "metadata": {
    "application/vnd.databricks.v1+cell": {
     "cellMetadata": {
      "byteLimit": 2048000,
      "rowLimit": 10000
     },
     "inputWidgets": {},
     "nuid": "3c6d6128-05a2-43d1-8b51-88923263b226",
     "showTitle": false,
     "tableResultSettingsMap": {},
     "title": ""
    }
   },
   "outputs": [],
   "source": [
    "def show_schemas(database: str = \"postgres\") -> None:\n",
    "    host = \"20.196.145.211\"\n",
    "    port = \"5432\"\n",
    "    user = \"postgres\"\n",
    "    password = \"asdASD123!@#\"\n",
    "\n",
    "    jdbc_url = f\"jdbc:postgresql://{host}:{port}/{database}?user={user}&password={password}\"\n",
    "    query = \"(SELECT schema_name FROM information_schema.schemata) AS schemas\"\n",
    "    df = spark.read.jdbc(url=jdbc_url, table=query, properties={\"driver\": \"org.postgresql.Driver\"})\n",
    "    df.show(truncate=False)"
   ]
  },
  {
   "cell_type": "markdown",
   "metadata": {
    "application/vnd.databricks.v1+cell": {
     "cellMetadata": {},
     "inputWidgets": {},
     "nuid": "c17787dc-f19a-462d-a80d-dfab6f1f0a8a",
     "showTitle": false,
     "tableResultSettingsMap": {},
     "title": ""
    }
   },
   "source": [
    "## 2-3. 테이블 조회"
   ]
  },
  {
   "cell_type": "code",
   "execution_count": 0,
   "metadata": {
    "application/vnd.databricks.v1+cell": {
     "cellMetadata": {
      "byteLimit": 2048000,
      "rowLimit": 10000
     },
     "inputWidgets": {},
     "nuid": "0c62aabd-66f2-49c8-9788-f727d4e35db0",
     "showTitle": false,
     "tableResultSettingsMap": {},
     "title": ""
    }
   },
   "outputs": [],
   "source": [
    "def show_tables(schema: str, database: str = \"postgres\") -> None:\n",
    "    host = \"20.196.145.211\"\n",
    "    port = \"5432\"\n",
    "    user = \"postgres\"\n",
    "    password = \"asdASD123!@#\"\n",
    "\n",
    "    jdbc_url = f\"jdbc:postgresql://{host}:{port}/{database}?user={user}&password={password}\"\n",
    "    query = f\"\"\"\n",
    "        (SELECT table_name\n",
    "         FROM information_schema.tables\n",
    "         WHERE table_type='BASE TABLE'\n",
    "           AND table_schema = '{schema}'\n",
    "         ORDER BY table_name) AS tables\n",
    "    \"\"\"\n",
    "    df = spark.read.jdbc(url=jdbc_url, table=query, properties={\"driver\": \"org.postgresql.Driver\"})\n",
    "    df.show(truncate=False)"
   ]
  },
  {
   "cell_type": "markdown",
   "metadata": {
    "application/vnd.databricks.v1+cell": {
     "cellMetadata": {},
     "inputWidgets": {},
     "nuid": "f7417b89-3d17-45e1-8755-0caf55a7ed17",
     "showTitle": false,
     "tableResultSettingsMap": {},
     "title": ""
    }
   },
   "source": [
    "## 2-4. 테이블 속 데이터 조회"
   ]
  },
  {
   "cell_type": "code",
   "execution_count": 0,
   "metadata": {
    "application/vnd.databricks.v1+cell": {
     "cellMetadata": {
      "byteLimit": 2048000,
      "rowLimit": 10000
     },
     "inputWidgets": {},
     "nuid": "61547c59-b34e-42a7-a0d9-1540ca177f6c",
     "showTitle": false,
     "tableResultSettingsMap": {},
     "title": ""
    }
   },
   "outputs": [],
   "source": [
    "def show_datas(schema: str, table: str, database: str = \"postgres\") -> None:\n",
    "    host = \"20.196.145.211\"\n",
    "    port = \"5432\"\n",
    "    user = \"postgres\"\n",
    "    password = \"asdASD123!@#\"\n",
    "\n",
    "    # DB 접속 URL\n",
    "    jdbc_url = f\"jdbc:postgresql://{host}:{port}/{database}\"\n",
    "\n",
    "    # 스키마.테이블 지정\n",
    "    dbtable = f\"{schema}.{table}\"\n",
    "    df = (\n",
    "        spark.read.format(\"jdbc\")\n",
    "        .option(\"url\", jdbc_url)\n",
    "        .option(\"user\", user)\n",
    "        .option(\"password\", password)\n",
    "        .option(\"driver\", \"org.postgresql.Driver\")\n",
    "        .option(\"dbtable\", dbtable)\n",
    "        .load()\n",
    "    )\n",
    "    df.show(truncate=False)"
   ]
  },
  {
   "cell_type": "code",
   "execution_count": 0,
   "metadata": {
    "application/vnd.databricks.v1+cell": {
     "cellMetadata": {
      "byteLimit": 2048000,
      "rowLimit": 10000
     },
     "inputWidgets": {},
     "nuid": "21127522-d157-4a0b-b24d-d56b952f27cf",
     "showTitle": false,
     "tableResultSettingsMap": {},
     "title": ""
    }
   },
   "outputs": [],
   "source": [
    "def insert_data(\n",
    "    data: Union[pd.DataFrame, pyspark.sql.DataFrame],\n",
    "    schema: str,\n",
    "    table: str,\n",
    "    mode: str = \"overwrite\"\n",
    ") -> None:\n",
    "    # 데이터프레임 생성\n",
    "    # spark = SparkSession.builder.appName(\"DataFrameExample\").getOrCreate()\n",
    "    columns = list(data.columns)\n",
    "    if isinstance(data, pd.DataFrame):\n",
    "        data = spark.createDataFrame(data, schema=columns)\n",
    "    \n",
    "    # 인증 정보 하드코딩\n",
    "    jdbc_user = \"postgres\"\n",
    "    jdbc_pass = \"asdASD123!@#\"\n",
    "\n",
    "    # 연결 문자열 하드코딩\n",
    "    host = \"20.196.145.211\"\n",
    "    port = \"5432\"\n",
    "    jdbc_url = f\"jdbc:postgresql://{host}:{port}/postgres\"\n",
    "\n",
    "    data.write.format(\"jdbc\").mode(mode).options(\n",
    "        url=jdbc_url,\n",
    "        user=jdbc_user,\n",
    "        password=jdbc_pass,\n",
    "        dbtable=f\"{schema}.{table.lower()}\",\n",
    "        # # overwrite일 때 DROP 후 CREATE가 아니라, TRUNCATE TABLE로 데이터만 비움\n",
    "        # truncate=True,\n",
    "        # 대량 적재 튜닝: INSERT할 때 한 번에 몇 행씩 묶어서 넣을지\n",
    "        batchsize=1000,\n",
    "        # 스키마 적재 튜닝: INSERT시 JDBC는 setString() 함수로 text 자동 매핑\n",
    "        # 이 옵션을 사용하면 unspecified로 넘겨 PostgreSQL이 자동 캐스팅\n",
    "        stringtype=\"unspecified\"\n",
    "    ).save()\n",
    "    return"
   ]
  },
  {
   "cell_type": "markdown",
   "metadata": {
    "application/vnd.databricks.v1+cell": {
     "cellMetadata": {},
     "inputWidgets": {},
     "nuid": "5b07623b-3a92-4777-aaff-e17c6a17db8b",
     "showTitle": false,
     "tableResultSettingsMap": {},
     "title": ""
    }
   },
   "source": [
    "# 3. 함수 실행 가이드"
   ]
  },
  {
   "cell_type": "markdown",
   "metadata": {
    "application/vnd.databricks.v1+cell": {
     "cellMetadata": {},
     "inputWidgets": {},
     "nuid": "27268a5e-b646-4ee8-919c-d7996776c4b3",
     "showTitle": false,
     "tableResultSettingsMap": {},
     "title": ""
    }
   },
   "source": [
    "## 3-1. 예제 데이터 생성"
   ]
  },
  {
   "cell_type": "code",
   "execution_count": 0,
   "metadata": {
    "application/vnd.databricks.v1+cell": {
     "cellMetadata": {
      "byteLimit": 2048000,
      "rowLimit": 10000
     },
     "inputWidgets": {},
     "nuid": "1ff859dd-4d19-47b4-8ef8-656d40fc50ab",
     "showTitle": false,
     "tableResultSettingsMap": {},
     "title": ""
    }
   },
   "outputs": [],
   "source": [
    "# 입력 예제로 사용할 데이터프레임\n",
    "test_df = pd.DataFrame({\n",
    "    \"name\": [\"alice\", \"bob\", \"charlie\"],\n",
    "    \"age\": [11, 22, 33]\n",
    "})"
   ]
  },
  {
   "cell_type": "markdown",
   "metadata": {
    "application/vnd.databricks.v1+cell": {
     "cellMetadata": {},
     "inputWidgets": {},
     "nuid": "b19aa34f-66cb-4188-8f3a-1bac662172e1",
     "showTitle": false,
     "tableResultSettingsMap": {},
     "title": ""
    }
   },
   "source": [
    "## 3-2. 함수 실행 예제"
   ]
  },
  {
   "cell_type": "code",
   "execution_count": 0,
   "metadata": {
    "application/vnd.databricks.v1+cell": {
     "cellMetadata": {
      "byteLimit": 2048000,
      "rowLimit": 10000
     },
     "inputWidgets": {},
     "nuid": "6dc8e452-6d79-4178-b5ce-676c923abb3b",
     "showTitle": false,
     "tableResultSettingsMap": {},
     "title": ""
    }
   },
   "outputs": [
    {
     "output_type": "stream",
     "name": "stdout",
     "output_type": "stream",
     "text": [
      "+--------+\n|datname |\n+--------+\n|postgres|\n+--------+\n\n+------------------+\n|schema_name       |\n+------------------+\n|public            |\n|gold              |\n|silver            |\n|bronze            |\n|test_data         |\n|test              |\n|information_schema|\n|pg_catalog        |\n|pg_toast          |\n+------------------+\n\n+----------+\n|table_name|\n+----------+\n|test_table|\n+----------+\n\n+----------------+-----------+\n|name            |age        |\n+----------------+-----------+\n|ccccccccccharlie|3333333333 |\n|aaaaalice       |11111111111|\n|bbbbbbbbbob     |2222222    |\n|ccccccccccharlie|3333333333 |\n|bbbbbbbbbob     |2222222    |\n|aaaaalice       |11111111111|\n|bbbbbbbbbob     |2222222    |\n|aaaaalice       |11111111111|\n|ccccccccccharlie|3333333333 |\n|aaaaalice       |11111111111|\n|bbbbbbbbbob     |2222222    |\n|ccccccccccharlie|3333333333 |\n+----------------+-----------+\n\n"
     ]
    }
   ],
   "source": [
    "# 데이터베이스 목록을 조회하는 코드\n",
    "show_databases()\n",
    "\n",
    "# 스키마 목록을 조회하는 코드\n",
    "show_schemas()\n",
    "\n",
    "# 특정 스키마 아래의 테이블 목록을 조회하는 코드\n",
    "show_tables(schema=\"test_data\")\n",
    "\n",
    "# 특정 테이블의 데이터를 조회하는 코드\n",
    "show_datas(schema=\"test_data\", table=\"test_table\")\n",
    "\n",
    "# 특정 테이블에 데이터를 삽입하는 코드\n",
    "# mode 종류: overwrite, append, ignore, error\n",
    "insert_data(data=test_df, schema=\"test_data\", table=\"test_table\", mode=\"overwrite\")"
   ]
  },
  {
   "cell_type": "code",
   "execution_count": 0,
   "metadata": {
    "application/vnd.databricks.v1+cell": {
     "cellMetadata": {
      "byteLimit": 2048000,
      "rowLimit": 10000
     },
     "inputWidgets": {},
     "nuid": "cdf56309-6e97-4295-8754-7c353286999c",
     "showTitle": false,
     "tableResultSettingsMap": {},
     "title": ""
    }
   },
   "outputs": [
    {
     "output_type": "stream",
     "name": "stdout",
     "output_type": "stream",
     "text": [
      "+----------------+-----------+\n|name            |age        |\n+----------------+-----------+\n|bbbbbbbbbob     |2222222    |\n|ccccccccccharlie|3333333333 |\n|aaaaalice       |11111111111|\n+----------------+-----------+\n\n"
     ]
    }
   ],
   "source": [
    "# 특정 테이블의 데이터를 조회하는 코드\n",
    "show_datas(schema=\"test_data\", table=\"test_table\")"
   ]
  },
  {
   "cell_type": "code",
   "execution_count": 0,
   "metadata": {
    "application/vnd.databricks.v1+cell": {
     "cellMetadata": {
      "byteLimit": 2048000,
      "rowLimit": 10000
     },
     "inputWidgets": {},
     "nuid": "cf659161-4d76-40ee-9285-9258ef4dfb86",
     "showTitle": false,
     "tableResultSettingsMap": {},
     "title": ""
    }
   },
   "outputs": [
    {
     "output_type": "display_data",
     "data": {
      "text/plain": [
       "\u001B[0;31m---------------------------------------------------------------------------\u001B[0m\n",
       "\u001B[0;31mModuleNotFoundError\u001B[0m                       Traceback (most recent call last)\n",
       "File \u001B[0;32m<command-8993352249731298>, line 208\u001B[0m\n",
       "\u001B[1;32m    204\u001B[0m     \u001B[38;5;28mprint\u001B[39m(\u001B[38;5;124m\"\u001B[39m\u001B[38;5;124m▶ 연차 수요(타겟) vs 배정합:\u001B[39m\u001B[38;5;124m\"\u001B[39m, exp_demand, \u001B[38;5;124m\"\u001B[39m\u001B[38;5;124m/\u001B[39m\u001B[38;5;124m\"\u001B[39m, X\u001B[38;5;241m.\u001B[39msum(axis\u001B[38;5;241m=\u001B[39m\u001B[38;5;241m0\u001B[39m))\n",
       "\u001B[1;32m    205\u001B[0m     \u001B[38;5;28mprint\u001B[39m(\u001B[38;5;124m\"\u001B[39m\u001B[38;5;124m▶ 총합:\u001B[39m\u001B[38;5;124m\"\u001B[39m, X\u001B[38;5;241m.\u001B[39msum(), \u001B[38;5;124m\"\u001B[39m\u001B[38;5;124m (N =\u001B[39m\u001B[38;5;124m\"\u001B[39m, N, \u001B[38;5;124m\"\u001B[39m\u001B[38;5;124m)\u001B[39m\u001B[38;5;124m\"\u001B[39m)\n",
       "\u001B[0;32m--> 208\u001B[0m dummy()\n",
       "\n",
       "File \u001B[0;32m<command-8993352249731298>, line 2\u001B[0m, in \u001B[0;36mdummy\u001B[0;34m()\u001B[0m\n",
       "\u001B[1;32m      1\u001B[0m \u001B[38;5;28;01mdef\u001B[39;00m \u001B[38;5;21mdummy\u001B[39m():\n",
       "\u001B[0;32m----> 2\u001B[0m     \u001B[38;5;28;01mimport\u001B[39;00m \u001B[38;5;21;01mmath\u001B[39;00m\u001B[38;5;241m,\u001B[39m \u001B[38;5;21;01mnumpy\u001B[39;00m \u001B[38;5;28;01mas\u001B[39;00m \u001B[38;5;21;01mnp\u001B[39;00m\u001B[38;5;241m,\u001B[39m \u001B[38;5;21;01mpandas\u001B[39;00m \u001B[38;5;28;01mas\u001B[39;00m \u001B[38;5;21;01mpd\u001B[39;00m\u001B[38;5;241m,\u001B[39m \u001B[38;5;21;01mnetworkx\u001B[39;00m \u001B[38;5;28;01mas\u001B[39;00m \u001B[38;5;21;01mnx\u001B[39;00m\n",
       "\u001B[1;32m      3\u001B[0m     \u001B[38;5;28;01mfrom\u001B[39;00m \u001B[38;5;21;01mio\u001B[39;00m \u001B[38;5;28;01mimport\u001B[39;00m StringIO\n",
       "\u001B[1;32m      5\u001B[0m     \u001B[38;5;66;03m# ---------------- 입력 ----------------\u001B[39;00m\n",
       "\n",
       "\u001B[0;31mModuleNotFoundError\u001B[0m: No module named 'networkx'"
      ]
     },
     "metadata": {
      "application/vnd.databricks.v1+output": {
       "addedWidgets": {},
       "arguments": {},
       "datasetInfos": [],
       "jupyterProps": {
        "ename": "ModuleNotFoundError",
        "evalue": "No module named 'networkx'"
       },
       "metadata": {
        "errorSummary": "<span class='ansi-red-fg'>ModuleNotFoundError</span>: No module named 'networkx'"
       },
       "removedWidgets": [],
       "sqlProps": null,
       "stackFrames": [
        "\u001B[0;31m---------------------------------------------------------------------------\u001B[0m",
        "\u001B[0;31mModuleNotFoundError\u001B[0m                       Traceback (most recent call last)",
        "File \u001B[0;32m<command-8993352249731298>, line 208\u001B[0m\n\u001B[1;32m    204\u001B[0m     \u001B[38;5;28mprint\u001B[39m(\u001B[38;5;124m\"\u001B[39m\u001B[38;5;124m▶ 연차 수요(타겟) vs 배정합:\u001B[39m\u001B[38;5;124m\"\u001B[39m, exp_demand, \u001B[38;5;124m\"\u001B[39m\u001B[38;5;124m/\u001B[39m\u001B[38;5;124m\"\u001B[39m, X\u001B[38;5;241m.\u001B[39msum(axis\u001B[38;5;241m=\u001B[39m\u001B[38;5;241m0\u001B[39m))\n\u001B[1;32m    205\u001B[0m     \u001B[38;5;28mprint\u001B[39m(\u001B[38;5;124m\"\u001B[39m\u001B[38;5;124m▶ 총합:\u001B[39m\u001B[38;5;124m\"\u001B[39m, X\u001B[38;5;241m.\u001B[39msum(), \u001B[38;5;124m\"\u001B[39m\u001B[38;5;124m (N =\u001B[39m\u001B[38;5;124m\"\u001B[39m, N, \u001B[38;5;124m\"\u001B[39m\u001B[38;5;124m)\u001B[39m\u001B[38;5;124m\"\u001B[39m)\n\u001B[0;32m--> 208\u001B[0m dummy()\n",
        "File \u001B[0;32m<command-8993352249731298>, line 2\u001B[0m, in \u001B[0;36mdummy\u001B[0;34m()\u001B[0m\n\u001B[1;32m      1\u001B[0m \u001B[38;5;28;01mdef\u001B[39;00m \u001B[38;5;21mdummy\u001B[39m():\n\u001B[0;32m----> 2\u001B[0m     \u001B[38;5;28;01mimport\u001B[39;00m \u001B[38;5;21;01mmath\u001B[39;00m\u001B[38;5;241m,\u001B[39m \u001B[38;5;21;01mnumpy\u001B[39;00m \u001B[38;5;28;01mas\u001B[39;00m \u001B[38;5;21;01mnp\u001B[39;00m\u001B[38;5;241m,\u001B[39m \u001B[38;5;21;01mpandas\u001B[39;00m \u001B[38;5;28;01mas\u001B[39;00m \u001B[38;5;21;01mpd\u001B[39;00m\u001B[38;5;241m,\u001B[39m \u001B[38;5;21;01mnetworkx\u001B[39;00m \u001B[38;5;28;01mas\u001B[39;00m \u001B[38;5;21;01mnx\u001B[39;00m\n\u001B[1;32m      3\u001B[0m     \u001B[38;5;28;01mfrom\u001B[39;00m \u001B[38;5;21;01mio\u001B[39;00m \u001B[38;5;28;01mimport\u001B[39;00m StringIO\n\u001B[1;32m      5\u001B[0m     \u001B[38;5;66;03m# ---------------- 입력 ----------------\u001B[39;00m\n",
        "\u001B[0;31mModuleNotFoundError\u001B[0m: No module named 'networkx'"
       ],
       "type": "baseError"
      }
     },
     "output_type": "display_data"
    }
   ],
   "source": []
  }
 ],
 "metadata": {
  "application/vnd.databricks.v1+notebook": {
   "computePreferences": null,
   "dashboards": [],
   "environmentMetadata": {
    "base_environment": "",
    "environment_version": "3"
   },
   "inputWidgetPreferences": null,
   "language": "python",
   "notebookMetadata": {
    "pythonIndentUnit": 4
   },
   "notebookName": "Databricks에서-VM-PostgreSQL-적재",
   "widgets": {}
  },
  "language_info": {
   "name": "python"
  }
 },
 "nbformat": 4,
 "nbformat_minor": 0
}