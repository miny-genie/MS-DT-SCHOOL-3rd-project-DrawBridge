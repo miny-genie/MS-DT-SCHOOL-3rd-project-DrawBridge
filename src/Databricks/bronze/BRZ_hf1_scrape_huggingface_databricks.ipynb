{
 "cells": [
  {
   "cell_type": "markdown",
   "metadata": {
    "application/vnd.databricks.v1+cell": {
     "cellMetadata": {
      "byteLimit": 2048000,
      "rowLimit": 10000
     },
     "inputWidgets": {},
     "nuid": "4b690cbe-d799-444c-a66d-148f7f11fa7b",
     "showTitle": false,
     "tableResultSettingsMap": {},
     "title": ""
    }
   },
   "source": [
    "# 1. Install and Import Libraries"
   ]
  },
  {
   "cell_type": "code",
   "execution_count": 0,
   "metadata": {
    "application/vnd.databricks.v1+cell": {
     "cellMetadata": {
      "byteLimit": 2048000,
      "rowLimit": 10000
     },
     "inputWidgets": {},
     "nuid": "11717a67-447d-49e2-80f3-311b95e87b65",
     "showTitle": false,
     "tableResultSettingsMap": {},
     "title": ""
    }
   },
   "outputs": [
    {
     "name": "stderr",
     "output_type": "stream",
     "text": [
      "ERROR: Could not find a version that satisfies the requirement glob (from versions: none)\n",
      "ERROR: No matching distribution found for glob\n",
      "\n",
      "[notice] A new release of pip available: 22.3.1 -> 25.2\n",
      "[notice] To update, run: pip install --upgrade pip\n"
     ]
    }
   ],
   "source": [
    "%sh\n",
    "pip install --quiet tqdm huggingface_hub aiohttp nest_asyncio aiolimiter glob sqlite3"
   ]
  },
  {
   "cell_type": "code",
   "execution_count": 0,
   "metadata": {
    "application/vnd.databricks.v1+cell": {
     "cellMetadata": {
      "byteLimit": 2048000,
      "rowLimit": 10000
     },
     "inputWidgets": {},
     "nuid": "e8ce8b77-d759-4ad7-9b41-3bb3a36c82e2",
     "showTitle": false,
     "tableResultSettingsMap": {},
     "title": ""
    }
   },
   "outputs": [
    {
     "data": {
      "text/plain": [
       "\u001b[0;31m---------------------------------------------------------------------------\u001b[0m\n",
       "\u001b[0;31mModuleNotFoundError\u001b[0m                       Traceback (most recent call last)\n",
       "File \u001b[0;32m<command-4884005352694818>, line 21\u001b[0m\n",
       "\u001b[1;32m     18\u001b[0m \u001b[38;5;28;01mfrom\u001b[39;00m \u001b[38;5;21;01mtyping\u001b[39;00m \u001b[38;5;28;01mimport\u001b[39;00m Any, Optional, Union, Iterable, Sequence, List, Dict\n",
       "\u001b[1;32m     19\u001b[0m \u001b[38;5;28;01mfrom\u001b[39;00m \u001b[38;5;21;01murllib\u001b[39;00m\u001b[38;5;21;01m.\u001b[39;00m\u001b[38;5;21;01mparse\u001b[39;00m \u001b[38;5;28;01mimport\u001b[39;00m urlparse\n",
       "\u001b[0;32m---> 21\u001b[0m \u001b[38;5;28;01mimport\u001b[39;00m \u001b[38;5;21;01maiohttp\u001b[39;00m\n",
       "\u001b[1;32m     22\u001b[0m \u001b[38;5;28;01mfrom\u001b[39;00m \u001b[38;5;21;01maiolimiter\u001b[39;00m \u001b[38;5;28;01mimport\u001b[39;00m AsyncLimiter\n",
       "\u001b[1;32m     23\u001b[0m \u001b[38;5;28;01mfrom\u001b[39;00m \u001b[38;5;21;01mbs4\u001b[39;00m \u001b[38;5;28;01mimport\u001b[39;00m BeautifulSoup\n",
       "\n",
       "\u001b[0;31mModuleNotFoundError\u001b[0m: No module named 'aiohttp'"
      ]
     },
     "metadata": {
      "application/vnd.databricks.v1+output": {
       "addedWidgets": {},
       "arguments": {},
       "datasetInfos": [],
       "jupyterProps": {
        "ename": "ModuleNotFoundError",
        "evalue": "No module named 'aiohttp'"
       },
       "metadata": {
        "errorSummary": "<span class='ansi-red-fg'>ModuleNotFoundError</span>: No module named 'aiohttp'"
       },
       "removedWidgets": [],
       "sqlProps": null,
       "stackFrames": [
        "\u001b[0;31m---------------------------------------------------------------------------\u001b[0m",
        "\u001b[0;31mModuleNotFoundError\u001b[0m                       Traceback (most recent call last)",
        "File \u001b[0;32m<command-4884005352694818>, line 21\u001b[0m\n\u001b[1;32m     18\u001b[0m \u001b[38;5;28;01mfrom\u001b[39;00m \u001b[38;5;21;01mtyping\u001b[39;00m \u001b[38;5;28;01mimport\u001b[39;00m Any, Optional, Union, Iterable, Sequence, List, Dict\n\u001b[1;32m     19\u001b[0m \u001b[38;5;28;01mfrom\u001b[39;00m \u001b[38;5;21;01murllib\u001b[39;00m\u001b[38;5;21;01m.\u001b[39;00m\u001b[38;5;21;01mparse\u001b[39;00m \u001b[38;5;28;01mimport\u001b[39;00m urlparse\n\u001b[0;32m---> 21\u001b[0m \u001b[38;5;28;01mimport\u001b[39;00m \u001b[38;5;21;01maiohttp\u001b[39;00m\n\u001b[1;32m     22\u001b[0m \u001b[38;5;28;01mfrom\u001b[39;00m \u001b[38;5;21;01maiolimiter\u001b[39;00m \u001b[38;5;28;01mimport\u001b[39;00m AsyncLimiter\n\u001b[1;32m     23\u001b[0m \u001b[38;5;28;01mfrom\u001b[39;00m \u001b[38;5;21;01mbs4\u001b[39;00m \u001b[38;5;28;01mimport\u001b[39;00m BeautifulSoup\n",
        "\u001b[0;31mModuleNotFoundError\u001b[0m: No module named 'aiohttp'"
       ],
       "type": "baseError"
      }
     },
     "output_type": "display_data"
    }
   ],
   "source": [
    "import argparse\n",
    "import asyncio\n",
    "from dataclasses import dataclass\n",
    "import datetime as dt\n",
    "import gzip\n",
    "from itertools import islice\n",
    "import json\n",
    "import logging\n",
    "from logging.handlers import TimedRotatingFileHandler\n",
    "import nest_asyncio\n",
    "import os\n",
    "import random\n",
    "import re\n",
    "import shutil\n",
    "import sys\n",
    "import tempfile\n",
    "import time\n",
    "from typing import Any, Optional, Union, Iterable, Sequence, List, Dict\n",
    "from urllib.parse import urlparse\n",
    "\n",
    "import aiohttp\n",
    "from aiolimiter import AsyncLimiter\n",
    "from bs4 import BeautifulSoup\n",
    "import glob\n",
    "from huggingface_hub import HfApi\n",
    "import sqlite3\n",
    "import numpy as np\n",
    "import pandas as pd\n",
    "from pandas.api.types import is_object_dtype\n",
    "import requests\n",
    "from tqdm import tqdm\n",
    "\n",
    "nest_asyncio.apply()"
   ]
  },
  {
   "cell_type": "markdown",
   "metadata": {
    "application/vnd.databricks.v1+cell": {
     "cellMetadata": {
      "byteLimit": 2048000,
      "rowLimit": 10000
     },
     "inputWidgets": {},
     "nuid": "0e12e14b-26b5-4634-8979-f28be81c852b",
     "showTitle": false,
     "tableResultSettingsMap": {},
     "title": ""
    }
   },
   "source": [
    "# 2. Declare Constants"
   ]
  },
  {
   "cell_type": "code",
   "execution_count": 0,
   "metadata": {
    "application/vnd.databricks.v1+cell": {
     "cellMetadata": {
      "byteLimit": 2048000,
      "rowLimit": 10000
     },
     "inputWidgets": {},
     "nuid": "637ea8a4-4107-4472-be91-f5e4d2dc141d",
     "showTitle": false,
     "tableResultSettingsMap": {},
     "title": ""
    }
   },
   "outputs": [
    {
     "data": {
      "text/plain": [
       "\u001b[0;31m---------------------------------------------------------------------------\u001b[0m\n",
       "\u001b[0;31mModuleNotFoundError\u001b[0m                       Traceback (most recent call last)\n",
       "File \u001b[0;32m<command-4884005352694818>, line 21\u001b[0m\n",
       "\u001b[1;32m     18\u001b[0m \u001b[38;5;28;01mfrom\u001b[39;00m \u001b[38;5;21;01mtyping\u001b[39;00m \u001b[38;5;28;01mimport\u001b[39;00m Any, Optional, Union, Iterable, Sequence, List, Dict\n",
       "\u001b[1;32m     19\u001b[0m \u001b[38;5;28;01mfrom\u001b[39;00m \u001b[38;5;21;01murllib\u001b[39;00m\u001b[38;5;21;01m.\u001b[39;00m\u001b[38;5;21;01mparse\u001b[39;00m \u001b[38;5;28;01mimport\u001b[39;00m urlparse\n",
       "\u001b[0;32m---> 21\u001b[0m \u001b[38;5;28;01mimport\u001b[39;00m \u001b[38;5;21;01maiohttp\u001b[39;00m\n",
       "\u001b[1;32m     22\u001b[0m \u001b[38;5;28;01mfrom\u001b[39;00m \u001b[38;5;21;01maiolimiter\u001b[39;00m \u001b[38;5;28;01mimport\u001b[39;00m AsyncLimiter\n",
       "\u001b[1;32m     23\u001b[0m \u001b[38;5;28;01mfrom\u001b[39;00m \u001b[38;5;21;01mbs4\u001b[39;00m \u001b[38;5;28;01mimport\u001b[39;00m BeautifulSoup\n",
       "\n",
       "\u001b[0;31mModuleNotFoundError\u001b[0m: No module named 'aiohttp'"
      ]
     },
     "metadata": {
      "application/vnd.databricks.v1+output": {
       "addedWidgets": {},
       "arguments": {},
       "datasetInfos": [],
       "jupyterProps": {
        "ename": "ModuleNotFoundError",
        "evalue": "No module named 'aiohttp'"
       },
       "metadata": {
        "errorSummary": "Command skipped"
       },
       "removedWidgets": [],
       "sqlProps": null,
       "stackFrames": [
        "\u001b[0;31m---------------------------------------------------------------------------\u001b[0m",
        "\u001b[0;31mModuleNotFoundError\u001b[0m                       Traceback (most recent call last)",
        "File \u001b[0;32m<command-4884005352694818>, line 21\u001b[0m\n\u001b[1;32m     18\u001b[0m \u001b[38;5;28;01mfrom\u001b[39;00m \u001b[38;5;21;01mtyping\u001b[39;00m \u001b[38;5;28;01mimport\u001b[39;00m Any, Optional, Union, Iterable, Sequence, List, Dict\n\u001b[1;32m     19\u001b[0m \u001b[38;5;28;01mfrom\u001b[39;00m \u001b[38;5;21;01murllib\u001b[39;00m\u001b[38;5;21;01m.\u001b[39;00m\u001b[38;5;21;01mparse\u001b[39;00m \u001b[38;5;28;01mimport\u001b[39;00m urlparse\n\u001b[0;32m---> 21\u001b[0m \u001b[38;5;28;01mimport\u001b[39;00m \u001b[38;5;21;01maiohttp\u001b[39;00m\n\u001b[1;32m     22\u001b[0m \u001b[38;5;28;01mfrom\u001b[39;00m \u001b[38;5;21;01maiolimiter\u001b[39;00m \u001b[38;5;28;01mimport\u001b[39;00m AsyncLimiter\n\u001b[1;32m     23\u001b[0m \u001b[38;5;28;01mfrom\u001b[39;00m \u001b[38;5;21;01mbs4\u001b[39;00m \u001b[38;5;28;01mimport\u001b[39;00m BeautifulSoup\n",
        "\u001b[0;31mModuleNotFoundError\u001b[0m: No module named 'aiohttp'"
       ],
       "type": "baseError"
      }
     },
     "output_type": "display_data"
    }
   ],
   "source": [
    "PROGRESS_PATH = \".hf_progress_ids.txt\"\n",
    "ENCODING_TYPE = 'utf-8-sig'\n",
    "BASE = \"https://huggingface.co\"\n",
    "HF_READ_TOKEN = \"YOUR_READ_TOKEN\"\n",
    "HF_WRITE_TOKEN = \"YOUR_WRITE_TOKEN\"\n",
    "META_CSV = \"hf_metadata.csv\"\n",
    "FILES_CSV = \"hf_files.csv\"\n",
    "COMMU_CSV = \"hf_community.csv\""
   ]
  },
  {
   "cell_type": "markdown",
   "metadata": {
    "application/vnd.databricks.v1+cell": {
     "cellMetadata": {
      "byteLimit": 2048000,
      "rowLimit": 10000
     },
     "inputWidgets": {},
     "nuid": "a7facb13-efdb-416d-804a-0ba96238d873",
     "showTitle": false,
     "tableResultSettingsMap": {},
     "title": ""
    }
   },
   "source": [
    "# 3. Setup Logging"
   ]
  },
  {
   "cell_type": "code",
   "execution_count": 0,
   "metadata": {
    "application/vnd.databricks.v1+cell": {
     "cellMetadata": {
      "byteLimit": 2048000,
      "rowLimit": 10000
     },
     "inputWidgets": {},
     "nuid": "0902e975-5359-4a5a-9b47-bc532859dbc7",
     "showTitle": false,
     "tableResultSettingsMap": {},
     "title": ""
    }
   },
   "outputs": [
    {
     "data": {
      "text/plain": [
       "\u001b[0;31m---------------------------------------------------------------------------\u001b[0m\n",
       "\u001b[0;31mModuleNotFoundError\u001b[0m                       Traceback (most recent call last)\n",
       "File \u001b[0;32m<command-4884005352694818>, line 21\u001b[0m\n",
       "\u001b[1;32m     18\u001b[0m \u001b[38;5;28;01mfrom\u001b[39;00m \u001b[38;5;21;01mtyping\u001b[39;00m \u001b[38;5;28;01mimport\u001b[39;00m Any, Optional, Union, Iterable, Sequence, List, Dict\n",
       "\u001b[1;32m     19\u001b[0m \u001b[38;5;28;01mfrom\u001b[39;00m \u001b[38;5;21;01murllib\u001b[39;00m\u001b[38;5;21;01m.\u001b[39;00m\u001b[38;5;21;01mparse\u001b[39;00m \u001b[38;5;28;01mimport\u001b[39;00m urlparse\n",
       "\u001b[0;32m---> 21\u001b[0m \u001b[38;5;28;01mimport\u001b[39;00m \u001b[38;5;21;01maiohttp\u001b[39;00m\n",
       "\u001b[1;32m     22\u001b[0m \u001b[38;5;28;01mfrom\u001b[39;00m \u001b[38;5;21;01maiolimiter\u001b[39;00m \u001b[38;5;28;01mimport\u001b[39;00m AsyncLimiter\n",
       "\u001b[1;32m     23\u001b[0m \u001b[38;5;28;01mfrom\u001b[39;00m \u001b[38;5;21;01mbs4\u001b[39;00m \u001b[38;5;28;01mimport\u001b[39;00m BeautifulSoup\n",
       "\n",
       "\u001b[0;31mModuleNotFoundError\u001b[0m: No module named 'aiohttp'"
      ]
     },
     "metadata": {
      "application/vnd.databricks.v1+output": {
       "addedWidgets": {},
       "arguments": {},
       "datasetInfos": [],
       "jupyterProps": {
        "ename": "ModuleNotFoundError",
        "evalue": "No module named 'aiohttp'"
       },
       "metadata": {
        "errorSummary": "Command skipped"
       },
       "removedWidgets": [],
       "sqlProps": null,
       "stackFrames": [
        "\u001b[0;31m---------------------------------------------------------------------------\u001b[0m",
        "\u001b[0;31mModuleNotFoundError\u001b[0m                       Traceback (most recent call last)",
        "File \u001b[0;32m<command-4884005352694818>, line 21\u001b[0m\n\u001b[1;32m     18\u001b[0m \u001b[38;5;28;01mfrom\u001b[39;00m \u001b[38;5;21;01mtyping\u001b[39;00m \u001b[38;5;28;01mimport\u001b[39;00m Any, Optional, Union, Iterable, Sequence, List, Dict\n\u001b[1;32m     19\u001b[0m \u001b[38;5;28;01mfrom\u001b[39;00m \u001b[38;5;21;01murllib\u001b[39;00m\u001b[38;5;21;01m.\u001b[39;00m\u001b[38;5;21;01mparse\u001b[39;00m \u001b[38;5;28;01mimport\u001b[39;00m urlparse\n\u001b[0;32m---> 21\u001b[0m \u001b[38;5;28;01mimport\u001b[39;00m \u001b[38;5;21;01maiohttp\u001b[39;00m\n\u001b[1;32m     22\u001b[0m \u001b[38;5;28;01mfrom\u001b[39;00m \u001b[38;5;21;01maiolimiter\u001b[39;00m \u001b[38;5;28;01mimport\u001b[39;00m AsyncLimiter\n\u001b[1;32m     23\u001b[0m \u001b[38;5;28;01mfrom\u001b[39;00m \u001b[38;5;21;01mbs4\u001b[39;00m \u001b[38;5;28;01mimport\u001b[39;00m BeautifulSoup\n",
        "\u001b[0;31mModuleNotFoundError\u001b[0m: No module named 'aiohttp'"
       ],
       "type": "baseError"
      }
     },
     "output_type": "display_data"
    }
   ],
   "source": [
    "def setup_logging(log_to_file=False):\n",
    "    fmt = \"[%(asctime)s][%(levelname)s][%(name)s] %(message)s\"\n",
    "\n",
    "    handlers = []\n",
    "\n",
    "    # 노트북 셀에 보이도록 stdout으로!\n",
    "    console_handler = logging.StreamHandler(sys.stdout)\n",
    "    console_handler.setFormatter(logging.Formatter(fmt))\n",
    "    console_handler.setLevel(logging.INFO)\n",
    "    handlers.append(console_handler)\n",
    "\n",
    "    if log_to_file:\n",
    "        log_dir = \"/dbfs/logs\"  # /logs 대신 DBFS 경로 권장\n",
    "        os.makedirs(log_dir, exist_ok=True)\n",
    "        file_handler = TimedRotatingFileHandler(\n",
    "            filename=os.path.join(log_dir, \"project.log\"),\n",
    "            when=\"midnight\",\n",
    "            interval=1,\n",
    "            backupCount=7,\n",
    "            encoding=ENCODING_TYPE\n",
    "        )\n",
    "        file_handler.setFormatter(logging.Formatter(fmt))\n",
    "        file_handler.setLevel(logging.INFO)\n",
    "        handlers.append(file_handler)\n",
    "\n",
    "    # Databricks는 이미 로깅이 초기화되어 있을 수 있음 → 강제 재설정\n",
    "    logging.basicConfig(level=logging.INFO, handlers=handlers, force=True)"
   ]
  },
  {
   "cell_type": "markdown",
   "metadata": {
    "application/vnd.databricks.v1+cell": {
     "cellMetadata": {
      "byteLimit": 2048000,
      "rowLimit": 10000
     },
     "inputWidgets": {},
     "nuid": "bc434517-eb3e-470f-af65-00d43a564cbf",
     "showTitle": false,
     "tableResultSettingsMap": {},
     "title": ""
    }
   },
   "source": [
    "# 4. User Defined Function: Utility"
   ]
  },
  {
   "cell_type": "markdown",
   "metadata": {
    "application/vnd.databricks.v1+cell": {
     "cellMetadata": {
      "byteLimit": 2048000,
      "rowLimit": 10000
     },
     "inputWidgets": {},
     "nuid": "91f90ec6-83a4-4899-ae9a-6e5bdf193637",
     "showTitle": false,
     "tableResultSettingsMap": {},
     "title": ""
    }
   },
   "source": [
    "## 4-1. make_hashable"
   ]
  },
  {
   "cell_type": "code",
   "execution_count": 0,
   "metadata": {
    "application/vnd.databricks.v1+cell": {
     "cellMetadata": {
      "byteLimit": 2048000,
      "rowLimit": 10000
     },
     "inputWidgets": {},
     "nuid": "80345cda-458d-4fc2-8c06-6aa5d6279f45",
     "showTitle": false,
     "tableResultSettingsMap": {},
     "title": ""
    }
   },
   "outputs": [
    {
     "data": {
      "text/plain": [
       "\u001b[0;31m---------------------------------------------------------------------------\u001b[0m\n",
       "\u001b[0;31mModuleNotFoundError\u001b[0m                       Traceback (most recent call last)\n",
       "File \u001b[0;32m<command-4884005352694818>, line 21\u001b[0m\n",
       "\u001b[1;32m     18\u001b[0m \u001b[38;5;28;01mfrom\u001b[39;00m \u001b[38;5;21;01mtyping\u001b[39;00m \u001b[38;5;28;01mimport\u001b[39;00m Any, Optional, Union, Iterable, Sequence, List, Dict\n",
       "\u001b[1;32m     19\u001b[0m \u001b[38;5;28;01mfrom\u001b[39;00m \u001b[38;5;21;01murllib\u001b[39;00m\u001b[38;5;21;01m.\u001b[39;00m\u001b[38;5;21;01mparse\u001b[39;00m \u001b[38;5;28;01mimport\u001b[39;00m urlparse\n",
       "\u001b[0;32m---> 21\u001b[0m \u001b[38;5;28;01mimport\u001b[39;00m \u001b[38;5;21;01maiohttp\u001b[39;00m\n",
       "\u001b[1;32m     22\u001b[0m \u001b[38;5;28;01mfrom\u001b[39;00m \u001b[38;5;21;01maiolimiter\u001b[39;00m \u001b[38;5;28;01mimport\u001b[39;00m AsyncLimiter\n",
       "\u001b[1;32m     23\u001b[0m \u001b[38;5;28;01mfrom\u001b[39;00m \u001b[38;5;21;01mbs4\u001b[39;00m \u001b[38;5;28;01mimport\u001b[39;00m BeautifulSoup\n",
       "\n",
       "\u001b[0;31mModuleNotFoundError\u001b[0m: No module named 'aiohttp'"
      ]
     },
     "metadata": {
      "application/vnd.databricks.v1+output": {
       "addedWidgets": {},
       "arguments": {},
       "datasetInfos": [],
       "jupyterProps": {
        "ename": "ModuleNotFoundError",
        "evalue": "No module named 'aiohttp'"
       },
       "metadata": {
        "errorSummary": "Command skipped"
       },
       "removedWidgets": [],
       "sqlProps": null,
       "stackFrames": [
        "\u001b[0;31m---------------------------------------------------------------------------\u001b[0m",
        "\u001b[0;31mModuleNotFoundError\u001b[0m                       Traceback (most recent call last)",
        "File \u001b[0;32m<command-4884005352694818>, line 21\u001b[0m\n\u001b[1;32m     18\u001b[0m \u001b[38;5;28;01mfrom\u001b[39;00m \u001b[38;5;21;01mtyping\u001b[39;00m \u001b[38;5;28;01mimport\u001b[39;00m Any, Optional, Union, Iterable, Sequence, List, Dict\n\u001b[1;32m     19\u001b[0m \u001b[38;5;28;01mfrom\u001b[39;00m \u001b[38;5;21;01murllib\u001b[39;00m\u001b[38;5;21;01m.\u001b[39;00m\u001b[38;5;21;01mparse\u001b[39;00m \u001b[38;5;28;01mimport\u001b[39;00m urlparse\n\u001b[0;32m---> 21\u001b[0m \u001b[38;5;28;01mimport\u001b[39;00m \u001b[38;5;21;01maiohttp\u001b[39;00m\n\u001b[1;32m     22\u001b[0m \u001b[38;5;28;01mfrom\u001b[39;00m \u001b[38;5;21;01maiolimiter\u001b[39;00m \u001b[38;5;28;01mimport\u001b[39;00m AsyncLimiter\n\u001b[1;32m     23\u001b[0m \u001b[38;5;28;01mfrom\u001b[39;00m \u001b[38;5;21;01mbs4\u001b[39;00m \u001b[38;5;28;01mimport\u001b[39;00m BeautifulSoup\n",
        "\u001b[0;31mModuleNotFoundError\u001b[0m: No module named 'aiohttp'"
       ],
       "type": "baseError"
      }
     },
     "output_type": "display_data"
    }
   ],
   "source": [
    "def make_hashable(data: Any) -> Union[tuple, str, None]:\n",
    "    if isinstance(data, (dict, list)):\n",
    "        return json.dumps(data, ensure_ascii=False)\n",
    "    return data"
   ]
  },
  {
   "cell_type": "markdown",
   "metadata": {
    "application/vnd.databricks.v1+cell": {
     "cellMetadata": {
      "byteLimit": 2048000,
      "rowLimit": 10000
     },
     "inputWidgets": {},
     "nuid": "141d51ea-4688-4ce3-87ed-4fb7ae116a86",
     "showTitle": false,
     "tableResultSettingsMap": {},
     "title": ""
    }
   },
   "source": [
    "## 4-2. jprint"
   ]
  },
  {
   "cell_type": "code",
   "execution_count": 0,
   "metadata": {
    "application/vnd.databricks.v1+cell": {
     "cellMetadata": {
      "byteLimit": 2048000,
      "rowLimit": 10000
     },
     "inputWidgets": {},
     "nuid": "8359fcab-ab9e-47e8-8bae-6bfcc6ea5204",
     "showTitle": false,
     "tableResultSettingsMap": {},
     "title": ""
    }
   },
   "outputs": [
    {
     "data": {
      "text/plain": [
       "\u001b[0;31m---------------------------------------------------------------------------\u001b[0m\n",
       "\u001b[0;31mModuleNotFoundError\u001b[0m                       Traceback (most recent call last)\n",
       "File \u001b[0;32m<command-4884005352694818>, line 21\u001b[0m\n",
       "\u001b[1;32m     18\u001b[0m \u001b[38;5;28;01mfrom\u001b[39;00m \u001b[38;5;21;01mtyping\u001b[39;00m \u001b[38;5;28;01mimport\u001b[39;00m Any, Optional, Union, Iterable, Sequence, List, Dict\n",
       "\u001b[1;32m     19\u001b[0m \u001b[38;5;28;01mfrom\u001b[39;00m \u001b[38;5;21;01murllib\u001b[39;00m\u001b[38;5;21;01m.\u001b[39;00m\u001b[38;5;21;01mparse\u001b[39;00m \u001b[38;5;28;01mimport\u001b[39;00m urlparse\n",
       "\u001b[0;32m---> 21\u001b[0m \u001b[38;5;28;01mimport\u001b[39;00m \u001b[38;5;21;01maiohttp\u001b[39;00m\n",
       "\u001b[1;32m     22\u001b[0m \u001b[38;5;28;01mfrom\u001b[39;00m \u001b[38;5;21;01maiolimiter\u001b[39;00m \u001b[38;5;28;01mimport\u001b[39;00m AsyncLimiter\n",
       "\u001b[1;32m     23\u001b[0m \u001b[38;5;28;01mfrom\u001b[39;00m \u001b[38;5;21;01mbs4\u001b[39;00m \u001b[38;5;28;01mimport\u001b[39;00m BeautifulSoup\n",
       "\n",
       "\u001b[0;31mModuleNotFoundError\u001b[0m: No module named 'aiohttp'"
      ]
     },
     "metadata": {
      "application/vnd.databricks.v1+output": {
       "addedWidgets": {},
       "arguments": {},
       "datasetInfos": [],
       "jupyterProps": {
        "ename": "ModuleNotFoundError",
        "evalue": "No module named 'aiohttp'"
       },
       "metadata": {
        "errorSummary": "Command skipped"
       },
       "removedWidgets": [],
       "sqlProps": null,
       "stackFrames": [
        "\u001b[0;31m---------------------------------------------------------------------------\u001b[0m",
        "\u001b[0;31mModuleNotFoundError\u001b[0m                       Traceback (most recent call last)",
        "File \u001b[0;32m<command-4884005352694818>, line 21\u001b[0m\n\u001b[1;32m     18\u001b[0m \u001b[38;5;28;01mfrom\u001b[39;00m \u001b[38;5;21;01mtyping\u001b[39;00m \u001b[38;5;28;01mimport\u001b[39;00m Any, Optional, Union, Iterable, Sequence, List, Dict\n\u001b[1;32m     19\u001b[0m \u001b[38;5;28;01mfrom\u001b[39;00m \u001b[38;5;21;01murllib\u001b[39;00m\u001b[38;5;21;01m.\u001b[39;00m\u001b[38;5;21;01mparse\u001b[39;00m \u001b[38;5;28;01mimport\u001b[39;00m urlparse\n\u001b[0;32m---> 21\u001b[0m \u001b[38;5;28;01mimport\u001b[39;00m \u001b[38;5;21;01maiohttp\u001b[39;00m\n\u001b[1;32m     22\u001b[0m \u001b[38;5;28;01mfrom\u001b[39;00m \u001b[38;5;21;01maiolimiter\u001b[39;00m \u001b[38;5;28;01mimport\u001b[39;00m AsyncLimiter\n\u001b[1;32m     23\u001b[0m \u001b[38;5;28;01mfrom\u001b[39;00m \u001b[38;5;21;01mbs4\u001b[39;00m \u001b[38;5;28;01mimport\u001b[39;00m BeautifulSoup\n",
        "\u001b[0;31mModuleNotFoundError\u001b[0m: No module named 'aiohttp'"
       ],
       "type": "baseError"
      }
     },
     "output_type": "display_data"
    }
   ],
   "source": [
    "def jprint(data: Any):\n",
    "    print(json.dumps(data, ensure_ascii=False, indent=4))"
   ]
  },
  {
   "cell_type": "markdown",
   "metadata": {
    "application/vnd.databricks.v1+cell": {
     "cellMetadata": {
      "byteLimit": 2048000,
      "rowLimit": 10000
     },
     "inputWidgets": {},
     "nuid": "8b7c4a08-d239-47a1-abd3-f83e8b7581d3",
     "showTitle": false,
     "tableResultSettingsMap": {},
     "title": ""
    }
   },
   "source": [
    "## 4-3. batched"
   ]
  },
  {
   "cell_type": "code",
   "execution_count": 0,
   "metadata": {
    "application/vnd.databricks.v1+cell": {
     "cellMetadata": {
      "byteLimit": 2048000,
      "rowLimit": 10000
     },
     "inputWidgets": {},
     "nuid": "36829595-d720-4f86-bd4a-dd98eebf15d8",
     "showTitle": false,
     "tableResultSettingsMap": {},
     "title": ""
    }
   },
   "outputs": [
    {
     "data": {
      "text/plain": [
       "\u001b[0;31m---------------------------------------------------------------------------\u001b[0m\n",
       "\u001b[0;31mModuleNotFoundError\u001b[0m                       Traceback (most recent call last)\n",
       "File \u001b[0;32m<command-4884005352694818>, line 21\u001b[0m\n",
       "\u001b[1;32m     18\u001b[0m \u001b[38;5;28;01mfrom\u001b[39;00m \u001b[38;5;21;01mtyping\u001b[39;00m \u001b[38;5;28;01mimport\u001b[39;00m Any, Optional, Union, Iterable, Sequence, List, Dict\n",
       "\u001b[1;32m     19\u001b[0m \u001b[38;5;28;01mfrom\u001b[39;00m \u001b[38;5;21;01murllib\u001b[39;00m\u001b[38;5;21;01m.\u001b[39;00m\u001b[38;5;21;01mparse\u001b[39;00m \u001b[38;5;28;01mimport\u001b[39;00m urlparse\n",
       "\u001b[0;32m---> 21\u001b[0m \u001b[38;5;28;01mimport\u001b[39;00m \u001b[38;5;21;01maiohttp\u001b[39;00m\n",
       "\u001b[1;32m     22\u001b[0m \u001b[38;5;28;01mfrom\u001b[39;00m \u001b[38;5;21;01maiolimiter\u001b[39;00m \u001b[38;5;28;01mimport\u001b[39;00m AsyncLimiter\n",
       "\u001b[1;32m     23\u001b[0m \u001b[38;5;28;01mfrom\u001b[39;00m \u001b[38;5;21;01mbs4\u001b[39;00m \u001b[38;5;28;01mimport\u001b[39;00m BeautifulSoup\n",
       "\n",
       "\u001b[0;31mModuleNotFoundError\u001b[0m: No module named 'aiohttp'"
      ]
     },
     "metadata": {
      "application/vnd.databricks.v1+output": {
       "addedWidgets": {},
       "arguments": {},
       "datasetInfos": [],
       "jupyterProps": {
        "ename": "ModuleNotFoundError",
        "evalue": "No module named 'aiohttp'"
       },
       "metadata": {
        "errorSummary": "Command skipped"
       },
       "removedWidgets": [],
       "sqlProps": null,
       "stackFrames": [
        "\u001b[0;31m---------------------------------------------------------------------------\u001b[0m",
        "\u001b[0;31mModuleNotFoundError\u001b[0m                       Traceback (most recent call last)",
        "File \u001b[0;32m<command-4884005352694818>, line 21\u001b[0m\n\u001b[1;32m     18\u001b[0m \u001b[38;5;28;01mfrom\u001b[39;00m \u001b[38;5;21;01mtyping\u001b[39;00m \u001b[38;5;28;01mimport\u001b[39;00m Any, Optional, Union, Iterable, Sequence, List, Dict\n\u001b[1;32m     19\u001b[0m \u001b[38;5;28;01mfrom\u001b[39;00m \u001b[38;5;21;01murllib\u001b[39;00m\u001b[38;5;21;01m.\u001b[39;00m\u001b[38;5;21;01mparse\u001b[39;00m \u001b[38;5;28;01mimport\u001b[39;00m urlparse\n\u001b[0;32m---> 21\u001b[0m \u001b[38;5;28;01mimport\u001b[39;00m \u001b[38;5;21;01maiohttp\u001b[39;00m\n\u001b[1;32m     22\u001b[0m \u001b[38;5;28;01mfrom\u001b[39;00m \u001b[38;5;21;01maiolimiter\u001b[39;00m \u001b[38;5;28;01mimport\u001b[39;00m AsyncLimiter\n\u001b[1;32m     23\u001b[0m \u001b[38;5;28;01mfrom\u001b[39;00m \u001b[38;5;21;01mbs4\u001b[39;00m \u001b[38;5;28;01mimport\u001b[39;00m BeautifulSoup\n",
        "\u001b[0;31mModuleNotFoundError\u001b[0m: No module named 'aiohttp'"
       ],
       "type": "baseError"
      }
     },
     "output_type": "display_data"
    }
   ],
   "source": [
    "def batched(iterable, n):\n",
    "    it = iter(iterable)\n",
    "    while True:\n",
    "        batch = list(islice(it, n))\n",
    "        if not batch:\n",
    "            break\n",
    "        yield batch"
   ]
  },
  {
   "cell_type": "markdown",
   "metadata": {
    "application/vnd.databricks.v1+cell": {
     "cellMetadata": {
      "byteLimit": 2048000,
      "rowLimit": 10000
     },
     "inputWidgets": {},
     "nuid": "6da5c46c-dc16-4ca0-bc5f-a1a4086f22e9",
     "showTitle": false,
     "tableResultSettingsMap": {},
     "title": ""
    }
   },
   "source": [
    "## 4-4. ensure_schema"
   ]
  },
  {
   "cell_type": "markdown",
   "metadata": {
    "application/vnd.databricks.v1+cell": {
     "cellMetadata": {
      "byteLimit": 2048000,
      "rowLimit": 10000
     },
     "inputWidgets": {},
     "nuid": "8dddcc8f-11cd-4dfd-8cf1-eeb69c52e2d4",
     "showTitle": false,
     "tableResultSettingsMap": {},
     "title": ""
    }
   },
   "source": [
    "### 1. Metadata"
   ]
  },
  {
   "cell_type": "code",
   "execution_count": 0,
   "metadata": {
    "application/vnd.databricks.v1+cell": {
     "cellMetadata": {
      "byteLimit": 2048000,
      "rowLimit": 10000
     },
     "inputWidgets": {},
     "nuid": "e6f7afb3-f586-480a-aafa-fad54ed8ca18",
     "showTitle": false,
     "tableResultSettingsMap": {},
     "title": ""
    }
   },
   "outputs": [
    {
     "data": {
      "text/plain": [
       "\u001b[0;31m---------------------------------------------------------------------------\u001b[0m\n",
       "\u001b[0;31mModuleNotFoundError\u001b[0m                       Traceback (most recent call last)\n",
       "File \u001b[0;32m<command-4884005352694818>, line 21\u001b[0m\n",
       "\u001b[1;32m     18\u001b[0m \u001b[38;5;28;01mfrom\u001b[39;00m \u001b[38;5;21;01mtyping\u001b[39;00m \u001b[38;5;28;01mimport\u001b[39;00m Any, Optional, Union, Iterable, Sequence, List, Dict\n",
       "\u001b[1;32m     19\u001b[0m \u001b[38;5;28;01mfrom\u001b[39;00m \u001b[38;5;21;01murllib\u001b[39;00m\u001b[38;5;21;01m.\u001b[39;00m\u001b[38;5;21;01mparse\u001b[39;00m \u001b[38;5;28;01mimport\u001b[39;00m urlparse\n",
       "\u001b[0;32m---> 21\u001b[0m \u001b[38;5;28;01mimport\u001b[39;00m \u001b[38;5;21;01maiohttp\u001b[39;00m\n",
       "\u001b[1;32m     22\u001b[0m \u001b[38;5;28;01mfrom\u001b[39;00m \u001b[38;5;21;01maiolimiter\u001b[39;00m \u001b[38;5;28;01mimport\u001b[39;00m AsyncLimiter\n",
       "\u001b[1;32m     23\u001b[0m \u001b[38;5;28;01mfrom\u001b[39;00m \u001b[38;5;21;01mbs4\u001b[39;00m \u001b[38;5;28;01mimport\u001b[39;00m BeautifulSoup\n",
       "\n",
       "\u001b[0;31mModuleNotFoundError\u001b[0m: No module named 'aiohttp'"
      ]
     },
     "metadata": {
      "application/vnd.databricks.v1+output": {
       "addedWidgets": {},
       "arguments": {},
       "datasetInfos": [],
       "jupyterProps": {
        "ename": "ModuleNotFoundError",
        "evalue": "No module named 'aiohttp'"
       },
       "metadata": {
        "errorSummary": "Command skipped"
       },
       "removedWidgets": [],
       "sqlProps": null,
       "stackFrames": [
        "\u001b[0;31m---------------------------------------------------------------------------\u001b[0m",
        "\u001b[0;31mModuleNotFoundError\u001b[0m                       Traceback (most recent call last)",
        "File \u001b[0;32m<command-4884005352694818>, line 21\u001b[0m\n\u001b[1;32m     18\u001b[0m \u001b[38;5;28;01mfrom\u001b[39;00m \u001b[38;5;21;01mtyping\u001b[39;00m \u001b[38;5;28;01mimport\u001b[39;00m Any, Optional, Union, Iterable, Sequence, List, Dict\n\u001b[1;32m     19\u001b[0m \u001b[38;5;28;01mfrom\u001b[39;00m \u001b[38;5;21;01murllib\u001b[39;00m\u001b[38;5;21;01m.\u001b[39;00m\u001b[38;5;21;01mparse\u001b[39;00m \u001b[38;5;28;01mimport\u001b[39;00m urlparse\n\u001b[0;32m---> 21\u001b[0m \u001b[38;5;28;01mimport\u001b[39;00m \u001b[38;5;21;01maiohttp\u001b[39;00m\n\u001b[1;32m     22\u001b[0m \u001b[38;5;28;01mfrom\u001b[39;00m \u001b[38;5;21;01maiolimiter\u001b[39;00m \u001b[38;5;28;01mimport\u001b[39;00m AsyncLimiter\n\u001b[1;32m     23\u001b[0m \u001b[38;5;28;01mfrom\u001b[39;00m \u001b[38;5;21;01mbs4\u001b[39;00m \u001b[38;5;28;01mimport\u001b[39;00m BeautifulSoup\n",
        "\u001b[0;31mModuleNotFoundError\u001b[0m: No module named 'aiohttp'"
       ],
       "type": "baseError"
      }
     },
     "output_type": "display_data"
    }
   ],
   "source": [
    "META_SCHEMA: dict[str, dict[str, str | int | float | None]] = {\n",
    "    \"id\":                   {\"dtype\": \"string\", \"default\": \"\"},       # NOT NULL\n",
    "    \"hexid\":                {\"dtype\": \"string\", \"default\": None},\n",
    "    \"sha\":                  {\"dtype\": \"string\", \"default\": None},\n",
    "    \"author\":               {\"dtype\": \"string\", \"default\": None},\n",
    "    \"private\":              {\"dtype\": \"boolean\",\"default\": None},\n",
    "    \"disabled\":             {\"dtype\": \"boolean\",\"default\": None},\n",
    "    \"gated\":                {\"dtype\": \"string\", \"default\": None},\n",
    "    \"pipeline_tag\":         {\"dtype\": \"string\", \"default\": None},\n",
    "    \"library_name\":         {\"dtype\": \"string\", \"default\": None},\n",
    "    \"tags\":                 {\"dtype\": \"string\", \"default\": None},     # JSON 문자열\n",
    "    \"likes\":                {\"dtype\": \"Float64\", \"default\": None},\n",
    "    \"downloads\":            {\"dtype\": \"Float64\", \"default\": None},\n",
    "    \"trending_score\":       {\"dtype\": \"Float64\",  \"default\": 0.0},      # NOT NULL\n",
    "    \"created_at\":           {\"dtype\": \"timestamp with timezone\", \"default\": None},     # ISO8601 권장\n",
    "    \"last_modified\":        {\"dtype\": \"timestamp with timezone\", \"default\": None},     # ISO8601 권장\n",
    "    \"config\":               {\"dtype\": \"string\", \"default\": None},     # JSON 문자열\n",
    "    \"card_data\":            {\"dtype\": \"string\", \"default\": None},     # JSON 문자열\n",
    "    \"safetensors\":          {\"dtype\": \"string\", \"default\": None},     # JSON 문자열\n",
    "    \"spaces\":               {\"dtype\": \"string\", \"default\": None},     # JSON 배열 문자열\n",
    "    \"transformers_info\":    {\"dtype\": \"string\", \"default\": None},     # JSON 문자열\n",
    "    \"used_storage\":         {\"dtype\": \"Float64\",  \"default\": None},\n",
    "    \"readme\":               {\"dtype\": \"string\", \"default\": None},\n",
    "\n",
    "    \"model_index\":          {\"dtype\": \"string\", \"default\": None},     # JSON 배열 문자열\n",
    "    \"gguf\":                 {\"dtype\": \"string\", \"default\": None},\n",
    "    \"inference\":            {\"dtype\": \"string\", \"default\": None},\n",
    "    \"mask_token\":           {\"dtype\": \"string\", \"default\": None},\n",
    "    \"widget_data\":          {\"dtype\": \"string\", \"default\": None},\n",
    "    \"security_repo_status\": {\"dtype\": \"string\", \"default\": None},\n",
    "}"
   ]
  },
  {
   "cell_type": "markdown",
   "metadata": {
    "application/vnd.databricks.v1+cell": {
     "cellMetadata": {
      "byteLimit": 2048000,
      "rowLimit": 10000
     },
     "inputWidgets": {},
     "nuid": "89aafee6-1854-4dc0-ad83-860855b2b903",
     "showTitle": false,
     "tableResultSettingsMap": {},
     "title": ""
    }
   },
   "source": [
    "### 2. Files"
   ]
  },
  {
   "cell_type": "code",
   "execution_count": 0,
   "metadata": {
    "application/vnd.databricks.v1+cell": {
     "cellMetadata": {
      "byteLimit": 2048000,
      "rowLimit": 10000
     },
     "inputWidgets": {},
     "nuid": "70f757cf-070a-46d8-8bff-536f8773218f",
     "showTitle": false,
     "tableResultSettingsMap": {},
     "title": ""
    }
   },
   "outputs": [
    {
     "data": {
      "text/plain": [
       "\u001b[0;31m---------------------------------------------------------------------------\u001b[0m\n",
       "\u001b[0;31mModuleNotFoundError\u001b[0m                       Traceback (most recent call last)\n",
       "File \u001b[0;32m<command-4884005352694818>, line 21\u001b[0m\n",
       "\u001b[1;32m     18\u001b[0m \u001b[38;5;28;01mfrom\u001b[39;00m \u001b[38;5;21;01mtyping\u001b[39;00m \u001b[38;5;28;01mimport\u001b[39;00m Any, Optional, Union, Iterable, Sequence, List, Dict\n",
       "\u001b[1;32m     19\u001b[0m \u001b[38;5;28;01mfrom\u001b[39;00m \u001b[38;5;21;01murllib\u001b[39;00m\u001b[38;5;21;01m.\u001b[39;00m\u001b[38;5;21;01mparse\u001b[39;00m \u001b[38;5;28;01mimport\u001b[39;00m urlparse\n",
       "\u001b[0;32m---> 21\u001b[0m \u001b[38;5;28;01mimport\u001b[39;00m \u001b[38;5;21;01maiohttp\u001b[39;00m\n",
       "\u001b[1;32m     22\u001b[0m \u001b[38;5;28;01mfrom\u001b[39;00m \u001b[38;5;21;01maiolimiter\u001b[39;00m \u001b[38;5;28;01mimport\u001b[39;00m AsyncLimiter\n",
       "\u001b[1;32m     23\u001b[0m \u001b[38;5;28;01mfrom\u001b[39;00m \u001b[38;5;21;01mbs4\u001b[39;00m \u001b[38;5;28;01mimport\u001b[39;00m BeautifulSoup\n",
       "\n",
       "\u001b[0;31mModuleNotFoundError\u001b[0m: No module named 'aiohttp'"
      ]
     },
     "metadata": {
      "application/vnd.databricks.v1+output": {
       "addedWidgets": {},
       "arguments": {},
       "datasetInfos": [],
       "jupyterProps": {
        "ename": "ModuleNotFoundError",
        "evalue": "No module named 'aiohttp'"
       },
       "metadata": {
        "errorSummary": "Command skipped"
       },
       "removedWidgets": [],
       "sqlProps": null,
       "stackFrames": [
        "\u001b[0;31m---------------------------------------------------------------------------\u001b[0m",
        "\u001b[0;31mModuleNotFoundError\u001b[0m                       Traceback (most recent call last)",
        "File \u001b[0;32m<command-4884005352694818>, line 21\u001b[0m\n\u001b[1;32m     18\u001b[0m \u001b[38;5;28;01mfrom\u001b[39;00m \u001b[38;5;21;01mtyping\u001b[39;00m \u001b[38;5;28;01mimport\u001b[39;00m Any, Optional, Union, Iterable, Sequence, List, Dict\n\u001b[1;32m     19\u001b[0m \u001b[38;5;28;01mfrom\u001b[39;00m \u001b[38;5;21;01murllib\u001b[39;00m\u001b[38;5;21;01m.\u001b[39;00m\u001b[38;5;21;01mparse\u001b[39;00m \u001b[38;5;28;01mimport\u001b[39;00m urlparse\n\u001b[0;32m---> 21\u001b[0m \u001b[38;5;28;01mimport\u001b[39;00m \u001b[38;5;21;01maiohttp\u001b[39;00m\n\u001b[1;32m     22\u001b[0m \u001b[38;5;28;01mfrom\u001b[39;00m \u001b[38;5;21;01maiolimiter\u001b[39;00m \u001b[38;5;28;01mimport\u001b[39;00m AsyncLimiter\n\u001b[1;32m     23\u001b[0m \u001b[38;5;28;01mfrom\u001b[39;00m \u001b[38;5;21;01mbs4\u001b[39;00m \u001b[38;5;28;01mimport\u001b[39;00m BeautifulSoup\n",
        "\u001b[0;31mModuleNotFoundError\u001b[0m: No module named 'aiohttp'"
       ],
       "type": "baseError"
      }
     },
     "output_type": "display_data"
    }
   ],
   "source": [
    "FILES_SCHEMA: dict[str, dict[str, str | int | float | None]] = {\n",
    "    \"model_id\":        {\"dtype\": \"string\", \"default\": \"\"},     # NOT NULL\n",
    "    \"type\":            {\"dtype\": \"string\", \"default\": \"\"},     # NOT NULL\n",
    "    \"oid\":             {\"dtype\": \"string\", \"default\": \"\"},     # NOT NULL (CHAR(40))\n",
    "    \"size\":            {\"dtype\": \"Int64\",  \"default\": 0},      # NOT NULL\n",
    "    \"path\":            {\"dtype\": \"string\", \"default\": None},\n",
    "    \"lfs_oid\":         {\"dtype\": \"string\", \"default\": None},\n",
    "    \"lfs_size\":        {\"dtype\": \"Int64\",  \"default\": None},\n",
    "    \"lfs_pointerSize\": {\"dtype\": \"Int64\",  \"default\": None},\n",
    "    \"xetHash\":         {\"dtype\": \"string\", \"default\": None},\n",
    "}"
   ]
  },
  {
   "cell_type": "markdown",
   "metadata": {
    "application/vnd.databricks.v1+cell": {
     "cellMetadata": {
      "byteLimit": 2048000,
      "rowLimit": 10000
     },
     "inputWidgets": {},
     "nuid": "0156ec83-92b3-41f7-b3fd-2150ec9b7026",
     "showTitle": false,
     "tableResultSettingsMap": {},
     "title": ""
    }
   },
   "source": [
    "### 3. Community"
   ]
  },
  {
   "cell_type": "code",
   "execution_count": 0,
   "metadata": {
    "application/vnd.databricks.v1+cell": {
     "cellMetadata": {
      "byteLimit": 2048000,
      "rowLimit": 10000
     },
     "inputWidgets": {},
     "nuid": "125c1029-df7e-46bb-ba26-01022c6be24e",
     "showTitle": false,
     "tableResultSettingsMap": {},
     "title": ""
    }
   },
   "outputs": [
    {
     "data": {
      "text/plain": [
       "\u001b[0;31m---------------------------------------------------------------------------\u001b[0m\n",
       "\u001b[0;31mModuleNotFoundError\u001b[0m                       Traceback (most recent call last)\n",
       "File \u001b[0;32m<command-4884005352694818>, line 21\u001b[0m\n",
       "\u001b[1;32m     18\u001b[0m \u001b[38;5;28;01mfrom\u001b[39;00m \u001b[38;5;21;01mtyping\u001b[39;00m \u001b[38;5;28;01mimport\u001b[39;00m Any, Optional, Union, Iterable, Sequence, List, Dict\n",
       "\u001b[1;32m     19\u001b[0m \u001b[38;5;28;01mfrom\u001b[39;00m \u001b[38;5;21;01murllib\u001b[39;00m\u001b[38;5;21;01m.\u001b[39;00m\u001b[38;5;21;01mparse\u001b[39;00m \u001b[38;5;28;01mimport\u001b[39;00m urlparse\n",
       "\u001b[0;32m---> 21\u001b[0m \u001b[38;5;28;01mimport\u001b[39;00m \u001b[38;5;21;01maiohttp\u001b[39;00m\n",
       "\u001b[1;32m     22\u001b[0m \u001b[38;5;28;01mfrom\u001b[39;00m \u001b[38;5;21;01maiolimiter\u001b[39;00m \u001b[38;5;28;01mimport\u001b[39;00m AsyncLimiter\n",
       "\u001b[1;32m     23\u001b[0m \u001b[38;5;28;01mfrom\u001b[39;00m \u001b[38;5;21;01mbs4\u001b[39;00m \u001b[38;5;28;01mimport\u001b[39;00m BeautifulSoup\n",
       "\n",
       "\u001b[0;31mModuleNotFoundError\u001b[0m: No module named 'aiohttp'"
      ]
     },
     "metadata": {
      "application/vnd.databricks.v1+output": {
       "addedWidgets": {},
       "arguments": {},
       "datasetInfos": [],
       "jupyterProps": {
        "ename": "ModuleNotFoundError",
        "evalue": "No module named 'aiohttp'"
       },
       "metadata": {
        "errorSummary": "Command skipped"
       },
       "removedWidgets": [],
       "sqlProps": null,
       "stackFrames": [
        "\u001b[0;31m---------------------------------------------------------------------------\u001b[0m",
        "\u001b[0;31mModuleNotFoundError\u001b[0m                       Traceback (most recent call last)",
        "File \u001b[0;32m<command-4884005352694818>, line 21\u001b[0m\n\u001b[1;32m     18\u001b[0m \u001b[38;5;28;01mfrom\u001b[39;00m \u001b[38;5;21;01mtyping\u001b[39;00m \u001b[38;5;28;01mimport\u001b[39;00m Any, Optional, Union, Iterable, Sequence, List, Dict\n\u001b[1;32m     19\u001b[0m \u001b[38;5;28;01mfrom\u001b[39;00m \u001b[38;5;21;01murllib\u001b[39;00m\u001b[38;5;21;01m.\u001b[39;00m\u001b[38;5;21;01mparse\u001b[39;00m \u001b[38;5;28;01mimport\u001b[39;00m urlparse\n\u001b[0;32m---> 21\u001b[0m \u001b[38;5;28;01mimport\u001b[39;00m \u001b[38;5;21;01maiohttp\u001b[39;00m\n\u001b[1;32m     22\u001b[0m \u001b[38;5;28;01mfrom\u001b[39;00m \u001b[38;5;21;01maiolimiter\u001b[39;00m \u001b[38;5;28;01mimport\u001b[39;00m AsyncLimiter\n\u001b[1;32m     23\u001b[0m \u001b[38;5;28;01mfrom\u001b[39;00m \u001b[38;5;21;01mbs4\u001b[39;00m \u001b[38;5;28;01mimport\u001b[39;00m BeautifulSoup\n",
        "\u001b[0;31mModuleNotFoundError\u001b[0m: No module named 'aiohttp'"
       ],
       "type": "baseError"
      }
     },
     "output_type": "display_data"
    }
   ],
   "source": [
    "COMMU_SCHEMA: dict[str, dict[str, str | int | float | None]] = {\n",
    "    \"model_id\":                     {\"dtype\": \"string\",  \"default\": \"\"},      # NOT NULL\n",
    "    \"num\":                          {\"dtype\": \"Int64\",   \"default\": 0},       # NOT NULL (PK*)\n",
    "    \"title\":                        {\"dtype\": \"string\",  \"default\": None},\n",
    "    \"status\":                       {\"dtype\": \"string\",  \"default\": None},\n",
    "    \"createdAt\":                    {\"dtype\": \"string\",  \"default\": None},    # ISO8601 권장\n",
    "    \"isPullRequest\":                {\"dtype\": \"boolean\", \"default\": None},\n",
    "    \"numComments\":                  {\"dtype\": \"Int64\",   \"default\": None},\n",
    "    \"topReactions\":                 {\"dtype\": \"string\",  \"default\": None},    # JSON 문자열\n",
    "    \"numReactionUsers\":             {\"dtype\": \"Int64\",   \"default\": None},\n",
    "    \"pinned\":                       {\"dtype\": \"boolean\", \"default\": None},\n",
    "    \"author__id\":                   {\"dtype\": \"string\",  \"default\": None},\n",
    "    \"author_avatarUrl\":             {\"dtype\": \"string\",  \"default\": None},\n",
    "    \"author_fullname\":              {\"dtype\": \"string\",  \"default\": None},\n",
    "    \"author_name\":                  {\"dtype\": \"string\",  \"default\": None},\n",
    "    \"author_type\":                  {\"dtype\": \"string\",  \"default\": None},\n",
    "    \"author_isPro\":                 {\"dtype\": \"boolean\", \"default\": False},   # NOT NULL\n",
    "    \"author_isHf\":                  {\"dtype\": \"boolean\", \"default\": False},   # NOT NULL\n",
    "    \"author_isHfAdmin\":             {\"dtype\": \"boolean\", \"default\": False},   # NOT NULL\n",
    "    \"author_isMod\":                 {\"dtype\": \"boolean\", \"default\": False},   # NOT NULL\n",
    "    \"repo_name\":                    {\"dtype\": \"string\",  \"default\": \"\"},      # NOT NULL (PK*)\n",
    "    \"repo_type\":                    {\"dtype\": \"string\",  \"default\": None},\n",
    "    \"repoOwner_name\":               {\"dtype\": \"string\",  \"default\": None},\n",
    "    \"repoOwner_isParticipating\":    {\"dtype\": \"boolean\", \"default\": None},\n",
    "    \"repoOwner_type\":               {\"dtype\": \"string\",  \"default\": None},\n",
    "    \"repoOwner_isDiscussionAuthor\": {\"dtype\": \"boolean\", \"default\": None},\n",
    "    \"author_followerCount\":         {\"dtype\": \"float\",   \"default\": None},\n",
    "}"
   ]
  },
  {
   "cell_type": "markdown",
   "metadata": {
    "application/vnd.databricks.v1+cell": {
     "cellMetadata": {
      "byteLimit": 2048000,
      "rowLimit": 10000
     },
     "inputWidgets": {},
     "nuid": "abb1ad78-b0e8-46f9-92c7-8b7bf78ee0b9",
     "showTitle": false,
     "tableResultSettingsMap": {},
     "title": ""
    }
   },
   "source": [
    "### 4. Functions"
   ]
  },
  {
   "cell_type": "code",
   "execution_count": 0,
   "metadata": {
    "application/vnd.databricks.v1+cell": {
     "cellMetadata": {
      "byteLimit": 2048000,
      "rowLimit": 10000
     },
     "inputWidgets": {},
     "nuid": "a62c451b-aaef-4782-9d20-412484bf62f9",
     "showTitle": false,
     "tableResultSettingsMap": {},
     "title": ""
    }
   },
   "outputs": [
    {
     "data": {
      "text/plain": [
       "\u001b[0;31m---------------------------------------------------------------------------\u001b[0m\n",
       "\u001b[0;31mModuleNotFoundError\u001b[0m                       Traceback (most recent call last)\n",
       "File \u001b[0;32m<command-4884005352694818>, line 21\u001b[0m\n",
       "\u001b[1;32m     18\u001b[0m \u001b[38;5;28;01mfrom\u001b[39;00m \u001b[38;5;21;01mtyping\u001b[39;00m \u001b[38;5;28;01mimport\u001b[39;00m Any, Optional, Union, Iterable, Sequence, List, Dict\n",
       "\u001b[1;32m     19\u001b[0m \u001b[38;5;28;01mfrom\u001b[39;00m \u001b[38;5;21;01murllib\u001b[39;00m\u001b[38;5;21;01m.\u001b[39;00m\u001b[38;5;21;01mparse\u001b[39;00m \u001b[38;5;28;01mimport\u001b[39;00m urlparse\n",
       "\u001b[0;32m---> 21\u001b[0m \u001b[38;5;28;01mimport\u001b[39;00m \u001b[38;5;21;01maiohttp\u001b[39;00m\n",
       "\u001b[1;32m     22\u001b[0m \u001b[38;5;28;01mfrom\u001b[39;00m \u001b[38;5;21;01maiolimiter\u001b[39;00m \u001b[38;5;28;01mimport\u001b[39;00m AsyncLimiter\n",
       "\u001b[1;32m     23\u001b[0m \u001b[38;5;28;01mfrom\u001b[39;00m \u001b[38;5;21;01mbs4\u001b[39;00m \u001b[38;5;28;01mimport\u001b[39;00m BeautifulSoup\n",
       "\n",
       "\u001b[0;31mModuleNotFoundError\u001b[0m: No module named 'aiohttp'"
      ]
     },
     "metadata": {
      "application/vnd.databricks.v1+output": {
       "addedWidgets": {},
       "arguments": {},
       "datasetInfos": [],
       "jupyterProps": {
        "ename": "ModuleNotFoundError",
        "evalue": "No module named 'aiohttp'"
       },
       "metadata": {
        "errorSummary": "Command skipped"
       },
       "removedWidgets": [],
       "sqlProps": null,
       "stackFrames": [
        "\u001b[0;31m---------------------------------------------------------------------------\u001b[0m",
        "\u001b[0;31mModuleNotFoundError\u001b[0m                       Traceback (most recent call last)",
        "File \u001b[0;32m<command-4884005352694818>, line 21\u001b[0m\n\u001b[1;32m     18\u001b[0m \u001b[38;5;28;01mfrom\u001b[39;00m \u001b[38;5;21;01mtyping\u001b[39;00m \u001b[38;5;28;01mimport\u001b[39;00m Any, Optional, Union, Iterable, Sequence, List, Dict\n\u001b[1;32m     19\u001b[0m \u001b[38;5;28;01mfrom\u001b[39;00m \u001b[38;5;21;01murllib\u001b[39;00m\u001b[38;5;21;01m.\u001b[39;00m\u001b[38;5;21;01mparse\u001b[39;00m \u001b[38;5;28;01mimport\u001b[39;00m urlparse\n\u001b[0;32m---> 21\u001b[0m \u001b[38;5;28;01mimport\u001b[39;00m \u001b[38;5;21;01maiohttp\u001b[39;00m\n\u001b[1;32m     22\u001b[0m \u001b[38;5;28;01mfrom\u001b[39;00m \u001b[38;5;21;01maiolimiter\u001b[39;00m \u001b[38;5;28;01mimport\u001b[39;00m AsyncLimiter\n\u001b[1;32m     23\u001b[0m \u001b[38;5;28;01mfrom\u001b[39;00m \u001b[38;5;21;01mbs4\u001b[39;00m \u001b[38;5;28;01mimport\u001b[39;00m BeautifulSoup\n",
        "\u001b[0;31mModuleNotFoundError\u001b[0m: No module named 'aiohttp'"
       ],
       "type": "baseError"
      }
     },
     "output_type": "display_data"
    }
   ],
   "source": [
    "# 안전 직렬화 헬퍼들\n",
    "def _is_scalar(x) -> bool:\n",
    "    return np.isscalar(x) or isinstance(x, (str, bytes)) or x is None\n",
    "\n",
    "\n",
    "def _to_json_string(x):\n",
    "    try:\n",
    "        return json.dumps(x, ensure_ascii=False)\n",
    "    except Exception:\n",
    "        return str(x)\n",
    "\n",
    "\n",
    "def _cast_series(s: pd.Series, dtype: str) -> pd.Series:\n",
    "    if dtype == \"string\":\n",
    "        return s.map(\n",
    "            lambda v: (\n",
    "                None if _is_scalar(v) and pd.isna(v)\n",
    "                else (_to_json_string(v) if not _is_scalar(v) else str(v))\n",
    "            )\n",
    "        ).astype(\"string\")\n",
    "\n",
    "    if dtype == \"boolean\":\n",
    "        return s.map(\n",
    "            lambda v: (\n",
    "                None if _is_scalar(v) and pd.isna(v)\n",
    "                else (bool(v) if _is_scalar(v) else None)\n",
    "            )\n",
    "        ).astype(\"boolean\")\n",
    "\n",
    "    if dtype == \"Int64\":\n",
    "        return s.map(lambda v: (v if _is_scalar(v) else None)).pipe(\n",
    "            pd.to_numeric, errors=\"coerce\"\n",
    "        ).astype(\"Int64\")\n",
    "\n",
    "    if dtype == \"float\":\n",
    "        return s.map(lambda v: (v if _is_scalar(v) else None)).pipe(\n",
    "            pd.to_numeric, errors=\"coerce\"\n",
    "        )\n",
    "\n",
    "    # object-like fallback\n",
    "    return s.map(\n",
    "        lambda v: (\n",
    "            None if _is_scalar(v) and pd.isna(v)\n",
    "            else (_to_json_string(v) if not _is_scalar(v) else v)\n",
    "        )\n",
    "    )\n",
    "\n",
    "def ensure_schema(df: pd.DataFrame, schema: dict[str, dict[str, str]]) -> pd.DataFrame:\n",
    "    # 누락 컬럼 채우고 순서 재정렬\n",
    "    for col, spec in schema.items():\n",
    "        if col not in df.columns:\n",
    "            df[col] = spec[\"default\"]\n",
    "    df = df.reindex(columns=list(schema.keys()))\n",
    "\n",
    "    # dtype 보정\n",
    "    for col, spec in schema.items():\n",
    "        dtype = spec[\"dtype\"]\n",
    "        try:\n",
    "            df[col] = _cast_series(df[col], dtype)\n",
    "        except Exception:\n",
    "            df[col] = df[col].map(\n",
    "                lambda v: None if _is_scalar(v) and pd.isna(v)\n",
    "                else (_to_json_string(v) if not _is_scalar(v) else str(v))\n",
    "            ).astype(\"string\")\n",
    "    return df"
   ]
  },
  {
   "cell_type": "markdown",
   "metadata": {
    "application/vnd.databricks.v1+cell": {
     "cellMetadata": {
      "byteLimit": 2048000,
      "rowLimit": 10000
     },
     "inputWidgets": {},
     "nuid": "545550f1-40c8-4008-abf3-96de74120f72",
     "showTitle": false,
     "tableResultSettingsMap": {},
     "title": ""
    }
   },
   "source": [
    "## 4-5. _load_progress"
   ]
  },
  {
   "cell_type": "code",
   "execution_count": 0,
   "metadata": {
    "application/vnd.databricks.v1+cell": {
     "cellMetadata": {
      "byteLimit": 2048000,
      "rowLimit": 10000
     },
     "inputWidgets": {},
     "nuid": "ccb3ccee-6c19-4648-a3ff-c74ea3bfbbc4",
     "showTitle": false,
     "tableResultSettingsMap": {},
     "title": ""
    }
   },
   "outputs": [
    {
     "data": {
      "text/plain": [
       "\u001b[0;31m---------------------------------------------------------------------------\u001b[0m\n",
       "\u001b[0;31mModuleNotFoundError\u001b[0m                       Traceback (most recent call last)\n",
       "File \u001b[0;32m<command-4884005352694818>, line 21\u001b[0m\n",
       "\u001b[1;32m     18\u001b[0m \u001b[38;5;28;01mfrom\u001b[39;00m \u001b[38;5;21;01mtyping\u001b[39;00m \u001b[38;5;28;01mimport\u001b[39;00m Any, Optional, Union, Iterable, Sequence, List, Dict\n",
       "\u001b[1;32m     19\u001b[0m \u001b[38;5;28;01mfrom\u001b[39;00m \u001b[38;5;21;01murllib\u001b[39;00m\u001b[38;5;21;01m.\u001b[39;00m\u001b[38;5;21;01mparse\u001b[39;00m \u001b[38;5;28;01mimport\u001b[39;00m urlparse\n",
       "\u001b[0;32m---> 21\u001b[0m \u001b[38;5;28;01mimport\u001b[39;00m \u001b[38;5;21;01maiohttp\u001b[39;00m\n",
       "\u001b[1;32m     22\u001b[0m \u001b[38;5;28;01mfrom\u001b[39;00m \u001b[38;5;21;01maiolimiter\u001b[39;00m \u001b[38;5;28;01mimport\u001b[39;00m AsyncLimiter\n",
       "\u001b[1;32m     23\u001b[0m \u001b[38;5;28;01mfrom\u001b[39;00m \u001b[38;5;21;01mbs4\u001b[39;00m \u001b[38;5;28;01mimport\u001b[39;00m BeautifulSoup\n",
       "\n",
       "\u001b[0;31mModuleNotFoundError\u001b[0m: No module named 'aiohttp'"
      ]
     },
     "metadata": {
      "application/vnd.databricks.v1+output": {
       "addedWidgets": {},
       "arguments": {},
       "datasetInfos": [],
       "jupyterProps": {
        "ename": "ModuleNotFoundError",
        "evalue": "No module named 'aiohttp'"
       },
       "metadata": {
        "errorSummary": "Command skipped"
       },
       "removedWidgets": [],
       "sqlProps": null,
       "stackFrames": [
        "\u001b[0;31m---------------------------------------------------------------------------\u001b[0m",
        "\u001b[0;31mModuleNotFoundError\u001b[0m                       Traceback (most recent call last)",
        "File \u001b[0;32m<command-4884005352694818>, line 21\u001b[0m\n\u001b[1;32m     18\u001b[0m \u001b[38;5;28;01mfrom\u001b[39;00m \u001b[38;5;21;01mtyping\u001b[39;00m \u001b[38;5;28;01mimport\u001b[39;00m Any, Optional, Union, Iterable, Sequence, List, Dict\n\u001b[1;32m     19\u001b[0m \u001b[38;5;28;01mfrom\u001b[39;00m \u001b[38;5;21;01murllib\u001b[39;00m\u001b[38;5;21;01m.\u001b[39;00m\u001b[38;5;21;01mparse\u001b[39;00m \u001b[38;5;28;01mimport\u001b[39;00m urlparse\n\u001b[0;32m---> 21\u001b[0m \u001b[38;5;28;01mimport\u001b[39;00m \u001b[38;5;21;01maiohttp\u001b[39;00m\n\u001b[1;32m     22\u001b[0m \u001b[38;5;28;01mfrom\u001b[39;00m \u001b[38;5;21;01maiolimiter\u001b[39;00m \u001b[38;5;28;01mimport\u001b[39;00m AsyncLimiter\n\u001b[1;32m     23\u001b[0m \u001b[38;5;28;01mfrom\u001b[39;00m \u001b[38;5;21;01mbs4\u001b[39;00m \u001b[38;5;28;01mimport\u001b[39;00m BeautifulSoup\n",
        "\u001b[0;31mModuleNotFoundError\u001b[0m: No module named 'aiohttp'"
       ],
       "type": "baseError"
      }
     },
     "output_type": "display_data"
    }
   ],
   "source": [
    "def _load_progress() -> set[str]:\n",
    "    if not os.path.exists(PROGRESS_PATH):\n",
    "        return set()\n",
    "    try:\n",
    "        with open(PROGRESS_PATH, \"r\", encoding=ENCODING_TYPE) as f:\n",
    "            data = json.load(f)\n",
    "            return set(data if isinstance(data, list) else [])\n",
    "    except Exception:\n",
    "        return set()"
   ]
  },
  {
   "cell_type": "markdown",
   "metadata": {
    "application/vnd.databricks.v1+cell": {
     "cellMetadata": {
      "byteLimit": 2048000,
      "rowLimit": 10000
     },
     "inputWidgets": {},
     "nuid": "adc5f289-d99e-45a7-a3bd-c0b4acf8f76f",
     "showTitle": false,
     "tableResultSettingsMap": {},
     "title": ""
    }
   },
   "source": [
    "## 4-6. _save_progress"
   ]
  },
  {
   "cell_type": "code",
   "execution_count": 0,
   "metadata": {
    "application/vnd.databricks.v1+cell": {
     "cellMetadata": {
      "byteLimit": 2048000,
      "rowLimit": 10000
     },
     "inputWidgets": {},
     "nuid": "9d2086d2-ec3b-4d4f-8ca4-dc6a8045c409",
     "showTitle": false,
     "tableResultSettingsMap": {},
     "title": ""
    }
   },
   "outputs": [
    {
     "data": {
      "text/plain": [
       "\u001b[0;31m---------------------------------------------------------------------------\u001b[0m\n",
       "\u001b[0;31mModuleNotFoundError\u001b[0m                       Traceback (most recent call last)\n",
       "File \u001b[0;32m<command-4884005352694818>, line 21\u001b[0m\n",
       "\u001b[1;32m     18\u001b[0m \u001b[38;5;28;01mfrom\u001b[39;00m \u001b[38;5;21;01mtyping\u001b[39;00m \u001b[38;5;28;01mimport\u001b[39;00m Any, Optional, Union, Iterable, Sequence, List, Dict\n",
       "\u001b[1;32m     19\u001b[0m \u001b[38;5;28;01mfrom\u001b[39;00m \u001b[38;5;21;01murllib\u001b[39;00m\u001b[38;5;21;01m.\u001b[39;00m\u001b[38;5;21;01mparse\u001b[39;00m \u001b[38;5;28;01mimport\u001b[39;00m urlparse\n",
       "\u001b[0;32m---> 21\u001b[0m \u001b[38;5;28;01mimport\u001b[39;00m \u001b[38;5;21;01maiohttp\u001b[39;00m\n",
       "\u001b[1;32m     22\u001b[0m \u001b[38;5;28;01mfrom\u001b[39;00m \u001b[38;5;21;01maiolimiter\u001b[39;00m \u001b[38;5;28;01mimport\u001b[39;00m AsyncLimiter\n",
       "\u001b[1;32m     23\u001b[0m \u001b[38;5;28;01mfrom\u001b[39;00m \u001b[38;5;21;01mbs4\u001b[39;00m \u001b[38;5;28;01mimport\u001b[39;00m BeautifulSoup\n",
       "\n",
       "\u001b[0;31mModuleNotFoundError\u001b[0m: No module named 'aiohttp'"
      ]
     },
     "metadata": {
      "application/vnd.databricks.v1+output": {
       "addedWidgets": {},
       "arguments": {},
       "datasetInfos": [],
       "jupyterProps": {
        "ename": "ModuleNotFoundError",
        "evalue": "No module named 'aiohttp'"
       },
       "metadata": {
        "errorSummary": "Command skipped"
       },
       "removedWidgets": [],
       "sqlProps": null,
       "stackFrames": [
        "\u001b[0;31m---------------------------------------------------------------------------\u001b[0m",
        "\u001b[0;31mModuleNotFoundError\u001b[0m                       Traceback (most recent call last)",
        "File \u001b[0;32m<command-4884005352694818>, line 21\u001b[0m\n\u001b[1;32m     18\u001b[0m \u001b[38;5;28;01mfrom\u001b[39;00m \u001b[38;5;21;01mtyping\u001b[39;00m \u001b[38;5;28;01mimport\u001b[39;00m Any, Optional, Union, Iterable, Sequence, List, Dict\n\u001b[1;32m     19\u001b[0m \u001b[38;5;28;01mfrom\u001b[39;00m \u001b[38;5;21;01murllib\u001b[39;00m\u001b[38;5;21;01m.\u001b[39;00m\u001b[38;5;21;01mparse\u001b[39;00m \u001b[38;5;28;01mimport\u001b[39;00m urlparse\n\u001b[0;32m---> 21\u001b[0m \u001b[38;5;28;01mimport\u001b[39;00m \u001b[38;5;21;01maiohttp\u001b[39;00m\n\u001b[1;32m     22\u001b[0m \u001b[38;5;28;01mfrom\u001b[39;00m \u001b[38;5;21;01maiolimiter\u001b[39;00m \u001b[38;5;28;01mimport\u001b[39;00m AsyncLimiter\n\u001b[1;32m     23\u001b[0m \u001b[38;5;28;01mfrom\u001b[39;00m \u001b[38;5;21;01mbs4\u001b[39;00m \u001b[38;5;28;01mimport\u001b[39;00m BeautifulSoup\n",
        "\u001b[0;31mModuleNotFoundError\u001b[0m: No module named 'aiohttp'"
       ],
       "type": "baseError"
      }
     },
     "output_type": "display_data"
    }
   ],
   "source": [
    "def _save_progress(done_ids: set[str]) -> None:\n",
    "    tmp = PROGRESS_PATH + \".tmp\"\n",
    "    with open(tmp, \"w\", encoding=ENCODING_TYPE) as f:\n",
    "        json.dump(sorted(list(done_ids)), f, ensure_ascii=False)\n",
    "    os.replace(tmp, PROGRESS_PATH)"
   ]
  },
  {
   "cell_type": "markdown",
   "metadata": {
    "application/vnd.databricks.v1+cell": {
     "cellMetadata": {
      "byteLimit": 2048000,
      "rowLimit": 10000
     },
     "inputWidgets": {},
     "nuid": "241ef168-5021-404e-9af0-923db9f190a2",
     "showTitle": false,
     "tableResultSettingsMap": {},
     "title": ""
    }
   },
   "source": [
    "## 4-7. _append_csv"
   ]
  },
  {
   "cell_type": "code",
   "execution_count": 0,
   "metadata": {
    "application/vnd.databricks.v1+cell": {
     "cellMetadata": {
      "byteLimit": 2048000,
      "rowLimit": 10000
     },
     "inputWidgets": {},
     "nuid": "dc3b827b-c562-44a0-b5fc-dbf4dae501e3",
     "showTitle": false,
     "tableResultSettingsMap": {},
     "title": ""
    }
   },
   "outputs": [
    {
     "data": {
      "text/plain": [
       "\u001b[0;31m---------------------------------------------------------------------------\u001b[0m\n",
       "\u001b[0;31mModuleNotFoundError\u001b[0m                       Traceback (most recent call last)\n",
       "File \u001b[0;32m<command-4884005352694818>, line 21\u001b[0m\n",
       "\u001b[1;32m     18\u001b[0m \u001b[38;5;28;01mfrom\u001b[39;00m \u001b[38;5;21;01mtyping\u001b[39;00m \u001b[38;5;28;01mimport\u001b[39;00m Any, Optional, Union, Iterable, Sequence, List, Dict\n",
       "\u001b[1;32m     19\u001b[0m \u001b[38;5;28;01mfrom\u001b[39;00m \u001b[38;5;21;01murllib\u001b[39;00m\u001b[38;5;21;01m.\u001b[39;00m\u001b[38;5;21;01mparse\u001b[39;00m \u001b[38;5;28;01mimport\u001b[39;00m urlparse\n",
       "\u001b[0;32m---> 21\u001b[0m \u001b[38;5;28;01mimport\u001b[39;00m \u001b[38;5;21;01maiohttp\u001b[39;00m\n",
       "\u001b[1;32m     22\u001b[0m \u001b[38;5;28;01mfrom\u001b[39;00m \u001b[38;5;21;01maiolimiter\u001b[39;00m \u001b[38;5;28;01mimport\u001b[39;00m AsyncLimiter\n",
       "\u001b[1;32m     23\u001b[0m \u001b[38;5;28;01mfrom\u001b[39;00m \u001b[38;5;21;01mbs4\u001b[39;00m \u001b[38;5;28;01mimport\u001b[39;00m BeautifulSoup\n",
       "\n",
       "\u001b[0;31mModuleNotFoundError\u001b[0m: No module named 'aiohttp'"
      ]
     },
     "metadata": {
      "application/vnd.databricks.v1+output": {
       "addedWidgets": {},
       "arguments": {},
       "datasetInfos": [],
       "jupyterProps": {
        "ename": "ModuleNotFoundError",
        "evalue": "No module named 'aiohttp'"
       },
       "metadata": {
        "errorSummary": "Command skipped"
       },
       "removedWidgets": [],
       "sqlProps": null,
       "stackFrames": [
        "\u001b[0;31m---------------------------------------------------------------------------\u001b[0m",
        "\u001b[0;31mModuleNotFoundError\u001b[0m                       Traceback (most recent call last)",
        "File \u001b[0;32m<command-4884005352694818>, line 21\u001b[0m\n\u001b[1;32m     18\u001b[0m \u001b[38;5;28;01mfrom\u001b[39;00m \u001b[38;5;21;01mtyping\u001b[39;00m \u001b[38;5;28;01mimport\u001b[39;00m Any, Optional, Union, Iterable, Sequence, List, Dict\n\u001b[1;32m     19\u001b[0m \u001b[38;5;28;01mfrom\u001b[39;00m \u001b[38;5;21;01murllib\u001b[39;00m\u001b[38;5;21;01m.\u001b[39;00m\u001b[38;5;21;01mparse\u001b[39;00m \u001b[38;5;28;01mimport\u001b[39;00m urlparse\n\u001b[0;32m---> 21\u001b[0m \u001b[38;5;28;01mimport\u001b[39;00m \u001b[38;5;21;01maiohttp\u001b[39;00m\n\u001b[1;32m     22\u001b[0m \u001b[38;5;28;01mfrom\u001b[39;00m \u001b[38;5;21;01maiolimiter\u001b[39;00m \u001b[38;5;28;01mimport\u001b[39;00m AsyncLimiter\n\u001b[1;32m     23\u001b[0m \u001b[38;5;28;01mfrom\u001b[39;00m \u001b[38;5;21;01mbs4\u001b[39;00m \u001b[38;5;28;01mimport\u001b[39;00m BeautifulSoup\n",
        "\u001b[0;31mModuleNotFoundError\u001b[0m: No module named 'aiohttp'"
       ],
       "type": "baseError"
      }
     },
     "output_type": "display_data"
    }
   ],
   "source": [
    "def _append_csv(df: pd.DataFrame, path: str, schema: dict, key_cols: Optional[list[str]] = None) -> None:\n",
    "    # 스키마 강제\n",
    "    df = ensure_schema(df, schema)\n",
    "\n",
    "    # 기존 파일 로드 후 동일 스키마 강제\n",
    "    if os.path.exists(path):\n",
    "        base = pd.read_csv(path, encoding=ENCODING_TYPE, dtype=\"string\", keep_default_na=True, na_values=[\"\", \"NA\", \"NaN\"])\n",
    "        base = ensure_schema(base, schema)\n",
    "        merged = pd.concat([base, df], ignore_index=True)\n",
    "        if key_cols:\n",
    "            merged = merged.drop_duplicates(key_cols, keep=\"first\").reset_index(drop=True)\n",
    "    else:\n",
    "        merged = df\n",
    "\n",
    "    # 안전 저장(원자적 교체)\n",
    "    # tmp_out = path + \".tmp\"\n",
    "    merged.to_csv(path, encoding=ENCODING_TYPE, index=False, sep=\",\", escapechar=\"\\\\\", lineterminator=\"\\n\")\n",
    "    # os.replace(tmp_out, path)"
   ]
  },
  {
   "cell_type": "markdown",
   "metadata": {
    "application/vnd.databricks.v1+cell": {
     "cellMetadata": {
      "byteLimit": 2048000,
      "rowLimit": 10000
     },
     "inputWidgets": {},
     "nuid": "b34be2bc-1695-4ce7-a15e-14d258f6d0a3",
     "showTitle": false,
     "tableResultSettingsMap": {},
     "title": ""
    }
   },
   "source": [
    "## 4-8. Other Async"
   ]
  },
  {
   "cell_type": "code",
   "execution_count": 0,
   "metadata": {
    "application/vnd.databricks.v1+cell": {
     "cellMetadata": {
      "byteLimit": 2048000,
      "rowLimit": 10000
     },
     "inputWidgets": {},
     "nuid": "82308197-a243-4844-a84e-baa86c6c8b1e",
     "showTitle": false,
     "tableResultSettingsMap": {},
     "title": ""
    }
   },
   "outputs": [
    {
     "data": {
      "text/plain": [
       "\u001b[0;31m---------------------------------------------------------------------------\u001b[0m\n",
       "\u001b[0;31mModuleNotFoundError\u001b[0m                       Traceback (most recent call last)\n",
       "File \u001b[0;32m<command-4884005352694818>, line 21\u001b[0m\n",
       "\u001b[1;32m     18\u001b[0m \u001b[38;5;28;01mfrom\u001b[39;00m \u001b[38;5;21;01mtyping\u001b[39;00m \u001b[38;5;28;01mimport\u001b[39;00m Any, Optional, Union, Iterable, Sequence, List, Dict\n",
       "\u001b[1;32m     19\u001b[0m \u001b[38;5;28;01mfrom\u001b[39;00m \u001b[38;5;21;01murllib\u001b[39;00m\u001b[38;5;21;01m.\u001b[39;00m\u001b[38;5;21;01mparse\u001b[39;00m \u001b[38;5;28;01mimport\u001b[39;00m urlparse\n",
       "\u001b[0;32m---> 21\u001b[0m \u001b[38;5;28;01mimport\u001b[39;00m \u001b[38;5;21;01maiohttp\u001b[39;00m\n",
       "\u001b[1;32m     22\u001b[0m \u001b[38;5;28;01mfrom\u001b[39;00m \u001b[38;5;21;01maiolimiter\u001b[39;00m \u001b[38;5;28;01mimport\u001b[39;00m AsyncLimiter\n",
       "\u001b[1;32m     23\u001b[0m \u001b[38;5;28;01mfrom\u001b[39;00m \u001b[38;5;21;01mbs4\u001b[39;00m \u001b[38;5;28;01mimport\u001b[39;00m BeautifulSoup\n",
       "\n",
       "\u001b[0;31mModuleNotFoundError\u001b[0m: No module named 'aiohttp'"
      ]
     },
     "metadata": {
      "application/vnd.databricks.v1+output": {
       "addedWidgets": {},
       "arguments": {},
       "datasetInfos": [],
       "jupyterProps": {
        "ename": "ModuleNotFoundError",
        "evalue": "No module named 'aiohttp'"
       },
       "metadata": {
        "errorSummary": "Command skipped"
       },
       "removedWidgets": [],
       "sqlProps": null,
       "stackFrames": [
        "\u001b[0;31m---------------------------------------------------------------------------\u001b[0m",
        "\u001b[0;31mModuleNotFoundError\u001b[0m                       Traceback (most recent call last)",
        "File \u001b[0;32m<command-4884005352694818>, line 21\u001b[0m\n\u001b[1;32m     18\u001b[0m \u001b[38;5;28;01mfrom\u001b[39;00m \u001b[38;5;21;01mtyping\u001b[39;00m \u001b[38;5;28;01mimport\u001b[39;00m Any, Optional, Union, Iterable, Sequence, List, Dict\n\u001b[1;32m     19\u001b[0m \u001b[38;5;28;01mfrom\u001b[39;00m \u001b[38;5;21;01murllib\u001b[39;00m\u001b[38;5;21;01m.\u001b[39;00m\u001b[38;5;21;01mparse\u001b[39;00m \u001b[38;5;28;01mimport\u001b[39;00m urlparse\n\u001b[0;32m---> 21\u001b[0m \u001b[38;5;28;01mimport\u001b[39;00m \u001b[38;5;21;01maiohttp\u001b[39;00m\n\u001b[1;32m     22\u001b[0m \u001b[38;5;28;01mfrom\u001b[39;00m \u001b[38;5;21;01maiolimiter\u001b[39;00m \u001b[38;5;28;01mimport\u001b[39;00m AsyncLimiter\n\u001b[1;32m     23\u001b[0m \u001b[38;5;28;01mfrom\u001b[39;00m \u001b[38;5;21;01mbs4\u001b[39;00m \u001b[38;5;28;01mimport\u001b[39;00m BeautifulSoup\n",
        "\u001b[0;31mModuleNotFoundError\u001b[0m: No module named 'aiohttp'"
       ],
       "type": "baseError"
      }
     },
     "output_type": "display_data"
    }
   ],
   "source": [
    "def _build_connector():\n",
    "    return aiohttp.TCPConnector(\n",
    "        limit=0,                # 실제 동시성은 세마포어/리미터가 관리\n",
    "        limit_per_host=0,\n",
    "        ttl_dns_cache=300,\n",
    "        enable_cleanup_closed=True,\n",
    "        ssl=False,              # 환경에 따라 True로 바꿔도 됨\n",
    "        force_close=False,\n",
    "        use_dns_cache=True,\n",
    "        keepalive_timeout=20,\n",
    "    )\n",
    "\n",
    "def _build_timeout(total_sec: float):\n",
    "    # total만 걸면 충분. 필요시 connect/read 조절 가능\n",
    "    return aiohttp.ClientTimeout(total=total_sec)\n",
    "\n",
    "class TransientHTTPError(Exception):\n",
    "    pass\n",
    "\n",
    "# 공통 재시도 래퍼 (HTTP 5xx/429/타임아웃/클라이언트 오류 일시성 가정)\n",
    "async def _retry(coro_factory, retries=3, base=0.4, max_sleep=5.0):\n",
    "    for attempt in range(retries + 1):\n",
    "        try:\n",
    "            return await coro_factory()\n",
    "        except Exception as e:\n",
    "            msg = str(e)\n",
    "            is_session_closed = \"Session is closed\" in msg\n",
    "            is_transient = isinstance(e, (aiohttp.ClientError, asyncio.TimeoutError)) \\\n",
    "                           or \"429\" in msg or \" 5\" in msg[:2] or \"Temporary\" in msg\n",
    "            if is_session_closed:\n",
    "                # 상위에서 다시 큐에 넣거나 스킵하도록 None 반환\n",
    "                raise RuntimeError(\"Session is closed\") from e\n",
    "            if attempt < retries and is_transient:\n",
    "                # 지수 백오프 + 지터\n",
    "                sleep = min(max_sleep, base * (2 ** attempt)) + random.random() * 0.2\n",
    "                await asyncio.sleep(sleep)\n",
    "                continue\n",
    "            raise\n",
    "\n",
    "# 리미터 앞에서 대기 -> 스파이크 없이 지속 RPS 유지\n",
    "async def _limited_call(limiter: AsyncLimiter, fn, *args, **kwargs):\n",
    "    async with limiter:\n",
    "        return await fn(*args, **kwargs)"
   ]
  },
  {
   "cell_type": "markdown",
   "metadata": {
    "application/vnd.databricks.v1+cell": {
     "cellMetadata": {
      "byteLimit": 2048000,
      "rowLimit": 10000
     },
     "inputWidgets": {},
     "nuid": "7ef91601-bd02-4af4-865e-cc53545c5c2d",
     "showTitle": false,
     "tableResultSettingsMap": {},
     "title": ""
    }
   },
   "source": [
    "# 5. Sync Functions"
   ]
  },
  {
   "cell_type": "markdown",
   "metadata": {
    "application/vnd.databricks.v1+cell": {
     "cellMetadata": {
      "byteLimit": 2048000,
      "rowLimit": 10000
     },
     "inputWidgets": {},
     "nuid": "067638ff-1a96-46c2-9a22-921d164d791a",
     "showTitle": false,
     "tableResultSettingsMap": {},
     "title": ""
    }
   },
   "source": [
    "## 5-1. Build Session"
   ]
  },
  {
   "cell_type": "code",
   "execution_count": 0,
   "metadata": {
    "application/vnd.databricks.v1+cell": {
     "cellMetadata": {
      "byteLimit": 2048000,
      "rowLimit": 10000
     },
     "inputWidgets": {},
     "nuid": "582ecea6-9d37-4b15-b3ed-59f266dd1136",
     "showTitle": false,
     "tableResultSettingsMap": {},
     "title": ""
    }
   },
   "outputs": [
    {
     "data": {
      "text/plain": [
       "\u001b[0;31m---------------------------------------------------------------------------\u001b[0m\n",
       "\u001b[0;31mModuleNotFoundError\u001b[0m                       Traceback (most recent call last)\n",
       "File \u001b[0;32m<command-4884005352694818>, line 21\u001b[0m\n",
       "\u001b[1;32m     18\u001b[0m \u001b[38;5;28;01mfrom\u001b[39;00m \u001b[38;5;21;01mtyping\u001b[39;00m \u001b[38;5;28;01mimport\u001b[39;00m Any, Optional, Union, Iterable, Sequence, List, Dict\n",
       "\u001b[1;32m     19\u001b[0m \u001b[38;5;28;01mfrom\u001b[39;00m \u001b[38;5;21;01murllib\u001b[39;00m\u001b[38;5;21;01m.\u001b[39;00m\u001b[38;5;21;01mparse\u001b[39;00m \u001b[38;5;28;01mimport\u001b[39;00m urlparse\n",
       "\u001b[0;32m---> 21\u001b[0m \u001b[38;5;28;01mimport\u001b[39;00m \u001b[38;5;21;01maiohttp\u001b[39;00m\n",
       "\u001b[1;32m     22\u001b[0m \u001b[38;5;28;01mfrom\u001b[39;00m \u001b[38;5;21;01maiolimiter\u001b[39;00m \u001b[38;5;28;01mimport\u001b[39;00m AsyncLimiter\n",
       "\u001b[1;32m     23\u001b[0m \u001b[38;5;28;01mfrom\u001b[39;00m \u001b[38;5;21;01mbs4\u001b[39;00m \u001b[38;5;28;01mimport\u001b[39;00m BeautifulSoup\n",
       "\n",
       "\u001b[0;31mModuleNotFoundError\u001b[0m: No module named 'aiohttp'"
      ]
     },
     "metadata": {
      "application/vnd.databricks.v1+output": {
       "addedWidgets": {},
       "arguments": {},
       "datasetInfos": [],
       "jupyterProps": {
        "ename": "ModuleNotFoundError",
        "evalue": "No module named 'aiohttp'"
       },
       "metadata": {
        "errorSummary": "Command skipped"
       },
       "removedWidgets": [],
       "sqlProps": null,
       "stackFrames": [
        "\u001b[0;31m---------------------------------------------------------------------------\u001b[0m",
        "\u001b[0;31mModuleNotFoundError\u001b[0m                       Traceback (most recent call last)",
        "File \u001b[0;32m<command-4884005352694818>, line 21\u001b[0m\n\u001b[1;32m     18\u001b[0m \u001b[38;5;28;01mfrom\u001b[39;00m \u001b[38;5;21;01mtyping\u001b[39;00m \u001b[38;5;28;01mimport\u001b[39;00m Any, Optional, Union, Iterable, Sequence, List, Dict\n\u001b[1;32m     19\u001b[0m \u001b[38;5;28;01mfrom\u001b[39;00m \u001b[38;5;21;01murllib\u001b[39;00m\u001b[38;5;21;01m.\u001b[39;00m\u001b[38;5;21;01mparse\u001b[39;00m \u001b[38;5;28;01mimport\u001b[39;00m urlparse\n\u001b[0;32m---> 21\u001b[0m \u001b[38;5;28;01mimport\u001b[39;00m \u001b[38;5;21;01maiohttp\u001b[39;00m\n\u001b[1;32m     22\u001b[0m \u001b[38;5;28;01mfrom\u001b[39;00m \u001b[38;5;21;01maiolimiter\u001b[39;00m \u001b[38;5;28;01mimport\u001b[39;00m AsyncLimiter\n\u001b[1;32m     23\u001b[0m \u001b[38;5;28;01mfrom\u001b[39;00m \u001b[38;5;21;01mbs4\u001b[39;00m \u001b[38;5;28;01mimport\u001b[39;00m BeautifulSoup\n",
        "\u001b[0;31mModuleNotFoundError\u001b[0m: No module named 'aiohttp'"
       ],
       "type": "baseError"
      }
     },
     "output_type": "display_data"
    }
   ],
   "source": [
    "def build_session() -> requests.Session:\n",
    "    session = requests.Session()\n",
    "    session.headers.update({\n",
    "        \"User-Agent\": \"hf-text-scraper/1.0 (+https://github.com/)\",\n",
    "        \"Accept\": \"application/json, text/plain, */*\",\n",
    "    })\n",
    "    if HF_READ_TOKEN:\n",
    "        session.headers.update({\"Authorization\": f\"Bearer {HF_READ_TOKEN}\"})\n",
    "    return session"
   ]
  },
  {
   "cell_type": "markdown",
   "metadata": {
    "application/vnd.databricks.v1+cell": {
     "cellMetadata": {
      "byteLimit": 2048000,
      "rowLimit": 10000
     },
     "inputWidgets": {},
     "nuid": "7d0b1aa1-56cc-4651-ac96-0e771326f316",
     "showTitle": false,
     "tableResultSettingsMap": {},
     "title": ""
    }
   },
   "source": [
    "## 5-2. Get Model Metadata"
   ]
  },
  {
   "cell_type": "code",
   "execution_count": 0,
   "metadata": {
    "application/vnd.databricks.v1+cell": {
     "cellMetadata": {
      "byteLimit": 2048000,
      "rowLimit": 10000
     },
     "inputWidgets": {},
     "nuid": "3c55123a-101a-403e-8833-c05eca7f13cd",
     "showTitle": false,
     "tableResultSettingsMap": {},
     "title": ""
    }
   },
   "outputs": [
    {
     "data": {
      "text/plain": [
       "\u001b[0;31m---------------------------------------------------------------------------\u001b[0m\n",
       "\u001b[0;31mModuleNotFoundError\u001b[0m                       Traceback (most recent call last)\n",
       "File \u001b[0;32m<command-4884005352694818>, line 21\u001b[0m\n",
       "\u001b[1;32m     18\u001b[0m \u001b[38;5;28;01mfrom\u001b[39;00m \u001b[38;5;21;01mtyping\u001b[39;00m \u001b[38;5;28;01mimport\u001b[39;00m Any, Optional, Union, Iterable, Sequence, List, Dict\n",
       "\u001b[1;32m     19\u001b[0m \u001b[38;5;28;01mfrom\u001b[39;00m \u001b[38;5;21;01murllib\u001b[39;00m\u001b[38;5;21;01m.\u001b[39;00m\u001b[38;5;21;01mparse\u001b[39;00m \u001b[38;5;28;01mimport\u001b[39;00m urlparse\n",
       "\u001b[0;32m---> 21\u001b[0m \u001b[38;5;28;01mimport\u001b[39;00m \u001b[38;5;21;01maiohttp\u001b[39;00m\n",
       "\u001b[1;32m     22\u001b[0m \u001b[38;5;28;01mfrom\u001b[39;00m \u001b[38;5;21;01maiolimiter\u001b[39;00m \u001b[38;5;28;01mimport\u001b[39;00m AsyncLimiter\n",
       "\u001b[1;32m     23\u001b[0m \u001b[38;5;28;01mfrom\u001b[39;00m \u001b[38;5;21;01mbs4\u001b[39;00m \u001b[38;5;28;01mimport\u001b[39;00m BeautifulSoup\n",
       "\n",
       "\u001b[0;31mModuleNotFoundError\u001b[0m: No module named 'aiohttp'"
      ]
     },
     "metadata": {
      "application/vnd.databricks.v1+output": {
       "addedWidgets": {},
       "arguments": {},
       "datasetInfos": [],
       "jupyterProps": {
        "ename": "ModuleNotFoundError",
        "evalue": "No module named 'aiohttp'"
       },
       "metadata": {
        "errorSummary": "Command skipped"
       },
       "removedWidgets": [],
       "sqlProps": null,
       "stackFrames": [
        "\u001b[0;31m---------------------------------------------------------------------------\u001b[0m",
        "\u001b[0;31mModuleNotFoundError\u001b[0m                       Traceback (most recent call last)",
        "File \u001b[0;32m<command-4884005352694818>, line 21\u001b[0m\n\u001b[1;32m     18\u001b[0m \u001b[38;5;28;01mfrom\u001b[39;00m \u001b[38;5;21;01mtyping\u001b[39;00m \u001b[38;5;28;01mimport\u001b[39;00m Any, Optional, Union, Iterable, Sequence, List, Dict\n\u001b[1;32m     19\u001b[0m \u001b[38;5;28;01mfrom\u001b[39;00m \u001b[38;5;21;01murllib\u001b[39;00m\u001b[38;5;21;01m.\u001b[39;00m\u001b[38;5;21;01mparse\u001b[39;00m \u001b[38;5;28;01mimport\u001b[39;00m urlparse\n\u001b[0;32m---> 21\u001b[0m \u001b[38;5;28;01mimport\u001b[39;00m \u001b[38;5;21;01maiohttp\u001b[39;00m\n\u001b[1;32m     22\u001b[0m \u001b[38;5;28;01mfrom\u001b[39;00m \u001b[38;5;21;01maiolimiter\u001b[39;00m \u001b[38;5;28;01mimport\u001b[39;00m AsyncLimiter\n\u001b[1;32m     23\u001b[0m \u001b[38;5;28;01mfrom\u001b[39;00m \u001b[38;5;21;01mbs4\u001b[39;00m \u001b[38;5;28;01mimport\u001b[39;00m BeautifulSoup\n",
        "\u001b[0;31mModuleNotFoundError\u001b[0m: No module named 'aiohttp'"
       ],
       "type": "baseError"
      }
     },
     "output_type": "display_data"
    }
   ],
   "source": [
    "def get_model_meta(session: requests.Session, repo_id: str) -> dict[str, Any]:\n",
    "    # Model Card\n",
    "    url = f\"{BASE}/api/models/{repo_id}\"\n",
    "    response = session.get(url, timeout=30)\n",
    "    response.raise_for_status()\n",
    "    return response.json()"
   ]
  },
  {
   "cell_type": "markdown",
   "metadata": {
    "application/vnd.databricks.v1+cell": {
     "cellMetadata": {
      "byteLimit": 2048000,
      "rowLimit": 10000
     },
     "inputWidgets": {},
     "nuid": "794a8f49-f914-46bf-839e-4c68ef483a86",
     "showTitle": false,
     "tableResultSettingsMap": {},
     "title": ""
    }
   },
   "source": [
    "## 5-3. Get README Markdown"
   ]
  },
  {
   "cell_type": "code",
   "execution_count": 0,
   "metadata": {
    "application/vnd.databricks.v1+cell": {
     "cellMetadata": {
      "byteLimit": 2048000,
      "rowLimit": 10000
     },
     "inputWidgets": {},
     "nuid": "fa852017-d75d-4822-a054-b2b9a8f1831b",
     "showTitle": false,
     "tableResultSettingsMap": {},
     "title": ""
    }
   },
   "outputs": [
    {
     "data": {
      "text/plain": [
       "\u001b[0;31m---------------------------------------------------------------------------\u001b[0m\n",
       "\u001b[0;31mModuleNotFoundError\u001b[0m                       Traceback (most recent call last)\n",
       "File \u001b[0;32m<command-4884005352694818>, line 21\u001b[0m\n",
       "\u001b[1;32m     18\u001b[0m \u001b[38;5;28;01mfrom\u001b[39;00m \u001b[38;5;21;01mtyping\u001b[39;00m \u001b[38;5;28;01mimport\u001b[39;00m Any, Optional, Union, Iterable, Sequence, List, Dict\n",
       "\u001b[1;32m     19\u001b[0m \u001b[38;5;28;01mfrom\u001b[39;00m \u001b[38;5;21;01murllib\u001b[39;00m\u001b[38;5;21;01m.\u001b[39;00m\u001b[38;5;21;01mparse\u001b[39;00m \u001b[38;5;28;01mimport\u001b[39;00m urlparse\n",
       "\u001b[0;32m---> 21\u001b[0m \u001b[38;5;28;01mimport\u001b[39;00m \u001b[38;5;21;01maiohttp\u001b[39;00m\n",
       "\u001b[1;32m     22\u001b[0m \u001b[38;5;28;01mfrom\u001b[39;00m \u001b[38;5;21;01maiolimiter\u001b[39;00m \u001b[38;5;28;01mimport\u001b[39;00m AsyncLimiter\n",
       "\u001b[1;32m     23\u001b[0m \u001b[38;5;28;01mfrom\u001b[39;00m \u001b[38;5;21;01mbs4\u001b[39;00m \u001b[38;5;28;01mimport\u001b[39;00m BeautifulSoup\n",
       "\n",
       "\u001b[0;31mModuleNotFoundError\u001b[0m: No module named 'aiohttp'"
      ]
     },
     "metadata": {
      "application/vnd.databricks.v1+output": {
       "addedWidgets": {},
       "arguments": {},
       "datasetInfos": [],
       "jupyterProps": {
        "ename": "ModuleNotFoundError",
        "evalue": "No module named 'aiohttp'"
       },
       "metadata": {
        "errorSummary": "Command skipped"
       },
       "removedWidgets": [],
       "sqlProps": null,
       "stackFrames": [
        "\u001b[0;31m---------------------------------------------------------------------------\u001b[0m",
        "\u001b[0;31mModuleNotFoundError\u001b[0m                       Traceback (most recent call last)",
        "File \u001b[0;32m<command-4884005352694818>, line 21\u001b[0m\n\u001b[1;32m     18\u001b[0m \u001b[38;5;28;01mfrom\u001b[39;00m \u001b[38;5;21;01mtyping\u001b[39;00m \u001b[38;5;28;01mimport\u001b[39;00m Any, Optional, Union, Iterable, Sequence, List, Dict\n\u001b[1;32m     19\u001b[0m \u001b[38;5;28;01mfrom\u001b[39;00m \u001b[38;5;21;01murllib\u001b[39;00m\u001b[38;5;21;01m.\u001b[39;00m\u001b[38;5;21;01mparse\u001b[39;00m \u001b[38;5;28;01mimport\u001b[39;00m urlparse\n\u001b[0;32m---> 21\u001b[0m \u001b[38;5;28;01mimport\u001b[39;00m \u001b[38;5;21;01maiohttp\u001b[39;00m\n\u001b[1;32m     22\u001b[0m \u001b[38;5;28;01mfrom\u001b[39;00m \u001b[38;5;21;01maiolimiter\u001b[39;00m \u001b[38;5;28;01mimport\u001b[39;00m AsyncLimiter\n\u001b[1;32m     23\u001b[0m \u001b[38;5;28;01mfrom\u001b[39;00m \u001b[38;5;21;01mbs4\u001b[39;00m \u001b[38;5;28;01mimport\u001b[39;00m BeautifulSoup\n",
        "\u001b[0;31mModuleNotFoundError\u001b[0m: No module named 'aiohttp'"
       ],
       "type": "baseError"
      }
     },
     "output_type": "display_data"
    }
   ],
   "source": [
    "def get_readme_markdown(session: requests.Session, repo_id: str, revision: str = \"main\") -> str:\n",
    "    # Files > README.md\n",
    "    url = f\"{BASE}/{repo_id}/resolve/{revision}/README.md\"\n",
    "    response = session.get(url, timeout=30)\n",
    "    if response.status_code == 200 and response.text:\n",
    "        return response.text\n",
    "    \n",
    "    # if fail\n",
    "    url = f\"{BASE}/api/models/{repo_id}/readme?revision={revision}\"\n",
    "    response = session.get(url, timeout=30)\n",
    "    if response.status_code == 200:\n",
    "        try:\n",
    "            json_ = response.json()\n",
    "            for key in (\"text\", \"content\", \"raw\", \"markdown\"):\n",
    "                if key in json_ and isinstance(json_[key], str):\n",
    "                    return json_[key]\n",
    "        except Exception:\n",
    "            pass\n",
    "    \n",
    "    return \"\""
   ]
  },
  {
   "cell_type": "markdown",
   "metadata": {
    "application/vnd.databricks.v1+cell": {
     "cellMetadata": {
      "byteLimit": 2048000,
      "rowLimit": 10000
     },
     "inputWidgets": {},
     "nuid": "4b782277-d704-4500-a3fa-068e4dfd25c0",
     "showTitle": false,
     "tableResultSettingsMap": {},
     "title": ""
    }
   },
   "source": [
    "## 5-4. Get Files Tree"
   ]
  },
  {
   "cell_type": "code",
   "execution_count": 0,
   "metadata": {
    "application/vnd.databricks.v1+cell": {
     "cellMetadata": {
      "byteLimit": 2048000,
      "rowLimit": 10000
     },
     "inputWidgets": {},
     "nuid": "38ee8e18-511a-4231-80c6-7e610faa1f74",
     "showTitle": false,
     "tableResultSettingsMap": {},
     "title": ""
    }
   },
   "outputs": [
    {
     "data": {
      "text/plain": [
       "\u001b[0;31m---------------------------------------------------------------------------\u001b[0m\n",
       "\u001b[0;31mModuleNotFoundError\u001b[0m                       Traceback (most recent call last)\n",
       "File \u001b[0;32m<command-4884005352694818>, line 21\u001b[0m\n",
       "\u001b[1;32m     18\u001b[0m \u001b[38;5;28;01mfrom\u001b[39;00m \u001b[38;5;21;01mtyping\u001b[39;00m \u001b[38;5;28;01mimport\u001b[39;00m Any, Optional, Union, Iterable, Sequence, List, Dict\n",
       "\u001b[1;32m     19\u001b[0m \u001b[38;5;28;01mfrom\u001b[39;00m \u001b[38;5;21;01murllib\u001b[39;00m\u001b[38;5;21;01m.\u001b[39;00m\u001b[38;5;21;01mparse\u001b[39;00m \u001b[38;5;28;01mimport\u001b[39;00m urlparse\n",
       "\u001b[0;32m---> 21\u001b[0m \u001b[38;5;28;01mimport\u001b[39;00m \u001b[38;5;21;01maiohttp\u001b[39;00m\n",
       "\u001b[1;32m     22\u001b[0m \u001b[38;5;28;01mfrom\u001b[39;00m \u001b[38;5;21;01maiolimiter\u001b[39;00m \u001b[38;5;28;01mimport\u001b[39;00m AsyncLimiter\n",
       "\u001b[1;32m     23\u001b[0m \u001b[38;5;28;01mfrom\u001b[39;00m \u001b[38;5;21;01mbs4\u001b[39;00m \u001b[38;5;28;01mimport\u001b[39;00m BeautifulSoup\n",
       "\n",
       "\u001b[0;31mModuleNotFoundError\u001b[0m: No module named 'aiohttp'"
      ]
     },
     "metadata": {
      "application/vnd.databricks.v1+output": {
       "addedWidgets": {},
       "arguments": {},
       "datasetInfos": [],
       "jupyterProps": {
        "ename": "ModuleNotFoundError",
        "evalue": "No module named 'aiohttp'"
       },
       "metadata": {
        "errorSummary": "Command skipped"
       },
       "removedWidgets": [],
       "sqlProps": null,
       "stackFrames": [
        "\u001b[0;31m---------------------------------------------------------------------------\u001b[0m",
        "\u001b[0;31mModuleNotFoundError\u001b[0m                       Traceback (most recent call last)",
        "File \u001b[0;32m<command-4884005352694818>, line 21\u001b[0m\n\u001b[1;32m     18\u001b[0m \u001b[38;5;28;01mfrom\u001b[39;00m \u001b[38;5;21;01mtyping\u001b[39;00m \u001b[38;5;28;01mimport\u001b[39;00m Any, Optional, Union, Iterable, Sequence, List, Dict\n\u001b[1;32m     19\u001b[0m \u001b[38;5;28;01mfrom\u001b[39;00m \u001b[38;5;21;01murllib\u001b[39;00m\u001b[38;5;21;01m.\u001b[39;00m\u001b[38;5;21;01mparse\u001b[39;00m \u001b[38;5;28;01mimport\u001b[39;00m urlparse\n\u001b[0;32m---> 21\u001b[0m \u001b[38;5;28;01mimport\u001b[39;00m \u001b[38;5;21;01maiohttp\u001b[39;00m\n\u001b[1;32m     22\u001b[0m \u001b[38;5;28;01mfrom\u001b[39;00m \u001b[38;5;21;01maiolimiter\u001b[39;00m \u001b[38;5;28;01mimport\u001b[39;00m AsyncLimiter\n\u001b[1;32m     23\u001b[0m \u001b[38;5;28;01mfrom\u001b[39;00m \u001b[38;5;21;01mbs4\u001b[39;00m \u001b[38;5;28;01mimport\u001b[39;00m BeautifulSoup\n",
        "\u001b[0;31mModuleNotFoundError\u001b[0m: No module named 'aiohttp'"
       ],
       "type": "baseError"
      }
     },
     "output_type": "display_data"
    }
   ],
   "source": [
    "def get_files_tree(\n",
    "    session: requests.Session,\n",
    "    repo_id: str,\n",
    "    revision: str = \"main\",\n",
    "    limit: int = 1000\n",
    ") -> list[dict[str, Any]]:\n",
    "    \"\"\"\n",
    "    커서 기반 페이지네이션으로 전체 파일 트리 수집하는 함수\n",
    "    각 item 예시\n",
    "    {\n",
    "        \"type\": \"blob\"|\"directory\"|\"lfs\",\n",
    "        \"oid\": \"...\",\n",
    "        \"size\": 12345,\n",
    "        \"path\": \"config.json\",\n",
    "        \"lfs\": {...}  # 있을 수 있음\n",
    "    }\n",
    "    \"\"\"\n",
    "    files_tree = []\n",
    "    cursor = None\n",
    "    while True:\n",
    "        # Files: endpoint 설정하기\n",
    "        url = f\"{BASE}/api/models/{repo_id}/tree/{revision}?limit={limit}\"\n",
    "        if cursor:\n",
    "            url += f\"&cursor={cursor}\"\n",
    "        \n",
    "        # 응답 코드 확인하기 및 데이터 가져오기\n",
    "        response = session.get(url, timeout=30)\n",
    "        response.raise_for_status()\n",
    "        json_ = response.json()\n",
    "        items = json_.get(\"tree\", []) if isinstance(json_, dict) else json_\n",
    "        files_tree.extend(items)\n",
    "        \n",
    "        # 다음 페이지네이션 탐색\n",
    "        cursor = (\n",
    "            (json_.get(\"cursor\") or json_.get(\"nextCursor\"))\n",
    "            if isinstance(json_, dict) else None\n",
    "        )\n",
    "        # 없다면 종료\n",
    "        if not cursor or not items:\n",
    "            break\n",
    "        time.sleep(0.2)\n",
    "\n",
    "    return files_tree"
   ]
  },
  {
   "cell_type": "markdown",
   "metadata": {
    "application/vnd.databricks.v1+cell": {
     "cellMetadata": {
      "byteLimit": 2048000,
      "rowLimit": 10000
     },
     "inputWidgets": {},
     "nuid": "ad524be4-2353-4d81-8ecd-14d337b20c47",
     "showTitle": false,
     "tableResultSettingsMap": {},
     "title": ""
    }
   },
   "source": [
    "## 5-5. Get Community"
   ]
  },
  {
   "cell_type": "code",
   "execution_count": 0,
   "metadata": {
    "application/vnd.databricks.v1+cell": {
     "cellMetadata": {
      "byteLimit": 2048000,
      "rowLimit": 10000
     },
     "inputWidgets": {},
     "nuid": "5984a111-0965-4c9a-81e4-8f25b2e29a75",
     "showTitle": false,
     "tableResultSettingsMap": {},
     "title": ""
    }
   },
   "outputs": [
    {
     "data": {
      "text/plain": [
       "\u001b[0;31m---------------------------------------------------------------------------\u001b[0m\n",
       "\u001b[0;31mModuleNotFoundError\u001b[0m                       Traceback (most recent call last)\n",
       "File \u001b[0;32m<command-4884005352694818>, line 21\u001b[0m\n",
       "\u001b[1;32m     18\u001b[0m \u001b[38;5;28;01mfrom\u001b[39;00m \u001b[38;5;21;01mtyping\u001b[39;00m \u001b[38;5;28;01mimport\u001b[39;00m Any, Optional, Union, Iterable, Sequence, List, Dict\n",
       "\u001b[1;32m     19\u001b[0m \u001b[38;5;28;01mfrom\u001b[39;00m \u001b[38;5;21;01murllib\u001b[39;00m\u001b[38;5;21;01m.\u001b[39;00m\u001b[38;5;21;01mparse\u001b[39;00m \u001b[38;5;28;01mimport\u001b[39;00m urlparse\n",
       "\u001b[0;32m---> 21\u001b[0m \u001b[38;5;28;01mimport\u001b[39;00m \u001b[38;5;21;01maiohttp\u001b[39;00m\n",
       "\u001b[1;32m     22\u001b[0m \u001b[38;5;28;01mfrom\u001b[39;00m \u001b[38;5;21;01maiolimiter\u001b[39;00m \u001b[38;5;28;01mimport\u001b[39;00m AsyncLimiter\n",
       "\u001b[1;32m     23\u001b[0m \u001b[38;5;28;01mfrom\u001b[39;00m \u001b[38;5;21;01mbs4\u001b[39;00m \u001b[38;5;28;01mimport\u001b[39;00m BeautifulSoup\n",
       "\n",
       "\u001b[0;31mModuleNotFoundError\u001b[0m: No module named 'aiohttp'"
      ]
     },
     "metadata": {
      "application/vnd.databricks.v1+output": {
       "addedWidgets": {},
       "arguments": {},
       "datasetInfos": [],
       "jupyterProps": {
        "ename": "ModuleNotFoundError",
        "evalue": "No module named 'aiohttp'"
       },
       "metadata": {
        "errorSummary": "Command skipped"
       },
       "removedWidgets": [],
       "sqlProps": null,
       "stackFrames": [
        "\u001b[0;31m---------------------------------------------------------------------------\u001b[0m",
        "\u001b[0;31mModuleNotFoundError\u001b[0m                       Traceback (most recent call last)",
        "File \u001b[0;32m<command-4884005352694818>, line 21\u001b[0m\n\u001b[1;32m     18\u001b[0m \u001b[38;5;28;01mfrom\u001b[39;00m \u001b[38;5;21;01mtyping\u001b[39;00m \u001b[38;5;28;01mimport\u001b[39;00m Any, Optional, Union, Iterable, Sequence, List, Dict\n\u001b[1;32m     19\u001b[0m \u001b[38;5;28;01mfrom\u001b[39;00m \u001b[38;5;21;01murllib\u001b[39;00m\u001b[38;5;21;01m.\u001b[39;00m\u001b[38;5;21;01mparse\u001b[39;00m \u001b[38;5;28;01mimport\u001b[39;00m urlparse\n\u001b[0;32m---> 21\u001b[0m \u001b[38;5;28;01mimport\u001b[39;00m \u001b[38;5;21;01maiohttp\u001b[39;00m\n\u001b[1;32m     22\u001b[0m \u001b[38;5;28;01mfrom\u001b[39;00m \u001b[38;5;21;01maiolimiter\u001b[39;00m \u001b[38;5;28;01mimport\u001b[39;00m AsyncLimiter\n\u001b[1;32m     23\u001b[0m \u001b[38;5;28;01mfrom\u001b[39;00m \u001b[38;5;21;01mbs4\u001b[39;00m \u001b[38;5;28;01mimport\u001b[39;00m BeautifulSoup\n",
        "\u001b[0;31mModuleNotFoundError\u001b[0m: No module named 'aiohttp'"
       ],
       "type": "baseError"
      }
     },
     "output_type": "display_data"
    }
   ],
   "source": [
    "def get_community(session: requests.Session, repo_id: str, limit: int = 100) -> list[dict[str, Any]]:\n",
    "    \"\"\"\n",
    "    커서 기반 페이지네이션으로 Community(Discussions) 목록을 모두 긁어오는 함수\n",
    "    가져오는 정보로는 제목, 작성자, 상태, 댓글 수 등\n",
    "    \"\"\"\n",
    "    all_discussions = []\n",
    "    cursor = None\n",
    "    while True:\n",
    "        try:\n",
    "            # Community: endpoint 설정하기\n",
    "            url = f\"{BASE}/api/models/{repo_id}/discussions?limit={limit}\"\n",
    "            if cursor:\n",
    "                url += f\"&cursor={cursor}\"\n",
    "            \n",
    "            # 응답 코드 확인하기\n",
    "            response = session.get(url, timeout=30)\n",
    "            if response.status_code == 404:\n",
    "                # discussions 기능이 비활성/없는 경우\n",
    "                break\n",
    "            \n",
    "            # 데이터 가져오기\n",
    "            response.raise_for_status()\n",
    "            json_ = response.json()\n",
    "            items = json_.get(\"discussions\") if isinstance(json_, dict) else json_\n",
    "            all_discussions.extend(items)\n",
    "            \n",
    "            # 다음 페이지네이션 탐색\n",
    "            cursor = (\n",
    "                json_.get(\"cursor\") or json_.get(\"nextCursor\")\n",
    "                if isinstance(json_, dict) else json_\n",
    "            )\n",
    "            # 없다면 종료\n",
    "            if not cursor or not items:\n",
    "                break\n",
    "            time.sleep(0.2)\n",
    "        \n",
    "        except Exception as e:\n",
    "            return e\n",
    "        \n",
    "    return all_discussions"
   ]
  },
  {
   "cell_type": "markdown",
   "metadata": {
    "application/vnd.databricks.v1+cell": {
     "cellMetadata": {
      "byteLimit": 2048000,
      "rowLimit": 10000
     },
     "inputWidgets": {},
     "nuid": "089ae06c-1288-4671-b024-3e921dc0a895",
     "showTitle": false,
     "tableResultSettingsMap": {},
     "title": ""
    }
   },
   "source": [
    "# 6. Async Functions"
   ]
  },
  {
   "cell_type": "markdown",
   "metadata": {
    "application/vnd.databricks.v1+cell": {
     "cellMetadata": {
      "byteLimit": 2048000,
      "rowLimit": 10000
     },
     "inputWidgets": {},
     "nuid": "a8632c72-e041-4701-9d32-fe1c577ec043",
     "showTitle": false,
     "tableResultSettingsMap": {},
     "title": ""
    }
   },
   "source": [
    "## 6-1. Async Class Setup"
   ]
  },
  {
   "cell_type": "code",
   "execution_count": 0,
   "metadata": {
    "application/vnd.databricks.v1+cell": {
     "cellMetadata": {
      "byteLimit": 2048000,
      "rowLimit": 10000
     },
     "inputWidgets": {},
     "nuid": "56591f90-5d91-4085-b70d-d53f208d9a08",
     "showTitle": false,
     "tableResultSettingsMap": {},
     "title": ""
    }
   },
   "outputs": [
    {
     "data": {
      "text/plain": [
       "\u001b[0;31m---------------------------------------------------------------------------\u001b[0m\n",
       "\u001b[0;31mModuleNotFoundError\u001b[0m                       Traceback (most recent call last)\n",
       "File \u001b[0;32m<command-4884005352694818>, line 21\u001b[0m\n",
       "\u001b[1;32m     18\u001b[0m \u001b[38;5;28;01mfrom\u001b[39;00m \u001b[38;5;21;01mtyping\u001b[39;00m \u001b[38;5;28;01mimport\u001b[39;00m Any, Optional, Union, Iterable, Sequence, List, Dict\n",
       "\u001b[1;32m     19\u001b[0m \u001b[38;5;28;01mfrom\u001b[39;00m \u001b[38;5;21;01murllib\u001b[39;00m\u001b[38;5;21;01m.\u001b[39;00m\u001b[38;5;21;01mparse\u001b[39;00m \u001b[38;5;28;01mimport\u001b[39;00m urlparse\n",
       "\u001b[0;32m---> 21\u001b[0m \u001b[38;5;28;01mimport\u001b[39;00m \u001b[38;5;21;01maiohttp\u001b[39;00m\n",
       "\u001b[1;32m     22\u001b[0m \u001b[38;5;28;01mfrom\u001b[39;00m \u001b[38;5;21;01maiolimiter\u001b[39;00m \u001b[38;5;28;01mimport\u001b[39;00m AsyncLimiter\n",
       "\u001b[1;32m     23\u001b[0m \u001b[38;5;28;01mfrom\u001b[39;00m \u001b[38;5;21;01mbs4\u001b[39;00m \u001b[38;5;28;01mimport\u001b[39;00m BeautifulSoup\n",
       "\n",
       "\u001b[0;31mModuleNotFoundError\u001b[0m: No module named 'aiohttp'"
      ]
     },
     "metadata": {
      "application/vnd.databricks.v1+output": {
       "addedWidgets": {},
       "arguments": {},
       "datasetInfos": [],
       "jupyterProps": {
        "ename": "ModuleNotFoundError",
        "evalue": "No module named 'aiohttp'"
       },
       "metadata": {
        "errorSummary": "Command skipped"
       },
       "removedWidgets": [],
       "sqlProps": null,
       "stackFrames": [
        "\u001b[0;31m---------------------------------------------------------------------------\u001b[0m",
        "\u001b[0;31mModuleNotFoundError\u001b[0m                       Traceback (most recent call last)",
        "File \u001b[0;32m<command-4884005352694818>, line 21\u001b[0m\n\u001b[1;32m     18\u001b[0m \u001b[38;5;28;01mfrom\u001b[39;00m \u001b[38;5;21;01mtyping\u001b[39;00m \u001b[38;5;28;01mimport\u001b[39;00m Any, Optional, Union, Iterable, Sequence, List, Dict\n\u001b[1;32m     19\u001b[0m \u001b[38;5;28;01mfrom\u001b[39;00m \u001b[38;5;21;01murllib\u001b[39;00m\u001b[38;5;21;01m.\u001b[39;00m\u001b[38;5;21;01mparse\u001b[39;00m \u001b[38;5;28;01mimport\u001b[39;00m urlparse\n\u001b[0;32m---> 21\u001b[0m \u001b[38;5;28;01mimport\u001b[39;00m \u001b[38;5;21;01maiohttp\u001b[39;00m\n\u001b[1;32m     22\u001b[0m \u001b[38;5;28;01mfrom\u001b[39;00m \u001b[38;5;21;01maiolimiter\u001b[39;00m \u001b[38;5;28;01mimport\u001b[39;00m AsyncLimiter\n\u001b[1;32m     23\u001b[0m \u001b[38;5;28;01mfrom\u001b[39;00m \u001b[38;5;21;01mbs4\u001b[39;00m \u001b[38;5;28;01mimport\u001b[39;00m BeautifulSoup\n",
        "\u001b[0;31mModuleNotFoundError\u001b[0m: No module named 'aiohttp'"
       ],
       "type": "baseError"
      }
     },
     "output_type": "display_data"
    }
   ],
   "source": [
    "@dataclass\n",
    "class AsyncHTTPConfig:\n",
    "    timeout_sec: int = 30\n",
    "    max_retries: int = 5\n",
    "    backoff_base: float = 0.5\n",
    "    jitter: float = 0.2"
   ]
  },
  {
   "cell_type": "markdown",
   "metadata": {
    "application/vnd.databricks.v1+cell": {
     "cellMetadata": {
      "byteLimit": 2048000,
      "rowLimit": 10000
     },
     "inputWidgets": {},
     "nuid": "de7f6550-535a-411b-a511-1ea8b948cfa5",
     "showTitle": false,
     "tableResultSettingsMap": {},
     "title": ""
    }
   },
   "source": [
    "## 6-2. (inner func) fetch_json"
   ]
  },
  {
   "cell_type": "code",
   "execution_count": 0,
   "metadata": {
    "application/vnd.databricks.v1+cell": {
     "cellMetadata": {
      "byteLimit": 2048000,
      "rowLimit": 10000
     },
     "inputWidgets": {},
     "nuid": "1f6d189a-39e1-4628-95cd-55d2965b1d13",
     "showTitle": false,
     "tableResultSettingsMap": {},
     "title": ""
    }
   },
   "outputs": [
    {
     "data": {
      "text/plain": [
       "\u001b[0;31m---------------------------------------------------------------------------\u001b[0m\n",
       "\u001b[0;31mModuleNotFoundError\u001b[0m                       Traceback (most recent call last)\n",
       "File \u001b[0;32m<command-4884005352694818>, line 21\u001b[0m\n",
       "\u001b[1;32m     18\u001b[0m \u001b[38;5;28;01mfrom\u001b[39;00m \u001b[38;5;21;01mtyping\u001b[39;00m \u001b[38;5;28;01mimport\u001b[39;00m Any, Optional, Union, Iterable, Sequence, List, Dict\n",
       "\u001b[1;32m     19\u001b[0m \u001b[38;5;28;01mfrom\u001b[39;00m \u001b[38;5;21;01murllib\u001b[39;00m\u001b[38;5;21;01m.\u001b[39;00m\u001b[38;5;21;01mparse\u001b[39;00m \u001b[38;5;28;01mimport\u001b[39;00m urlparse\n",
       "\u001b[0;32m---> 21\u001b[0m \u001b[38;5;28;01mimport\u001b[39;00m \u001b[38;5;21;01maiohttp\u001b[39;00m\n",
       "\u001b[1;32m     22\u001b[0m \u001b[38;5;28;01mfrom\u001b[39;00m \u001b[38;5;21;01maiolimiter\u001b[39;00m \u001b[38;5;28;01mimport\u001b[39;00m AsyncLimiter\n",
       "\u001b[1;32m     23\u001b[0m \u001b[38;5;28;01mfrom\u001b[39;00m \u001b[38;5;21;01mbs4\u001b[39;00m \u001b[38;5;28;01mimport\u001b[39;00m BeautifulSoup\n",
       "\n",
       "\u001b[0;31mModuleNotFoundError\u001b[0m: No module named 'aiohttp'"
      ]
     },
     "metadata": {
      "application/vnd.databricks.v1+output": {
       "addedWidgets": {},
       "arguments": {},
       "datasetInfos": [],
       "jupyterProps": {
        "ename": "ModuleNotFoundError",
        "evalue": "No module named 'aiohttp'"
       },
       "metadata": {
        "errorSummary": "Command skipped"
       },
       "removedWidgets": [],
       "sqlProps": null,
       "stackFrames": [
        "\u001b[0;31m---------------------------------------------------------------------------\u001b[0m",
        "\u001b[0;31mModuleNotFoundError\u001b[0m                       Traceback (most recent call last)",
        "File \u001b[0;32m<command-4884005352694818>, line 21\u001b[0m\n\u001b[1;32m     18\u001b[0m \u001b[38;5;28;01mfrom\u001b[39;00m \u001b[38;5;21;01mtyping\u001b[39;00m \u001b[38;5;28;01mimport\u001b[39;00m Any, Optional, Union, Iterable, Sequence, List, Dict\n\u001b[1;32m     19\u001b[0m \u001b[38;5;28;01mfrom\u001b[39;00m \u001b[38;5;21;01murllib\u001b[39;00m\u001b[38;5;21;01m.\u001b[39;00m\u001b[38;5;21;01mparse\u001b[39;00m \u001b[38;5;28;01mimport\u001b[39;00m urlparse\n\u001b[0;32m---> 21\u001b[0m \u001b[38;5;28;01mimport\u001b[39;00m \u001b[38;5;21;01maiohttp\u001b[39;00m\n\u001b[1;32m     22\u001b[0m \u001b[38;5;28;01mfrom\u001b[39;00m \u001b[38;5;21;01maiolimiter\u001b[39;00m \u001b[38;5;28;01mimport\u001b[39;00m AsyncLimiter\n\u001b[1;32m     23\u001b[0m \u001b[38;5;28;01mfrom\u001b[39;00m \u001b[38;5;21;01mbs4\u001b[39;00m \u001b[38;5;28;01mimport\u001b[39;00m BeautifulSoup\n",
        "\u001b[0;31mModuleNotFoundError\u001b[0m: No module named 'aiohttp'"
       ],
       "type": "baseError"
      }
     },
     "output_type": "display_data"
    }
   ],
   "source": [
    "async def _fetch_json(session: aiohttp.ClientSession, url: str, cfg: AsyncHTTPConfig) -> Any:\n",
    "    for attempt in range(cfg.max_retries):\n",
    "        try:\n",
    "            async with session.get(url, timeout=cfg.timeout_sec) as resp:\n",
    "                if resp.status in (200, 201):\n",
    "                    ctype = resp.headers.get(\"Content-Type\", \"\")\n",
    "                    if \"json\" in ctype:\n",
    "                        return await resp.json()\n",
    "                    \n",
    "                    # await resp.text()\n",
    "                    data = await resp.read()                    \n",
    "                    try:\n",
    "                        return data.decode(\"utf-8\")\n",
    "                    except UnicodeDecodeError:\n",
    "                        return None\n",
    "                \n",
    "                if resp.status in (404, 410):\n",
    "                    return None\n",
    "                if resp.status in (429, 500, 502, 503, 504):\n",
    "                    # retryable\n",
    "                    pass\n",
    "                else:\n",
    "                    # unexpected\n",
    "                    text = await resp.text()\n",
    "                    # raise RuntimeError(f\"HTTP {resp.status}: {text[:200]}\")\n",
    "                    return None\n",
    "        except Exception as e:\n",
    "            if attempt == cfg.max_retries - 1:\n",
    "                raise\n",
    "        \n",
    "        # backoff\n",
    "        await asyncio.sleep(cfg.backoff_base * (2 ** attempt) + random.random() * cfg.jitter)\n",
    "    return None"
   ]
  },
  {
   "cell_type": "markdown",
   "metadata": {
    "application/vnd.databricks.v1+cell": {
     "cellMetadata": {
      "byteLimit": 2048000,
      "rowLimit": 10000
     },
     "inputWidgets": {},
     "nuid": "bb6457f7-d1e9-4930-b3e1-8576008a66c6",
     "showTitle": false,
     "tableResultSettingsMap": {},
     "title": ""
    }
   },
   "source": [
    "## 6-3. (Async) Get Model Metadata"
   ]
  },
  {
   "cell_type": "code",
   "execution_count": 0,
   "metadata": {
    "application/vnd.databricks.v1+cell": {
     "cellMetadata": {
      "byteLimit": 2048000,
      "rowLimit": 10000
     },
     "inputWidgets": {},
     "nuid": "0c11ceb7-20f0-4ee3-bd79-a5b02c98cae2",
     "showTitle": false,
     "tableResultSettingsMap": {},
     "title": ""
    }
   },
   "outputs": [
    {
     "data": {
      "text/plain": [
       "\u001b[0;31m---------------------------------------------------------------------------\u001b[0m\n",
       "\u001b[0;31mModuleNotFoundError\u001b[0m                       Traceback (most recent call last)\n",
       "File \u001b[0;32m<command-4884005352694818>, line 21\u001b[0m\n",
       "\u001b[1;32m     18\u001b[0m \u001b[38;5;28;01mfrom\u001b[39;00m \u001b[38;5;21;01mtyping\u001b[39;00m \u001b[38;5;28;01mimport\u001b[39;00m Any, Optional, Union, Iterable, Sequence, List, Dict\n",
       "\u001b[1;32m     19\u001b[0m \u001b[38;5;28;01mfrom\u001b[39;00m \u001b[38;5;21;01murllib\u001b[39;00m\u001b[38;5;21;01m.\u001b[39;00m\u001b[38;5;21;01mparse\u001b[39;00m \u001b[38;5;28;01mimport\u001b[39;00m urlparse\n",
       "\u001b[0;32m---> 21\u001b[0m \u001b[38;5;28;01mimport\u001b[39;00m \u001b[38;5;21;01maiohttp\u001b[39;00m\n",
       "\u001b[1;32m     22\u001b[0m \u001b[38;5;28;01mfrom\u001b[39;00m \u001b[38;5;21;01maiolimiter\u001b[39;00m \u001b[38;5;28;01mimport\u001b[39;00m AsyncLimiter\n",
       "\u001b[1;32m     23\u001b[0m \u001b[38;5;28;01mfrom\u001b[39;00m \u001b[38;5;21;01mbs4\u001b[39;00m \u001b[38;5;28;01mimport\u001b[39;00m BeautifulSoup\n",
       "\n",
       "\u001b[0;31mModuleNotFoundError\u001b[0m: No module named 'aiohttp'"
      ]
     },
     "metadata": {
      "application/vnd.databricks.v1+output": {
       "addedWidgets": {},
       "arguments": {},
       "datasetInfos": [],
       "jupyterProps": {
        "ename": "ModuleNotFoundError",
        "evalue": "No module named 'aiohttp'"
       },
       "metadata": {
        "errorSummary": "Command skipped"
       },
       "removedWidgets": [],
       "sqlProps": null,
       "stackFrames": [
        "\u001b[0;31m---------------------------------------------------------------------------\u001b[0m",
        "\u001b[0;31mModuleNotFoundError\u001b[0m                       Traceback (most recent call last)",
        "File \u001b[0;32m<command-4884005352694818>, line 21\u001b[0m\n\u001b[1;32m     18\u001b[0m \u001b[38;5;28;01mfrom\u001b[39;00m \u001b[38;5;21;01mtyping\u001b[39;00m \u001b[38;5;28;01mimport\u001b[39;00m Any, Optional, Union, Iterable, Sequence, List, Dict\n\u001b[1;32m     19\u001b[0m \u001b[38;5;28;01mfrom\u001b[39;00m \u001b[38;5;21;01murllib\u001b[39;00m\u001b[38;5;21;01m.\u001b[39;00m\u001b[38;5;21;01mparse\u001b[39;00m \u001b[38;5;28;01mimport\u001b[39;00m urlparse\n\u001b[0;32m---> 21\u001b[0m \u001b[38;5;28;01mimport\u001b[39;00m \u001b[38;5;21;01maiohttp\u001b[39;00m\n\u001b[1;32m     22\u001b[0m \u001b[38;5;28;01mfrom\u001b[39;00m \u001b[38;5;21;01maiolimiter\u001b[39;00m \u001b[38;5;28;01mimport\u001b[39;00m AsyncLimiter\n\u001b[1;32m     23\u001b[0m \u001b[38;5;28;01mfrom\u001b[39;00m \u001b[38;5;21;01mbs4\u001b[39;00m \u001b[38;5;28;01mimport\u001b[39;00m BeautifulSoup\n",
        "\u001b[0;31mModuleNotFoundError\u001b[0m: No module named 'aiohttp'"
       ],
       "type": "baseError"
      }
     },
     "output_type": "display_data"
    }
   ],
   "source": [
    "async def get_model_meta_async(\n",
    "    session: aiohttp.ClientSession,\n",
    "    repo_id: str,\n",
    "    cfg: AsyncHTTPConfig\n",
    ") -> dict[str, Any]:\n",
    "    url = f\"{BASE}/api/models/{repo_id}\"\n",
    "    data = await _fetch_json(session, url, cfg)\n",
    "    return data if isinstance(data, dict) else None"
   ]
  },
  {
   "cell_type": "markdown",
   "metadata": {
    "application/vnd.databricks.v1+cell": {
     "cellMetadata": {
      "byteLimit": 2048000,
      "rowLimit": 10000
     },
     "inputWidgets": {},
     "nuid": "d87d81c2-f470-4996-a38d-60f0d31c86fe",
     "showTitle": false,
     "tableResultSettingsMap": {},
     "title": ""
    }
   },
   "source": [
    "## 6-4. (Async) Get README Markdown"
   ]
  },
  {
   "cell_type": "code",
   "execution_count": 0,
   "metadata": {
    "application/vnd.databricks.v1+cell": {
     "cellMetadata": {
      "byteLimit": 2048000,
      "rowLimit": 10000
     },
     "inputWidgets": {},
     "nuid": "c1bd9400-6c94-4bc1-9416-5f68ff135a96",
     "showTitle": false,
     "tableResultSettingsMap": {},
     "title": ""
    }
   },
   "outputs": [
    {
     "data": {
      "text/plain": [
       "\u001b[0;31m---------------------------------------------------------------------------\u001b[0m\n",
       "\u001b[0;31mModuleNotFoundError\u001b[0m                       Traceback (most recent call last)\n",
       "File \u001b[0;32m<command-4884005352694818>, line 21\u001b[0m\n",
       "\u001b[1;32m     18\u001b[0m \u001b[38;5;28;01mfrom\u001b[39;00m \u001b[38;5;21;01mtyping\u001b[39;00m \u001b[38;5;28;01mimport\u001b[39;00m Any, Optional, Union, Iterable, Sequence, List, Dict\n",
       "\u001b[1;32m     19\u001b[0m \u001b[38;5;28;01mfrom\u001b[39;00m \u001b[38;5;21;01murllib\u001b[39;00m\u001b[38;5;21;01m.\u001b[39;00m\u001b[38;5;21;01mparse\u001b[39;00m \u001b[38;5;28;01mimport\u001b[39;00m urlparse\n",
       "\u001b[0;32m---> 21\u001b[0m \u001b[38;5;28;01mimport\u001b[39;00m \u001b[38;5;21;01maiohttp\u001b[39;00m\n",
       "\u001b[1;32m     22\u001b[0m \u001b[38;5;28;01mfrom\u001b[39;00m \u001b[38;5;21;01maiolimiter\u001b[39;00m \u001b[38;5;28;01mimport\u001b[39;00m AsyncLimiter\n",
       "\u001b[1;32m     23\u001b[0m \u001b[38;5;28;01mfrom\u001b[39;00m \u001b[38;5;21;01mbs4\u001b[39;00m \u001b[38;5;28;01mimport\u001b[39;00m BeautifulSoup\n",
       "\n",
       "\u001b[0;31mModuleNotFoundError\u001b[0m: No module named 'aiohttp'"
      ]
     },
     "metadata": {
      "application/vnd.databricks.v1+output": {
       "addedWidgets": {},
       "arguments": {},
       "datasetInfos": [],
       "jupyterProps": {
        "ename": "ModuleNotFoundError",
        "evalue": "No module named 'aiohttp'"
       },
       "metadata": {
        "errorSummary": "Command skipped"
       },
       "removedWidgets": [],
       "sqlProps": null,
       "stackFrames": [
        "\u001b[0;31m---------------------------------------------------------------------------\u001b[0m",
        "\u001b[0;31mModuleNotFoundError\u001b[0m                       Traceback (most recent call last)",
        "File \u001b[0;32m<command-4884005352694818>, line 21\u001b[0m\n\u001b[1;32m     18\u001b[0m \u001b[38;5;28;01mfrom\u001b[39;00m \u001b[38;5;21;01mtyping\u001b[39;00m \u001b[38;5;28;01mimport\u001b[39;00m Any, Optional, Union, Iterable, Sequence, List, Dict\n\u001b[1;32m     19\u001b[0m \u001b[38;5;28;01mfrom\u001b[39;00m \u001b[38;5;21;01murllib\u001b[39;00m\u001b[38;5;21;01m.\u001b[39;00m\u001b[38;5;21;01mparse\u001b[39;00m \u001b[38;5;28;01mimport\u001b[39;00m urlparse\n\u001b[0;32m---> 21\u001b[0m \u001b[38;5;28;01mimport\u001b[39;00m \u001b[38;5;21;01maiohttp\u001b[39;00m\n\u001b[1;32m     22\u001b[0m \u001b[38;5;28;01mfrom\u001b[39;00m \u001b[38;5;21;01maiolimiter\u001b[39;00m \u001b[38;5;28;01mimport\u001b[39;00m AsyncLimiter\n\u001b[1;32m     23\u001b[0m \u001b[38;5;28;01mfrom\u001b[39;00m \u001b[38;5;21;01mbs4\u001b[39;00m \u001b[38;5;28;01mimport\u001b[39;00m BeautifulSoup\n",
        "\u001b[0;31mModuleNotFoundError\u001b[0m: No module named 'aiohttp'"
       ],
       "type": "baseError"
      }
     },
     "output_type": "display_data"
    }
   ],
   "source": [
    "async def get_readme_markdown_async(\n",
    "    session: aiohttp.ClientSession,\n",
    "    repo_id: str,\n",
    "    cfg: AsyncHTTPConfig,\n",
    "    revision: str = \"main\"\n",
    ") -> str:\n",
    "    url = f\"{BASE}/{repo_id}/resolve/{revision}/README.md\"\n",
    "    data = await _fetch_json(session, url, cfg)\n",
    "    if isinstance(data, str) and data:\n",
    "        return data\n",
    "    \n",
    "    # fallback\n",
    "    url = f\"{BASE}/api/models/{repo_id}/readme?revision={revision}\"\n",
    "    data = await _fetch_json(session, url, cfg)\n",
    "    if isinstance(data, dict):\n",
    "        for key in (\"text\", \"content\", \"raw\", \"markdown\"):\n",
    "            val = data.get(key)\n",
    "            if isinstance(val, str):\n",
    "                return val\n",
    "    return \"\""
   ]
  },
  {
   "cell_type": "markdown",
   "metadata": {
    "application/vnd.databricks.v1+cell": {
     "cellMetadata": {
      "byteLimit": 2048000,
      "rowLimit": 10000
     },
     "inputWidgets": {},
     "nuid": "71302b9c-c1dd-4a22-a48c-766f5d10a523",
     "showTitle": false,
     "tableResultSettingsMap": {},
     "title": ""
    }
   },
   "source": [
    "## 6-5. (Async) Get Files Tree"
   ]
  },
  {
   "cell_type": "code",
   "execution_count": 0,
   "metadata": {
    "application/vnd.databricks.v1+cell": {
     "cellMetadata": {
      "byteLimit": 2048000,
      "rowLimit": 10000
     },
     "inputWidgets": {},
     "nuid": "37353ea5-6d68-4c27-94c4-0fcbd2b08560",
     "showTitle": false,
     "tableResultSettingsMap": {},
     "title": ""
    }
   },
   "outputs": [
    {
     "data": {
      "text/plain": [
       "\u001b[0;31m---------------------------------------------------------------------------\u001b[0m\n",
       "\u001b[0;31mModuleNotFoundError\u001b[0m                       Traceback (most recent call last)\n",
       "File \u001b[0;32m<command-4884005352694818>, line 21\u001b[0m\n",
       "\u001b[1;32m     18\u001b[0m \u001b[38;5;28;01mfrom\u001b[39;00m \u001b[38;5;21;01mtyping\u001b[39;00m \u001b[38;5;28;01mimport\u001b[39;00m Any, Optional, Union, Iterable, Sequence, List, Dict\n",
       "\u001b[1;32m     19\u001b[0m \u001b[38;5;28;01mfrom\u001b[39;00m \u001b[38;5;21;01murllib\u001b[39;00m\u001b[38;5;21;01m.\u001b[39;00m\u001b[38;5;21;01mparse\u001b[39;00m \u001b[38;5;28;01mimport\u001b[39;00m urlparse\n",
       "\u001b[0;32m---> 21\u001b[0m \u001b[38;5;28;01mimport\u001b[39;00m \u001b[38;5;21;01maiohttp\u001b[39;00m\n",
       "\u001b[1;32m     22\u001b[0m \u001b[38;5;28;01mfrom\u001b[39;00m \u001b[38;5;21;01maiolimiter\u001b[39;00m \u001b[38;5;28;01mimport\u001b[39;00m AsyncLimiter\n",
       "\u001b[1;32m     23\u001b[0m \u001b[38;5;28;01mfrom\u001b[39;00m \u001b[38;5;21;01mbs4\u001b[39;00m \u001b[38;5;28;01mimport\u001b[39;00m BeautifulSoup\n",
       "\n",
       "\u001b[0;31mModuleNotFoundError\u001b[0m: No module named 'aiohttp'"
      ]
     },
     "metadata": {
      "application/vnd.databricks.v1+output": {
       "addedWidgets": {},
       "arguments": {},
       "datasetInfos": [],
       "jupyterProps": {
        "ename": "ModuleNotFoundError",
        "evalue": "No module named 'aiohttp'"
       },
       "metadata": {
        "errorSummary": "Command skipped"
       },
       "removedWidgets": [],
       "sqlProps": null,
       "stackFrames": [
        "\u001b[0;31m---------------------------------------------------------------------------\u001b[0m",
        "\u001b[0;31mModuleNotFoundError\u001b[0m                       Traceback (most recent call last)",
        "File \u001b[0;32m<command-4884005352694818>, line 21\u001b[0m\n\u001b[1;32m     18\u001b[0m \u001b[38;5;28;01mfrom\u001b[39;00m \u001b[38;5;21;01mtyping\u001b[39;00m \u001b[38;5;28;01mimport\u001b[39;00m Any, Optional, Union, Iterable, Sequence, List, Dict\n\u001b[1;32m     19\u001b[0m \u001b[38;5;28;01mfrom\u001b[39;00m \u001b[38;5;21;01murllib\u001b[39;00m\u001b[38;5;21;01m.\u001b[39;00m\u001b[38;5;21;01mparse\u001b[39;00m \u001b[38;5;28;01mimport\u001b[39;00m urlparse\n\u001b[0;32m---> 21\u001b[0m \u001b[38;5;28;01mimport\u001b[39;00m \u001b[38;5;21;01maiohttp\u001b[39;00m\n\u001b[1;32m     22\u001b[0m \u001b[38;5;28;01mfrom\u001b[39;00m \u001b[38;5;21;01maiolimiter\u001b[39;00m \u001b[38;5;28;01mimport\u001b[39;00m AsyncLimiter\n\u001b[1;32m     23\u001b[0m \u001b[38;5;28;01mfrom\u001b[39;00m \u001b[38;5;21;01mbs4\u001b[39;00m \u001b[38;5;28;01mimport\u001b[39;00m BeautifulSoup\n",
        "\u001b[0;31mModuleNotFoundError\u001b[0m: No module named 'aiohttp'"
       ],
       "type": "baseError"
      }
     },
     "output_type": "display_data"
    }
   ],
   "source": [
    "async def get_files_tree_async(\n",
    "    session: aiohttp.ClientSession,\n",
    "    repo_id: str,\n",
    "    cfg: AsyncHTTPConfig,\n",
    "    revision: str = \"main\",\n",
    "    limit: int = 1000\n",
    ") -> list[dict[str, Any]]:\n",
    "    files = []\n",
    "    cursor = None\n",
    "    while True:\n",
    "        url = f\"{BASE}/api/models/{repo_id}/tree/{revision}?limit={limit}\"\n",
    "        if cursor:\n",
    "            url += f\"&cursor={cursor}\"\n",
    "        \n",
    "        data = await _fetch_json(session, url, cfg)\n",
    "        if data is None:\n",
    "            break\n",
    "        \n",
    "        items = data.get(\"tree\", []) if isinstance(data, dict) else data\n",
    "        if not items:\n",
    "            break\n",
    "        \n",
    "        files.extend(items)\n",
    "        cursor = (\n",
    "            (data.get(\"cursor\") or data.get(\"nextCursor\"))\n",
    "            if isinstance(data, dict) else None\n",
    "        )\n",
    "        if not cursor:\n",
    "            break\n",
    "        await asyncio.sleep(0.05)\n",
    "    return files"
   ]
  },
  {
   "cell_type": "markdown",
   "metadata": {
    "application/vnd.databricks.v1+cell": {
     "cellMetadata": {
      "byteLimit": 2048000,
      "rowLimit": 10000
     },
     "inputWidgets": {},
     "nuid": "71cc860b-ec7f-4c2c-a437-18e182ded148",
     "showTitle": false,
     "tableResultSettingsMap": {},
     "title": ""
    }
   },
   "source": [
    "## 6-6. (Async) Get Community"
   ]
  },
  {
   "cell_type": "code",
   "execution_count": 0,
   "metadata": {
    "application/vnd.databricks.v1+cell": {
     "cellMetadata": {
      "byteLimit": 2048000,
      "rowLimit": 10000
     },
     "inputWidgets": {},
     "nuid": "80aaa7d5-2c99-45d3-8019-48e38549414b",
     "showTitle": false,
     "tableResultSettingsMap": {},
     "title": ""
    }
   },
   "outputs": [
    {
     "data": {
      "text/plain": [
       "\u001b[0;31m---------------------------------------------------------------------------\u001b[0m\n",
       "\u001b[0;31mModuleNotFoundError\u001b[0m                       Traceback (most recent call last)\n",
       "File \u001b[0;32m<command-4884005352694818>, line 21\u001b[0m\n",
       "\u001b[1;32m     18\u001b[0m \u001b[38;5;28;01mfrom\u001b[39;00m \u001b[38;5;21;01mtyping\u001b[39;00m \u001b[38;5;28;01mimport\u001b[39;00m Any, Optional, Union, Iterable, Sequence, List, Dict\n",
       "\u001b[1;32m     19\u001b[0m \u001b[38;5;28;01mfrom\u001b[39;00m \u001b[38;5;21;01murllib\u001b[39;00m\u001b[38;5;21;01m.\u001b[39;00m\u001b[38;5;21;01mparse\u001b[39;00m \u001b[38;5;28;01mimport\u001b[39;00m urlparse\n",
       "\u001b[0;32m---> 21\u001b[0m \u001b[38;5;28;01mimport\u001b[39;00m \u001b[38;5;21;01maiohttp\u001b[39;00m\n",
       "\u001b[1;32m     22\u001b[0m \u001b[38;5;28;01mfrom\u001b[39;00m \u001b[38;5;21;01maiolimiter\u001b[39;00m \u001b[38;5;28;01mimport\u001b[39;00m AsyncLimiter\n",
       "\u001b[1;32m     23\u001b[0m \u001b[38;5;28;01mfrom\u001b[39;00m \u001b[38;5;21;01mbs4\u001b[39;00m \u001b[38;5;28;01mimport\u001b[39;00m BeautifulSoup\n",
       "\n",
       "\u001b[0;31mModuleNotFoundError\u001b[0m: No module named 'aiohttp'"
      ]
     },
     "metadata": {
      "application/vnd.databricks.v1+output": {
       "addedWidgets": {},
       "arguments": {},
       "datasetInfos": [],
       "jupyterProps": {
        "ename": "ModuleNotFoundError",
        "evalue": "No module named 'aiohttp'"
       },
       "metadata": {
        "errorSummary": "Command skipped"
       },
       "removedWidgets": [],
       "sqlProps": null,
       "stackFrames": [
        "\u001b[0;31m---------------------------------------------------------------------------\u001b[0m",
        "\u001b[0;31mModuleNotFoundError\u001b[0m                       Traceback (most recent call last)",
        "File \u001b[0;32m<command-4884005352694818>, line 21\u001b[0m\n\u001b[1;32m     18\u001b[0m \u001b[38;5;28;01mfrom\u001b[39;00m \u001b[38;5;21;01mtyping\u001b[39;00m \u001b[38;5;28;01mimport\u001b[39;00m Any, Optional, Union, Iterable, Sequence, List, Dict\n\u001b[1;32m     19\u001b[0m \u001b[38;5;28;01mfrom\u001b[39;00m \u001b[38;5;21;01murllib\u001b[39;00m\u001b[38;5;21;01m.\u001b[39;00m\u001b[38;5;21;01mparse\u001b[39;00m \u001b[38;5;28;01mimport\u001b[39;00m urlparse\n\u001b[0;32m---> 21\u001b[0m \u001b[38;5;28;01mimport\u001b[39;00m \u001b[38;5;21;01maiohttp\u001b[39;00m\n\u001b[1;32m     22\u001b[0m \u001b[38;5;28;01mfrom\u001b[39;00m \u001b[38;5;21;01maiolimiter\u001b[39;00m \u001b[38;5;28;01mimport\u001b[39;00m AsyncLimiter\n\u001b[1;32m     23\u001b[0m \u001b[38;5;28;01mfrom\u001b[39;00m \u001b[38;5;21;01mbs4\u001b[39;00m \u001b[38;5;28;01mimport\u001b[39;00m BeautifulSoup\n",
        "\u001b[0;31mModuleNotFoundError\u001b[0m: No module named 'aiohttp'"
       ],
       "type": "baseError"
      }
     },
     "output_type": "display_data"
    }
   ],
   "source": [
    "async def get_community_async(\n",
    "    session: aiohttp.ClientSession,\n",
    "    repo_id: str,\n",
    "    cfg: AsyncHTTPConfig,\n",
    "    limit: int = 100\n",
    ") -> list[dict[str, Any]]:\n",
    "    results = []\n",
    "    cursor = None\n",
    "    while True:\n",
    "        url = f\"{BASE}/api/models/{repo_id}/discussions?limit={limit}\"\n",
    "        if cursor:\n",
    "            url += f\"&cursor={cursor}\"\n",
    "        \n",
    "        data = await _fetch_json(session, url, cfg)\n",
    "        if data is None:\n",
    "            break\n",
    "        \n",
    "        items = data.get(\"discussions\") if isinstance(data, dict) else data\n",
    "        if not items:\n",
    "            break\n",
    "        \n",
    "        results.extend(items)\n",
    "        cursor = (\n",
    "            data.get(\"cursor\") or data.get(\"nextCursor\")\n",
    "            if isinstance(data, dict) else data\n",
    "        )\n",
    "        if not cursor:\n",
    "            break\n",
    "        await asyncio.sleep(0.05)\n",
    "    return results\n"
   ]
  },
  {
   "cell_type": "markdown",
   "metadata": {
    "application/vnd.databricks.v1+cell": {
     "cellMetadata": {
      "byteLimit": 2048000,
      "rowLimit": 10000
     },
     "inputWidgets": {},
     "nuid": "c0d788d8-86be-46cd-8fc7-e902c7790c2b",
     "showTitle": false,
     "tableResultSettingsMap": {},
     "title": ""
    }
   },
   "source": [
    "# 7. Huggingface Class"
   ]
  },
  {
   "cell_type": "code",
   "execution_count": 0,
   "metadata": {
    "application/vnd.databricks.v1+cell": {
     "cellMetadata": {
      "byteLimit": 2048000,
      "rowLimit": 10000
     },
     "inputWidgets": {},
     "nuid": "aa76ad65-0542-4a40-a034-bf02f9036da5",
     "showTitle": false,
     "tableResultSettingsMap": {},
     "title": ""
    }
   },
   "outputs": [
    {
     "data": {
      "text/plain": [
       "\u001b[0;31m---------------------------------------------------------------------------\u001b[0m\n",
       "\u001b[0;31mModuleNotFoundError\u001b[0m                       Traceback (most recent call last)\n",
       "File \u001b[0;32m<command-4884005352694818>, line 21\u001b[0m\n",
       "\u001b[1;32m     18\u001b[0m \u001b[38;5;28;01mfrom\u001b[39;00m \u001b[38;5;21;01mtyping\u001b[39;00m \u001b[38;5;28;01mimport\u001b[39;00m Any, Optional, Union, Iterable, Sequence, List, Dict\n",
       "\u001b[1;32m     19\u001b[0m \u001b[38;5;28;01mfrom\u001b[39;00m \u001b[38;5;21;01murllib\u001b[39;00m\u001b[38;5;21;01m.\u001b[39;00m\u001b[38;5;21;01mparse\u001b[39;00m \u001b[38;5;28;01mimport\u001b[39;00m urlparse\n",
       "\u001b[0;32m---> 21\u001b[0m \u001b[38;5;28;01mimport\u001b[39;00m \u001b[38;5;21;01maiohttp\u001b[39;00m\n",
       "\u001b[1;32m     22\u001b[0m \u001b[38;5;28;01mfrom\u001b[39;00m \u001b[38;5;21;01maiolimiter\u001b[39;00m \u001b[38;5;28;01mimport\u001b[39;00m AsyncLimiter\n",
       "\u001b[1;32m     23\u001b[0m \u001b[38;5;28;01mfrom\u001b[39;00m \u001b[38;5;21;01mbs4\u001b[39;00m \u001b[38;5;28;01mimport\u001b[39;00m BeautifulSoup\n",
       "\n",
       "\u001b[0;31mModuleNotFoundError\u001b[0m: No module named 'aiohttp'"
      ]
     },
     "metadata": {
      "application/vnd.databricks.v1+output": {
       "addedWidgets": {},
       "arguments": {},
       "datasetInfos": [],
       "jupyterProps": {
        "ename": "ModuleNotFoundError",
        "evalue": "No module named 'aiohttp'"
       },
       "metadata": {
        "errorSummary": "Command skipped"
       },
       "removedWidgets": [],
       "sqlProps": null,
       "stackFrames": [
        "\u001b[0;31m---------------------------------------------------------------------------\u001b[0m",
        "\u001b[0;31mModuleNotFoundError\u001b[0m                       Traceback (most recent call last)",
        "File \u001b[0;32m<command-4884005352694818>, line 21\u001b[0m\n\u001b[1;32m     18\u001b[0m \u001b[38;5;28;01mfrom\u001b[39;00m \u001b[38;5;21;01mtyping\u001b[39;00m \u001b[38;5;28;01mimport\u001b[39;00m Any, Optional, Union, Iterable, Sequence, List, Dict\n\u001b[1;32m     19\u001b[0m \u001b[38;5;28;01mfrom\u001b[39;00m \u001b[38;5;21;01murllib\u001b[39;00m\u001b[38;5;21;01m.\u001b[39;00m\u001b[38;5;21;01mparse\u001b[39;00m \u001b[38;5;28;01mimport\u001b[39;00m urlparse\n\u001b[0;32m---> 21\u001b[0m \u001b[38;5;28;01mimport\u001b[39;00m \u001b[38;5;21;01maiohttp\u001b[39;00m\n\u001b[1;32m     22\u001b[0m \u001b[38;5;28;01mfrom\u001b[39;00m \u001b[38;5;21;01maiolimiter\u001b[39;00m \u001b[38;5;28;01mimport\u001b[39;00m AsyncLimiter\n\u001b[1;32m     23\u001b[0m \u001b[38;5;28;01mfrom\u001b[39;00m \u001b[38;5;21;01mbs4\u001b[39;00m \u001b[38;5;28;01mimport\u001b[39;00m BeautifulSoup\n",
        "\u001b[0;31mModuleNotFoundError\u001b[0m: No module named 'aiohttp'"
       ],
       "type": "baseError"
      }
     },
     "output_type": "display_data"
    }
   ],
   "source": [
    "class HuggingFace:\n",
    "    def __init__(self) -> None:\n",
    "        self.api = HfApi()\n",
    "        self.logger = logging.getLogger(self.__class__.__name__)\n",
    "        self.session = build_session()\n",
    "        self.base_url = \"https://huggingface.co/\"\n",
    "        self.api_schema = [\n",
    "            \"id\",                   # 모델 전체 ID, author/model_name의 형태\n",
    "            \"gguf\",                 # GGUF 포맷 변환 여부 (LLaMA 등 양자화 모델 관련 정보)\n",
    "            \"inference\",            # Inference API 지원 여부\n",
    "            \"mask_token\",           # BERT류 모델에서 [MASK] 토큰 같은 마스킹 토큰 값\n",
    "            \"widget_data\",          # 모델 위젯(사이트 우측 패널)에서 보여주는 예시 입출력\n",
    "            \"trending_score\",       # 인기도 점수(내부 점수라 모름)\n",
    "            \"security_repo_status\", # 보안 관련 검토 상태\n",
    "            # \"downloads_all_time\",   # 전체 기간 다운로드 횟수(제공 안 하는 경우 다수 존재)\n",
    "        ]\n",
    "        self.req_schema = [\n",
    "            \"_id\",                  # hex 코드로 들어오는 id값    \n",
    "            \"id\",                   # 모델 전체 ID, author/model_name의 형태\n",
    "            \"private\",              # 모델 비공개 여부\n",
    "            \"pipeline_tag\",         # 모델의 대표 태스크\n",
    "            \"library_name\",         # 모델이 주로 사용하는 라이브러리\n",
    "            \"tags\",                 # 모델에 붙은 태그 리스트\n",
    "            \"downloads\",            # 최근 1달 다운로드 횟수\n",
    "            \"likes\",                # 좋아요 수\n",
    "            \"modelId\",              # id와 동일\n",
    "            \"author\",               # 작성자, None이라면 id 앞부분이 author 역할\n",
    "            \"sha\",                  # 현재 repo의 commit SHA, 버전 식별자 역할\n",
    "            \"lastModified\",         # 마지막 수정 날짜\n",
    "            \"gated\",                # 접근 제한 모델 여부 (동의 절차 필요)\n",
    "            \"disabled\",             # 허깅페이스 정책 위반/이슈로 인해 비활성화 상태인지 여부\n",
    "            \"model-index\",          # 모델 평가 지표, 벤치마크 관련 데이터\n",
    "            \"config\",               # 모델 설정 파일(config.json)에서 읽은 파라미터들\n",
    "            \"cardData\",             # 모델 카드(README.md)에서 추출한 메타데이터(YAML 헤더)\n",
    "            \"transformersInfo\",     # Transformer 라이브러리 관련 정보(구성, 아키텍쳐 등)\n",
    "            # \"siblings\",             # 모델 저장소 파일 리스트(동일한 repo 안의 여러 파일들)\n",
    "            \"spaces\",               # 이 모델을 사용하는 허깅페이스 Hugging Face Spaces 정보\n",
    "            \"createdAt\",            # 모델 처음 생성 날짜\n",
    "            \"safetensors\",          # 모델 저장 포맷이 safetensors인지 여부\n",
    "            \"usedStorage\",          # 이거는 뭘까?            \n",
    "        ]\n",
    "        self.rename = {\n",
    "            \"_id\": \"hexid\",\n",
    "            \"model-index\": \"model_index\",\n",
    "            \"createdAt\": \"created_at\",\n",
    "            \"lastModified\": \"last_modified\",\n",
    "            \"cardData\": \"card_data\",\n",
    "            \"transformersInfo\": \"transformers_info\",\n",
    "            \"usedStorage\": \"used_storage\"\n",
    "        }\n",
    "        self.reorder = [\n",
    "            \"id\", \"hexid\", \"sha\", \"author\", \"private\", \"disabled\", \"gated\",\n",
    "            \"pipeline_tag\", \"library_name\", \"tags\", \"likes\", \"downloads\",\n",
    "            \"trending_score\", \"created_at\", \"last_modified\", \"config\", \"card_data\",\n",
    "            \"safetensors\", \"spaces\", \"transformers_info\", \"used_storage\", \"readme\",\n",
    "            \"model_index\", \"gguf\", \"inference\", \"mask_token\", \"widget_data\", \"security_repo_status\"\n",
    "        ]\n",
    "        self.cols = [\n",
    "            \"model_id\", \"type\", \"oid\", \"size\", \"path\",\n",
    "            \"lfs_oid\", \"lfs_size\", \"lfs_pointerSize\", \"xetHash\"\n",
    "        ]\n",
    "        \n",
    "    # -----------------\n",
    "    # ASYNC: aiohttp\n",
    "    # -----------------    \n",
    "    async def legacy_reset_csv_async(\n",
    "        self,\n",
    "        sort: str = \"createdAt\",\n",
    "        limit: Optional[int] = None,\n",
    "        concurrency: int = 32,\n",
    "        include_readme: bool = True,\n",
    "        include_files: bool = True,\n",
    "        include_community: bool = True,\n",
    "        batch_size: int = 1_000,\n",
    "        checkpoint_every_batches: int = 1\n",
    "    ) -> None:\n",
    "        if aiohttp is None:\n",
    "            raise RuntimeError(\"Async mode requires aiohttp. Install it first: pip install aiohttp\")\n",
    "\n",
    "        # 로깅 시작\n",
    "        self.logger.info(\"RESET_CSV(ASYNC) 시작\")\n",
    "\n",
    "        # 사전 처리 모델 확인 후 수집\n",
    "        done_ids = _load_progress()\n",
    "        models = self.api.list_models(sort=sort, limit=limit)\n",
    "        self.logger.info(\"API list_models 함수 호출 완료\")\n",
    "\n",
    "        # 비동기 처리 세마포어 및 설정 선언\n",
    "        sema = asyncio.Semaphore(concurrency)\n",
    "        headers = {\n",
    "            \"User-Agent\": \"hf-text-scraper/1.0 (+https://github.com/)\",\n",
    "            \"Accept\": \"application/json, text/plain, */*\",\n",
    "        }\n",
    "        if HF_READ_TOKEN:\n",
    "            headers[\"Authorization\"] = f\"Bearer {HF_READ_TOKEN}\"\n",
    "        cfg = AsyncHTTPConfig()\n",
    "\n",
    "        # 수집 버퍼 선언\n",
    "        meta_buf, files_buf, commu_buf = [], [], []\n",
    "\n",
    "        # 비동기 수집 함수\n",
    "        async def process(session, model):\n",
    "            repo_id = getattr(model, \"id\", None)\n",
    "            if not repo_id or repo_id in done_ids:\n",
    "                return None\n",
    "\n",
    "            async with sema:\n",
    "                base = {attr: getattr(model, attr) for attr in self.api_schema}\n",
    "                meta = {}\n",
    "                readme = {}\n",
    "                f_list = []\n",
    "                c_list = []\n",
    "\n",
    "                async def fetch_with_retry(coro_factory, retries=1):\n",
    "                    # Session is closed 등 1회 재시도\n",
    "                    for attempt in range(retries + 1):\n",
    "                        try:\n",
    "                            return await coro_factory()\n",
    "                        except Exception as e:\n",
    "                            if attempt < retries:\n",
    "                                # 세션 닫힘 등일 수 있으니 잠깐 쉼\n",
    "                                await asyncio.sleep(0.5)\n",
    "                                continue\n",
    "                            raise\n",
    "\n",
    "                try:\n",
    "                    if include_readme or include_files or include_community:\n",
    "                        meta_full = await fetch_with_retry(lambda: get_model_meta_async(session, repo_id, cfg))\n",
    "                        if isinstance(meta_full, dict):\n",
    "                            meta = {k: meta_full.get(k, None) for k in self.req_schema}\n",
    "                    if include_readme:\n",
    "                        readme_text = await fetch_with_retry(lambda: get_readme_markdown_async(session, repo_id, cfg))\n",
    "                        readme = {\"readme\": readme_text}\n",
    "                    if not readme:\n",
    "                        readme = {\"readme\": None}\n",
    "                    if include_files:\n",
    "                        tree = await fetch_with_retry(lambda: get_files_tree_async(session, repo_id, cfg))\n",
    "                        for ft in tree:\n",
    "                            f_list.append({\"model_id\": repo_id} | ft)\n",
    "                    if include_community:\n",
    "                        commus = await fetch_with_retry(lambda: get_community_async(session, repo_id, cfg))\n",
    "                        for c in commus:\n",
    "                            c_list.append({\"model_id\": repo_id} | c)\n",
    "\n",
    "                    merged = base | meta | readme\n",
    "                    return repo_id, merged, f_list, c_list\n",
    "\n",
    "                except Exception as e:\n",
    "                    self.logger.exception(f\"모델 {repo_id} 다음과 같은 에러 사유로 인해 스킵합니다. {e}\")\n",
    "                    return None\n",
    "\n",
    "        async with aiohttp.ClientSession(headers=headers) as session:\n",
    "            try:\n",
    "                for bi, batch in enumerate(tqdm(batched(models, batch_size))):\n",
    "                    filtered = [m for m in batch if getattr(m, \"id\", None) not in done_ids]\n",
    "                    if not filtered:\n",
    "                        continue\n",
    "\n",
    "                    tasks = {asyncio.create_task(process(session, m)) for m in filtered}\n",
    "\n",
    "                    for coro in tqdm(asyncio.as_completed(tasks), total=len(tasks)):\n",
    "                        res = await coro\n",
    "                        if res is None:\n",
    "                            continue\n",
    "                        repo_id, meta, f_list, c_list = res\n",
    "                        meta_buf.append({k: make_hashable(v) for k, v in meta.items()})\n",
    "                        files_buf.extend(f_list)\n",
    "                        commu_buf.extend(c_list)\n",
    "                        done_ids.add(repo_id)\n",
    "\n",
    "                    # 체크포인트 플러시\n",
    "                    if (bi + 1) % checkpoint_every_batches == 0:\n",
    "                        if meta_buf:\n",
    "                            meta_df = pd.DataFrame(meta_buf).rename(columns=self.rename)[self.reorder]\n",
    "                            _append_csv(meta_df, META_CSV, META_SCHEMA, key_cols=[\"id\"])\n",
    "                            meta_buf.clear()\n",
    "                        if files_buf:\n",
    "                            file_df = pd.json_normalize(files_buf, sep=\"_\").reindex(columns=self.cols)\n",
    "                            file_df = file_df[file_df[\"path\"].notna()]        # NOT NULL 보호\n",
    "                            _append_csv(file_df, FILES_CSV, FILES_SCHEMA, key_cols=[\"model_id\", \"path\"])\n",
    "                            files_buf.clear()\n",
    "                        if commu_buf:\n",
    "                            commu_df = pd.json_normalize(commu_buf, sep=\"_\")\n",
    "                            _append_csv(commu_df, COMMU_CSV, COMMU_SCHEMA, key_cols=[\"model_id\", \"num\"])\n",
    "                            commu_buf.clear()\n",
    "\n",
    "                        _save_progress(done_ids)\n",
    "\n",
    "            except Exception as e:\n",
    "                self.logger.exception(f\"배치 처리 중 예외 발생, 부분 저장 후 중단: {e}\")\n",
    "\n",
    "                if meta_buf:\n",
    "                    meta_df = pd.DataFrame(meta_buf).rename(columns=self.rename)[self.reorder]\n",
    "                    _append_csv(meta_df, META_CSV, META_SCHEMA, key_cols=[\"id\"])\n",
    "                if files_buf:\n",
    "                    file_df = pd.json_normalize(files_buf, sep=\"_\").reindex(columns=self.cols)\n",
    "                    file_df = file_df[file_df[\"path\"].notna()]\n",
    "                    _append_csv(file_df, FILES_CSV, FILES_SCHEMA, key_cols=[\"model_id\", \"path\"])\n",
    "                if commu_buf:\n",
    "                    commu_df = pd.json_normalize(commu_buf, sep=\"_\")\n",
    "                    _append_csv(commu_df, COMMU_CSV, COMMU_SCHEMA, key_cols=[\"model_id\", \"num\"])\n",
    "\n",
    "                _save_progress(done_ids)\n",
    "                raise\n",
    "\n",
    "        # 남은 버퍼 최종 플러시\n",
    "        if meta_buf:\n",
    "            meta_df = pd.DataFrame(meta_buf).rename(columns=self.rename)[self.reorder]\n",
    "            _append_csv(meta_df, META_CSV, META_SCHEMA, key_cols=[\"id\"])\n",
    "        if files_buf:\n",
    "            file_df = pd.json_normalize(files_buf, sep=\"_\").reindex(columns=self.cols)\n",
    "            file_df = file_df[file_df[\"path\"].notna()]\n",
    "            _append_csv(file_df, FILES_CSV, FILES_SCHEMA, key_cols=[\"model_id\", \"path\"])\n",
    "        if commu_buf:\n",
    "            commu_df = pd.json_normalize(commu_buf, sep=\"_\")\n",
    "            _append_csv(commu_df, COMMU_CSV, COMMU_SCHEMA, key_cols=[\"model_id\", \"num\"])\n",
    "\n",
    "        _save_progress(done_ids)\n",
    "        self.logger.info(\"RESET_CSV(ASYNC) 완료\")\n",
    "    \n",
    "    async def reset_csv_async(\n",
    "        self,\n",
    "        sort: str = \"createdAt\",\n",
    "        limit: Optional[int] = None,\n",
    "        concurrency: int = 256,              # 동시 태스크 상한(세마포어)\n",
    "        include_readme: bool = True,\n",
    "        include_files: bool = True,\n",
    "        include_community: bool = True,\n",
    "        batch_size: int = 4096,\n",
    "        checkpoint_every_batches: int = 1,\n",
    "        rps: int = 80,                        # 초당 요청수(시작값; 안전선에서 점진 상향 가능)\n",
    "        timeout_sec: float = 25.0,            # 전체 요청 타임아웃\n",
    "    ) -> None:\n",
    "        if aiohttp is None:\n",
    "            raise RuntimeError(\"Async mode requires aiohttp. Install it first: pip install aiohttp\")\n",
    "\n",
    "        self.logger.info(\"RESET_CSV(ASYNC) 시작\")\n",
    "\n",
    "        # 선행 수집된 ID\n",
    "        done_ids = _load_progress()\n",
    "\n",
    "        # 모델 목록 조회 (동기 HF SDK)\n",
    "        models = self.api.list_models(sort=sort, limit=limit)\n",
    "        self.logger.info(\"API list_models 함수 호출 완료\")\n",
    "\n",
    "        # 컨트롤 객체들\n",
    "        sema = asyncio.Semaphore(concurrency)\n",
    "        limiter = AsyncLimiter(rps, 1)   # 초당 rps개\n",
    "        headers = {\n",
    "            \"User-Agent\": \"hf-text-scraper/1.0 (+https://github.com/)\",\n",
    "            \"Accept\": \"application/json, text/plain, */*\",\n",
    "        }\n",
    "        if HF_READ_TOKEN:\n",
    "            headers[\"Authorization\"] = f\"Bearer {HF_READ_TOKEN}\"\n",
    "\n",
    "        cfg = AsyncHTTPConfig()\n",
    "        cfg.timeout_sec = timeout_sec  # 헬퍼에서 참조한다고 가정\n",
    "\n",
    "        # 버퍼\n",
    "        meta_buf, files_buf, commu_buf = [], [], []\n",
    "\n",
    "        # -----------------\n",
    "        # 각 모델 처리 함수\n",
    "        # -----------------\n",
    "        async def process(session, model):\n",
    "            repo_id = getattr(model, \"id\", None)\n",
    "            if not repo_id or repo_id in done_ids:\n",
    "                return None\n",
    "\n",
    "            async with sema:  # 동시성 상한\n",
    "                base = {attr: getattr(model, attr, None) for attr in self.api_schema}\n",
    "                meta = {}\n",
    "                readme = {}\n",
    "                f_list = []\n",
    "                c_list = []\n",
    "\n",
    "                async def _meta():\n",
    "                    return await get_model_meta_async(session, repo_id, cfg)\n",
    "\n",
    "                async def _readme():\n",
    "                    return await get_readme_markdown_async(session, repo_id, cfg)\n",
    "\n",
    "                async def _files():\n",
    "                    return await get_files_tree_async(session, repo_id, cfg)\n",
    "\n",
    "                async def _commu():\n",
    "                    return await get_community_async(session, repo_id, cfg)\n",
    "\n",
    "                try:\n",
    "                    if include_readme or include_files or include_community:\n",
    "                        meta_full = await _retry(\n",
    "                            lambda: _limited_call(limiter, _meta), retries=3\n",
    "                        )\n",
    "                        if isinstance(meta_full, dict):\n",
    "                            meta = {k: meta_full.get(k, None) for k in self.req_schema}\n",
    "\n",
    "                    if include_readme:\n",
    "                        readme_text = await _retry(\n",
    "                            lambda: _limited_call(limiter, _readme), retries=2\n",
    "                        )\n",
    "                        readme = {\"readme\": readme_text}\n",
    "\n",
    "                    if include_files:\n",
    "                        tree = await _retry(\n",
    "                            lambda: _limited_call(limiter, _files), retries=2\n",
    "                        )\n",
    "                        for ft in tree:\n",
    "                            f_list.append({\"model_id\": repo_id} | ft)\n",
    "\n",
    "                    if include_community:\n",
    "                        commus = await _retry(\n",
    "                            lambda: _limited_call(limiter, _commu), retries=2\n",
    "                        )\n",
    "                        for c in commus:\n",
    "                            c_list.append({\"model_id\": repo_id} | c)\n",
    "\n",
    "                    merged = base | meta | readme\n",
    "                    return repo_id, merged, f_list, c_list\n",
    "\n",
    "                except Exception as e:\n",
    "                    # 개별 모델 실패는 로깅만 하고 스킵 (세션 유지)\n",
    "                    self.logger.error(f\"모델 {repo_id} 수집 실패: {e}\")\n",
    "                    return None\n",
    "\n",
    "        # -----------------\n",
    "        # 세션 열고 전체 배치 실행\n",
    "        # -----------------\n",
    "        connector = _build_connector()\n",
    "        timeout = _build_timeout(timeout_sec)\n",
    "        async with aiohttp.ClientSession(headers=headers, timeout=timeout, connector=connector) as session:\n",
    "            try:\n",
    "                for bi, batch in enumerate(tqdm(batched(models, batch_size))):\n",
    "                    filtered = [m for m in batch if getattr(m, \"id\", None) not in done_ids]\n",
    "                    if not filtered:\n",
    "                        continue\n",
    "\n",
    "                    tasks = [asyncio.create_task(process(session, m)) for m in filtered]\n",
    "\n",
    "                    # 모든 태스크를 끝까지 기다림: 세션 조기 종료 방지\n",
    "                    results = await asyncio.gather(*tasks, return_exceptions=True)\n",
    "\n",
    "                    # 결과 반영\n",
    "                    for res in results:\n",
    "                        if isinstance(res, Exception) or res is None:\n",
    "                            continue\n",
    "                        repo_id, meta, f_list, c_list = res\n",
    "                        meta_buf.append({k: make_hashable(v) for k, v in meta.items()})\n",
    "                        if f_list: files_buf.extend(f_list)\n",
    "                        if c_list: commu_buf.extend(c_list)\n",
    "                        done_ids.add(repo_id)\n",
    "\n",
    "                    # 체크포인트 플러시(매 배치)\n",
    "                    if (bi + 1) % checkpoint_every_batches == 0:\n",
    "                        if meta_buf:\n",
    "                            meta_df = pd.DataFrame(meta_buf).rename(columns=self.rename)\n",
    "                            # 일부 키가 누락될 수 있어 reindex 보호\n",
    "                            meta_df = meta_df.reindex(columns=self.reorder, fill_value=None)\n",
    "                            _append_csv(meta_df, META_CSV, META_SCHEMA, key_cols=[\"id\"])\n",
    "                            meta_buf.clear()\n",
    "\n",
    "                        if files_buf:\n",
    "                            file_df = pd.json_normalize(files_buf, sep=\"_\").reindex(columns=self.cols)\n",
    "                            file_df = file_df[file_df[\"path\"].notna()]  # NOT NULL 보호\n",
    "                            if not file_df.empty:\n",
    "                                _append_csv(file_df, FILES_CSV, FILES_SCHEMA, key_cols=[\"model_id\", \"path\"])\n",
    "                            files_buf.clear()\n",
    "\n",
    "                        if commu_buf:\n",
    "                            commu_df = pd.json_normalize(commu_buf, sep=\"_\")\n",
    "                            if not commu_df.empty:\n",
    "                                _append_csv(commu_df, COMMU_CSV, COMMU_SCHEMA, key_cols=[\"model_id\", \"num\"])\n",
    "                            commu_buf.clear()\n",
    "\n",
    "                        _save_progress(done_ids)\n",
    "\n",
    "            except Exception as e:\n",
    "                # 배치 루프 도중 예외가 나도 세션을 닫기 전에 버퍼를 최대한 기록\n",
    "                self.logger.exception(f\"배치 처리 중 예외 발생, 부분 저장 후 계속: {e}\")\n",
    "\n",
    "                if meta_buf:\n",
    "                    meta_df = pd.DataFrame(meta_buf).rename(columns=self.rename)\n",
    "                    meta_df = meta_df.reindex(columns=self.reorder, fill_value=None)\n",
    "                    _append_csv(meta_df, META_CSV, META_SCHEMA, key_cols=[\"id\"])\n",
    "                    meta_buf.clear()\n",
    "\n",
    "                if files_buf:\n",
    "                    file_df = pd.json_normalize(files_buf, sep=\"_\").reindex(columns=self.cols)\n",
    "                    file_df = file_df[file_df[\"path\"].notna()]\n",
    "                    if not file_df.empty:\n",
    "                        _append_csv(file_df, FILES_CSV, FILES_SCHEMA, key_cols=[\"model_id\", \"path\"])\n",
    "                    files_buf.clear()\n",
    "\n",
    "                if commu_buf:\n",
    "                    commu_df = pd.json_normalize(commu_buf, sep=\"_\")\n",
    "                    if not commu_df.empty:\n",
    "                        _append_csv(commu_df, COMMU_CSV, COMMU_SCHEMA, key_cols=[\"model_id\", \"num\"])\n",
    "                    commu_buf.clear()\n",
    "\n",
    "                _save_progress(done_ids)\n",
    "                # raise 하지 않음: 세션 스코프 내에서 마무리하고 종료\n",
    "\n",
    "        # 세션 닫힌 이후에도 남은 버퍼가 있으면 최종 플러시\n",
    "        if meta_buf:\n",
    "            meta_df = pd.DataFrame(meta_buf).rename(columns=self.rename)\n",
    "            meta_df = meta_df.reindex(columns=self.reorder, fill_value=None)\n",
    "            _append_csv(meta_df, META_CSV, META_SCHEMA, key_cols=[\"id\"])\n",
    "        if files_buf:\n",
    "            file_df = pd.json_normalize(files_buf, sep=\"_\").reindex(columns=self.cols)\n",
    "            file_df = file_df[file_df[\"path\"].notna()]\n",
    "            if not file_df.empty:\n",
    "                _append_csv(file_df, FILES_CSV, FILES_SCHEMA, key_cols=[\"model_id\", \"path\"])\n",
    "        if commu_buf:\n",
    "            commu_df = pd.json_normalize(commu_buf, sep=\"_\")\n",
    "            if not commu_df.empty:\n",
    "                _append_csv(commu_df, COMMU_CSV, COMMU_SCHEMA, key_cols=[\"model_id\", \"num\"])\n",
    "\n",
    "        _save_progress(done_ids)\n",
    "        self.logger.info(\"RESET_CSV(ASYNC) 완료\")"
   ]
  },
  {
   "cell_type": "code",
   "execution_count": 0,
   "metadata": {
    "application/vnd.databricks.v1+cell": {
     "cellMetadata": {
      "byteLimit": 2048000,
      "rowLimit": 10000
     },
     "inputWidgets": {},
     "nuid": "4b5186e4-ed6e-437a-bb1b-4342debb3fda",
     "showTitle": false,
     "tableResultSettingsMap": {},
     "title": ""
    }
   },
   "outputs": [
    {
     "data": {
      "text/plain": [
       "\u001b[0;31m---------------------------------------------------------------------------\u001b[0m\n",
       "\u001b[0;31mModuleNotFoundError\u001b[0m                       Traceback (most recent call last)\n",
       "File \u001b[0;32m<command-4884005352694818>, line 21\u001b[0m\n",
       "\u001b[1;32m     18\u001b[0m \u001b[38;5;28;01mfrom\u001b[39;00m \u001b[38;5;21;01mtyping\u001b[39;00m \u001b[38;5;28;01mimport\u001b[39;00m Any, Optional, Union, Iterable, Sequence, List, Dict\n",
       "\u001b[1;32m     19\u001b[0m \u001b[38;5;28;01mfrom\u001b[39;00m \u001b[38;5;21;01murllib\u001b[39;00m\u001b[38;5;21;01m.\u001b[39;00m\u001b[38;5;21;01mparse\u001b[39;00m \u001b[38;5;28;01mimport\u001b[39;00m urlparse\n",
       "\u001b[0;32m---> 21\u001b[0m \u001b[38;5;28;01mimport\u001b[39;00m \u001b[38;5;21;01maiohttp\u001b[39;00m\n",
       "\u001b[1;32m     22\u001b[0m \u001b[38;5;28;01mfrom\u001b[39;00m \u001b[38;5;21;01maiolimiter\u001b[39;00m \u001b[38;5;28;01mimport\u001b[39;00m AsyncLimiter\n",
       "\u001b[1;32m     23\u001b[0m \u001b[38;5;28;01mfrom\u001b[39;00m \u001b[38;5;21;01mbs4\u001b[39;00m \u001b[38;5;28;01mimport\u001b[39;00m BeautifulSoup\n",
       "\n",
       "\u001b[0;31mModuleNotFoundError\u001b[0m: No module named 'aiohttp'"
      ]
     },
     "metadata": {
      "application/vnd.databricks.v1+output": {
       "addedWidgets": {},
       "arguments": {},
       "datasetInfos": [],
       "jupyterProps": {
        "ename": "ModuleNotFoundError",
        "evalue": "No module named 'aiohttp'"
       },
       "metadata": {
        "errorSummary": "Command skipped"
       },
       "removedWidgets": [],
       "sqlProps": null,
       "stackFrames": [
        "\u001b[0;31m---------------------------------------------------------------------------\u001b[0m",
        "\u001b[0;31mModuleNotFoundError\u001b[0m                       Traceback (most recent call last)",
        "File \u001b[0;32m<command-4884005352694818>, line 21\u001b[0m\n\u001b[1;32m     18\u001b[0m \u001b[38;5;28;01mfrom\u001b[39;00m \u001b[38;5;21;01mtyping\u001b[39;00m \u001b[38;5;28;01mimport\u001b[39;00m Any, Optional, Union, Iterable, Sequence, List, Dict\n\u001b[1;32m     19\u001b[0m \u001b[38;5;28;01mfrom\u001b[39;00m \u001b[38;5;21;01murllib\u001b[39;00m\u001b[38;5;21;01m.\u001b[39;00m\u001b[38;5;21;01mparse\u001b[39;00m \u001b[38;5;28;01mimport\u001b[39;00m urlparse\n\u001b[0;32m---> 21\u001b[0m \u001b[38;5;28;01mimport\u001b[39;00m \u001b[38;5;21;01maiohttp\u001b[39;00m\n\u001b[1;32m     22\u001b[0m \u001b[38;5;28;01mfrom\u001b[39;00m \u001b[38;5;21;01maiolimiter\u001b[39;00m \u001b[38;5;28;01mimport\u001b[39;00m AsyncLimiter\n\u001b[1;32m     23\u001b[0m \u001b[38;5;28;01mfrom\u001b[39;00m \u001b[38;5;21;01mbs4\u001b[39;00m \u001b[38;5;28;01mimport\u001b[39;00m BeautifulSoup\n",
        "\u001b[0;31mModuleNotFoundError\u001b[0m: No module named 'aiohttp'"
       ],
       "type": "baseError"
      }
     },
     "output_type": "display_data"
    }
   ],
   "source": [
    "# =========================\n",
    "# 1) Sharded CSV append-only writer (no temp big files, auto-rotate)\n",
    "# =========================\n",
    "class ShardedCsvWriter:\n",
    "    \"\"\"\n",
    "    base_path.csv -> base_path.csv.shards/base_name-000001.csv[.gz]\n",
    "    Appends in chunks; rotates when shard_bytes is reached; never rewrites entire file.\n",
    "    \"\"\"\n",
    "    def __init__(\n",
    "        self,\n",
    "        base_path: str,\n",
    "        shard_bytes: int = 512 * 1024 * 1024,  # 512MB per shard\n",
    "        rows_per_chunk: int = 25_000,\n",
    "        use_gzip: bool = True,\n",
    "        encoding: str = \"utf-8\",\n",
    "        sep: str = \",\",\n",
    "        lineterminator: str = \"\\n\",\n",
    "    ):\n",
    "        self.base_path = base_path\n",
    "        self.base_dir = os.path.dirname(base_path) or \".\"\n",
    "        self.base_name = os.path.basename(base_path).replace(\".csv\", \"\").replace(\".gz\", \"\")\n",
    "        self.shard_dir = f\"{base_path}.shards\"\n",
    "        self.ext = \".csv.gz\" if use_gzip else \".csv\"\n",
    "        self.shard_bytes = shard_bytes\n",
    "        self.rows_per_chunk = rows_per_chunk\n",
    "        self.encoding = encoding\n",
    "        self.sep = sep\n",
    "        self.lineterminator = lineterminator\n",
    "\n",
    "        os.makedirs(self.shard_dir, exist_ok=True)\n",
    "        self.shard_idx = self._detect_last_shard_index()\n",
    "\n",
    "    def _detect_last_shard_index(self) -> int:\n",
    "        patt = os.path.join(self.shard_dir, f\"{self.base_name}-*.csv*\")\n",
    "        files = sorted(glob.glob(patt))\n",
    "        if not files:\n",
    "            return 1\n",
    "        last = files[-1]\n",
    "        try:\n",
    "            num = int(os.path.basename(last).split(\"-\")[-1].split(\".\")[0])\n",
    "            # If last shard is nearly full, start a new one\n",
    "            if os.path.getsize(last) >= int(self.shard_bytes * 0.98):\n",
    "                return num + 1\n",
    "            return num\n",
    "        except Exception:\n",
    "            return 1\n",
    "\n",
    "    def _cur_path(self) -> str:\n",
    "        return os.path.join(self.shard_dir, f\"{self.base_name}-{self.shard_idx:06d}{self.ext}\")\n",
    "\n",
    "    def _rotate_if_needed(self):\n",
    "        p = self._cur_path()\n",
    "        if os.path.exists(p) and os.path.getsize(p) >= self.shard_bytes:\n",
    "            self.shard_idx += 1\n",
    "\n",
    "    def _open_append(self, path: str):\n",
    "        if self.ext.endswith(\".gz\"):\n",
    "            return gzip.open(path, mode=\"at\", encoding=self.encoding, newline=\"\")\n",
    "        return open(path, mode=\"a\", encoding=self.encoding, newline=\"\")\n",
    "\n",
    "    def write_df(self, df: pd.DataFrame):\n",
    "        if df is None or len(df) == 0:\n",
    "            return\n",
    "        # write in chunks to keep memory profile stable\n",
    "        for start in range(0, len(df), self.rows_per_chunk):\n",
    "            chunk = df.iloc[start:start + self.rows_per_chunk]\n",
    "            self._rotate_if_needed()\n",
    "            path = self._cur_path()\n",
    "            write_header = not os.path.exists(path) or os.path.getsize(path) == 0\n",
    "            with self._open_append(path) as fh:\n",
    "                chunk.to_csv(\n",
    "                    fh,\n",
    "                    index=False,\n",
    "                    sep=self.sep,\n",
    "                    escapechar=\"\\\\\",\n",
    "                    header=write_header,\n",
    "                    lineterminator=self.lineterminator,\n",
    "                )\n",
    "\n",
    "# =========================\n",
    "# 2) SQLite-based dedup index (to avoid cross-shard duplicates)\n",
    "# =========================\n",
    "class DedupIndex:\n",
    "    \"\"\"\n",
    "    Lightweight SQLite index to prevent duplicate rows across shards.\n",
    "    Composite keys are joined with '\\x1f'.\n",
    "    \"\"\"\n",
    "    def __init__(self, db_path: str, table_name: str, key_cols: Sequence[str]):\n",
    "        self.db_path = db_path\n",
    "        self.table = table_name\n",
    "        self.key_cols = list(key_cols)\n",
    "        os.makedirs(os.path.dirname(db_path) or \".\", exist_ok=True)\n",
    "        self.conn = sqlite3.connect(self.db_path, isolation_level=None)  # autocommit\n",
    "        self.conn.execute(\"PRAGMA journal_mode=WAL;\")\n",
    "        self.conn.execute(\"PRAGMA synchronous=NORMAL;\")\n",
    "        self.conn.execute(f\"CREATE TABLE IF NOT EXISTS {self.table} (k TEXT PRIMARY KEY)\")\n",
    "        self._ins_sql = f\"INSERT OR IGNORE INTO {self.table}(k) VALUES (?)\"\n",
    "\n",
    "    @staticmethod\n",
    "    def _make_keys_from_df(df: pd.DataFrame, key_cols: Sequence[str]) -> List[str]:\n",
    "        if len(key_cols) == 1:\n",
    "            return df[key_cols[0]].astype(str).tolist()\n",
    "        return (df[key_cols].astype(str).agg(\"\\x1f\".join, axis=1)).tolist()\n",
    "\n",
    "    def mask_new(self, df: pd.DataFrame) -> pd.Series:\n",
    "        if len(df) == 0:\n",
    "            return pd.Series([], dtype=bool)\n",
    "        keys = self._make_keys_from_df(df, self.key_cols)\n",
    "        mask = pd.Series(True, index=df.index)\n",
    "        # chunked IN query\n",
    "        cur = self.conn.cursor()\n",
    "        existing = set()\n",
    "        for i in range(0, len(keys), 10_000):\n",
    "            part = keys[i:i+10_000]\n",
    "            if not part:\n",
    "                continue\n",
    "            q_marks = \",\".join(\"?\" for _ in part)\n",
    "            for (k,) in cur.execute(f\"SELECT k FROM {self.table} WHERE k IN ({q_marks})\", part):\n",
    "                existing.add(k)\n",
    "        for i, k in zip(df.index, keys):\n",
    "            if k in existing:\n",
    "                mask.at[i] = False\n",
    "        return mask\n",
    "\n",
    "    def insert_df(self, df: pd.DataFrame):\n",
    "        if len(df) == 0:\n",
    "            return\n",
    "        keys = self._make_keys_from_df(df, self.key_cols)\n",
    "        self.conn.executemany(self._ins_sql, [(k,) for k in keys])\n",
    "\n",
    "    def close(self):\n",
    "        try:\n",
    "            self.conn.close()\n",
    "        except Exception:\n",
    "            pass\n",
    "\n",
    "# =========================\n",
    "# 3) Progress store (SQLite set instead of giant JSON list)\n",
    "# =========================\n",
    "class ProgressStore:\n",
    "    def __init__(self, db_path: str = \"progress.db\"):\n",
    "        os.makedirs(os.path.dirname(db_path) or \".\", exist_ok=True)\n",
    "        self.conn = sqlite3.connect(db_path, isolation_level=None)  # autocommit\n",
    "        self.conn.execute(\"PRAGMA journal_mode=WAL;\")\n",
    "        self.conn.execute(\"PRAGMA synchronous=NORMAL;\")\n",
    "        self.conn.execute(\"CREATE TABLE IF NOT EXISTS done_ids (id TEXT PRIMARY KEY)\")\n",
    "        self._ins_sql = \"INSERT OR IGNORE INTO done_ids(id) VALUES (?)\"\n",
    "\n",
    "    def contains(self, repo_id: str) -> bool:\n",
    "        cur = self.conn.cursor()\n",
    "        row = cur.execute(\"SELECT 1 FROM done_ids WHERE id=?\", (repo_id,)).fetchone()\n",
    "        return row is not None\n",
    "\n",
    "    def add(self, repo_id: str):\n",
    "        self.conn.execute(self._ins_sql, (repo_id,))\n",
    "\n",
    "    def add_many(self, repo_ids: Iterable[str]):\n",
    "        self.conn.executemany(self._ins_sql, ((r,) for r in repo_ids))\n",
    "\n",
    "    def close(self):\n",
    "        try:\n",
    "            self.conn.close()\n",
    "        except Exception:\n",
    "            pass\n",
    "\n",
    "# =========================\n",
    "# 4) Simple token-bucket RPS limiter (no external dependency)\n",
    "# =========================\n",
    "class SimpleRateLimiter:\n",
    "    def __init__(self, rps: float):\n",
    "        self.rate = max(0.1, float(rps))     # 초당 토큰 보충 속도\n",
    "        self.capacity = self.rate            # 1초치 버스트 허용\n",
    "        self.tokens = self.capacity\n",
    "        self.last = time.monotonic()\n",
    "        self._lock = asyncio.Lock()\n",
    "\n",
    "    async def acquire(self) -> None:\n",
    "        while True:\n",
    "            async with self._lock:\n",
    "                now = time.monotonic()\n",
    "                delta = now - self.last\n",
    "                # 경과한 시간만큼 토큰 보충\n",
    "                self.tokens = min(self.capacity, self.tokens + delta * self.rate)\n",
    "                self.last = now\n",
    "                if self.tokens >= 1.0:\n",
    "                    self.tokens -= 1.0\n",
    "                    return\n",
    "                # 다음 토큰까지 대기할 시간 계산\n",
    "                wait = (1.0 - self.tokens) / self.rate\n",
    "            await asyncio.sleep(max(wait, 0.005))\n",
    "\n",
    "# =========================\n",
    "# 5) HuggingFace class (updated)\n",
    "# =========================\n",
    "class HuggingFace:\n",
    "    def __init__(self) -> None:\n",
    "        self.api = HfApi()\n",
    "        self.logger = logging.getLogger(self.__class__.__name__)\n",
    "        # build_session() is assumed to exist in your environment\n",
    "        try:\n",
    "            self.session = build_session()  # type: ignore\n",
    "        except Exception:\n",
    "            self.session = None\n",
    "        self.base_url = \"https://huggingface.co/\"\n",
    "\n",
    "        self.api_schema = [\n",
    "            \"id\",                   # 모델 전체 ID, author/model_name의 형태\n",
    "            \"gguf\",                 # GGUF 포맷 변환 여부\n",
    "            \"inference\",            # Inference API 지원 여부\n",
    "            \"mask_token\",           # BERT류 마스킹 토큰\n",
    "            \"widget_data\",          # 위젯 예시 입출력\n",
    "            \"trending_score\",       # 인기도 점수\n",
    "            \"security_repo_status\", # 보안 관련 검토 상태\n",
    "        ]\n",
    "        self.req_schema = [\n",
    "            \"_id\", \"id\", \"private\", \"pipeline_tag\", \"library_name\", \"tags\",\n",
    "            \"downloads\", \"likes\", \"modelId\", \"author\", \"sha\", \"lastModified\",\n",
    "            \"gated\", \"disabled\", \"model-index\", \"config\", \"cardData\",\n",
    "            \"transformersInfo\", \"spaces\", \"createdAt\", \"safetensors\", \"usedStorage\",\n",
    "        ]\n",
    "        self.rename = {\n",
    "            \"_id\": \"hexid\",\n",
    "            \"model-index\": \"model_index\",\n",
    "            \"createdAt\": \"created_at\",\n",
    "            \"lastModified\": \"last_modified\",\n",
    "            \"cardData\": \"card_data\",\n",
    "            \"transformersInfo\": \"transformers_info\",\n",
    "            \"usedStorage\": \"used_storage\",\n",
    "        }\n",
    "        self.reorder = [\n",
    "            \"id\", \"hexid\", \"sha\", \"author\", \"private\", \"disabled\", \"gated\",\n",
    "            \"pipeline_tag\", \"library_name\", \"tags\", \"likes\", \"downloads\",\n",
    "            \"trending_score\", \"created_at\", \"last_modified\", \"config\", \"card_data\",\n",
    "            \"safetensors\", \"spaces\", \"transformers_info\", \"used_storage\", \"readme\",\n",
    "            \"model_index\", \"gguf\", \"inference\", \"mask_token\", \"widget_data\", \"security_repo_status\",\n",
    "        ]\n",
    "        self.cols = [\n",
    "            \"model_id\", \"type\", \"oid\", \"size\", \"path\",\n",
    "            \"lfs_oid\", \"lfs_size\", \"lfs_pointerSize\", \"xetHash\",\n",
    "        ]\n",
    "\n",
    "    # ------------------------------------------------------------------\n",
    "    # Legacy entrypoint -> forward to new one (prevents old CSV rewrite)\n",
    "    # ------------------------------------------------------------------\n",
    "    async def legacy_reset_csv_async(\n",
    "        self,\n",
    "        sort: str = \"createdAt\",\n",
    "        limit: Optional[int] = None,\n",
    "        concurrency: int = 32,\n",
    "        include_readme: bool = True,\n",
    "        include_files: bool = True,\n",
    "        include_community: bool = True,\n",
    "        batch_size: int = 1_000,\n",
    "        checkpoint_every_batches: int = 1,\n",
    "    ) -> None:\n",
    "        self.logger.info(\"legacy_reset_csv_async is deprecated; forwarding to reset_csv_async\")\n",
    "        await self.reset_csv_async(\n",
    "            sort=sort,\n",
    "            limit=limit,\n",
    "            concurrency=concurrency,\n",
    "            include_readme=include_readme,\n",
    "            include_files=include_files,\n",
    "            include_community=include_community,\n",
    "            batch_size=batch_size,\n",
    "            checkpoint_every_batches=checkpoint_every_batches,\n",
    "        )\n",
    "\n",
    "    # ------------------------------------------------------------------\n",
    "    # New implementation: shard writers + sqlite indexes + progress DB\n",
    "    # ------------------------------------------------------------------\n",
    "    async def reset_csv_async(\n",
    "        self,\n",
    "        sort: str = \"createdAt\",\n",
    "        limit: Optional[int] = None,\n",
    "        concurrency: int = 128,              # 동시 태스크 상한\n",
    "        include_readme: bool = True,\n",
    "        include_files: bool = True,\n",
    "        include_community: bool = True,\n",
    "        batch_size: int = 2048,\n",
    "        checkpoint_every_batches: int = 1,\n",
    "        rps: int = 100,                       # 초당 요청수 제한 (간단 버킷)\n",
    "        timeout_sec: float = 25.0,            # 요청 타임아웃(소켓)\n",
    "        shard_bytes: int = 512 * 1024 * 1024, # 샤드 회전 크기\n",
    "        rows_per_chunk: int = 25_000,         # CSV 쓰기 청크\n",
    "        use_gzip: bool = True,                # CSV.gz로 저장\n",
    "        progress_db_path: str = \"progress.db\",\n",
    "        dedup_db_path: str = \"dedup-index.db\",\n",
    "    ) -> None:\n",
    "        if aiohttp is None:\n",
    "            raise RuntimeError(\"Async mode requires aiohttp. Install it first: pip install aiohttp\")\n",
    "\n",
    "        self.logger.info(\"RESET_CSV(ASYNC) 시작\")\n",
    "\n",
    "        # ---------- writers / indexes / progress ----------\n",
    "        meta_writer  = ShardedCsvWriter(META_CSV,  shard_bytes=shard_bytes, rows_per_chunk=rows_per_chunk, use_gzip=use_gzip, encoding=ENCODING_TYPE)\n",
    "        files_writer = ShardedCsvWriter(FILES_CSV, shard_bytes=shard_bytes, rows_per_chunk=rows_per_chunk, use_gzip=use_gzip, encoding=ENCODING_TYPE)\n",
    "        commu_writer = ShardedCsvWriter(COMMU_CSV, shard_bytes=shard_bytes, rows_per_chunk=rows_per_chunk, use_gzip=use_gzip, encoding=ENCODING_TYPE)\n",
    "\n",
    "        meta_idx  = DedupIndex(dedup_db_path, \"meta_idx\",  [\"id\"])\n",
    "        files_idx = DedupIndex(dedup_db_path, \"files_idx\", [\"model_id\", \"path\"])\n",
    "        commu_idx = DedupIndex(dedup_db_path, \"commu_idx\", [\"model_id\", \"num\"])\n",
    "\n",
    "        progress = ProgressStore(progress_db_path)\n",
    "\n",
    "        # ---------- already done set is DB-backed ----------\n",
    "        def _already_done(repo_id: str) -> bool:\n",
    "            return progress.contains(repo_id)\n",
    "\n",
    "        # ---------- models list ----------\n",
    "        models = self.api.list_models(sort=sort, limit=limit)\n",
    "        self.logger.info(\"API list_models 함수 호출 완료\")\n",
    "\n",
    "        # ---------- concurrency / rps / aiohttp ----------\n",
    "        sema = asyncio.Semaphore(concurrency)\n",
    "        limiter = SimpleRateLimiter(rps=rps)\n",
    "\n",
    "        headers = {\n",
    "            \"User-Agent\": \"hf-text-scraper/1.0 (+https://github.com/)\",\n",
    "            \"Accept\": \"application/json, text/plain, */*\",\n",
    "        }\n",
    "        try:\n",
    "            if HF_READ_TOKEN:  # type: ignore\n",
    "                headers[\"Authorization\"] = f\"Bearer {HF_READ_TOKEN}\"  # type: ignore\n",
    "        except NameError:\n",
    "            pass\n",
    "\n",
    "        timeout = aiohttp.ClientTimeout(total=None, sock_connect=timeout_sec, sock_read=timeout_sec)\n",
    "        connector = aiohttp.TCPConnector(limit=concurrency * 2, ttl_dns_cache=300, enable_cleanup_closed=True)\n",
    "\n",
    "        # ---------- buffers ----------\n",
    "        meta_buf: List[Dict[str, Any]] = []\n",
    "        files_buf: List[Dict[str, Any]] = []\n",
    "        commu_buf: List[Dict[str, Any]] = []\n",
    "\n",
    "        # ---------- helpers ----------\n",
    "        async def _limited_call(coro_factory):\n",
    "            await limiter.acquire()\n",
    "            return await coro_factory()\n",
    "\n",
    "        async def _retry(coro_factory, retries=2, base_delay=0.5):\n",
    "            err = None\n",
    "            for attempt in range(retries + 1):\n",
    "                try:\n",
    "                    return await _limited_call(coro_factory)\n",
    "                except Exception as e:\n",
    "                    err = e\n",
    "                    if attempt < retries:\n",
    "                        await asyncio.sleep(base_delay * (2 ** attempt))\n",
    "                        continue\n",
    "                    raise err\n",
    "\n",
    "        def _flush_meta():\n",
    "            nonlocal meta_buf\n",
    "            if not meta_buf:\n",
    "                return\n",
    "            df = pd.DataFrame(meta_buf).rename(columns=self.rename)\n",
    "            # ensure all columns exist\n",
    "            for c in self.reorder:\n",
    "                if c not in df.columns:\n",
    "                    df[c] = pd.NA\n",
    "            df = df[self.reorder]\n",
    "            # dedup + write\n",
    "            mask = meta_idx.mask_new(df[[\"id\"]])\n",
    "            new_df = df[mask]\n",
    "            if len(new_df):\n",
    "                meta_writer.write_df(new_df)\n",
    "                meta_idx.insert_df(new_df)\n",
    "            meta_buf = []\n",
    "\n",
    "        def _flush_files():\n",
    "            nonlocal files_buf\n",
    "            if not files_buf:\n",
    "                return\n",
    "            df = pd.json_normalize(files_buf, sep=\"_\").reindex(columns=self.cols)\n",
    "            df = df[df[\"path\"].notna()]\n",
    "            if df.empty:\n",
    "                files_buf = []\n",
    "                return\n",
    "            mask = files_idx.mask_new(df[[\"model_id\", \"path\"]])\n",
    "            new_df = df[mask]\n",
    "            if len(new_df):\n",
    "                files_writer.write_df(new_df)\n",
    "                files_idx.insert_df(new_df)\n",
    "            files_buf = []\n",
    "\n",
    "        def _flush_commu():\n",
    "            nonlocal commu_buf\n",
    "            if not commu_buf:\n",
    "                return\n",
    "            df = pd.json_normalize(commu_buf, sep=\"_\")\n",
    "            # ensure keys\n",
    "            if \"model_id\" not in df.columns:\n",
    "                df[\"model_id\"] = pd.NA\n",
    "            if \"num\" not in df.columns:\n",
    "                df[\"num\"] = pd.NA\n",
    "            mask = commu_idx.mask_new(df[[\"model_id\", \"num\"]])\n",
    "            new_df = df[mask]\n",
    "            if len(new_df):\n",
    "                commu_writer.write_df(new_df)\n",
    "                commu_idx.insert_df(new_df)\n",
    "            commu_buf = []\n",
    "\n",
    "        # -----------------\n",
    "        # per-model task\n",
    "        # -----------------\n",
    "        async def process(session, model):\n",
    "            repo_id = getattr(model, \"id\", None)\n",
    "            if not repo_id or _already_done(repo_id):\n",
    "                return None\n",
    "\n",
    "            async with sema:\n",
    "                base = {attr: getattr(model, attr, None) for attr in self.api_schema}\n",
    "                meta: Dict[str, Any] = {}\n",
    "                readme: Dict[str, Any] = {}\n",
    "                f_list: List[Dict[str, Any]] = []\n",
    "                c_list: List[Dict[str, Any]] = []\n",
    "\n",
    "                # these functions are assumed to exist in your environment\n",
    "                async def _meta():\n",
    "                    return await get_model_meta_async(session, repo_id, AsyncHTTPConfig())  # type: ignore\n",
    "\n",
    "                async def _readme():\n",
    "                    return await get_readme_markdown_async(session, repo_id, AsyncHTTPConfig())  # type: ignore\n",
    "\n",
    "                async def _files():\n",
    "                    return await get_files_tree_async(session, repo_id, AsyncHTTPConfig())  # type: ignore\n",
    "\n",
    "                async def _commu():\n",
    "                    return await get_community_async(session, repo_id, AsyncHTTPConfig())  # type: ignore\n",
    "\n",
    "                try:\n",
    "                    if include_readme or include_files or include_community:\n",
    "                        meta_full = await _retry(_meta, retries=3)\n",
    "                        if isinstance(meta_full, dict):\n",
    "                            meta = {k: meta_full.get(k, None) for k in self.req_schema}\n",
    "\n",
    "                    if include_readme:\n",
    "                        readme_text = await _retry(_readme, retries=2)\n",
    "                        readme = {\"readme\": readme_text}\n",
    "                    else:\n",
    "                        readme = {\"readme\": None}\n",
    "\n",
    "                    if include_files:\n",
    "                        tree = await _retry(_files, retries=2)\n",
    "                        for ft in tree:\n",
    "                            f_list.append({\"model_id\": repo_id} | ft)\n",
    "\n",
    "                    if include_community:\n",
    "                        commus = await _retry(_commu, retries=2)\n",
    "                        for c in commus:\n",
    "                            c_list.append({\"model_id\": repo_id} | c)\n",
    "\n",
    "                    merged = base | meta | readme\n",
    "                    return repo_id, merged, f_list, c_list\n",
    "\n",
    "                except Exception as e:\n",
    "                    self.logger.error(f\"모델 {repo_id} 수집 실패: {e}\")\n",
    "                    return None\n",
    "\n",
    "        # -----------------\n",
    "        # run\n",
    "        # -----------------\n",
    "        async with aiohttp.ClientSession(headers=headers, timeout=timeout, connector=connector) as session:\n",
    "            try:\n",
    "                for bi, batch in enumerate(tqdm(batched(models, batch_size))):\n",
    "                    filtered = [m for m in batch if getattr(m, \"id\", None) and not _already_done(getattr(m, \"id\"))]\n",
    "                    if not filtered:\n",
    "                        continue\n",
    "\n",
    "                    tasks = [asyncio.create_task(process(session, m)) for m in filtered]\n",
    "                    results = await asyncio.gather(*tasks, return_exceptions=True)\n",
    "\n",
    "                    for res in results:\n",
    "                        if isinstance(res, Exception) or res is None:\n",
    "                            continue\n",
    "                        repo_id, meta, f_list, c_list = res\n",
    "                        meta_buf.append({k: make_hashable(v) for k, v in meta.items()})\n",
    "                        if f_list: files_buf.extend(f_list)\n",
    "                        if c_list: commu_buf.extend(c_list)\n",
    "                        # mark progress ASAP (after assembling buffers)\n",
    "                        progress.add(repo_id)\n",
    "\n",
    "                    # checkpoint flush every batch (or based on your cadence)\n",
    "                    if (bi + 1) % checkpoint_every_batches == 0:\n",
    "                        _flush_meta()\n",
    "                        _flush_files()\n",
    "                        _flush_commu()\n",
    "\n",
    "            except Exception as e:\n",
    "                # flush what we have, then continue to close gracefully\n",
    "                self.logger.exception(f\"배치 처리 중 예외 발생, 부분 저장: {e}\")\n",
    "                _flush_meta()\n",
    "                _flush_files()\n",
    "                _flush_commu()\n",
    "\n",
    "        # final flush\n",
    "        _flush_meta()\n",
    "        _flush_files()\n",
    "        _flush_commu()\n",
    "\n",
    "        # close DBs\n",
    "        try:\n",
    "            meta_idx.close(); files_idx.close(); commu_idx.close(); progress.close()\n",
    "        except Exception:\n",
    "            pass\n",
    "\n",
    "        self.logger.info(\"RESET_CSV(ASYNC) 완료\")"
   ]
  },
  {
   "cell_type": "markdown",
   "metadata": {
    "application/vnd.databricks.v1+cell": {
     "cellMetadata": {
      "byteLimit": 2048000,
      "rowLimit": 10000
     },
     "inputWidgets": {},
     "nuid": "8709ffd8-278f-4560-909f-3856e61f90de",
     "showTitle": false,
     "tableResultSettingsMap": {},
     "title": ""
    }
   },
   "source": [
    "# 8. Main"
   ]
  },
  {
   "cell_type": "code",
   "execution_count": 0,
   "metadata": {
    "application/vnd.databricks.v1+cell": {
     "cellMetadata": {
      "byteLimit": 2048000,
      "rowLimit": 10000
     },
     "inputWidgets": {},
     "nuid": "21674b2f-2dc6-46dd-945f-e917479615e3",
     "showTitle": false,
     "tableResultSettingsMap": {},
     "title": ""
    }
   },
   "outputs": [
    {
     "data": {
      "text/plain": [
       "\u001b[0;31m---------------------------------------------------------------------------\u001b[0m\n",
       "\u001b[0;31mModuleNotFoundError\u001b[0m                       Traceback (most recent call last)\n",
       "File \u001b[0;32m<command-4884005352694818>, line 21\u001b[0m\n",
       "\u001b[1;32m     18\u001b[0m \u001b[38;5;28;01mfrom\u001b[39;00m \u001b[38;5;21;01mtyping\u001b[39;00m \u001b[38;5;28;01mimport\u001b[39;00m Any, Optional, Union, Iterable, Sequence, List, Dict\n",
       "\u001b[1;32m     19\u001b[0m \u001b[38;5;28;01mfrom\u001b[39;00m \u001b[38;5;21;01murllib\u001b[39;00m\u001b[38;5;21;01m.\u001b[39;00m\u001b[38;5;21;01mparse\u001b[39;00m \u001b[38;5;28;01mimport\u001b[39;00m urlparse\n",
       "\u001b[0;32m---> 21\u001b[0m \u001b[38;5;28;01mimport\u001b[39;00m \u001b[38;5;21;01maiohttp\u001b[39;00m\n",
       "\u001b[1;32m     22\u001b[0m \u001b[38;5;28;01mfrom\u001b[39;00m \u001b[38;5;21;01maiolimiter\u001b[39;00m \u001b[38;5;28;01mimport\u001b[39;00m AsyncLimiter\n",
       "\u001b[1;32m     23\u001b[0m \u001b[38;5;28;01mfrom\u001b[39;00m \u001b[38;5;21;01mbs4\u001b[39;00m \u001b[38;5;28;01mimport\u001b[39;00m BeautifulSoup\n",
       "\n",
       "\u001b[0;31mModuleNotFoundError\u001b[0m: No module named 'aiohttp'"
      ]
     },
     "metadata": {
      "application/vnd.databricks.v1+output": {
       "addedWidgets": {},
       "arguments": {},
       "datasetInfos": [],
       "jupyterProps": {
        "ename": "ModuleNotFoundError",
        "evalue": "No module named 'aiohttp'"
       },
       "metadata": {
        "errorSummary": "Command skipped"
       },
       "removedWidgets": [],
       "sqlProps": null,
       "stackFrames": [
        "\u001b[0;31m---------------------------------------------------------------------------\u001b[0m",
        "\u001b[0;31mModuleNotFoundError\u001b[0m                       Traceback (most recent call last)",
        "File \u001b[0;32m<command-4884005352694818>, line 21\u001b[0m\n\u001b[1;32m     18\u001b[0m \u001b[38;5;28;01mfrom\u001b[39;00m \u001b[38;5;21;01mtyping\u001b[39;00m \u001b[38;5;28;01mimport\u001b[39;00m Any, Optional, Union, Iterable, Sequence, List, Dict\n\u001b[1;32m     19\u001b[0m \u001b[38;5;28;01mfrom\u001b[39;00m \u001b[38;5;21;01murllib\u001b[39;00m\u001b[38;5;21;01m.\u001b[39;00m\u001b[38;5;21;01mparse\u001b[39;00m \u001b[38;5;28;01mimport\u001b[39;00m urlparse\n\u001b[0;32m---> 21\u001b[0m \u001b[38;5;28;01mimport\u001b[39;00m \u001b[38;5;21;01maiohttp\u001b[39;00m\n\u001b[1;32m     22\u001b[0m \u001b[38;5;28;01mfrom\u001b[39;00m \u001b[38;5;21;01maiolimiter\u001b[39;00m \u001b[38;5;28;01mimport\u001b[39;00m AsyncLimiter\n\u001b[1;32m     23\u001b[0m \u001b[38;5;28;01mfrom\u001b[39;00m \u001b[38;5;21;01mbs4\u001b[39;00m \u001b[38;5;28;01mimport\u001b[39;00m BeautifulSoup\n",
        "\u001b[0;31mModuleNotFoundError\u001b[0m: No module named 'aiohttp'"
       ],
       "type": "baseError"
      }
     },
     "output_type": "display_data"
    }
   ],
   "source": [
    "setup_logging()\n",
    "\n",
    "hf = HuggingFace()\n",
    "\n",
    "await hf.legacy_reset_csv_async(\n",
    "    sort=\"trendingScore\",\n",
    "    limit=None,\n",
    "    concurrency=256,\n",
    "    include_readme=False,\n",
    "    include_files=True,\n",
    "    include_community=True,\n",
    "    batch_size=2048,\n",
    "    checkpoint_every_batches=1,\n",
    "    # rps=120,\n",
    "    # timeout_sec=25.0\n",
    ")"
   ]
  },
  {
   "cell_type": "markdown",
   "metadata": {
    "application/vnd.databricks.v1+cell": {
     "cellMetadata": {
      "byteLimit": 2048000,
      "rowLimit": 10000
     },
     "inputWidgets": {},
     "nuid": "c15fc075-00d5-43ee-ac6d-0d6294fae768",
     "showTitle": false,
     "tableResultSettingsMap": {},
     "title": ""
    }
   },
   "source": [
    "# 9. Save Catalog for Delta Table"
   ]
  },
  {
   "cell_type": "markdown",
   "metadata": {
    "application/vnd.databricks.v1+cell": {
     "cellMetadata": {
      "byteLimit": 2048000,
      "rowLimit": 10000
     },
     "inputWidgets": {},
     "nuid": "cf9f41be-0598-42ee-80d4-09684d98cbb2",
     "showTitle": false,
     "tableResultSettingsMap": {},
     "title": ""
    }
   },
   "source": [
    "## 9-1. Create Schema(Database)"
   ]
  },
  {
   "cell_type": "code",
   "execution_count": 0,
   "metadata": {
    "application/vnd.databricks.v1+cell": {
     "cellMetadata": {
      "byteLimit": 2048000,
      "implicitDf": true,
      "rowLimit": 10000
     },
     "inputWidgets": {},
     "nuid": "8070267a-7010-4404-9064-afc705abf9c7",
     "showTitle": false,
     "tableResultSettingsMap": {},
     "title": ""
    }
   },
   "outputs": [
    {
     "data": {
      "text/plain": [
       "\u001b[0;31m---------------------------------------------------------------------------\u001b[0m\n",
       "\u001b[0;31mModuleNotFoundError\u001b[0m                       Traceback (most recent call last)\n",
       "File \u001b[0;32m<command-4884005352694818>, line 21\u001b[0m\n",
       "\u001b[1;32m     18\u001b[0m \u001b[38;5;28;01mfrom\u001b[39;00m \u001b[38;5;21;01mtyping\u001b[39;00m \u001b[38;5;28;01mimport\u001b[39;00m Any, Optional, Union, Iterable, Sequence, List, Dict\n",
       "\u001b[1;32m     19\u001b[0m \u001b[38;5;28;01mfrom\u001b[39;00m \u001b[38;5;21;01murllib\u001b[39;00m\u001b[38;5;21;01m.\u001b[39;00m\u001b[38;5;21;01mparse\u001b[39;00m \u001b[38;5;28;01mimport\u001b[39;00m urlparse\n",
       "\u001b[0;32m---> 21\u001b[0m \u001b[38;5;28;01mimport\u001b[39;00m \u001b[38;5;21;01maiohttp\u001b[39;00m\n",
       "\u001b[1;32m     22\u001b[0m \u001b[38;5;28;01mfrom\u001b[39;00m \u001b[38;5;21;01maiolimiter\u001b[39;00m \u001b[38;5;28;01mimport\u001b[39;00m AsyncLimiter\n",
       "\u001b[1;32m     23\u001b[0m \u001b[38;5;28;01mfrom\u001b[39;00m \u001b[38;5;21;01mbs4\u001b[39;00m \u001b[38;5;28;01mimport\u001b[39;00m BeautifulSoup\n",
       "\n",
       "\u001b[0;31mModuleNotFoundError\u001b[0m: No module named 'aiohttp'"
      ]
     },
     "metadata": {
      "application/vnd.databricks.v1+output": {
       "addedWidgets": {},
       "arguments": {},
       "datasetInfos": [],
       "jupyterProps": {
        "ename": "ModuleNotFoundError",
        "evalue": "No module named 'aiohttp'"
       },
       "metadata": {
        "errorSummary": "Command skipped"
       },
       "removedWidgets": [],
       "sqlProps": null,
       "stackFrames": [
        "\u001b[0;31m---------------------------------------------------------------------------\u001b[0m",
        "\u001b[0;31mModuleNotFoundError\u001b[0m                       Traceback (most recent call last)",
        "File \u001b[0;32m<command-4884005352694818>, line 21\u001b[0m\n\u001b[1;32m     18\u001b[0m \u001b[38;5;28;01mfrom\u001b[39;00m \u001b[38;5;21;01mtyping\u001b[39;00m \u001b[38;5;28;01mimport\u001b[39;00m Any, Optional, Union, Iterable, Sequence, List, Dict\n\u001b[1;32m     19\u001b[0m \u001b[38;5;28;01mfrom\u001b[39;00m \u001b[38;5;21;01murllib\u001b[39;00m\u001b[38;5;21;01m.\u001b[39;00m\u001b[38;5;21;01mparse\u001b[39;00m \u001b[38;5;28;01mimport\u001b[39;00m urlparse\n\u001b[0;32m---> 21\u001b[0m \u001b[38;5;28;01mimport\u001b[39;00m \u001b[38;5;21;01maiohttp\u001b[39;00m\n\u001b[1;32m     22\u001b[0m \u001b[38;5;28;01mfrom\u001b[39;00m \u001b[38;5;21;01maiolimiter\u001b[39;00m \u001b[38;5;28;01mimport\u001b[39;00m AsyncLimiter\n\u001b[1;32m     23\u001b[0m \u001b[38;5;28;01mfrom\u001b[39;00m \u001b[38;5;21;01mbs4\u001b[39;00m \u001b[38;5;28;01mimport\u001b[39;00m BeautifulSoup\n",
        "\u001b[0;31mModuleNotFoundError\u001b[0m: No module named 'aiohttp'"
       ],
       "type": "baseError"
      }
     },
     "output_type": "display_data"
    }
   ],
   "source": [
    "# DATABASE_NAME = \"huggingface\"\n",
    "\n",
    "# spark.sql(f\"CREATE SCHEMA IF NOT EXISTS hive_metastore.{DATABASE_NAME}\")\n",
    "# spark.sql(\"SHOW DATABASES\").show()"
   ]
  },
  {
   "cell_type": "markdown",
   "metadata": {
    "application/vnd.databricks.v1+cell": {
     "cellMetadata": {
      "byteLimit": 2048000,
      "rowLimit": 10000
     },
     "inputWidgets": {},
     "nuid": "77cebe4e-7f95-4a5d-81cd-4652c44e1b92",
     "showTitle": false,
     "tableResultSettingsMap": {},
     "title": ""
    }
   },
   "source": [
    "## 9-2. Save Table"
   ]
  },
  {
   "cell_type": "code",
   "execution_count": 0,
   "metadata": {
    "application/vnd.databricks.v1+cell": {
     "cellMetadata": {
      "byteLimit": 2048000,
      "rowLimit": 10000
     },
     "inputWidgets": {},
     "nuid": "835fa624-6e3b-4153-a2e4-0b9688298985",
     "showTitle": false,
     "tableResultSettingsMap": {},
     "title": ""
    }
   },
   "outputs": [
    {
     "data": {
      "text/plain": [
       "\u001b[0;31m---------------------------------------------------------------------------\u001b[0m\n",
       "\u001b[0;31mModuleNotFoundError\u001b[0m                       Traceback (most recent call last)\n",
       "File \u001b[0;32m<command-4884005352694818>, line 21\u001b[0m\n",
       "\u001b[1;32m     18\u001b[0m \u001b[38;5;28;01mfrom\u001b[39;00m \u001b[38;5;21;01mtyping\u001b[39;00m \u001b[38;5;28;01mimport\u001b[39;00m Any, Optional, Union, Iterable, Sequence, List, Dict\n",
       "\u001b[1;32m     19\u001b[0m \u001b[38;5;28;01mfrom\u001b[39;00m \u001b[38;5;21;01murllib\u001b[39;00m\u001b[38;5;21;01m.\u001b[39;00m\u001b[38;5;21;01mparse\u001b[39;00m \u001b[38;5;28;01mimport\u001b[39;00m urlparse\n",
       "\u001b[0;32m---> 21\u001b[0m \u001b[38;5;28;01mimport\u001b[39;00m \u001b[38;5;21;01maiohttp\u001b[39;00m\n",
       "\u001b[1;32m     22\u001b[0m \u001b[38;5;28;01mfrom\u001b[39;00m \u001b[38;5;21;01maiolimiter\u001b[39;00m \u001b[38;5;28;01mimport\u001b[39;00m AsyncLimiter\n",
       "\u001b[1;32m     23\u001b[0m \u001b[38;5;28;01mfrom\u001b[39;00m \u001b[38;5;21;01mbs4\u001b[39;00m \u001b[38;5;28;01mimport\u001b[39;00m BeautifulSoup\n",
       "\n",
       "\u001b[0;31mModuleNotFoundError\u001b[0m: No module named 'aiohttp'"
      ]
     },
     "metadata": {
      "application/vnd.databricks.v1+output": {
       "addedWidgets": {},
       "arguments": {},
       "datasetInfos": [],
       "jupyterProps": {
        "ename": "ModuleNotFoundError",
        "evalue": "No module named 'aiohttp'"
       },
       "metadata": {
        "errorSummary": "Command skipped"
       },
       "removedWidgets": [],
       "sqlProps": null,
       "stackFrames": [
        "\u001b[0;31m---------------------------------------------------------------------------\u001b[0m",
        "\u001b[0;31mModuleNotFoundError\u001b[0m                       Traceback (most recent call last)",
        "File \u001b[0;32m<command-4884005352694818>, line 21\u001b[0m\n\u001b[1;32m     18\u001b[0m \u001b[38;5;28;01mfrom\u001b[39;00m \u001b[38;5;21;01mtyping\u001b[39;00m \u001b[38;5;28;01mimport\u001b[39;00m Any, Optional, Union, Iterable, Sequence, List, Dict\n\u001b[1;32m     19\u001b[0m \u001b[38;5;28;01mfrom\u001b[39;00m \u001b[38;5;21;01murllib\u001b[39;00m\u001b[38;5;21;01m.\u001b[39;00m\u001b[38;5;21;01mparse\u001b[39;00m \u001b[38;5;28;01mimport\u001b[39;00m urlparse\n\u001b[0;32m---> 21\u001b[0m \u001b[38;5;28;01mimport\u001b[39;00m \u001b[38;5;21;01maiohttp\u001b[39;00m\n\u001b[1;32m     22\u001b[0m \u001b[38;5;28;01mfrom\u001b[39;00m \u001b[38;5;21;01maiolimiter\u001b[39;00m \u001b[38;5;28;01mimport\u001b[39;00m AsyncLimiter\n\u001b[1;32m     23\u001b[0m \u001b[38;5;28;01mfrom\u001b[39;00m \u001b[38;5;21;01mbs4\u001b[39;00m \u001b[38;5;28;01mimport\u001b[39;00m BeautifulSoup\n",
        "\u001b[0;31mModuleNotFoundError\u001b[0m: No module named 'aiohttp'"
       ],
       "type": "baseError"
      }
     },
     "output_type": "display_data"
    }
   ],
   "source": [
    "# df_list = [\n",
    "#   pd.read_csv(\"hf_metadata.csv\", encoding=ENCODING_TYPE),\n",
    "#   pd.read_csv(\"hf_files.csv\", encoding=ENCODING_TYPE),\n",
    "#   pd.read_csv(\"hf_community.csv\", encoding=ENCODING_TYPE)\n",
    "# ]\n",
    "\n",
    "# for df, tb_nm in zip(df_list, [\"hf_meta\", \"hf_files\", \"hf_community\"]):\n",
    "#   if isinstance(df, pd.DataFrame):\n",
    "#     df = spark.createDataFrame(df)\n",
    "  \n",
    "#   (\n",
    "#     df\n",
    "#     .write\n",
    "#     .format(\"delta\")\n",
    "#     .mode(\"overwrite\")\n",
    "#     # catalog.schema(database).table\n",
    "#     .saveAsTable(f\"hive_metastore.{DATABASE_NAME}.{tb_nm}\")\n",
    "#   )\n",
    "\n",
    "# print(f\"Delta Table 저장 완료\")"
   ]
  },
  {
   "cell_type": "markdown",
   "metadata": {
    "application/vnd.databricks.v1+cell": {
     "cellMetadata": {
      "byteLimit": 2048000,
      "rowLimit": 10000
     },
     "inputWidgets": {},
     "nuid": "51047ecb-2daa-4dd6-b1a9-d614a1530246",
     "showTitle": false,
     "tableResultSettingsMap": {},
     "title": ""
    }
   },
   "source": [
    "## 9-3. Delete Schema, Table"
   ]
  },
  {
   "cell_type": "code",
   "execution_count": 0,
   "metadata": {
    "application/vnd.databricks.v1+cell": {
     "cellMetadata": {
      "byteLimit": 2048000,
      "rowLimit": 10000
     },
     "inputWidgets": {},
     "nuid": "70a71a46-b6eb-4095-b72d-d3aa1e502d35",
     "showTitle": false,
     "tableResultSettingsMap": {},
     "title": ""
    }
   },
   "outputs": [
    {
     "data": {
      "text/plain": [
       "\u001b[0;31m---------------------------------------------------------------------------\u001b[0m\n",
       "\u001b[0;31mModuleNotFoundError\u001b[0m                       Traceback (most recent call last)\n",
       "File \u001b[0;32m<command-4884005352694818>, line 21\u001b[0m\n",
       "\u001b[1;32m     18\u001b[0m \u001b[38;5;28;01mfrom\u001b[39;00m \u001b[38;5;21;01mtyping\u001b[39;00m \u001b[38;5;28;01mimport\u001b[39;00m Any, Optional, Union, Iterable, Sequence, List, Dict\n",
       "\u001b[1;32m     19\u001b[0m \u001b[38;5;28;01mfrom\u001b[39;00m \u001b[38;5;21;01murllib\u001b[39;00m\u001b[38;5;21;01m.\u001b[39;00m\u001b[38;5;21;01mparse\u001b[39;00m \u001b[38;5;28;01mimport\u001b[39;00m urlparse\n",
       "\u001b[0;32m---> 21\u001b[0m \u001b[38;5;28;01mimport\u001b[39;00m \u001b[38;5;21;01maiohttp\u001b[39;00m\n",
       "\u001b[1;32m     22\u001b[0m \u001b[38;5;28;01mfrom\u001b[39;00m \u001b[38;5;21;01maiolimiter\u001b[39;00m \u001b[38;5;28;01mimport\u001b[39;00m AsyncLimiter\n",
       "\u001b[1;32m     23\u001b[0m \u001b[38;5;28;01mfrom\u001b[39;00m \u001b[38;5;21;01mbs4\u001b[39;00m \u001b[38;5;28;01mimport\u001b[39;00m BeautifulSoup\n",
       "\n",
       "\u001b[0;31mModuleNotFoundError\u001b[0m: No module named 'aiohttp'"
      ]
     },
     "metadata": {
      "application/vnd.databricks.v1+output": {
       "addedWidgets": {},
       "arguments": {},
       "datasetInfos": [],
       "jupyterProps": {
        "ename": "ModuleNotFoundError",
        "evalue": "No module named 'aiohttp'"
       },
       "metadata": {
        "errorSummary": "Command skipped"
       },
       "removedWidgets": [],
       "sqlProps": null,
       "stackFrames": [
        "\u001b[0;31m---------------------------------------------------------------------------\u001b[0m",
        "\u001b[0;31mModuleNotFoundError\u001b[0m                       Traceback (most recent call last)",
        "File \u001b[0;32m<command-4884005352694818>, line 21\u001b[0m\n\u001b[1;32m     18\u001b[0m \u001b[38;5;28;01mfrom\u001b[39;00m \u001b[38;5;21;01mtyping\u001b[39;00m \u001b[38;5;28;01mimport\u001b[39;00m Any, Optional, Union, Iterable, Sequence, List, Dict\n\u001b[1;32m     19\u001b[0m \u001b[38;5;28;01mfrom\u001b[39;00m \u001b[38;5;21;01murllib\u001b[39;00m\u001b[38;5;21;01m.\u001b[39;00m\u001b[38;5;21;01mparse\u001b[39;00m \u001b[38;5;28;01mimport\u001b[39;00m urlparse\n\u001b[0;32m---> 21\u001b[0m \u001b[38;5;28;01mimport\u001b[39;00m \u001b[38;5;21;01maiohttp\u001b[39;00m\n\u001b[1;32m     22\u001b[0m \u001b[38;5;28;01mfrom\u001b[39;00m \u001b[38;5;21;01maiolimiter\u001b[39;00m \u001b[38;5;28;01mimport\u001b[39;00m AsyncLimiter\n\u001b[1;32m     23\u001b[0m \u001b[38;5;28;01mfrom\u001b[39;00m \u001b[38;5;21;01mbs4\u001b[39;00m \u001b[38;5;28;01mimport\u001b[39;00m BeautifulSoup\n",
        "\u001b[0;31mModuleNotFoundError\u001b[0m: No module named 'aiohttp'"
       ],
       "type": "baseError"
      }
     },
     "output_type": "display_data"
    }
   ],
   "source": [
    "# DEL_DB_NAME = \"huggingface\"\n",
    "# spark.sql(f\"DROP SCHEMA hive_metastore.{DEL_DB_NAME} CASCADE\")\n",
    "# spark.sql(\"SHOW DATABASES\").show()"
   ]
  },
  {
   "cell_type": "markdown",
   "metadata": {
    "application/vnd.databricks.v1+cell": {
     "cellMetadata": {
      "byteLimit": 2048000,
      "rowLimit": 10000
     },
     "inputWidgets": {},
     "nuid": "881ed6e4-dd33-4ea0-a09f-82ffc9781532",
     "showTitle": false,
     "tableResultSettingsMap": {},
     "title": ""
    }
   },
   "source": [
    "# 10. Validation"
   ]
  },
  {
   "cell_type": "code",
   "execution_count": 0,
   "metadata": {
    "application/vnd.databricks.v1+cell": {
     "cellMetadata": {
      "byteLimit": 2048000,
      "rowLimit": 10000
     },
     "inputWidgets": {},
     "nuid": "858eb763-5f74-4565-94d9-9efe18c08f5c",
     "showTitle": false,
     "tableResultSettingsMap": {},
     "title": ""
    }
   },
   "outputs": [
    {
     "data": {
      "text/plain": [
       "\u001b[0;31m---------------------------------------------------------------------------\u001b[0m\n",
       "\u001b[0;31mModuleNotFoundError\u001b[0m                       Traceback (most recent call last)\n",
       "File \u001b[0;32m<command-4884005352694818>, line 21\u001b[0m\n",
       "\u001b[1;32m     18\u001b[0m \u001b[38;5;28;01mfrom\u001b[39;00m \u001b[38;5;21;01mtyping\u001b[39;00m \u001b[38;5;28;01mimport\u001b[39;00m Any, Optional, Union, Iterable, Sequence, List, Dict\n",
       "\u001b[1;32m     19\u001b[0m \u001b[38;5;28;01mfrom\u001b[39;00m \u001b[38;5;21;01murllib\u001b[39;00m\u001b[38;5;21;01m.\u001b[39;00m\u001b[38;5;21;01mparse\u001b[39;00m \u001b[38;5;28;01mimport\u001b[39;00m urlparse\n",
       "\u001b[0;32m---> 21\u001b[0m \u001b[38;5;28;01mimport\u001b[39;00m \u001b[38;5;21;01maiohttp\u001b[39;00m\n",
       "\u001b[1;32m     22\u001b[0m \u001b[38;5;28;01mfrom\u001b[39;00m \u001b[38;5;21;01maiolimiter\u001b[39;00m \u001b[38;5;28;01mimport\u001b[39;00m AsyncLimiter\n",
       "\u001b[1;32m     23\u001b[0m \u001b[38;5;28;01mfrom\u001b[39;00m \u001b[38;5;21;01mbs4\u001b[39;00m \u001b[38;5;28;01mimport\u001b[39;00m BeautifulSoup\n",
       "\n",
       "\u001b[0;31mModuleNotFoundError\u001b[0m: No module named 'aiohttp'"
      ]
     },
     "metadata": {
      "application/vnd.databricks.v1+output": {
       "addedWidgets": {},
       "arguments": {},
       "datasetInfos": [],
       "jupyterProps": {
        "ename": "ModuleNotFoundError",
        "evalue": "No module named 'aiohttp'"
       },
       "metadata": {
        "errorSummary": "Command skipped"
       },
       "removedWidgets": [],
       "sqlProps": null,
       "stackFrames": [
        "\u001b[0;31m---------------------------------------------------------------------------\u001b[0m",
        "\u001b[0;31mModuleNotFoundError\u001b[0m                       Traceback (most recent call last)",
        "File \u001b[0;32m<command-4884005352694818>, line 21\u001b[0m\n\u001b[1;32m     18\u001b[0m \u001b[38;5;28;01mfrom\u001b[39;00m \u001b[38;5;21;01mtyping\u001b[39;00m \u001b[38;5;28;01mimport\u001b[39;00m Any, Optional, Union, Iterable, Sequence, List, Dict\n\u001b[1;32m     19\u001b[0m \u001b[38;5;28;01mfrom\u001b[39;00m \u001b[38;5;21;01murllib\u001b[39;00m\u001b[38;5;21;01m.\u001b[39;00m\u001b[38;5;21;01mparse\u001b[39;00m \u001b[38;5;28;01mimport\u001b[39;00m urlparse\n\u001b[0;32m---> 21\u001b[0m \u001b[38;5;28;01mimport\u001b[39;00m \u001b[38;5;21;01maiohttp\u001b[39;00m\n\u001b[1;32m     22\u001b[0m \u001b[38;5;28;01mfrom\u001b[39;00m \u001b[38;5;21;01maiolimiter\u001b[39;00m \u001b[38;5;28;01mimport\u001b[39;00m AsyncLimiter\n\u001b[1;32m     23\u001b[0m \u001b[38;5;28;01mfrom\u001b[39;00m \u001b[38;5;21;01mbs4\u001b[39;00m \u001b[38;5;28;01mimport\u001b[39;00m BeautifulSoup\n",
        "\u001b[0;31mModuleNotFoundError\u001b[0m: No module named 'aiohttp'"
       ],
       "type": "baseError"
      }
     },
     "output_type": "display_data"
    }
   ],
   "source": [
    "pd.read_csv(\"hf_metadata.csv\", encoding=ENCODING_TYPE).head()"
   ]
  },
  {
   "cell_type": "code",
   "execution_count": 0,
   "metadata": {
    "application/vnd.databricks.v1+cell": {
     "cellMetadata": {
      "byteLimit": 2048000,
      "rowLimit": 10000
     },
     "inputWidgets": {},
     "nuid": "d77e49bb-0486-4747-81bd-bafa92d462ae",
     "showTitle": false,
     "tableResultSettingsMap": {},
     "title": ""
    }
   },
   "outputs": [
    {
     "data": {
      "text/plain": [
       "\u001b[0;31m---------------------------------------------------------------------------\u001b[0m\n",
       "\u001b[0;31mModuleNotFoundError\u001b[0m                       Traceback (most recent call last)\n",
       "File \u001b[0;32m<command-4884005352694818>, line 21\u001b[0m\n",
       "\u001b[1;32m     18\u001b[0m \u001b[38;5;28;01mfrom\u001b[39;00m \u001b[38;5;21;01mtyping\u001b[39;00m \u001b[38;5;28;01mimport\u001b[39;00m Any, Optional, Union, Iterable, Sequence, List, Dict\n",
       "\u001b[1;32m     19\u001b[0m \u001b[38;5;28;01mfrom\u001b[39;00m \u001b[38;5;21;01murllib\u001b[39;00m\u001b[38;5;21;01m.\u001b[39;00m\u001b[38;5;21;01mparse\u001b[39;00m \u001b[38;5;28;01mimport\u001b[39;00m urlparse\n",
       "\u001b[0;32m---> 21\u001b[0m \u001b[38;5;28;01mimport\u001b[39;00m \u001b[38;5;21;01maiohttp\u001b[39;00m\n",
       "\u001b[1;32m     22\u001b[0m \u001b[38;5;28;01mfrom\u001b[39;00m \u001b[38;5;21;01maiolimiter\u001b[39;00m \u001b[38;5;28;01mimport\u001b[39;00m AsyncLimiter\n",
       "\u001b[1;32m     23\u001b[0m \u001b[38;5;28;01mfrom\u001b[39;00m \u001b[38;5;21;01mbs4\u001b[39;00m \u001b[38;5;28;01mimport\u001b[39;00m BeautifulSoup\n",
       "\n",
       "\u001b[0;31mModuleNotFoundError\u001b[0m: No module named 'aiohttp'"
      ]
     },
     "metadata": {
      "application/vnd.databricks.v1+output": {
       "addedWidgets": {},
       "arguments": {},
       "datasetInfos": [],
       "jupyterProps": {
        "ename": "ModuleNotFoundError",
        "evalue": "No module named 'aiohttp'"
       },
       "metadata": {
        "errorSummary": "Command skipped"
       },
       "removedWidgets": [],
       "sqlProps": null,
       "stackFrames": [
        "\u001b[0;31m---------------------------------------------------------------------------\u001b[0m",
        "\u001b[0;31mModuleNotFoundError\u001b[0m                       Traceback (most recent call last)",
        "File \u001b[0;32m<command-4884005352694818>, line 21\u001b[0m\n\u001b[1;32m     18\u001b[0m \u001b[38;5;28;01mfrom\u001b[39;00m \u001b[38;5;21;01mtyping\u001b[39;00m \u001b[38;5;28;01mimport\u001b[39;00m Any, Optional, Union, Iterable, Sequence, List, Dict\n\u001b[1;32m     19\u001b[0m \u001b[38;5;28;01mfrom\u001b[39;00m \u001b[38;5;21;01murllib\u001b[39;00m\u001b[38;5;21;01m.\u001b[39;00m\u001b[38;5;21;01mparse\u001b[39;00m \u001b[38;5;28;01mimport\u001b[39;00m urlparse\n\u001b[0;32m---> 21\u001b[0m \u001b[38;5;28;01mimport\u001b[39;00m \u001b[38;5;21;01maiohttp\u001b[39;00m\n\u001b[1;32m     22\u001b[0m \u001b[38;5;28;01mfrom\u001b[39;00m \u001b[38;5;21;01maiolimiter\u001b[39;00m \u001b[38;5;28;01mimport\u001b[39;00m AsyncLimiter\n\u001b[1;32m     23\u001b[0m \u001b[38;5;28;01mfrom\u001b[39;00m \u001b[38;5;21;01mbs4\u001b[39;00m \u001b[38;5;28;01mimport\u001b[39;00m BeautifulSoup\n",
        "\u001b[0;31mModuleNotFoundError\u001b[0m: No module named 'aiohttp'"
       ],
       "type": "baseError"
      }
     },
     "output_type": "display_data"
    }
   ],
   "source": [
    "pd.read_csv(\"hf_files.csv\", encoding=ENCODING_TYPE).head()"
   ]
  },
  {
   "cell_type": "code",
   "execution_count": 0,
   "metadata": {
    "application/vnd.databricks.v1+cell": {
     "cellMetadata": {
      "byteLimit": 2048000,
      "rowLimit": 10000
     },
     "inputWidgets": {},
     "nuid": "78e6f9b4-967d-4cd2-8a25-b345dbfc92db",
     "showTitle": false,
     "tableResultSettingsMap": {},
     "title": ""
    }
   },
   "outputs": [
    {
     "data": {
      "text/plain": [
       "\u001b[0;31m---------------------------------------------------------------------------\u001b[0m\n",
       "\u001b[0;31mModuleNotFoundError\u001b[0m                       Traceback (most recent call last)\n",
       "File \u001b[0;32m<command-4884005352694818>, line 21\u001b[0m\n",
       "\u001b[1;32m     18\u001b[0m \u001b[38;5;28;01mfrom\u001b[39;00m \u001b[38;5;21;01mtyping\u001b[39;00m \u001b[38;5;28;01mimport\u001b[39;00m Any, Optional, Union, Iterable, Sequence, List, Dict\n",
       "\u001b[1;32m     19\u001b[0m \u001b[38;5;28;01mfrom\u001b[39;00m \u001b[38;5;21;01murllib\u001b[39;00m\u001b[38;5;21;01m.\u001b[39;00m\u001b[38;5;21;01mparse\u001b[39;00m \u001b[38;5;28;01mimport\u001b[39;00m urlparse\n",
       "\u001b[0;32m---> 21\u001b[0m \u001b[38;5;28;01mimport\u001b[39;00m \u001b[38;5;21;01maiohttp\u001b[39;00m\n",
       "\u001b[1;32m     22\u001b[0m \u001b[38;5;28;01mfrom\u001b[39;00m \u001b[38;5;21;01maiolimiter\u001b[39;00m \u001b[38;5;28;01mimport\u001b[39;00m AsyncLimiter\n",
       "\u001b[1;32m     23\u001b[0m \u001b[38;5;28;01mfrom\u001b[39;00m \u001b[38;5;21;01mbs4\u001b[39;00m \u001b[38;5;28;01mimport\u001b[39;00m BeautifulSoup\n",
       "\n",
       "\u001b[0;31mModuleNotFoundError\u001b[0m: No module named 'aiohttp'"
      ]
     },
     "metadata": {
      "application/vnd.databricks.v1+output": {
       "addedWidgets": {},
       "arguments": {},
       "datasetInfos": [],
       "jupyterProps": {
        "ename": "ModuleNotFoundError",
        "evalue": "No module named 'aiohttp'"
       },
       "metadata": {
        "errorSummary": "Command skipped"
       },
       "removedWidgets": [],
       "sqlProps": null,
       "stackFrames": [
        "\u001b[0;31m---------------------------------------------------------------------------\u001b[0m",
        "\u001b[0;31mModuleNotFoundError\u001b[0m                       Traceback (most recent call last)",
        "File \u001b[0;32m<command-4884005352694818>, line 21\u001b[0m\n\u001b[1;32m     18\u001b[0m \u001b[38;5;28;01mfrom\u001b[39;00m \u001b[38;5;21;01mtyping\u001b[39;00m \u001b[38;5;28;01mimport\u001b[39;00m Any, Optional, Union, Iterable, Sequence, List, Dict\n\u001b[1;32m     19\u001b[0m \u001b[38;5;28;01mfrom\u001b[39;00m \u001b[38;5;21;01murllib\u001b[39;00m\u001b[38;5;21;01m.\u001b[39;00m\u001b[38;5;21;01mparse\u001b[39;00m \u001b[38;5;28;01mimport\u001b[39;00m urlparse\n\u001b[0;32m---> 21\u001b[0m \u001b[38;5;28;01mimport\u001b[39;00m \u001b[38;5;21;01maiohttp\u001b[39;00m\n\u001b[1;32m     22\u001b[0m \u001b[38;5;28;01mfrom\u001b[39;00m \u001b[38;5;21;01maiolimiter\u001b[39;00m \u001b[38;5;28;01mimport\u001b[39;00m AsyncLimiter\n\u001b[1;32m     23\u001b[0m \u001b[38;5;28;01mfrom\u001b[39;00m \u001b[38;5;21;01mbs4\u001b[39;00m \u001b[38;5;28;01mimport\u001b[39;00m BeautifulSoup\n",
        "\u001b[0;31mModuleNotFoundError\u001b[0m: No module named 'aiohttp'"
       ],
       "type": "baseError"
      }
     },
     "output_type": "display_data"
    }
   ],
   "source": [
    "pd.read_csv(\"hf_community.csv\", encoding=ENCODING_TYPE).head()"
   ]
  },
  {
   "cell_type": "markdown",
   "metadata": {
    "application/vnd.databricks.v1+cell": {
     "cellMetadata": {
      "byteLimit": 2048000,
      "rowLimit": 10000
     },
     "inputWidgets": {},
     "nuid": "e10296be-3b6d-4d13-9f91-41b8110e0467",
     "showTitle": false,
     "tableResultSettingsMap": {},
     "title": ""
    }
   },
   "source": [
    "# 11. Save PostgreSQL Table (Azure VM)"
   ]
  },
  {
   "cell_type": "markdown",
   "metadata": {
    "application/vnd.databricks.v1+cell": {
     "cellMetadata": {
      "byteLimit": 2048000,
      "rowLimit": 10000
     },
     "inputWidgets": {},
     "nuid": "95245c06-7fa4-4d77-b557-6712dfb5f937",
     "showTitle": false,
     "tableResultSettingsMap": {},
     "title": ""
    }
   },
   "source": [
    "## 11-1. Install and Import Libraries"
   ]
  },
  {
   "cell_type": "code",
   "execution_count": 0,
   "metadata": {
    "application/vnd.databricks.v1+cell": {
     "cellMetadata": {
      "byteLimit": 2048000,
      "rowLimit": 10000
     },
     "inputWidgets": {},
     "nuid": "99f2b367-71e5-45e0-b5e8-ae9d2563a69a",
     "showTitle": false,
     "tableResultSettingsMap": {},
     "title": ""
    }
   },
   "outputs": [
    {
     "data": {
      "text/plain": [
       "\u001b[0;31m---------------------------------------------------------------------------\u001b[0m\n",
       "\u001b[0;31mModuleNotFoundError\u001b[0m                       Traceback (most recent call last)\n",
       "File \u001b[0;32m<command-4884005352694818>, line 21\u001b[0m\n",
       "\u001b[1;32m     18\u001b[0m \u001b[38;5;28;01mfrom\u001b[39;00m \u001b[38;5;21;01mtyping\u001b[39;00m \u001b[38;5;28;01mimport\u001b[39;00m Any, Optional, Union, Iterable, Sequence, List, Dict\n",
       "\u001b[1;32m     19\u001b[0m \u001b[38;5;28;01mfrom\u001b[39;00m \u001b[38;5;21;01murllib\u001b[39;00m\u001b[38;5;21;01m.\u001b[39;00m\u001b[38;5;21;01mparse\u001b[39;00m \u001b[38;5;28;01mimport\u001b[39;00m urlparse\n",
       "\u001b[0;32m---> 21\u001b[0m \u001b[38;5;28;01mimport\u001b[39;00m \u001b[38;5;21;01maiohttp\u001b[39;00m\n",
       "\u001b[1;32m     22\u001b[0m \u001b[38;5;28;01mfrom\u001b[39;00m \u001b[38;5;21;01maiolimiter\u001b[39;00m \u001b[38;5;28;01mimport\u001b[39;00m AsyncLimiter\n",
       "\u001b[1;32m     23\u001b[0m \u001b[38;5;28;01mfrom\u001b[39;00m \u001b[38;5;21;01mbs4\u001b[39;00m \u001b[38;5;28;01mimport\u001b[39;00m BeautifulSoup\n",
       "\n",
       "\u001b[0;31mModuleNotFoundError\u001b[0m: No module named 'aiohttp'"
      ]
     },
     "metadata": {
      "application/vnd.databricks.v1+output": {
       "addedWidgets": {},
       "arguments": {},
       "datasetInfos": [],
       "jupyterProps": {
        "ename": "ModuleNotFoundError",
        "evalue": "No module named 'aiohttp'"
       },
       "metadata": {
        "errorSummary": "Command skipped"
       },
       "removedWidgets": [],
       "sqlProps": null,
       "stackFrames": [
        "\u001b[0;31m---------------------------------------------------------------------------\u001b[0m",
        "\u001b[0;31mModuleNotFoundError\u001b[0m                       Traceback (most recent call last)",
        "File \u001b[0;32m<command-4884005352694818>, line 21\u001b[0m\n\u001b[1;32m     18\u001b[0m \u001b[38;5;28;01mfrom\u001b[39;00m \u001b[38;5;21;01mtyping\u001b[39;00m \u001b[38;5;28;01mimport\u001b[39;00m Any, Optional, Union, Iterable, Sequence, List, Dict\n\u001b[1;32m     19\u001b[0m \u001b[38;5;28;01mfrom\u001b[39;00m \u001b[38;5;21;01murllib\u001b[39;00m\u001b[38;5;21;01m.\u001b[39;00m\u001b[38;5;21;01mparse\u001b[39;00m \u001b[38;5;28;01mimport\u001b[39;00m urlparse\n\u001b[0;32m---> 21\u001b[0m \u001b[38;5;28;01mimport\u001b[39;00m \u001b[38;5;21;01maiohttp\u001b[39;00m\n\u001b[1;32m     22\u001b[0m \u001b[38;5;28;01mfrom\u001b[39;00m \u001b[38;5;21;01maiolimiter\u001b[39;00m \u001b[38;5;28;01mimport\u001b[39;00m AsyncLimiter\n\u001b[1;32m     23\u001b[0m \u001b[38;5;28;01mfrom\u001b[39;00m \u001b[38;5;21;01mbs4\u001b[39;00m \u001b[38;5;28;01mimport\u001b[39;00m BeautifulSoup\n",
        "\u001b[0;31mModuleNotFoundError\u001b[0m: No module named 'aiohttp'"
       ],
       "type": "baseError"
      }
     },
     "output_type": "display_data"
    }
   ],
   "source": [
    "%sh\n",
    "pip install --quiet psycopg2-binary"
   ]
  },
  {
   "cell_type": "code",
   "execution_count": 0,
   "metadata": {
    "application/vnd.databricks.v1+cell": {
     "cellMetadata": {
      "byteLimit": 2048000,
      "rowLimit": 10000
     },
     "inputWidgets": {},
     "nuid": "50fa27f3-6a15-42c9-b1c8-ee64c986ddbd",
     "showTitle": false,
     "tableResultSettingsMap": {},
     "title": ""
    }
   },
   "outputs": [
    {
     "data": {
      "text/plain": [
       "\u001b[0;31m---------------------------------------------------------------------------\u001b[0m\n",
       "\u001b[0;31mModuleNotFoundError\u001b[0m                       Traceback (most recent call last)\n",
       "File \u001b[0;32m<command-4884005352694818>, line 21\u001b[0m\n",
       "\u001b[1;32m     18\u001b[0m \u001b[38;5;28;01mfrom\u001b[39;00m \u001b[38;5;21;01mtyping\u001b[39;00m \u001b[38;5;28;01mimport\u001b[39;00m Any, Optional, Union, Iterable, Sequence, List, Dict\n",
       "\u001b[1;32m     19\u001b[0m \u001b[38;5;28;01mfrom\u001b[39;00m \u001b[38;5;21;01murllib\u001b[39;00m\u001b[38;5;21;01m.\u001b[39;00m\u001b[38;5;21;01mparse\u001b[39;00m \u001b[38;5;28;01mimport\u001b[39;00m urlparse\n",
       "\u001b[0;32m---> 21\u001b[0m \u001b[38;5;28;01mimport\u001b[39;00m \u001b[38;5;21;01maiohttp\u001b[39;00m\n",
       "\u001b[1;32m     22\u001b[0m \u001b[38;5;28;01mfrom\u001b[39;00m \u001b[38;5;21;01maiolimiter\u001b[39;00m \u001b[38;5;28;01mimport\u001b[39;00m AsyncLimiter\n",
       "\u001b[1;32m     23\u001b[0m \u001b[38;5;28;01mfrom\u001b[39;00m \u001b[38;5;21;01mbs4\u001b[39;00m \u001b[38;5;28;01mimport\u001b[39;00m BeautifulSoup\n",
       "\n",
       "\u001b[0;31mModuleNotFoundError\u001b[0m: No module named 'aiohttp'"
      ]
     },
     "metadata": {
      "application/vnd.databricks.v1+output": {
       "addedWidgets": {},
       "arguments": {},
       "datasetInfos": [],
       "jupyterProps": {
        "ename": "ModuleNotFoundError",
        "evalue": "No module named 'aiohttp'"
       },
       "metadata": {
        "errorSummary": "Command skipped"
       },
       "removedWidgets": [],
       "sqlProps": null,
       "stackFrames": [
        "\u001b[0;31m---------------------------------------------------------------------------\u001b[0m",
        "\u001b[0;31mModuleNotFoundError\u001b[0m                       Traceback (most recent call last)",
        "File \u001b[0;32m<command-4884005352694818>, line 21\u001b[0m\n\u001b[1;32m     18\u001b[0m \u001b[38;5;28;01mfrom\u001b[39;00m \u001b[38;5;21;01mtyping\u001b[39;00m \u001b[38;5;28;01mimport\u001b[39;00m Any, Optional, Union, Iterable, Sequence, List, Dict\n\u001b[1;32m     19\u001b[0m \u001b[38;5;28;01mfrom\u001b[39;00m \u001b[38;5;21;01murllib\u001b[39;00m\u001b[38;5;21;01m.\u001b[39;00m\u001b[38;5;21;01mparse\u001b[39;00m \u001b[38;5;28;01mimport\u001b[39;00m urlparse\n\u001b[0;32m---> 21\u001b[0m \u001b[38;5;28;01mimport\u001b[39;00m \u001b[38;5;21;01maiohttp\u001b[39;00m\n\u001b[1;32m     22\u001b[0m \u001b[38;5;28;01mfrom\u001b[39;00m \u001b[38;5;21;01maiolimiter\u001b[39;00m \u001b[38;5;28;01mimport\u001b[39;00m AsyncLimiter\n\u001b[1;32m     23\u001b[0m \u001b[38;5;28;01mfrom\u001b[39;00m \u001b[38;5;21;01mbs4\u001b[39;00m \u001b[38;5;28;01mimport\u001b[39;00m BeautifulSoup\n",
        "\u001b[0;31mModuleNotFoundError\u001b[0m: No module named 'aiohttp'"
       ],
       "type": "baseError"
      }
     },
     "output_type": "display_data"
    }
   ],
   "source": [
    "from typing import Union\n",
    "import pandas as pd\n",
    "import psycopg2\n",
    "import pyspark\n",
    "from pyspark import sql as pysql\n",
    "from pyspark.sql import SparkSession\n",
    "from pyspark.sql.types import (\n",
    "    StructType, StructField,\n",
    "    StringType, ShortType, IntegerType, LongType, DoubleType, BooleanType,\n",
    "    TimestampType, ArrayType, MapType\n",
    ")\n",
    "from pyspark.sql import functions as F"
   ]
  },
  {
   "cell_type": "markdown",
   "metadata": {
    "application/vnd.databricks.v1+cell": {
     "cellMetadata": {
      "byteLimit": 2048000,
      "rowLimit": 10000
     },
     "inputWidgets": {},
     "nuid": "67ff3158-ccf7-46cf-8a6b-edfba7a50c7f",
     "showTitle": false,
     "tableResultSettingsMap": {},
     "title": ""
    }
   },
   "source": [
    "## 11-2. Show Database"
   ]
  },
  {
   "cell_type": "code",
   "execution_count": null,
   "metadata": {},
   "outputs": [],
   "source": [
    "global_host = \"YOUR_HOST\"\n",
    "global_port = \"YOUR_PORT\"\n",
    "global_user = \"YOUR_USER\"\n",
    "global_password = \"YOUR_PASSWORD\""
   ]
  },
  {
   "cell_type": "code",
   "execution_count": 0,
   "metadata": {
    "application/vnd.databricks.v1+cell": {
     "cellMetadata": {
      "byteLimit": 2048000,
      "rowLimit": 10000
     },
     "inputWidgets": {},
     "nuid": "4c59d8b6-ef46-48fa-b685-75139d550f86",
     "showTitle": false,
     "tableResultSettingsMap": {},
     "title": ""
    }
   },
   "outputs": [
    {
     "data": {
      "text/plain": [
       "\u001b[0;31m---------------------------------------------------------------------------\u001b[0m\n",
       "\u001b[0;31mModuleNotFoundError\u001b[0m                       Traceback (most recent call last)\n",
       "File \u001b[0;32m<command-4884005352694818>, line 21\u001b[0m\n",
       "\u001b[1;32m     18\u001b[0m \u001b[38;5;28;01mfrom\u001b[39;00m \u001b[38;5;21;01mtyping\u001b[39;00m \u001b[38;5;28;01mimport\u001b[39;00m Any, Optional, Union, Iterable, Sequence, List, Dict\n",
       "\u001b[1;32m     19\u001b[0m \u001b[38;5;28;01mfrom\u001b[39;00m \u001b[38;5;21;01murllib\u001b[39;00m\u001b[38;5;21;01m.\u001b[39;00m\u001b[38;5;21;01mparse\u001b[39;00m \u001b[38;5;28;01mimport\u001b[39;00m urlparse\n",
       "\u001b[0;32m---> 21\u001b[0m \u001b[38;5;28;01mimport\u001b[39;00m \u001b[38;5;21;01maiohttp\u001b[39;00m\n",
       "\u001b[1;32m     22\u001b[0m \u001b[38;5;28;01mfrom\u001b[39;00m \u001b[38;5;21;01maiolimiter\u001b[39;00m \u001b[38;5;28;01mimport\u001b[39;00m AsyncLimiter\n",
       "\u001b[1;32m     23\u001b[0m \u001b[38;5;28;01mfrom\u001b[39;00m \u001b[38;5;21;01mbs4\u001b[39;00m \u001b[38;5;28;01mimport\u001b[39;00m BeautifulSoup\n",
       "\n",
       "\u001b[0;31mModuleNotFoundError\u001b[0m: No module named 'aiohttp'"
      ]
     },
     "metadata": {
      "application/vnd.databricks.v1+output": {
       "addedWidgets": {},
       "arguments": {},
       "datasetInfos": [],
       "jupyterProps": {
        "ename": "ModuleNotFoundError",
        "evalue": "No module named 'aiohttp'"
       },
       "metadata": {
        "errorSummary": "Command skipped"
       },
       "removedWidgets": [],
       "sqlProps": null,
       "stackFrames": [
        "\u001b[0;31m---------------------------------------------------------------------------\u001b[0m",
        "\u001b[0;31mModuleNotFoundError\u001b[0m                       Traceback (most recent call last)",
        "File \u001b[0;32m<command-4884005352694818>, line 21\u001b[0m\n\u001b[1;32m     18\u001b[0m \u001b[38;5;28;01mfrom\u001b[39;00m \u001b[38;5;21;01mtyping\u001b[39;00m \u001b[38;5;28;01mimport\u001b[39;00m Any, Optional, Union, Iterable, Sequence, List, Dict\n\u001b[1;32m     19\u001b[0m \u001b[38;5;28;01mfrom\u001b[39;00m \u001b[38;5;21;01murllib\u001b[39;00m\u001b[38;5;21;01m.\u001b[39;00m\u001b[38;5;21;01mparse\u001b[39;00m \u001b[38;5;28;01mimport\u001b[39;00m urlparse\n\u001b[0;32m---> 21\u001b[0m \u001b[38;5;28;01mimport\u001b[39;00m \u001b[38;5;21;01maiohttp\u001b[39;00m\n\u001b[1;32m     22\u001b[0m \u001b[38;5;28;01mfrom\u001b[39;00m \u001b[38;5;21;01maiolimiter\u001b[39;00m \u001b[38;5;28;01mimport\u001b[39;00m AsyncLimiter\n\u001b[1;32m     23\u001b[0m \u001b[38;5;28;01mfrom\u001b[39;00m \u001b[38;5;21;01mbs4\u001b[39;00m \u001b[38;5;28;01mimport\u001b[39;00m BeautifulSoup\n",
        "\u001b[0;31mModuleNotFoundError\u001b[0m: No module named 'aiohttp'"
       ],
       "type": "baseError"
      }
     },
     "output_type": "display_data"
    }
   ],
   "source": [
    "def show_databases() -> None:\n",
    "    host = global_host\n",
    "    port = global_port\n",
    "    user = global_user\n",
    "    password = global_password\n",
    "\n",
    "    jdbc_url = f\"jdbc:postgresql://{host}:{port}/postgres?user={user}&password={password}\"\n",
    "    query = \"(SELECT datname FROM pg_database WHERE datistemplate = false) AS databases\"\n",
    "    df = spark.read.jdbc(url=jdbc_url, table=query, properties={\"driver\": \"org.postgresql.Driver\"})\n",
    "    df.show(truncate=False)"
   ]
  },
  {
   "cell_type": "markdown",
   "metadata": {
    "application/vnd.databricks.v1+cell": {
     "cellMetadata": {
      "byteLimit": 2048000,
      "rowLimit": 10000
     },
     "inputWidgets": {},
     "nuid": "5c490140-0146-43aa-9d49-395c4a4235ce",
     "showTitle": false,
     "tableResultSettingsMap": {},
     "title": ""
    }
   },
   "source": [
    "## 11-3. Show Schema"
   ]
  },
  {
   "cell_type": "code",
   "execution_count": 0,
   "metadata": {
    "application/vnd.databricks.v1+cell": {
     "cellMetadata": {
      "byteLimit": 2048000,
      "rowLimit": 10000
     },
     "inputWidgets": {},
     "nuid": "b85d3e0a-b900-4b83-bb13-28ccec0775bf",
     "showTitle": false,
     "tableResultSettingsMap": {},
     "title": ""
    }
   },
   "outputs": [
    {
     "data": {
      "text/plain": [
       "\u001b[0;31m---------------------------------------------------------------------------\u001b[0m\n",
       "\u001b[0;31mModuleNotFoundError\u001b[0m                       Traceback (most recent call last)\n",
       "File \u001b[0;32m<command-4884005352694818>, line 21\u001b[0m\n",
       "\u001b[1;32m     18\u001b[0m \u001b[38;5;28;01mfrom\u001b[39;00m \u001b[38;5;21;01mtyping\u001b[39;00m \u001b[38;5;28;01mimport\u001b[39;00m Any, Optional, Union, Iterable, Sequence, List, Dict\n",
       "\u001b[1;32m     19\u001b[0m \u001b[38;5;28;01mfrom\u001b[39;00m \u001b[38;5;21;01murllib\u001b[39;00m\u001b[38;5;21;01m.\u001b[39;00m\u001b[38;5;21;01mparse\u001b[39;00m \u001b[38;5;28;01mimport\u001b[39;00m urlparse\n",
       "\u001b[0;32m---> 21\u001b[0m \u001b[38;5;28;01mimport\u001b[39;00m \u001b[38;5;21;01maiohttp\u001b[39;00m\n",
       "\u001b[1;32m     22\u001b[0m \u001b[38;5;28;01mfrom\u001b[39;00m \u001b[38;5;21;01maiolimiter\u001b[39;00m \u001b[38;5;28;01mimport\u001b[39;00m AsyncLimiter\n",
       "\u001b[1;32m     23\u001b[0m \u001b[38;5;28;01mfrom\u001b[39;00m \u001b[38;5;21;01mbs4\u001b[39;00m \u001b[38;5;28;01mimport\u001b[39;00m BeautifulSoup\n",
       "\n",
       "\u001b[0;31mModuleNotFoundError\u001b[0m: No module named 'aiohttp'"
      ]
     },
     "metadata": {
      "application/vnd.databricks.v1+output": {
       "addedWidgets": {},
       "arguments": {},
       "datasetInfos": [],
       "jupyterProps": {
        "ename": "ModuleNotFoundError",
        "evalue": "No module named 'aiohttp'"
       },
       "metadata": {
        "errorSummary": "Command skipped"
       },
       "removedWidgets": [],
       "sqlProps": null,
       "stackFrames": [
        "\u001b[0;31m---------------------------------------------------------------------------\u001b[0m",
        "\u001b[0;31mModuleNotFoundError\u001b[0m                       Traceback (most recent call last)",
        "File \u001b[0;32m<command-4884005352694818>, line 21\u001b[0m\n\u001b[1;32m     18\u001b[0m \u001b[38;5;28;01mfrom\u001b[39;00m \u001b[38;5;21;01mtyping\u001b[39;00m \u001b[38;5;28;01mimport\u001b[39;00m Any, Optional, Union, Iterable, Sequence, List, Dict\n\u001b[1;32m     19\u001b[0m \u001b[38;5;28;01mfrom\u001b[39;00m \u001b[38;5;21;01murllib\u001b[39;00m\u001b[38;5;21;01m.\u001b[39;00m\u001b[38;5;21;01mparse\u001b[39;00m \u001b[38;5;28;01mimport\u001b[39;00m urlparse\n\u001b[0;32m---> 21\u001b[0m \u001b[38;5;28;01mimport\u001b[39;00m \u001b[38;5;21;01maiohttp\u001b[39;00m\n\u001b[1;32m     22\u001b[0m \u001b[38;5;28;01mfrom\u001b[39;00m \u001b[38;5;21;01maiolimiter\u001b[39;00m \u001b[38;5;28;01mimport\u001b[39;00m AsyncLimiter\n\u001b[1;32m     23\u001b[0m \u001b[38;5;28;01mfrom\u001b[39;00m \u001b[38;5;21;01mbs4\u001b[39;00m \u001b[38;5;28;01mimport\u001b[39;00m BeautifulSoup\n",
        "\u001b[0;31mModuleNotFoundError\u001b[0m: No module named 'aiohttp'"
       ],
       "type": "baseError"
      }
     },
     "output_type": "display_data"
    }
   ],
   "source": [
    "def show_schemas(database: str = \"postgres\") -> None:\n",
    "    host = global_host\n",
    "    port = global_port\n",
    "    user = global_user\n",
    "    password = global_password\n",
    "\n",
    "    jdbc_url = f\"jdbc:postgresql://{host}:{port}/{database}?user={user}&password={password}\"\n",
    "    query = \"(SELECT schema_name FROM information_schema.schemata) AS schemas\"\n",
    "    df = spark.read.jdbc(url=jdbc_url, table=query, properties={\"driver\": \"org.postgresql.Driver\"})\n",
    "    df.show(truncate=False)"
   ]
  },
  {
   "cell_type": "markdown",
   "metadata": {
    "application/vnd.databricks.v1+cell": {
     "cellMetadata": {
      "byteLimit": 2048000,
      "rowLimit": 10000
     },
     "inputWidgets": {},
     "nuid": "0a3ab98c-0c21-450a-b384-05aad23588db",
     "showTitle": false,
     "tableResultSettingsMap": {},
     "title": ""
    }
   },
   "source": [
    "## 11-4. Show Table"
   ]
  },
  {
   "cell_type": "code",
   "execution_count": 0,
   "metadata": {
    "application/vnd.databricks.v1+cell": {
     "cellMetadata": {
      "byteLimit": 2048000,
      "rowLimit": 10000
     },
     "inputWidgets": {},
     "nuid": "f9dbac12-7543-47e5-b60a-a8e05704d744",
     "showTitle": false,
     "tableResultSettingsMap": {},
     "title": ""
    }
   },
   "outputs": [
    {
     "data": {
      "text/plain": [
       "\u001b[0;31m---------------------------------------------------------------------------\u001b[0m\n",
       "\u001b[0;31mModuleNotFoundError\u001b[0m                       Traceback (most recent call last)\n",
       "File \u001b[0;32m<command-4884005352694818>, line 21\u001b[0m\n",
       "\u001b[1;32m     18\u001b[0m \u001b[38;5;28;01mfrom\u001b[39;00m \u001b[38;5;21;01mtyping\u001b[39;00m \u001b[38;5;28;01mimport\u001b[39;00m Any, Optional, Union, Iterable, Sequence, List, Dict\n",
       "\u001b[1;32m     19\u001b[0m \u001b[38;5;28;01mfrom\u001b[39;00m \u001b[38;5;21;01murllib\u001b[39;00m\u001b[38;5;21;01m.\u001b[39;00m\u001b[38;5;21;01mparse\u001b[39;00m \u001b[38;5;28;01mimport\u001b[39;00m urlparse\n",
       "\u001b[0;32m---> 21\u001b[0m \u001b[38;5;28;01mimport\u001b[39;00m \u001b[38;5;21;01maiohttp\u001b[39;00m\n",
       "\u001b[1;32m     22\u001b[0m \u001b[38;5;28;01mfrom\u001b[39;00m \u001b[38;5;21;01maiolimiter\u001b[39;00m \u001b[38;5;28;01mimport\u001b[39;00m AsyncLimiter\n",
       "\u001b[1;32m     23\u001b[0m \u001b[38;5;28;01mfrom\u001b[39;00m \u001b[38;5;21;01mbs4\u001b[39;00m \u001b[38;5;28;01mimport\u001b[39;00m BeautifulSoup\n",
       "\n",
       "\u001b[0;31mModuleNotFoundError\u001b[0m: No module named 'aiohttp'"
      ]
     },
     "metadata": {
      "application/vnd.databricks.v1+output": {
       "addedWidgets": {},
       "arguments": {},
       "datasetInfos": [],
       "jupyterProps": {
        "ename": "ModuleNotFoundError",
        "evalue": "No module named 'aiohttp'"
       },
       "metadata": {
        "errorSummary": "Command skipped"
       },
       "removedWidgets": [],
       "sqlProps": null,
       "stackFrames": [
        "\u001b[0;31m---------------------------------------------------------------------------\u001b[0m",
        "\u001b[0;31mModuleNotFoundError\u001b[0m                       Traceback (most recent call last)",
        "File \u001b[0;32m<command-4884005352694818>, line 21\u001b[0m\n\u001b[1;32m     18\u001b[0m \u001b[38;5;28;01mfrom\u001b[39;00m \u001b[38;5;21;01mtyping\u001b[39;00m \u001b[38;5;28;01mimport\u001b[39;00m Any, Optional, Union, Iterable, Sequence, List, Dict\n\u001b[1;32m     19\u001b[0m \u001b[38;5;28;01mfrom\u001b[39;00m \u001b[38;5;21;01murllib\u001b[39;00m\u001b[38;5;21;01m.\u001b[39;00m\u001b[38;5;21;01mparse\u001b[39;00m \u001b[38;5;28;01mimport\u001b[39;00m urlparse\n\u001b[0;32m---> 21\u001b[0m \u001b[38;5;28;01mimport\u001b[39;00m \u001b[38;5;21;01maiohttp\u001b[39;00m\n\u001b[1;32m     22\u001b[0m \u001b[38;5;28;01mfrom\u001b[39;00m \u001b[38;5;21;01maiolimiter\u001b[39;00m \u001b[38;5;28;01mimport\u001b[39;00m AsyncLimiter\n\u001b[1;32m     23\u001b[0m \u001b[38;5;28;01mfrom\u001b[39;00m \u001b[38;5;21;01mbs4\u001b[39;00m \u001b[38;5;28;01mimport\u001b[39;00m BeautifulSoup\n",
        "\u001b[0;31mModuleNotFoundError\u001b[0m: No module named 'aiohttp'"
       ],
       "type": "baseError"
      }
     },
     "output_type": "display_data"
    }
   ],
   "source": [
    "def show_tables(schema: str, database: str = \"postgres\") -> None:\n",
    "    host = global_host\n",
    "    port = global_port\n",
    "    user = global_user\n",
    "    password = global_password\n",
    "\n",
    "    jdbc_url = f\"jdbc:postgresql://{host}:{port}/{database}?user={user}&password={password}\"\n",
    "    query = f\"\"\"\n",
    "        (SELECT table_name\n",
    "         FROM information_schema.tables\n",
    "         WHERE table_type='BASE TABLE'\n",
    "           AND table_schema = '{schema}'\n",
    "         ORDER BY table_name) AS tables\n",
    "    \"\"\"\n",
    "    df = spark.read.jdbc(url=jdbc_url, table=query, properties={\"driver\": \"org.postgresql.Driver\"})\n",
    "    df.show(truncate=False)"
   ]
  },
  {
   "cell_type": "markdown",
   "metadata": {
    "application/vnd.databricks.v1+cell": {
     "cellMetadata": {
      "byteLimit": 2048000,
      "rowLimit": 10000
     },
     "inputWidgets": {},
     "nuid": "61683eb7-f519-4e8a-b91d-cb01673612bc",
     "showTitle": false,
     "tableResultSettingsMap": {},
     "title": ""
    }
   },
   "source": [
    "## 11-5. Show Data (in specific table)"
   ]
  },
  {
   "cell_type": "code",
   "execution_count": 0,
   "metadata": {
    "application/vnd.databricks.v1+cell": {
     "cellMetadata": {
      "byteLimit": 2048000,
      "rowLimit": 10000
     },
     "inputWidgets": {},
     "nuid": "635c641f-76fb-4821-b426-23def41d2de2",
     "showTitle": false,
     "tableResultSettingsMap": {},
     "title": ""
    }
   },
   "outputs": [
    {
     "data": {
      "text/plain": [
       "\u001b[0;31m---------------------------------------------------------------------------\u001b[0m\n",
       "\u001b[0;31mModuleNotFoundError\u001b[0m                       Traceback (most recent call last)\n",
       "File \u001b[0;32m<command-4884005352694818>, line 21\u001b[0m\n",
       "\u001b[1;32m     18\u001b[0m \u001b[38;5;28;01mfrom\u001b[39;00m \u001b[38;5;21;01mtyping\u001b[39;00m \u001b[38;5;28;01mimport\u001b[39;00m Any, Optional, Union, Iterable, Sequence, List, Dict\n",
       "\u001b[1;32m     19\u001b[0m \u001b[38;5;28;01mfrom\u001b[39;00m \u001b[38;5;21;01murllib\u001b[39;00m\u001b[38;5;21;01m.\u001b[39;00m\u001b[38;5;21;01mparse\u001b[39;00m \u001b[38;5;28;01mimport\u001b[39;00m urlparse\n",
       "\u001b[0;32m---> 21\u001b[0m \u001b[38;5;28;01mimport\u001b[39;00m \u001b[38;5;21;01maiohttp\u001b[39;00m\n",
       "\u001b[1;32m     22\u001b[0m \u001b[38;5;28;01mfrom\u001b[39;00m \u001b[38;5;21;01maiolimiter\u001b[39;00m \u001b[38;5;28;01mimport\u001b[39;00m AsyncLimiter\n",
       "\u001b[1;32m     23\u001b[0m \u001b[38;5;28;01mfrom\u001b[39;00m \u001b[38;5;21;01mbs4\u001b[39;00m \u001b[38;5;28;01mimport\u001b[39;00m BeautifulSoup\n",
       "\n",
       "\u001b[0;31mModuleNotFoundError\u001b[0m: No module named 'aiohttp'"
      ]
     },
     "metadata": {
      "application/vnd.databricks.v1+output": {
       "addedWidgets": {},
       "arguments": {},
       "datasetInfos": [],
       "jupyterProps": {
        "ename": "ModuleNotFoundError",
        "evalue": "No module named 'aiohttp'"
       },
       "metadata": {
        "errorSummary": "Command skipped"
       },
       "removedWidgets": [],
       "sqlProps": null,
       "stackFrames": [
        "\u001b[0;31m---------------------------------------------------------------------------\u001b[0m",
        "\u001b[0;31mModuleNotFoundError\u001b[0m                       Traceback (most recent call last)",
        "File \u001b[0;32m<command-4884005352694818>, line 21\u001b[0m\n\u001b[1;32m     18\u001b[0m \u001b[38;5;28;01mfrom\u001b[39;00m \u001b[38;5;21;01mtyping\u001b[39;00m \u001b[38;5;28;01mimport\u001b[39;00m Any, Optional, Union, Iterable, Sequence, List, Dict\n\u001b[1;32m     19\u001b[0m \u001b[38;5;28;01mfrom\u001b[39;00m \u001b[38;5;21;01murllib\u001b[39;00m\u001b[38;5;21;01m.\u001b[39;00m\u001b[38;5;21;01mparse\u001b[39;00m \u001b[38;5;28;01mimport\u001b[39;00m urlparse\n\u001b[0;32m---> 21\u001b[0m \u001b[38;5;28;01mimport\u001b[39;00m \u001b[38;5;21;01maiohttp\u001b[39;00m\n\u001b[1;32m     22\u001b[0m \u001b[38;5;28;01mfrom\u001b[39;00m \u001b[38;5;21;01maiolimiter\u001b[39;00m \u001b[38;5;28;01mimport\u001b[39;00m AsyncLimiter\n\u001b[1;32m     23\u001b[0m \u001b[38;5;28;01mfrom\u001b[39;00m \u001b[38;5;21;01mbs4\u001b[39;00m \u001b[38;5;28;01mimport\u001b[39;00m BeautifulSoup\n",
        "\u001b[0;31mModuleNotFoundError\u001b[0m: No module named 'aiohttp'"
       ],
       "type": "baseError"
      }
     },
     "output_type": "display_data"
    }
   ],
   "source": [
    "def show_datas(schema: str, table: str, database: str = \"postgres\") -> None:\n",
    "    host = global_host\n",
    "    port = global_port\n",
    "    user = global_user\n",
    "    password = global_password\n",
    "\n",
    "    # DB 접속 URL\n",
    "    jdbc_url = f\"jdbc:postgresql://{host}:{port}/{database}\"\n",
    "\n",
    "    # 스키마.테이블 지정\n",
    "    dbtable = f\"{schema}.{table}\"\n",
    "    df = (\n",
    "        spark.read.format(\"jdbc\")\n",
    "        .option(\"url\", jdbc_url)\n",
    "        .option(\"user\", user)\n",
    "        .option(\"password\", password)\n",
    "        .option(\"driver\", \"org.postgresql.Driver\")\n",
    "        .option(\"dbtable\", dbtable)\n",
    "        .load()\n",
    "    )\n",
    "    df.show(truncate=False)"
   ]
  },
  {
   "cell_type": "markdown",
   "metadata": {
    "application/vnd.databricks.v1+cell": {
     "cellMetadata": {
      "byteLimit": 2048000,
      "rowLimit": 10000
     },
     "inputWidgets": {},
     "nuid": "ab83865d-1a12-4b6f-9c6d-fb38308cb051",
     "showTitle": false,
     "tableResultSettingsMap": {},
     "title": ""
    }
   },
   "source": [
    "## 11-6. Set Schema Using Pyspark StructType"
   ]
  },
  {
   "cell_type": "markdown",
   "metadata": {
    "application/vnd.databricks.v1+cell": {
     "cellMetadata": {
      "byteLimit": 2048000,
      "rowLimit": 10000
     },
     "inputWidgets": {},
     "nuid": "2993b2f9-61d3-4284-aa15-d981d10f8592",
     "showTitle": false,
     "tableResultSettingsMap": {},
     "title": ""
    }
   },
   "source": [
    "### 1. Metadata"
   ]
  },
  {
   "cell_type": "code",
   "execution_count": 0,
   "metadata": {
    "application/vnd.databricks.v1+cell": {
     "cellMetadata": {
      "byteLimit": 2048000,
      "rowLimit": 10000
     },
     "inputWidgets": {},
     "nuid": "13954321-815d-44f3-9520-7e807dbfe8f4",
     "showTitle": false,
     "tableResultSettingsMap": {},
     "title": ""
    }
   },
   "outputs": [
    {
     "data": {
      "text/plain": [
       "\u001b[0;31m---------------------------------------------------------------------------\u001b[0m\n",
       "\u001b[0;31mModuleNotFoundError\u001b[0m                       Traceback (most recent call last)\n",
       "File \u001b[0;32m<command-4884005352694818>, line 21\u001b[0m\n",
       "\u001b[1;32m     18\u001b[0m \u001b[38;5;28;01mfrom\u001b[39;00m \u001b[38;5;21;01mtyping\u001b[39;00m \u001b[38;5;28;01mimport\u001b[39;00m Any, Optional, Union, Iterable, Sequence, List, Dict\n",
       "\u001b[1;32m     19\u001b[0m \u001b[38;5;28;01mfrom\u001b[39;00m \u001b[38;5;21;01murllib\u001b[39;00m\u001b[38;5;21;01m.\u001b[39;00m\u001b[38;5;21;01mparse\u001b[39;00m \u001b[38;5;28;01mimport\u001b[39;00m urlparse\n",
       "\u001b[0;32m---> 21\u001b[0m \u001b[38;5;28;01mimport\u001b[39;00m \u001b[38;5;21;01maiohttp\u001b[39;00m\n",
       "\u001b[1;32m     22\u001b[0m \u001b[38;5;28;01mfrom\u001b[39;00m \u001b[38;5;21;01maiolimiter\u001b[39;00m \u001b[38;5;28;01mimport\u001b[39;00m AsyncLimiter\n",
       "\u001b[1;32m     23\u001b[0m \u001b[38;5;28;01mfrom\u001b[39;00m \u001b[38;5;21;01mbs4\u001b[39;00m \u001b[38;5;28;01mimport\u001b[39;00m BeautifulSoup\n",
       "\n",
       "\u001b[0;31mModuleNotFoundError\u001b[0m: No module named 'aiohttp'"
      ]
     },
     "metadata": {
      "application/vnd.databricks.v1+output": {
       "addedWidgets": {},
       "arguments": {},
       "datasetInfos": [],
       "jupyterProps": {
        "ename": "ModuleNotFoundError",
        "evalue": "No module named 'aiohttp'"
       },
       "metadata": {
        "errorSummary": "Command skipped"
       },
       "removedWidgets": [],
       "sqlProps": null,
       "stackFrames": [
        "\u001b[0;31m---------------------------------------------------------------------------\u001b[0m",
        "\u001b[0;31mModuleNotFoundError\u001b[0m                       Traceback (most recent call last)",
        "File \u001b[0;32m<command-4884005352694818>, line 21\u001b[0m\n\u001b[1;32m     18\u001b[0m \u001b[38;5;28;01mfrom\u001b[39;00m \u001b[38;5;21;01mtyping\u001b[39;00m \u001b[38;5;28;01mimport\u001b[39;00m Any, Optional, Union, Iterable, Sequence, List, Dict\n\u001b[1;32m     19\u001b[0m \u001b[38;5;28;01mfrom\u001b[39;00m \u001b[38;5;21;01murllib\u001b[39;00m\u001b[38;5;21;01m.\u001b[39;00m\u001b[38;5;21;01mparse\u001b[39;00m \u001b[38;5;28;01mimport\u001b[39;00m urlparse\n\u001b[0;32m---> 21\u001b[0m \u001b[38;5;28;01mimport\u001b[39;00m \u001b[38;5;21;01maiohttp\u001b[39;00m\n\u001b[1;32m     22\u001b[0m \u001b[38;5;28;01mfrom\u001b[39;00m \u001b[38;5;21;01maiolimiter\u001b[39;00m \u001b[38;5;28;01mimport\u001b[39;00m AsyncLimiter\n\u001b[1;32m     23\u001b[0m \u001b[38;5;28;01mfrom\u001b[39;00m \u001b[38;5;21;01mbs4\u001b[39;00m \u001b[38;5;28;01mimport\u001b[39;00m BeautifulSoup\n",
        "\u001b[0;31mModuleNotFoundError\u001b[0m: No module named 'aiohttp'"
       ],
       "type": "baseError"
      }
     },
     "output_type": "display_data"
    }
   ],
   "source": [
    "meta_schema = StructType([\n",
    "    StructField(\"id\",                   StringType(),       False), # PK, NOT NULL\n",
    "    StructField(\"hexid\",                StringType(),       True),  # CHAR(24)\n",
    "    StructField(\"sha\",                  StringType(),       True),  # CHAR(40)\n",
    "    StructField(\"author\",               StringType(),       True),  # \n",
    "    StructField(\"private\",              BooleanType(),      True),  # \n",
    "    StructField(\"disabled\",             BooleanType(),      True),  # \n",
    "    StructField(\"gated\",                StringType(),       True),  #   \n",
    "    StructField(\"pipeline_tag\",         StringType(),       True),  # \n",
    "    StructField(\"library_name\",         StringType(),       True),  # \n",
    "    StructField(\"tags\",                 StringType(),       True),  # '[\"a\",\"b\"]' 같은 문자열\n",
    "    StructField(\"likes\",                IntegerType(),      True),  # \n",
    "    StructField(\"downloads\",            IntegerType(),      True),  # \n",
    "    StructField(\"trending_score\",       DoubleType(),       False), # NOT NULL \n",
    "    StructField(\"created_at\",           TimestampType(),    True),  # \n",
    "    StructField(\"last_modified\",        TimestampType(),    True),  # \n",
    "    StructField(\"config\",               StringType(),       True),  # JSON 문자열\n",
    "    StructField(\"card_data\",            StringType(),       True),  # JSON 문자열\n",
    "    StructField(\"safetensors\",          StringType(),       True),  # JSON 문자열\n",
    "    StructField(\"spaces\",               StringType(),       True),  # '[\"a\",\"b\"]' 같은 문자열\n",
    "    StructField(\"transformers_info\",    StringType(),       True),  # JSON 문자열\n",
    "    StructField(\"used_storage\",         LongType(),         True),  # \n",
    "    StructField(\"readme\",               StringType(),       True),  # \n",
    "\n",
    "    StructField(\"model_index\",          StringType(),       True),  # '[\"a\",\"b\"]' 같은 문자열\n",
    "    StructField(\"gguf\",                 StringType(),       True),  # \n",
    "    StructField(\"inference\",            StringType(),       True),  # \n",
    "    StructField(\"mask_token\",           StringType(),       True),  # \n",
    "    StructField(\"widget_data\",          StringType(),       True),  # \n",
    "    StructField(\"security_repo_status\", StringType(),       True)   # \n",
    "])"
   ]
  },
  {
   "cell_type": "markdown",
   "metadata": {
    "application/vnd.databricks.v1+cell": {
     "cellMetadata": {
      "byteLimit": 2048000,
      "rowLimit": 10000
     },
     "inputWidgets": {},
     "nuid": "31beb7c4-ccf6-44f2-ad68-d3fda25af26a",
     "showTitle": false,
     "tableResultSettingsMap": {},
     "title": ""
    }
   },
   "source": [
    "### 2. Files"
   ]
  },
  {
   "cell_type": "code",
   "execution_count": 0,
   "metadata": {
    "application/vnd.databricks.v1+cell": {
     "cellMetadata": {
      "byteLimit": 2048000,
      "rowLimit": 10000
     },
     "inputWidgets": {},
     "nuid": "0d3b96a4-a14f-41d1-b644-375b63f6c5ae",
     "showTitle": false,
     "tableResultSettingsMap": {},
     "title": ""
    }
   },
   "outputs": [
    {
     "data": {
      "text/plain": [
       "\u001b[0;31m---------------------------------------------------------------------------\u001b[0m\n",
       "\u001b[0;31mModuleNotFoundError\u001b[0m                       Traceback (most recent call last)\n",
       "File \u001b[0;32m<command-4884005352694818>, line 21\u001b[0m\n",
       "\u001b[1;32m     18\u001b[0m \u001b[38;5;28;01mfrom\u001b[39;00m \u001b[38;5;21;01mtyping\u001b[39;00m \u001b[38;5;28;01mimport\u001b[39;00m Any, Optional, Union, Iterable, Sequence, List, Dict\n",
       "\u001b[1;32m     19\u001b[0m \u001b[38;5;28;01mfrom\u001b[39;00m \u001b[38;5;21;01murllib\u001b[39;00m\u001b[38;5;21;01m.\u001b[39;00m\u001b[38;5;21;01mparse\u001b[39;00m \u001b[38;5;28;01mimport\u001b[39;00m urlparse\n",
       "\u001b[0;32m---> 21\u001b[0m \u001b[38;5;28;01mimport\u001b[39;00m \u001b[38;5;21;01maiohttp\u001b[39;00m\n",
       "\u001b[1;32m     22\u001b[0m \u001b[38;5;28;01mfrom\u001b[39;00m \u001b[38;5;21;01maiolimiter\u001b[39;00m \u001b[38;5;28;01mimport\u001b[39;00m AsyncLimiter\n",
       "\u001b[1;32m     23\u001b[0m \u001b[38;5;28;01mfrom\u001b[39;00m \u001b[38;5;21;01mbs4\u001b[39;00m \u001b[38;5;28;01mimport\u001b[39;00m BeautifulSoup\n",
       "\n",
       "\u001b[0;31mModuleNotFoundError\u001b[0m: No module named 'aiohttp'"
      ]
     },
     "metadata": {
      "application/vnd.databricks.v1+output": {
       "addedWidgets": {},
       "arguments": {},
       "datasetInfos": [],
       "jupyterProps": {
        "ename": "ModuleNotFoundError",
        "evalue": "No module named 'aiohttp'"
       },
       "metadata": {
        "errorSummary": "Command skipped"
       },
       "removedWidgets": [],
       "sqlProps": null,
       "stackFrames": [
        "\u001b[0;31m---------------------------------------------------------------------------\u001b[0m",
        "\u001b[0;31mModuleNotFoundError\u001b[0m                       Traceback (most recent call last)",
        "File \u001b[0;32m<command-4884005352694818>, line 21\u001b[0m\n\u001b[1;32m     18\u001b[0m \u001b[38;5;28;01mfrom\u001b[39;00m \u001b[38;5;21;01mtyping\u001b[39;00m \u001b[38;5;28;01mimport\u001b[39;00m Any, Optional, Union, Iterable, Sequence, List, Dict\n\u001b[1;32m     19\u001b[0m \u001b[38;5;28;01mfrom\u001b[39;00m \u001b[38;5;21;01murllib\u001b[39;00m\u001b[38;5;21;01m.\u001b[39;00m\u001b[38;5;21;01mparse\u001b[39;00m \u001b[38;5;28;01mimport\u001b[39;00m urlparse\n\u001b[0;32m---> 21\u001b[0m \u001b[38;5;28;01mimport\u001b[39;00m \u001b[38;5;21;01maiohttp\u001b[39;00m\n\u001b[1;32m     22\u001b[0m \u001b[38;5;28;01mfrom\u001b[39;00m \u001b[38;5;21;01maiolimiter\u001b[39;00m \u001b[38;5;28;01mimport\u001b[39;00m AsyncLimiter\n\u001b[1;32m     23\u001b[0m \u001b[38;5;28;01mfrom\u001b[39;00m \u001b[38;5;21;01mbs4\u001b[39;00m \u001b[38;5;28;01mimport\u001b[39;00m BeautifulSoup\n",
        "\u001b[0;31mModuleNotFoundError\u001b[0m: No module named 'aiohttp'"
       ],
       "type": "baseError"
      }
     },
     "output_type": "display_data"
    }
   ],
   "source": [
    "file_schema = StructType([\n",
    "    StructField(\"model_id\",        StringType(),    False), # FK, NOT NULL\n",
    "    StructField(\"type\",            StringType(),    False), # NOT NULL\n",
    "    StructField(\"oid\",             StringType(),    False), # NOT NULL (CHAR(40))\n",
    "    StructField(\"size\",            LongType(),      False), # NOT NULL\n",
    "    StructField(\"path\",            StringType(),    True),  # \n",
    "    StructField(\"lfs_oid\",         StringType(),    True),  # CHAR(64)\n",
    "    StructField(\"lfs_size\",        LongType(),      True),  # \n",
    "    StructField(\"lfs_pointerSize\", IntegerType(),   True),  # \n",
    "    StructField(\"xetHash\",         StringType(),    True)   # CHAR(64)\n",
    "])"
   ]
  },
  {
   "cell_type": "markdown",
   "metadata": {
    "application/vnd.databricks.v1+cell": {
     "cellMetadata": {
      "byteLimit": 2048000,
      "rowLimit": 10000
     },
     "inputWidgets": {},
     "nuid": "ce908947-43ab-40d7-8125-7310878acf49",
     "showTitle": false,
     "tableResultSettingsMap": {},
     "title": ""
    }
   },
   "source": [
    "### 3. Community"
   ]
  },
  {
   "cell_type": "code",
   "execution_count": 0,
   "metadata": {
    "application/vnd.databricks.v1+cell": {
     "cellMetadata": {
      "byteLimit": 2048000,
      "rowLimit": 10000
     },
     "inputWidgets": {},
     "nuid": "69d38c3d-022d-4e3b-89e6-5fa4b195e4f6",
     "showTitle": false,
     "tableResultSettingsMap": {},
     "title": ""
    }
   },
   "outputs": [
    {
     "data": {
      "text/plain": [
       "\u001b[0;31m---------------------------------------------------------------------------\u001b[0m\n",
       "\u001b[0;31mModuleNotFoundError\u001b[0m                       Traceback (most recent call last)\n",
       "File \u001b[0;32m<command-4884005352694818>, line 21\u001b[0m\n",
       "\u001b[1;32m     18\u001b[0m \u001b[38;5;28;01mfrom\u001b[39;00m \u001b[38;5;21;01mtyping\u001b[39;00m \u001b[38;5;28;01mimport\u001b[39;00m Any, Optional, Union, Iterable, Sequence, List, Dict\n",
       "\u001b[1;32m     19\u001b[0m \u001b[38;5;28;01mfrom\u001b[39;00m \u001b[38;5;21;01murllib\u001b[39;00m\u001b[38;5;21;01m.\u001b[39;00m\u001b[38;5;21;01mparse\u001b[39;00m \u001b[38;5;28;01mimport\u001b[39;00m urlparse\n",
       "\u001b[0;32m---> 21\u001b[0m \u001b[38;5;28;01mimport\u001b[39;00m \u001b[38;5;21;01maiohttp\u001b[39;00m\n",
       "\u001b[1;32m     22\u001b[0m \u001b[38;5;28;01mfrom\u001b[39;00m \u001b[38;5;21;01maiolimiter\u001b[39;00m \u001b[38;5;28;01mimport\u001b[39;00m AsyncLimiter\n",
       "\u001b[1;32m     23\u001b[0m \u001b[38;5;28;01mfrom\u001b[39;00m \u001b[38;5;21;01mbs4\u001b[39;00m \u001b[38;5;28;01mimport\u001b[39;00m BeautifulSoup\n",
       "\n",
       "\u001b[0;31mModuleNotFoundError\u001b[0m: No module named 'aiohttp'"
      ]
     },
     "metadata": {
      "application/vnd.databricks.v1+output": {
       "addedWidgets": {},
       "arguments": {},
       "datasetInfos": [],
       "jupyterProps": {
        "ename": "ModuleNotFoundError",
        "evalue": "No module named 'aiohttp'"
       },
       "metadata": {
        "errorSummary": "Command skipped"
       },
       "removedWidgets": [],
       "sqlProps": null,
       "stackFrames": [
        "\u001b[0;31m---------------------------------------------------------------------------\u001b[0m",
        "\u001b[0;31mModuleNotFoundError\u001b[0m                       Traceback (most recent call last)",
        "File \u001b[0;32m<command-4884005352694818>, line 21\u001b[0m\n\u001b[1;32m     18\u001b[0m \u001b[38;5;28;01mfrom\u001b[39;00m \u001b[38;5;21;01mtyping\u001b[39;00m \u001b[38;5;28;01mimport\u001b[39;00m Any, Optional, Union, Iterable, Sequence, List, Dict\n\u001b[1;32m     19\u001b[0m \u001b[38;5;28;01mfrom\u001b[39;00m \u001b[38;5;21;01murllib\u001b[39;00m\u001b[38;5;21;01m.\u001b[39;00m\u001b[38;5;21;01mparse\u001b[39;00m \u001b[38;5;28;01mimport\u001b[39;00m urlparse\n\u001b[0;32m---> 21\u001b[0m \u001b[38;5;28;01mimport\u001b[39;00m \u001b[38;5;21;01maiohttp\u001b[39;00m\n\u001b[1;32m     22\u001b[0m \u001b[38;5;28;01mfrom\u001b[39;00m \u001b[38;5;21;01maiolimiter\u001b[39;00m \u001b[38;5;28;01mimport\u001b[39;00m AsyncLimiter\n\u001b[1;32m     23\u001b[0m \u001b[38;5;28;01mfrom\u001b[39;00m \u001b[38;5;21;01mbs4\u001b[39;00m \u001b[38;5;28;01mimport\u001b[39;00m BeautifulSoup\n",
        "\u001b[0;31mModuleNotFoundError\u001b[0m: No module named 'aiohttp'"
       ],
       "type": "baseError"
      }
     },
     "output_type": "display_data"
    }
   ],
   "source": [
    "comu_schema = StructType([\n",
    "    StructField(\"model_id\",                     StringType(),       False), # FK, NOT NULL\n",
    "    StructField(\"num\",                          IntegerType(),      False), # PK*, NOT NULL\n",
    "    StructField(\"title\",                        StringType(),       True),  # \n",
    "    StructField(\"status\",                       StringType(),       True),  # \n",
    "    StructField(\"createdAt\",                    TimestampType(),    True),  # \n",
    "    StructField(\"isPullRequest\",                BooleanType(),      True),  # \n",
    "    StructField(\"numComments\",                  IntegerType(),      True),  # \n",
    "    StructField(\"topReactions\",                 StringType(),       True),  # JSON 문자열\n",
    "    StructField(\"numReactionUsers\",             IntegerType(),      True),  # \n",
    "    StructField(\"pinned\",                       BooleanType(),      True),  # \n",
    "    StructField(\"author__id\",                   StringType(),       True),  # CHAR(24)\n",
    "    StructField(\"author_avatarUrl\",             StringType(),       True),  # \n",
    "    StructField(\"author_fullname\",              StringType(),       True),  # \n",
    "    StructField(\"author_name\",                  StringType(),       True),  # \n",
    "    StructField(\"author_type\",                  StringType(),       True),  # \n",
    "    StructField(\"author_isPro\",                 BooleanType(),      False), # \n",
    "    StructField(\"author_isHf\",                  BooleanType(),      False), # \n",
    "    StructField(\"author_isHfAdmin\",             BooleanType(),      False), # \n",
    "    StructField(\"author_isMod\",                 BooleanType(),      False), # \n",
    "    StructField(\"repo_name\",                    StringType(),       False), # PK*, NOT NULL\n",
    "    StructField(\"repo_type\",                    StringType(),       True),  # \n",
    "    StructField(\"repoOwner_name\",               StringType(),       True),  # \n",
    "    StructField(\"repoOwner_isParticipating\",    BooleanType(),      True),  # \n",
    "    StructField(\"repoOwner_type\",               StringType(),       True),  # \n",
    "    StructField(\"repoOwner_isDiscussionAuthor\", BooleanType(),      True),  # \n",
    "    StructField(\"author_followerCount\",         DoubleType(),       True),  # \n",
    "])"
   ]
  },
  {
   "cell_type": "markdown",
   "metadata": {
    "application/vnd.databricks.v1+cell": {
     "cellMetadata": {
      "byteLimit": 2048000,
      "rowLimit": 10000
     },
     "inputWidgets": {},
     "nuid": "218a5cc6-b35e-4375-9859-f9a614ccafdc",
     "showTitle": false,
     "tableResultSettingsMap": {},
     "title": ""
    }
   },
   "source": [
    "## 11-7. Create PostgreSQL Schema"
   ]
  },
  {
   "cell_type": "code",
   "execution_count": 0,
   "metadata": {
    "application/vnd.databricks.v1+cell": {
     "cellMetadata": {
      "byteLimit": 2048000,
      "rowLimit": 10000
     },
     "inputWidgets": {},
     "nuid": "a7284760-0e74-41bd-9179-ed9ba829f4f0",
     "showTitle": false,
     "tableResultSettingsMap": {},
     "title": ""
    }
   },
   "outputs": [
    {
     "data": {
      "text/plain": [
       "\u001b[0;31m---------------------------------------------------------------------------\u001b[0m\n",
       "\u001b[0;31mModuleNotFoundError\u001b[0m                       Traceback (most recent call last)\n",
       "File \u001b[0;32m<command-4884005352694818>, line 21\u001b[0m\n",
       "\u001b[1;32m     18\u001b[0m \u001b[38;5;28;01mfrom\u001b[39;00m \u001b[38;5;21;01mtyping\u001b[39;00m \u001b[38;5;28;01mimport\u001b[39;00m Any, Optional, Union, Iterable, Sequence, List, Dict\n",
       "\u001b[1;32m     19\u001b[0m \u001b[38;5;28;01mfrom\u001b[39;00m \u001b[38;5;21;01murllib\u001b[39;00m\u001b[38;5;21;01m.\u001b[39;00m\u001b[38;5;21;01mparse\u001b[39;00m \u001b[38;5;28;01mimport\u001b[39;00m urlparse\n",
       "\u001b[0;32m---> 21\u001b[0m \u001b[38;5;28;01mimport\u001b[39;00m \u001b[38;5;21;01maiohttp\u001b[39;00m\n",
       "\u001b[1;32m     22\u001b[0m \u001b[38;5;28;01mfrom\u001b[39;00m \u001b[38;5;21;01maiolimiter\u001b[39;00m \u001b[38;5;28;01mimport\u001b[39;00m AsyncLimiter\n",
       "\u001b[1;32m     23\u001b[0m \u001b[38;5;28;01mfrom\u001b[39;00m \u001b[38;5;21;01mbs4\u001b[39;00m \u001b[38;5;28;01mimport\u001b[39;00m BeautifulSoup\n",
       "\n",
       "\u001b[0;31mModuleNotFoundError\u001b[0m: No module named 'aiohttp'"
      ]
     },
     "metadata": {
      "application/vnd.databricks.v1+output": {
       "addedWidgets": {},
       "arguments": {},
       "datasetInfos": [],
       "jupyterProps": {
        "ename": "ModuleNotFoundError",
        "evalue": "No module named 'aiohttp'"
       },
       "metadata": {
        "errorSummary": "Command skipped"
       },
       "removedWidgets": [],
       "sqlProps": null,
       "stackFrames": [
        "\u001b[0;31m---------------------------------------------------------------------------\u001b[0m",
        "\u001b[0;31mModuleNotFoundError\u001b[0m                       Traceback (most recent call last)",
        "File \u001b[0;32m<command-4884005352694818>, line 21\u001b[0m\n\u001b[1;32m     18\u001b[0m \u001b[38;5;28;01mfrom\u001b[39;00m \u001b[38;5;21;01mtyping\u001b[39;00m \u001b[38;5;28;01mimport\u001b[39;00m Any, Optional, Union, Iterable, Sequence, List, Dict\n\u001b[1;32m     19\u001b[0m \u001b[38;5;28;01mfrom\u001b[39;00m \u001b[38;5;21;01murllib\u001b[39;00m\u001b[38;5;21;01m.\u001b[39;00m\u001b[38;5;21;01mparse\u001b[39;00m \u001b[38;5;28;01mimport\u001b[39;00m urlparse\n\u001b[0;32m---> 21\u001b[0m \u001b[38;5;28;01mimport\u001b[39;00m \u001b[38;5;21;01maiohttp\u001b[39;00m\n\u001b[1;32m     22\u001b[0m \u001b[38;5;28;01mfrom\u001b[39;00m \u001b[38;5;21;01maiolimiter\u001b[39;00m \u001b[38;5;28;01mimport\u001b[39;00m AsyncLimiter\n\u001b[1;32m     23\u001b[0m \u001b[38;5;28;01mfrom\u001b[39;00m \u001b[38;5;21;01mbs4\u001b[39;00m \u001b[38;5;28;01mimport\u001b[39;00m BeautifulSoup\n",
        "\u001b[0;31mModuleNotFoundError\u001b[0m: No module named 'aiohttp'"
       ],
       "type": "baseError"
      }
     },
     "output_type": "display_data"
    }
   ],
   "source": [
    "SCHEMA_LEVEL = \"bronze\"\n",
    "META_TABLE_NAME = \"brz_hf_meta\"\n",
    "FILE_TABLE_NAME = \"brz_hf_files\"\n",
    "COMU_TABLE_NAME = \"brz_hf_community\""
   ]
  },
  {
   "cell_type": "code",
   "execution_count": 0,
   "metadata": {
    "application/vnd.databricks.v1+cell": {
     "cellMetadata": {
      "byteLimit": 2048000,
      "rowLimit": 10000
     },
     "inputWidgets": {},
     "nuid": "223a0e21-a44d-465a-b014-dac807078934",
     "showTitle": false,
     "tableResultSettingsMap": {},
     "title": ""
    }
   },
   "outputs": [
    {
     "data": {
      "text/plain": [
       "\u001b[0;31m---------------------------------------------------------------------------\u001b[0m\n",
       "\u001b[0;31mModuleNotFoundError\u001b[0m                       Traceback (most recent call last)\n",
       "File \u001b[0;32m<command-4884005352694818>, line 21\u001b[0m\n",
       "\u001b[1;32m     18\u001b[0m \u001b[38;5;28;01mfrom\u001b[39;00m \u001b[38;5;21;01mtyping\u001b[39;00m \u001b[38;5;28;01mimport\u001b[39;00m Any, Optional, Union, Iterable, Sequence, List, Dict\n",
       "\u001b[1;32m     19\u001b[0m \u001b[38;5;28;01mfrom\u001b[39;00m \u001b[38;5;21;01murllib\u001b[39;00m\u001b[38;5;21;01m.\u001b[39;00m\u001b[38;5;21;01mparse\u001b[39;00m \u001b[38;5;28;01mimport\u001b[39;00m urlparse\n",
       "\u001b[0;32m---> 21\u001b[0m \u001b[38;5;28;01mimport\u001b[39;00m \u001b[38;5;21;01maiohttp\u001b[39;00m\n",
       "\u001b[1;32m     22\u001b[0m \u001b[38;5;28;01mfrom\u001b[39;00m \u001b[38;5;21;01maiolimiter\u001b[39;00m \u001b[38;5;28;01mimport\u001b[39;00m AsyncLimiter\n",
       "\u001b[1;32m     23\u001b[0m \u001b[38;5;28;01mfrom\u001b[39;00m \u001b[38;5;21;01mbs4\u001b[39;00m \u001b[38;5;28;01mimport\u001b[39;00m BeautifulSoup\n",
       "\n",
       "\u001b[0;31mModuleNotFoundError\u001b[0m: No module named 'aiohttp'"
      ]
     },
     "metadata": {
      "application/vnd.databricks.v1+output": {
       "addedWidgets": {},
       "arguments": {},
       "datasetInfos": [],
       "jupyterProps": {
        "ename": "ModuleNotFoundError",
        "evalue": "No module named 'aiohttp'"
       },
       "metadata": {
        "errorSummary": "Command skipped"
       },
       "removedWidgets": [],
       "sqlProps": null,
       "stackFrames": [
        "\u001b[0;31m---------------------------------------------------------------------------\u001b[0m",
        "\u001b[0;31mModuleNotFoundError\u001b[0m                       Traceback (most recent call last)",
        "File \u001b[0;32m<command-4884005352694818>, line 21\u001b[0m\n\u001b[1;32m     18\u001b[0m \u001b[38;5;28;01mfrom\u001b[39;00m \u001b[38;5;21;01mtyping\u001b[39;00m \u001b[38;5;28;01mimport\u001b[39;00m Any, Optional, Union, Iterable, Sequence, List, Dict\n\u001b[1;32m     19\u001b[0m \u001b[38;5;28;01mfrom\u001b[39;00m \u001b[38;5;21;01murllib\u001b[39;00m\u001b[38;5;21;01m.\u001b[39;00m\u001b[38;5;21;01mparse\u001b[39;00m \u001b[38;5;28;01mimport\u001b[39;00m urlparse\n\u001b[0;32m---> 21\u001b[0m \u001b[38;5;28;01mimport\u001b[39;00m \u001b[38;5;21;01maiohttp\u001b[39;00m\n\u001b[1;32m     22\u001b[0m \u001b[38;5;28;01mfrom\u001b[39;00m \u001b[38;5;21;01maiolimiter\u001b[39;00m \u001b[38;5;28;01mimport\u001b[39;00m AsyncLimiter\n\u001b[1;32m     23\u001b[0m \u001b[38;5;28;01mfrom\u001b[39;00m \u001b[38;5;21;01mbs4\u001b[39;00m \u001b[38;5;28;01mimport\u001b[39;00m BeautifulSoup\n",
        "\u001b[0;31mModuleNotFoundError\u001b[0m: No module named 'aiohttp'"
       ],
       "type": "baseError"
      }
     },
     "output_type": "display_data"
    }
   ],
   "source": [
    "conn = psycopg2.connect(\n",
    "    host=global_host,\n",
    "    port=global_port,\n",
    "    dbname=\"postgres\",\n",
    "    user=global_user,\n",
    "    password=global_password\n",
    ")\n",
    "cur = conn.cursor()"
   ]
  },
  {
   "cell_type": "markdown",
   "metadata": {
    "application/vnd.databricks.v1+cell": {
     "cellMetadata": {
      "byteLimit": 2048000,
      "rowLimit": 10000
     },
     "inputWidgets": {},
     "nuid": "7c0e31a0-d4be-4c4c-8aca-a59cffab88f0",
     "showTitle": false,
     "tableResultSettingsMap": {},
     "title": ""
    }
   },
   "source": [
    "### 0. DROP CASCADE"
   ]
  },
  {
   "cell_type": "code",
   "execution_count": 0,
   "metadata": {
    "application/vnd.databricks.v1+cell": {
     "cellMetadata": {
      "byteLimit": 2048000,
      "rowLimit": 10000
     },
     "inputWidgets": {},
     "nuid": "fc65d2cd-ed0a-47b0-a45c-8399e3bbb809",
     "showTitle": false,
     "tableResultSettingsMap": {},
     "title": ""
    }
   },
   "outputs": [
    {
     "data": {
      "text/plain": [
       "\u001b[0;31m---------------------------------------------------------------------------\u001b[0m\n",
       "\u001b[0;31mModuleNotFoundError\u001b[0m                       Traceback (most recent call last)\n",
       "File \u001b[0;32m<command-4884005352694818>, line 21\u001b[0m\n",
       "\u001b[1;32m     18\u001b[0m \u001b[38;5;28;01mfrom\u001b[39;00m \u001b[38;5;21;01mtyping\u001b[39;00m \u001b[38;5;28;01mimport\u001b[39;00m Any, Optional, Union, Iterable, Sequence, List, Dict\n",
       "\u001b[1;32m     19\u001b[0m \u001b[38;5;28;01mfrom\u001b[39;00m \u001b[38;5;21;01murllib\u001b[39;00m\u001b[38;5;21;01m.\u001b[39;00m\u001b[38;5;21;01mparse\u001b[39;00m \u001b[38;5;28;01mimport\u001b[39;00m urlparse\n",
       "\u001b[0;32m---> 21\u001b[0m \u001b[38;5;28;01mimport\u001b[39;00m \u001b[38;5;21;01maiohttp\u001b[39;00m\n",
       "\u001b[1;32m     22\u001b[0m \u001b[38;5;28;01mfrom\u001b[39;00m \u001b[38;5;21;01maiolimiter\u001b[39;00m \u001b[38;5;28;01mimport\u001b[39;00m AsyncLimiter\n",
       "\u001b[1;32m     23\u001b[0m \u001b[38;5;28;01mfrom\u001b[39;00m \u001b[38;5;21;01mbs4\u001b[39;00m \u001b[38;5;28;01mimport\u001b[39;00m BeautifulSoup\n",
       "\n",
       "\u001b[0;31mModuleNotFoundError\u001b[0m: No module named 'aiohttp'"
      ]
     },
     "metadata": {
      "application/vnd.databricks.v1+output": {
       "addedWidgets": {},
       "arguments": {},
       "datasetInfos": [],
       "jupyterProps": {
        "ename": "ModuleNotFoundError",
        "evalue": "No module named 'aiohttp'"
       },
       "metadata": {
        "errorSummary": "Command skipped"
       },
       "removedWidgets": [],
       "sqlProps": null,
       "stackFrames": [
        "\u001b[0;31m---------------------------------------------------------------------------\u001b[0m",
        "\u001b[0;31mModuleNotFoundError\u001b[0m                       Traceback (most recent call last)",
        "File \u001b[0;32m<command-4884005352694818>, line 21\u001b[0m\n\u001b[1;32m     18\u001b[0m \u001b[38;5;28;01mfrom\u001b[39;00m \u001b[38;5;21;01mtyping\u001b[39;00m \u001b[38;5;28;01mimport\u001b[39;00m Any, Optional, Union, Iterable, Sequence, List, Dict\n\u001b[1;32m     19\u001b[0m \u001b[38;5;28;01mfrom\u001b[39;00m \u001b[38;5;21;01murllib\u001b[39;00m\u001b[38;5;21;01m.\u001b[39;00m\u001b[38;5;21;01mparse\u001b[39;00m \u001b[38;5;28;01mimport\u001b[39;00m urlparse\n\u001b[0;32m---> 21\u001b[0m \u001b[38;5;28;01mimport\u001b[39;00m \u001b[38;5;21;01maiohttp\u001b[39;00m\n\u001b[1;32m     22\u001b[0m \u001b[38;5;28;01mfrom\u001b[39;00m \u001b[38;5;21;01maiolimiter\u001b[39;00m \u001b[38;5;28;01mimport\u001b[39;00m AsyncLimiter\n\u001b[1;32m     23\u001b[0m \u001b[38;5;28;01mfrom\u001b[39;00m \u001b[38;5;21;01mbs4\u001b[39;00m \u001b[38;5;28;01mimport\u001b[39;00m BeautifulSoup\n",
        "\u001b[0;31mModuleNotFoundError\u001b[0m: No module named 'aiohttp'"
       ],
       "type": "baseError"
      }
     },
     "output_type": "display_data"
    }
   ],
   "source": [
    "# 기존 테이블 드롭 (CASCADE 포함)\n",
    "cur.execute(f\"DROP TABLE IF EXISTS {SCHEMA_LEVEL}.{META_TABLE_NAME} CASCADE;\")"
   ]
  },
  {
   "cell_type": "markdown",
   "metadata": {
    "application/vnd.databricks.v1+cell": {
     "cellMetadata": {
      "byteLimit": 2048000,
      "rowLimit": 10000
     },
     "inputWidgets": {},
     "nuid": "37708e76-f2e2-4049-8e6a-b2e3a711b552",
     "showTitle": false,
     "tableResultSettingsMap": {},
     "title": ""
    }
   },
   "source": [
    "### 1. Metadata"
   ]
  },
  {
   "cell_type": "code",
   "execution_count": 0,
   "metadata": {
    "application/vnd.databricks.v1+cell": {
     "cellMetadata": {
      "byteLimit": 2048000,
      "implicitDf": true,
      "rowLimit": 10000
     },
     "inputWidgets": {},
     "nuid": "57956b0e-6761-4557-a144-fb2d6e2b4414",
     "showTitle": false,
     "tableResultSettingsMap": {},
     "title": ""
    }
   },
   "outputs": [
    {
     "data": {
      "text/plain": [
       "\u001b[0;31m---------------------------------------------------------------------------\u001b[0m\n",
       "\u001b[0;31mModuleNotFoundError\u001b[0m                       Traceback (most recent call last)\n",
       "File \u001b[0;32m<command-4884005352694818>, line 21\u001b[0m\n",
       "\u001b[1;32m     18\u001b[0m \u001b[38;5;28;01mfrom\u001b[39;00m \u001b[38;5;21;01mtyping\u001b[39;00m \u001b[38;5;28;01mimport\u001b[39;00m Any, Optional, Union, Iterable, Sequence, List, Dict\n",
       "\u001b[1;32m     19\u001b[0m \u001b[38;5;28;01mfrom\u001b[39;00m \u001b[38;5;21;01murllib\u001b[39;00m\u001b[38;5;21;01m.\u001b[39;00m\u001b[38;5;21;01mparse\u001b[39;00m \u001b[38;5;28;01mimport\u001b[39;00m urlparse\n",
       "\u001b[0;32m---> 21\u001b[0m \u001b[38;5;28;01mimport\u001b[39;00m \u001b[38;5;21;01maiohttp\u001b[39;00m\n",
       "\u001b[1;32m     22\u001b[0m \u001b[38;5;28;01mfrom\u001b[39;00m \u001b[38;5;21;01maiolimiter\u001b[39;00m \u001b[38;5;28;01mimport\u001b[39;00m AsyncLimiter\n",
       "\u001b[1;32m     23\u001b[0m \u001b[38;5;28;01mfrom\u001b[39;00m \u001b[38;5;21;01mbs4\u001b[39;00m \u001b[38;5;28;01mimport\u001b[39;00m BeautifulSoup\n",
       "\n",
       "\u001b[0;31mModuleNotFoundError\u001b[0m: No module named 'aiohttp'"
      ]
     },
     "metadata": {
      "application/vnd.databricks.v1+output": {
       "addedWidgets": {},
       "arguments": {},
       "datasetInfos": [],
       "jupyterProps": {
        "ename": "ModuleNotFoundError",
        "evalue": "No module named 'aiohttp'"
       },
       "metadata": {
        "errorSummary": "Command skipped"
       },
       "removedWidgets": [],
       "sqlProps": null,
       "stackFrames": [
        "\u001b[0;31m---------------------------------------------------------------------------\u001b[0m",
        "\u001b[0;31mModuleNotFoundError\u001b[0m                       Traceback (most recent call last)",
        "File \u001b[0;32m<command-4884005352694818>, line 21\u001b[0m\n\u001b[1;32m     18\u001b[0m \u001b[38;5;28;01mfrom\u001b[39;00m \u001b[38;5;21;01mtyping\u001b[39;00m \u001b[38;5;28;01mimport\u001b[39;00m Any, Optional, Union, Iterable, Sequence, List, Dict\n\u001b[1;32m     19\u001b[0m \u001b[38;5;28;01mfrom\u001b[39;00m \u001b[38;5;21;01murllib\u001b[39;00m\u001b[38;5;21;01m.\u001b[39;00m\u001b[38;5;21;01mparse\u001b[39;00m \u001b[38;5;28;01mimport\u001b[39;00m urlparse\n\u001b[0;32m---> 21\u001b[0m \u001b[38;5;28;01mimport\u001b[39;00m \u001b[38;5;21;01maiohttp\u001b[39;00m\n\u001b[1;32m     22\u001b[0m \u001b[38;5;28;01mfrom\u001b[39;00m \u001b[38;5;21;01maiolimiter\u001b[39;00m \u001b[38;5;28;01mimport\u001b[39;00m AsyncLimiter\n\u001b[1;32m     23\u001b[0m \u001b[38;5;28;01mfrom\u001b[39;00m \u001b[38;5;21;01mbs4\u001b[39;00m \u001b[38;5;28;01mimport\u001b[39;00m BeautifulSoup\n",
        "\u001b[0;31mModuleNotFoundError\u001b[0m: No module named 'aiohttp'"
       ],
       "type": "baseError"
      }
     },
     "output_type": "display_data"
    }
   ],
   "source": [
    "cur.execute(f\"\"\"\n",
    "CREATE TABLE IF NOT EXISTS {SCHEMA_LEVEL}.{META_TABLE_NAME} (\n",
    "  id                   varchar(255) NOT NULL PRIMARY KEY,\n",
    "  hexid                char(24),\n",
    "  sha                  char(40),\n",
    "  author               varchar(100),\n",
    "  private              boolean,\n",
    "  disabled             boolean,\n",
    "  gated                varchar(6),\n",
    "  pipeline_tag         varchar(100),\n",
    "  library_name         varchar(100),\n",
    "  tags                 text ,\n",
    "  likes                 double precision,\n",
    "  downloads             double precision,\n",
    "  trending_score        double precision,\n",
    "  created_at           timestamptz,\n",
    "  last_modified        timestamptz,\n",
    "  config                text,\n",
    "  card_data             text,\n",
    "  safetensors           text,\n",
    "  spaces                text,\n",
    "  transformers_info     text,\n",
    "  used_storage          double precision,\n",
    "  readme               text,\n",
    "  model_index          text ,\n",
    "  gguf                 text,\n",
    "  inference            text,\n",
    "  mask_token           text,\n",
    "  widget_data          text,\n",
    "  security_repo_status text\n",
    ");\n",
    "\"\"\")"
   ]
  },
  {
   "cell_type": "markdown",
   "metadata": {
    "application/vnd.databricks.v1+cell": {
     "cellMetadata": {
      "byteLimit": 2048000,
      "rowLimit": 10000
     },
     "inputWidgets": {},
     "nuid": "8f9ca4d3-e179-40f1-a360-394345c7ac94",
     "showTitle": false,
     "tableResultSettingsMap": {},
     "title": ""
    }
   },
   "source": [
    "### 2. Files"
   ]
  },
  {
   "cell_type": "code",
   "execution_count": 0,
   "metadata": {
    "application/vnd.databricks.v1+cell": {
     "cellMetadata": {
      "byteLimit": 2048000,
      "rowLimit": 10000
     },
     "inputWidgets": {},
     "nuid": "639554c4-4ae3-48d3-ae1c-be159977edb7",
     "showTitle": false,
     "tableResultSettingsMap": {},
     "title": ""
    }
   },
   "outputs": [
    {
     "data": {
      "text/plain": [
       "\u001b[0;31m---------------------------------------------------------------------------\u001b[0m\n",
       "\u001b[0;31mModuleNotFoundError\u001b[0m                       Traceback (most recent call last)\n",
       "File \u001b[0;32m<command-4884005352694818>, line 21\u001b[0m\n",
       "\u001b[1;32m     18\u001b[0m \u001b[38;5;28;01mfrom\u001b[39;00m \u001b[38;5;21;01mtyping\u001b[39;00m \u001b[38;5;28;01mimport\u001b[39;00m Any, Optional, Union, Iterable, Sequence, List, Dict\n",
       "\u001b[1;32m     19\u001b[0m \u001b[38;5;28;01mfrom\u001b[39;00m \u001b[38;5;21;01murllib\u001b[39;00m\u001b[38;5;21;01m.\u001b[39;00m\u001b[38;5;21;01mparse\u001b[39;00m \u001b[38;5;28;01mimport\u001b[39;00m urlparse\n",
       "\u001b[0;32m---> 21\u001b[0m \u001b[38;5;28;01mimport\u001b[39;00m \u001b[38;5;21;01maiohttp\u001b[39;00m\n",
       "\u001b[1;32m     22\u001b[0m \u001b[38;5;28;01mfrom\u001b[39;00m \u001b[38;5;21;01maiolimiter\u001b[39;00m \u001b[38;5;28;01mimport\u001b[39;00m AsyncLimiter\n",
       "\u001b[1;32m     23\u001b[0m \u001b[38;5;28;01mfrom\u001b[39;00m \u001b[38;5;21;01mbs4\u001b[39;00m \u001b[38;5;28;01mimport\u001b[39;00m BeautifulSoup\n",
       "\n",
       "\u001b[0;31mModuleNotFoundError\u001b[0m: No module named 'aiohttp'"
      ]
     },
     "metadata": {
      "application/vnd.databricks.v1+output": {
       "addedWidgets": {},
       "arguments": {},
       "datasetInfos": [],
       "jupyterProps": {
        "ename": "ModuleNotFoundError",
        "evalue": "No module named 'aiohttp'"
       },
       "metadata": {
        "errorSummary": "Command skipped"
       },
       "removedWidgets": [],
       "sqlProps": null,
       "stackFrames": [
        "\u001b[0;31m---------------------------------------------------------------------------\u001b[0m",
        "\u001b[0;31mModuleNotFoundError\u001b[0m                       Traceback (most recent call last)",
        "File \u001b[0;32m<command-4884005352694818>, line 21\u001b[0m\n\u001b[1;32m     18\u001b[0m \u001b[38;5;28;01mfrom\u001b[39;00m \u001b[38;5;21;01mtyping\u001b[39;00m \u001b[38;5;28;01mimport\u001b[39;00m Any, Optional, Union, Iterable, Sequence, List, Dict\n\u001b[1;32m     19\u001b[0m \u001b[38;5;28;01mfrom\u001b[39;00m \u001b[38;5;21;01murllib\u001b[39;00m\u001b[38;5;21;01m.\u001b[39;00m\u001b[38;5;21;01mparse\u001b[39;00m \u001b[38;5;28;01mimport\u001b[39;00m urlparse\n\u001b[0;32m---> 21\u001b[0m \u001b[38;5;28;01mimport\u001b[39;00m \u001b[38;5;21;01maiohttp\u001b[39;00m\n\u001b[1;32m     22\u001b[0m \u001b[38;5;28;01mfrom\u001b[39;00m \u001b[38;5;21;01maiolimiter\u001b[39;00m \u001b[38;5;28;01mimport\u001b[39;00m AsyncLimiter\n\u001b[1;32m     23\u001b[0m \u001b[38;5;28;01mfrom\u001b[39;00m \u001b[38;5;21;01mbs4\u001b[39;00m \u001b[38;5;28;01mimport\u001b[39;00m BeautifulSoup\n",
        "\u001b[0;31mModuleNotFoundError\u001b[0m: No module named 'aiohttp'"
       ],
       "type": "baseError"
      }
     },
     "output_type": "display_data"
    }
   ],
   "source": [
    "cur.execute(f\"\"\"\n",
    "CREATE TABLE IF NOT EXISTS {SCHEMA_LEVEL}.{FILE_TABLE_NAME} (\n",
    "    model_id        VARCHAR(255) NOT NULL,\n",
    "    type            VARCHAR(50)  NOT NULL,\n",
    "    oid             CHAR(40)     NOT NULL,\n",
    "    size            BIGINT,\n",
    "    path            VARCHAR(255),\n",
    "    lfs_oid         CHAR(64),\n",
    "    lfs_size        DOUBLE PRECISION,\n",
    "    lfs_pointerSize DOUBLE PRECISION,\n",
    "    xetHash         CHAR(64),\n",
    "\n",
    "    -- PK 정의 (복합 기본키)\n",
    "    CONSTRAINT pk_files PRIMARY KEY (model_id, path),\n",
    "    -- FK 정의 (모델 메타 테이블과 연결)\n",
    "    CONSTRAINT fk_hfmeta\n",
    "        FOREIGN KEY (model_id)\n",
    "        REFERENCES {SCHEMA_LEVEL}.{META_TABLE_NAME} (id)\n",
    ");\n",
    "\"\"\")"
   ]
  },
  {
   "cell_type": "markdown",
   "metadata": {
    "application/vnd.databricks.v1+cell": {
     "cellMetadata": {
      "byteLimit": 2048000,
      "rowLimit": 10000
     },
     "inputWidgets": {},
     "nuid": "4d4017d6-3b5b-4653-a1fb-2ca1e937b2cc",
     "showTitle": false,
     "tableResultSettingsMap": {},
     "title": ""
    }
   },
   "source": [
    "### 3. Community"
   ]
  },
  {
   "cell_type": "code",
   "execution_count": 0,
   "metadata": {
    "application/vnd.databricks.v1+cell": {
     "cellMetadata": {
      "byteLimit": 2048000,
      "rowLimit": 10000
     },
     "inputWidgets": {},
     "nuid": "01e24077-7dae-40eb-99a3-19adc0534858",
     "showTitle": false,
     "tableResultSettingsMap": {},
     "title": ""
    }
   },
   "outputs": [
    {
     "data": {
      "text/plain": [
       "\u001b[0;31m---------------------------------------------------------------------------\u001b[0m\n",
       "\u001b[0;31mModuleNotFoundError\u001b[0m                       Traceback (most recent call last)\n",
       "File \u001b[0;32m<command-4884005352694818>, line 21\u001b[0m\n",
       "\u001b[1;32m     18\u001b[0m \u001b[38;5;28;01mfrom\u001b[39;00m \u001b[38;5;21;01mtyping\u001b[39;00m \u001b[38;5;28;01mimport\u001b[39;00m Any, Optional, Union, Iterable, Sequence, List, Dict\n",
       "\u001b[1;32m     19\u001b[0m \u001b[38;5;28;01mfrom\u001b[39;00m \u001b[38;5;21;01murllib\u001b[39;00m\u001b[38;5;21;01m.\u001b[39;00m\u001b[38;5;21;01mparse\u001b[39;00m \u001b[38;5;28;01mimport\u001b[39;00m urlparse\n",
       "\u001b[0;32m---> 21\u001b[0m \u001b[38;5;28;01mimport\u001b[39;00m \u001b[38;5;21;01maiohttp\u001b[39;00m\n",
       "\u001b[1;32m     22\u001b[0m \u001b[38;5;28;01mfrom\u001b[39;00m \u001b[38;5;21;01maiolimiter\u001b[39;00m \u001b[38;5;28;01mimport\u001b[39;00m AsyncLimiter\n",
       "\u001b[1;32m     23\u001b[0m \u001b[38;5;28;01mfrom\u001b[39;00m \u001b[38;5;21;01mbs4\u001b[39;00m \u001b[38;5;28;01mimport\u001b[39;00m BeautifulSoup\n",
       "\n",
       "\u001b[0;31mModuleNotFoundError\u001b[0m: No module named 'aiohttp'"
      ]
     },
     "metadata": {
      "application/vnd.databricks.v1+output": {
       "addedWidgets": {},
       "arguments": {},
       "datasetInfos": [],
       "jupyterProps": {
        "ename": "ModuleNotFoundError",
        "evalue": "No module named 'aiohttp'"
       },
       "metadata": {
        "errorSummary": "Command skipped"
       },
       "removedWidgets": [],
       "sqlProps": null,
       "stackFrames": [
        "\u001b[0;31m---------------------------------------------------------------------------\u001b[0m",
        "\u001b[0;31mModuleNotFoundError\u001b[0m                       Traceback (most recent call last)",
        "File \u001b[0;32m<command-4884005352694818>, line 21\u001b[0m\n\u001b[1;32m     18\u001b[0m \u001b[38;5;28;01mfrom\u001b[39;00m \u001b[38;5;21;01mtyping\u001b[39;00m \u001b[38;5;28;01mimport\u001b[39;00m Any, Optional, Union, Iterable, Sequence, List, Dict\n\u001b[1;32m     19\u001b[0m \u001b[38;5;28;01mfrom\u001b[39;00m \u001b[38;5;21;01murllib\u001b[39;00m\u001b[38;5;21;01m.\u001b[39;00m\u001b[38;5;21;01mparse\u001b[39;00m \u001b[38;5;28;01mimport\u001b[39;00m urlparse\n\u001b[0;32m---> 21\u001b[0m \u001b[38;5;28;01mimport\u001b[39;00m \u001b[38;5;21;01maiohttp\u001b[39;00m\n\u001b[1;32m     22\u001b[0m \u001b[38;5;28;01mfrom\u001b[39;00m \u001b[38;5;21;01maiolimiter\u001b[39;00m \u001b[38;5;28;01mimport\u001b[39;00m AsyncLimiter\n\u001b[1;32m     23\u001b[0m \u001b[38;5;28;01mfrom\u001b[39;00m \u001b[38;5;21;01mbs4\u001b[39;00m \u001b[38;5;28;01mimport\u001b[39;00m BeautifulSoup\n",
        "\u001b[0;31mModuleNotFoundError\u001b[0m: No module named 'aiohttp'"
       ],
       "type": "baseError"
      }
     },
     "output_type": "display_data"
    }
   ],
   "source": [
    "cur.execute(f\"\"\"\n",
    "CREATE TABLE IF NOT EXISTS {SCHEMA_LEVEL}.{COMU_TABLE_NAME} (\n",
    "    model_id                    VARCHAR(255) NOT NULL,\n",
    "    num                         INTEGER NOT NULL,\n",
    "    title                        text,\n",
    "    status                      VARCHAR(20),\n",
    "    createdAt                   TIMESTAMPTZ,\n",
    "    isPullRequest               BOOLEAN,\n",
    "    numComments                 INTEGER,\n",
    "    topReactions                 text,\n",
    "    numReactionUsers            INTEGER,\n",
    "    pinned                      BOOLEAN,\n",
    "    author__id                  CHAR(24),\n",
    "    author_avatarUrl            VARCHAR(255),\n",
    "    author_fullname             VARCHAR(200),\n",
    "    author_name                 VARCHAR(100),\n",
    "    author_type                 VARCHAR(20),\n",
    "    author_isPro                BOOLEAN,\n",
    "    author_isHf                 BOOLEAN,\n",
    "    author_isHfAdmin            BOOLEAN,\n",
    "    author_isMod                BOOLEAN,\n",
    "    repo_name                   VARCHAR(255) NOT NULL,\n",
    "    repo_type                   VARCHAR(20),\n",
    "    repoOwner_name              VARCHAR(100),\n",
    "    repoOwner_isParticipating   BOOLEAN,\n",
    "    repoOwner_type              VARCHAR(20),\n",
    "    repoOwner_isDiscussionAuthor BOOLEAN,\n",
    "    author_followerCount        DOUBLE PRECISION,\n",
    "\n",
    "    -- PK 정의 (복합 기본키)\n",
    "    CONSTRAINT pk_community PRIMARY KEY (num, repo_name),\n",
    "    -- FK 정의 (모델 메타 테이블과 연결)\n",
    "    CONSTRAINT fk_hfmeta\n",
    "        FOREIGN KEY (model_id)\n",
    "        REFERENCES {SCHEMA_LEVEL}.{META_TABLE_NAME} (id)\n",
    ");\n",
    "\"\"\")"
   ]
  },
  {
   "cell_type": "code",
   "execution_count": 0,
   "metadata": {
    "application/vnd.databricks.v1+cell": {
     "cellMetadata": {
      "byteLimit": 2048000,
      "rowLimit": 10000
     },
     "inputWidgets": {},
     "nuid": "b1125ba0-d66f-41cb-967d-2f0b0087846f",
     "showTitle": false,
     "tableResultSettingsMap": {},
     "title": ""
    }
   },
   "outputs": [
    {
     "data": {
      "text/plain": [
       "\u001b[0;31m---------------------------------------------------------------------------\u001b[0m\n",
       "\u001b[0;31mModuleNotFoundError\u001b[0m                       Traceback (most recent call last)\n",
       "File \u001b[0;32m<command-4884005352694818>, line 21\u001b[0m\n",
       "\u001b[1;32m     18\u001b[0m \u001b[38;5;28;01mfrom\u001b[39;00m \u001b[38;5;21;01mtyping\u001b[39;00m \u001b[38;5;28;01mimport\u001b[39;00m Any, Optional, Union, Iterable, Sequence, List, Dict\n",
       "\u001b[1;32m     19\u001b[0m \u001b[38;5;28;01mfrom\u001b[39;00m \u001b[38;5;21;01murllib\u001b[39;00m\u001b[38;5;21;01m.\u001b[39;00m\u001b[38;5;21;01mparse\u001b[39;00m \u001b[38;5;28;01mimport\u001b[39;00m urlparse\n",
       "\u001b[0;32m---> 21\u001b[0m \u001b[38;5;28;01mimport\u001b[39;00m \u001b[38;5;21;01maiohttp\u001b[39;00m\n",
       "\u001b[1;32m     22\u001b[0m \u001b[38;5;28;01mfrom\u001b[39;00m \u001b[38;5;21;01maiolimiter\u001b[39;00m \u001b[38;5;28;01mimport\u001b[39;00m AsyncLimiter\n",
       "\u001b[1;32m     23\u001b[0m \u001b[38;5;28;01mfrom\u001b[39;00m \u001b[38;5;21;01mbs4\u001b[39;00m \u001b[38;5;28;01mimport\u001b[39;00m BeautifulSoup\n",
       "\n",
       "\u001b[0;31mModuleNotFoundError\u001b[0m: No module named 'aiohttp'"
      ]
     },
     "metadata": {
      "application/vnd.databricks.v1+output": {
       "addedWidgets": {},
       "arguments": {},
       "datasetInfos": [],
       "jupyterProps": {
        "ename": "ModuleNotFoundError",
        "evalue": "No module named 'aiohttp'"
       },
       "metadata": {
        "errorSummary": "Command skipped"
       },
       "removedWidgets": [],
       "sqlProps": null,
       "stackFrames": [
        "\u001b[0;31m---------------------------------------------------------------------------\u001b[0m",
        "\u001b[0;31mModuleNotFoundError\u001b[0m                       Traceback (most recent call last)",
        "File \u001b[0;32m<command-4884005352694818>, line 21\u001b[0m\n\u001b[1;32m     18\u001b[0m \u001b[38;5;28;01mfrom\u001b[39;00m \u001b[38;5;21;01mtyping\u001b[39;00m \u001b[38;5;28;01mimport\u001b[39;00m Any, Optional, Union, Iterable, Sequence, List, Dict\n\u001b[1;32m     19\u001b[0m \u001b[38;5;28;01mfrom\u001b[39;00m \u001b[38;5;21;01murllib\u001b[39;00m\u001b[38;5;21;01m.\u001b[39;00m\u001b[38;5;21;01mparse\u001b[39;00m \u001b[38;5;28;01mimport\u001b[39;00m urlparse\n\u001b[0;32m---> 21\u001b[0m \u001b[38;5;28;01mimport\u001b[39;00m \u001b[38;5;21;01maiohttp\u001b[39;00m\n\u001b[1;32m     22\u001b[0m \u001b[38;5;28;01mfrom\u001b[39;00m \u001b[38;5;21;01maiolimiter\u001b[39;00m \u001b[38;5;28;01mimport\u001b[39;00m AsyncLimiter\n\u001b[1;32m     23\u001b[0m \u001b[38;5;28;01mfrom\u001b[39;00m \u001b[38;5;21;01mbs4\u001b[39;00m \u001b[38;5;28;01mimport\u001b[39;00m BeautifulSoup\n",
        "\u001b[0;31mModuleNotFoundError\u001b[0m: No module named 'aiohttp'"
       ],
       "type": "baseError"
      }
     },
     "output_type": "display_data"
    }
   ],
   "source": [
    "conn.commit()\n",
    "cur.close()\n",
    "conn.close()"
   ]
  },
  {
   "cell_type": "markdown",
   "metadata": {
    "application/vnd.databricks.v1+cell": {
     "cellMetadata": {
      "byteLimit": 2048000,
      "rowLimit": 10000
     },
     "inputWidgets": {},
     "nuid": "83e9569b-2360-4b3f-b4c1-0435a357cd9b",
     "showTitle": false,
     "tableResultSettingsMap": {},
     "title": ""
    }
   },
   "source": [
    "## 11-8. UDF Example"
   ]
  },
  {
   "cell_type": "code",
   "execution_count": 0,
   "metadata": {
    "application/vnd.databricks.v1+cell": {
     "cellMetadata": {
      "byteLimit": 2048000,
      "rowLimit": 10000
     },
     "inputWidgets": {},
     "nuid": "bf46c80c-87f4-4a7b-b39f-d39656752fb8",
     "showTitle": false,
     "tableResultSettingsMap": {},
     "title": ""
    }
   },
   "outputs": [
    {
     "data": {
      "text/plain": [
       "\u001b[0;31m---------------------------------------------------------------------------\u001b[0m\n",
       "\u001b[0;31mModuleNotFoundError\u001b[0m                       Traceback (most recent call last)\n",
       "File \u001b[0;32m<command-4884005352694818>, line 21\u001b[0m\n",
       "\u001b[1;32m     18\u001b[0m \u001b[38;5;28;01mfrom\u001b[39;00m \u001b[38;5;21;01mtyping\u001b[39;00m \u001b[38;5;28;01mimport\u001b[39;00m Any, Optional, Union, Iterable, Sequence, List, Dict\n",
       "\u001b[1;32m     19\u001b[0m \u001b[38;5;28;01mfrom\u001b[39;00m \u001b[38;5;21;01murllib\u001b[39;00m\u001b[38;5;21;01m.\u001b[39;00m\u001b[38;5;21;01mparse\u001b[39;00m \u001b[38;5;28;01mimport\u001b[39;00m urlparse\n",
       "\u001b[0;32m---> 21\u001b[0m \u001b[38;5;28;01mimport\u001b[39;00m \u001b[38;5;21;01maiohttp\u001b[39;00m\n",
       "\u001b[1;32m     22\u001b[0m \u001b[38;5;28;01mfrom\u001b[39;00m \u001b[38;5;21;01maiolimiter\u001b[39;00m \u001b[38;5;28;01mimport\u001b[39;00m AsyncLimiter\n",
       "\u001b[1;32m     23\u001b[0m \u001b[38;5;28;01mfrom\u001b[39;00m \u001b[38;5;21;01mbs4\u001b[39;00m \u001b[38;5;28;01mimport\u001b[39;00m BeautifulSoup\n",
       "\n",
       "\u001b[0;31mModuleNotFoundError\u001b[0m: No module named 'aiohttp'"
      ]
     },
     "metadata": {
      "application/vnd.databricks.v1+output": {
       "addedWidgets": {},
       "arguments": {},
       "datasetInfos": [],
       "jupyterProps": {
        "ename": "ModuleNotFoundError",
        "evalue": "No module named 'aiohttp'"
       },
       "metadata": {
        "errorSummary": "Command skipped"
       },
       "removedWidgets": [],
       "sqlProps": null,
       "stackFrames": [
        "\u001b[0;31m---------------------------------------------------------------------------\u001b[0m",
        "\u001b[0;31mModuleNotFoundError\u001b[0m                       Traceback (most recent call last)",
        "File \u001b[0;32m<command-4884005352694818>, line 21\u001b[0m\n\u001b[1;32m     18\u001b[0m \u001b[38;5;28;01mfrom\u001b[39;00m \u001b[38;5;21;01mtyping\u001b[39;00m \u001b[38;5;28;01mimport\u001b[39;00m Any, Optional, Union, Iterable, Sequence, List, Dict\n\u001b[1;32m     19\u001b[0m \u001b[38;5;28;01mfrom\u001b[39;00m \u001b[38;5;21;01murllib\u001b[39;00m\u001b[38;5;21;01m.\u001b[39;00m\u001b[38;5;21;01mparse\u001b[39;00m \u001b[38;5;28;01mimport\u001b[39;00m urlparse\n\u001b[0;32m---> 21\u001b[0m \u001b[38;5;28;01mimport\u001b[39;00m \u001b[38;5;21;01maiohttp\u001b[39;00m\n\u001b[1;32m     22\u001b[0m \u001b[38;5;28;01mfrom\u001b[39;00m \u001b[38;5;21;01maiolimiter\u001b[39;00m \u001b[38;5;28;01mimport\u001b[39;00m AsyncLimiter\n\u001b[1;32m     23\u001b[0m \u001b[38;5;28;01mfrom\u001b[39;00m \u001b[38;5;21;01mbs4\u001b[39;00m \u001b[38;5;28;01mimport\u001b[39;00m BeautifulSoup\n",
        "\u001b[0;31mModuleNotFoundError\u001b[0m: No module named 'aiohttp'"
       ],
       "type": "baseError"
      }
     },
     "output_type": "display_data"
    }
   ],
   "source": [
    "# # 데이터베이스 목록을 조회하는 코드\n",
    "# show_databases()\n",
    "\n",
    "# # 스키마 목록을 조회하는 코드\n",
    "# show_schemas()\n",
    "\n",
    "# # 특정 스키마 아래의 테이블 목록을 조회하는 코드\n",
    "# show_tables(schema=\"test_data\")\n",
    "\n",
    "# # 특정 테이블의 데이터를 조회하는 코드\n",
    "# show_datas(schema=\"test_data\", table=\"test_table\")\n",
    "\n",
    "# # 특정 테이블에 데이터를 삽입하는 코드\n",
    "# # mode 종류: overwrite, append, ignore, error\n",
    "# insert_data(data=test_df, schema=\"test_data\", table=\"test_table\", mode=\"overwrite\")"
   ]
  },
  {
   "cell_type": "markdown",
   "metadata": {
    "application/vnd.databricks.v1+cell": {
     "cellMetadata": {
      "byteLimit": 2048000,
      "rowLimit": 10000
     },
     "inputWidgets": {},
     "nuid": "757be8d7-d1f8-496c-9081-2da2f7795997",
     "showTitle": false,
     "tableResultSettingsMap": {},
     "title": ""
    }
   },
   "source": [
    "## 11-9. INSERT data"
   ]
  },
  {
   "cell_type": "code",
   "execution_count": 0,
   "metadata": {
    "application/vnd.databricks.v1+cell": {
     "cellMetadata": {
      "byteLimit": 2048000,
      "rowLimit": 10000
     },
     "inputWidgets": {},
     "nuid": "badba8d7-df6c-405f-8870-13f9782851c7",
     "showTitle": false,
     "tableResultSettingsMap": {},
     "title": ""
    }
   },
   "outputs": [
    {
     "data": {
      "text/plain": [
       "\u001b[0;31m---------------------------------------------------------------------------\u001b[0m\n",
       "\u001b[0;31mModuleNotFoundError\u001b[0m                       Traceback (most recent call last)\n",
       "File \u001b[0;32m<command-4884005352694818>, line 21\u001b[0m\n",
       "\u001b[1;32m     18\u001b[0m \u001b[38;5;28;01mfrom\u001b[39;00m \u001b[38;5;21;01mtyping\u001b[39;00m \u001b[38;5;28;01mimport\u001b[39;00m Any, Optional, Union, Iterable, Sequence, List, Dict\n",
       "\u001b[1;32m     19\u001b[0m \u001b[38;5;28;01mfrom\u001b[39;00m \u001b[38;5;21;01murllib\u001b[39;00m\u001b[38;5;21;01m.\u001b[39;00m\u001b[38;5;21;01mparse\u001b[39;00m \u001b[38;5;28;01mimport\u001b[39;00m urlparse\n",
       "\u001b[0;32m---> 21\u001b[0m \u001b[38;5;28;01mimport\u001b[39;00m \u001b[38;5;21;01maiohttp\u001b[39;00m\n",
       "\u001b[1;32m     22\u001b[0m \u001b[38;5;28;01mfrom\u001b[39;00m \u001b[38;5;21;01maiolimiter\u001b[39;00m \u001b[38;5;28;01mimport\u001b[39;00m AsyncLimiter\n",
       "\u001b[1;32m     23\u001b[0m \u001b[38;5;28;01mfrom\u001b[39;00m \u001b[38;5;21;01mbs4\u001b[39;00m \u001b[38;5;28;01mimport\u001b[39;00m BeautifulSoup\n",
       "\n",
       "\u001b[0;31mModuleNotFoundError\u001b[0m: No module named 'aiohttp'"
      ]
     },
     "metadata": {
      "application/vnd.databricks.v1+output": {
       "addedWidgets": {},
       "arguments": {},
       "datasetInfos": [],
       "jupyterProps": {
        "ename": "ModuleNotFoundError",
        "evalue": "No module named 'aiohttp'"
       },
       "metadata": {
        "errorSummary": "Command skipped"
       },
       "removedWidgets": [],
       "sqlProps": null,
       "stackFrames": [
        "\u001b[0;31m---------------------------------------------------------------------------\u001b[0m",
        "\u001b[0;31mModuleNotFoundError\u001b[0m                       Traceback (most recent call last)",
        "File \u001b[0;32m<command-4884005352694818>, line 21\u001b[0m\n\u001b[1;32m     18\u001b[0m \u001b[38;5;28;01mfrom\u001b[39;00m \u001b[38;5;21;01mtyping\u001b[39;00m \u001b[38;5;28;01mimport\u001b[39;00m Any, Optional, Union, Iterable, Sequence, List, Dict\n\u001b[1;32m     19\u001b[0m \u001b[38;5;28;01mfrom\u001b[39;00m \u001b[38;5;21;01murllib\u001b[39;00m\u001b[38;5;21;01m.\u001b[39;00m\u001b[38;5;21;01mparse\u001b[39;00m \u001b[38;5;28;01mimport\u001b[39;00m urlparse\n\u001b[0;32m---> 21\u001b[0m \u001b[38;5;28;01mimport\u001b[39;00m \u001b[38;5;21;01maiohttp\u001b[39;00m\n\u001b[1;32m     22\u001b[0m \u001b[38;5;28;01mfrom\u001b[39;00m \u001b[38;5;21;01maiolimiter\u001b[39;00m \u001b[38;5;28;01mimport\u001b[39;00m AsyncLimiter\n\u001b[1;32m     23\u001b[0m \u001b[38;5;28;01mfrom\u001b[39;00m \u001b[38;5;21;01mbs4\u001b[39;00m \u001b[38;5;28;01mimport\u001b[39;00m BeautifulSoup\n",
        "\u001b[0;31mModuleNotFoundError\u001b[0m: No module named 'aiohttp'"
       ],
       "type": "baseError"
      }
     },
     "output_type": "display_data"
    }
   ],
   "source": [
    "def insert_data(\n",
    "    data: Union[pd.DataFrame, pyspark.sql.DataFrame],\n",
    "    schema: str,\n",
    "    table: str,\n",
    "    mode: str = \"overwrite\"\n",
    ") -> None:\n",
    "    # 데이터프레임 생성\n",
    "    # spark = SparkSession.builder.appName(\"DataFrameExample\").getOrCreate()\n",
    "    columns = list(data.columns)\n",
    "    if isinstance(data, pd.DataFrame):\n",
    "        # data = spark.createDataFrame(data, schema=columns)\n",
    "        data = spark.createDataFrame(data)\n",
    "    \n",
    "    # 인증 정보 하드코딩\n",
    "    jdbc_user = global_user\n",
    "    jdbc_pass = global_password\n",
    "\n",
    "    # 연결 문자열 하드코딩\n",
    "    host = global_host\n",
    "    port = global_port\n",
    "    jdbc_url = f\"jdbc:postgresql://{host}:{port}/postgres\"\n",
    "\n",
    "    data.write.format(\"jdbc\").mode(mode).options(\n",
    "        url=jdbc_url,\n",
    "        user=jdbc_user,\n",
    "        password=jdbc_pass,\n",
    "        dbtable=f\"{schema}.{table.lower()}\",\n",
    "        # overwrite일 때 DROP 후 CREATE가 아니라, TRUNCATE TABLE로 데이터만 비움\n",
    "        truncate=True,\n",
    "        # 대량 적재 튜닝: INSERT할 때 한 번에 몇 행씩 묶어서 넣을지\n",
    "        batchsize=1000,\n",
    "        # 스키마 적재 튜닝: INSERT시 JDBC는 setString() 함수로 text 자동 매핑\n",
    "        # 이 옵션을 사용하면 unspecified로 넘겨 PostgreSQL이 자동 캐스팅\n",
    "        # stringtype=\"unspecified\"\n",
    "    ).save()"
   ]
  },
  {
   "cell_type": "markdown",
   "metadata": {
    "application/vnd.databricks.v1+cell": {
     "cellMetadata": {
      "byteLimit": 2048000,
      "rowLimit": 10000
     },
     "inputWidgets": {},
     "nuid": "5d04a660-b200-4aca-a9b0-9e4f4e69494a",
     "showTitle": false,
     "tableResultSettingsMap": {},
     "title": ""
    }
   },
   "source": [
    "### 1. Metadata"
   ]
  },
  {
   "cell_type": "code",
   "execution_count": 0,
   "metadata": {
    "application/vnd.databricks.v1+cell": {
     "cellMetadata": {
      "byteLimit": 2048000,
      "rowLimit": 10000
     },
     "inputWidgets": {},
     "nuid": "dbe158ac-d35f-477f-b7ab-3de240ae1c8a",
     "showTitle": false,
     "tableResultSettingsMap": {},
     "title": ""
    }
   },
   "outputs": [
    {
     "data": {
      "text/plain": [
       "\u001b[0;31m---------------------------------------------------------------------------\u001b[0m\n",
       "\u001b[0;31mModuleNotFoundError\u001b[0m                       Traceback (most recent call last)\n",
       "File \u001b[0;32m<command-4884005352694818>, line 21\u001b[0m\n",
       "\u001b[1;32m     18\u001b[0m \u001b[38;5;28;01mfrom\u001b[39;00m \u001b[38;5;21;01mtyping\u001b[39;00m \u001b[38;5;28;01mimport\u001b[39;00m Any, Optional, Union, Iterable, Sequence, List, Dict\n",
       "\u001b[1;32m     19\u001b[0m \u001b[38;5;28;01mfrom\u001b[39;00m \u001b[38;5;21;01murllib\u001b[39;00m\u001b[38;5;21;01m.\u001b[39;00m\u001b[38;5;21;01mparse\u001b[39;00m \u001b[38;5;28;01mimport\u001b[39;00m urlparse\n",
       "\u001b[0;32m---> 21\u001b[0m \u001b[38;5;28;01mimport\u001b[39;00m \u001b[38;5;21;01maiohttp\u001b[39;00m\n",
       "\u001b[1;32m     22\u001b[0m \u001b[38;5;28;01mfrom\u001b[39;00m \u001b[38;5;21;01maiolimiter\u001b[39;00m \u001b[38;5;28;01mimport\u001b[39;00m AsyncLimiter\n",
       "\u001b[1;32m     23\u001b[0m \u001b[38;5;28;01mfrom\u001b[39;00m \u001b[38;5;21;01mbs4\u001b[39;00m \u001b[38;5;28;01mimport\u001b[39;00m BeautifulSoup\n",
       "\n",
       "\u001b[0;31mModuleNotFoundError\u001b[0m: No module named 'aiohttp'"
      ]
     },
     "metadata": {
      "application/vnd.databricks.v1+output": {
       "addedWidgets": {},
       "arguments": {},
       "datasetInfos": [],
       "jupyterProps": {
        "ename": "ModuleNotFoundError",
        "evalue": "No module named 'aiohttp'"
       },
       "metadata": {
        "errorSummary": "Command skipped"
       },
       "removedWidgets": [],
       "sqlProps": null,
       "stackFrames": [
        "\u001b[0;31m---------------------------------------------------------------------------\u001b[0m",
        "\u001b[0;31mModuleNotFoundError\u001b[0m                       Traceback (most recent call last)",
        "File \u001b[0;32m<command-4884005352694818>, line 21\u001b[0m\n\u001b[1;32m     18\u001b[0m \u001b[38;5;28;01mfrom\u001b[39;00m \u001b[38;5;21;01mtyping\u001b[39;00m \u001b[38;5;28;01mimport\u001b[39;00m Any, Optional, Union, Iterable, Sequence, List, Dict\n\u001b[1;32m     19\u001b[0m \u001b[38;5;28;01mfrom\u001b[39;00m \u001b[38;5;21;01murllib\u001b[39;00m\u001b[38;5;21;01m.\u001b[39;00m\u001b[38;5;21;01mparse\u001b[39;00m \u001b[38;5;28;01mimport\u001b[39;00m urlparse\n\u001b[0;32m---> 21\u001b[0m \u001b[38;5;28;01mimport\u001b[39;00m \u001b[38;5;21;01maiohttp\u001b[39;00m\n\u001b[1;32m     22\u001b[0m \u001b[38;5;28;01mfrom\u001b[39;00m \u001b[38;5;21;01maiolimiter\u001b[39;00m \u001b[38;5;28;01mimport\u001b[39;00m AsyncLimiter\n\u001b[1;32m     23\u001b[0m \u001b[38;5;28;01mfrom\u001b[39;00m \u001b[38;5;21;01mbs4\u001b[39;00m \u001b[38;5;28;01mimport\u001b[39;00m BeautifulSoup\n",
        "\u001b[0;31mModuleNotFoundError\u001b[0m: No module named 'aiohttp'"
       ],
       "type": "baseError"
      }
     },
     "output_type": "display_data"
    }
   ],
   "source": [
    "tmp_df = pd.read_csv('hf_metadata.csv', encoding=ENCODING_TYPE)\n",
    "tmp_df[\"created_at\"] = pd.to_datetime(tmp_df[\"created_at\"], utc=True, errors=\"coerce\")\n",
    "tmp_df[\"last_modified\"] = pd.to_datetime(tmp_df[\"last_modified\"], utc=True, errors=\"coerce\")\n",
    "\n",
    "# 특정 테이블에 데이터를 삽입하는 코드\n",
    "# mode 종류: overwrite, append, ignore, error\n",
    "insert_data(\n",
    "    data=spark.createDataFrame(tmp_df, schema=meta_schema),\n",
    "    schema=SCHEMA_LEVEL,\n",
    "    table=META_TABLE_NAME,\n",
    "    mode=\"overwrite\"\n",
    ")"
   ]
  },
  {
   "cell_type": "markdown",
   "metadata": {
    "application/vnd.databricks.v1+cell": {
     "cellMetadata": {
      "byteLimit": 2048000,
      "rowLimit": 10000
     },
     "inputWidgets": {},
     "nuid": "d8f135a6-6179-40c3-834a-62391687edd0",
     "showTitle": false,
     "tableResultSettingsMap": {},
     "title": ""
    }
   },
   "source": [
    "### 2. Files"
   ]
  },
  {
   "cell_type": "code",
   "execution_count": 0,
   "metadata": {
    "application/vnd.databricks.v1+cell": {
     "cellMetadata": {
      "byteLimit": 2048000,
      "rowLimit": 10000
     },
     "inputWidgets": {},
     "nuid": "02efde54-f46b-4d3d-8992-499e27fbb7d3",
     "showTitle": false,
     "tableResultSettingsMap": {},
     "title": ""
    }
   },
   "outputs": [
    {
     "data": {
      "text/plain": [
       "\u001b[0;31m---------------------------------------------------------------------------\u001b[0m\n",
       "\u001b[0;31mModuleNotFoundError\u001b[0m                       Traceback (most recent call last)\n",
       "File \u001b[0;32m<command-4884005352694818>, line 21\u001b[0m\n",
       "\u001b[1;32m     18\u001b[0m \u001b[38;5;28;01mfrom\u001b[39;00m \u001b[38;5;21;01mtyping\u001b[39;00m \u001b[38;5;28;01mimport\u001b[39;00m Any, Optional, Union, Iterable, Sequence, List, Dict\n",
       "\u001b[1;32m     19\u001b[0m \u001b[38;5;28;01mfrom\u001b[39;00m \u001b[38;5;21;01murllib\u001b[39;00m\u001b[38;5;21;01m.\u001b[39;00m\u001b[38;5;21;01mparse\u001b[39;00m \u001b[38;5;28;01mimport\u001b[39;00m urlparse\n",
       "\u001b[0;32m---> 21\u001b[0m \u001b[38;5;28;01mimport\u001b[39;00m \u001b[38;5;21;01maiohttp\u001b[39;00m\n",
       "\u001b[1;32m     22\u001b[0m \u001b[38;5;28;01mfrom\u001b[39;00m \u001b[38;5;21;01maiolimiter\u001b[39;00m \u001b[38;5;28;01mimport\u001b[39;00m AsyncLimiter\n",
       "\u001b[1;32m     23\u001b[0m \u001b[38;5;28;01mfrom\u001b[39;00m \u001b[38;5;21;01mbs4\u001b[39;00m \u001b[38;5;28;01mimport\u001b[39;00m BeautifulSoup\n",
       "\n",
       "\u001b[0;31mModuleNotFoundError\u001b[0m: No module named 'aiohttp'"
      ]
     },
     "metadata": {
      "application/vnd.databricks.v1+output": {
       "addedWidgets": {},
       "arguments": {},
       "datasetInfos": [],
       "jupyterProps": {
        "ename": "ModuleNotFoundError",
        "evalue": "No module named 'aiohttp'"
       },
       "metadata": {
        "errorSummary": "Command skipped"
       },
       "removedWidgets": [],
       "sqlProps": null,
       "stackFrames": [
        "\u001b[0;31m---------------------------------------------------------------------------\u001b[0m",
        "\u001b[0;31mModuleNotFoundError\u001b[0m                       Traceback (most recent call last)",
        "File \u001b[0;32m<command-4884005352694818>, line 21\u001b[0m\n\u001b[1;32m     18\u001b[0m \u001b[38;5;28;01mfrom\u001b[39;00m \u001b[38;5;21;01mtyping\u001b[39;00m \u001b[38;5;28;01mimport\u001b[39;00m Any, Optional, Union, Iterable, Sequence, List, Dict\n\u001b[1;32m     19\u001b[0m \u001b[38;5;28;01mfrom\u001b[39;00m \u001b[38;5;21;01murllib\u001b[39;00m\u001b[38;5;21;01m.\u001b[39;00m\u001b[38;5;21;01mparse\u001b[39;00m \u001b[38;5;28;01mimport\u001b[39;00m urlparse\n\u001b[0;32m---> 21\u001b[0m \u001b[38;5;28;01mimport\u001b[39;00m \u001b[38;5;21;01maiohttp\u001b[39;00m\n\u001b[1;32m     22\u001b[0m \u001b[38;5;28;01mfrom\u001b[39;00m \u001b[38;5;21;01maiolimiter\u001b[39;00m \u001b[38;5;28;01mimport\u001b[39;00m AsyncLimiter\n\u001b[1;32m     23\u001b[0m \u001b[38;5;28;01mfrom\u001b[39;00m \u001b[38;5;21;01mbs4\u001b[39;00m \u001b[38;5;28;01mimport\u001b[39;00m BeautifulSoup\n",
        "\u001b[0;31mModuleNotFoundError\u001b[0m: No module named 'aiohttp'"
       ],
       "type": "baseError"
      }
     },
     "output_type": "display_data"
    }
   ],
   "source": [
    "tmp_df = pd.read_csv('hf_files.csv', encoding=ENCODING_TYPE)\n",
    "tmp_df = tmp_df[tmp_df['path'].notna()]\n",
    "\n",
    "# 특정 테이블에 데이터를 삽입하는 코드\n",
    "# mode 종류: overwrite, append, ignore, error\n",
    "insert_data(\n",
    "    data=spark.createDataFrame(tmp_df, schema=file_schema),\n",
    "    schema=SCHEMA_LEVEL,\n",
    "    table=FILE_TABLE_NAME,\n",
    "    mode=\"overwrite\"\n",
    ")"
   ]
  },
  {
   "cell_type": "markdown",
   "metadata": {
    "application/vnd.databricks.v1+cell": {
     "cellMetadata": {
      "byteLimit": 2048000,
      "rowLimit": 10000
     },
     "inputWidgets": {},
     "nuid": "2fa6524b-a11f-45b3-8241-40e4e0d3dad7",
     "showTitle": false,
     "tableResultSettingsMap": {},
     "title": ""
    }
   },
   "source": [
    "### 3. Community"
   ]
  },
  {
   "cell_type": "code",
   "execution_count": 0,
   "metadata": {
    "application/vnd.databricks.v1+cell": {
     "cellMetadata": {
      "byteLimit": 2048000,
      "rowLimit": 10000
     },
     "inputWidgets": {},
     "nuid": "c1f521d9-7e59-47d2-bcae-0527cca1dba0",
     "showTitle": false,
     "tableResultSettingsMap": {},
     "title": ""
    }
   },
   "outputs": [
    {
     "data": {
      "text/plain": [
       "\u001b[0;31m---------------------------------------------------------------------------\u001b[0m\n",
       "\u001b[0;31mModuleNotFoundError\u001b[0m                       Traceback (most recent call last)\n",
       "File \u001b[0;32m<command-4884005352694818>, line 21\u001b[0m\n",
       "\u001b[1;32m     18\u001b[0m \u001b[38;5;28;01mfrom\u001b[39;00m \u001b[38;5;21;01mtyping\u001b[39;00m \u001b[38;5;28;01mimport\u001b[39;00m Any, Optional, Union, Iterable, Sequence, List, Dict\n",
       "\u001b[1;32m     19\u001b[0m \u001b[38;5;28;01mfrom\u001b[39;00m \u001b[38;5;21;01murllib\u001b[39;00m\u001b[38;5;21;01m.\u001b[39;00m\u001b[38;5;21;01mparse\u001b[39;00m \u001b[38;5;28;01mimport\u001b[39;00m urlparse\n",
       "\u001b[0;32m---> 21\u001b[0m \u001b[38;5;28;01mimport\u001b[39;00m \u001b[38;5;21;01maiohttp\u001b[39;00m\n",
       "\u001b[1;32m     22\u001b[0m \u001b[38;5;28;01mfrom\u001b[39;00m \u001b[38;5;21;01maiolimiter\u001b[39;00m \u001b[38;5;28;01mimport\u001b[39;00m AsyncLimiter\n",
       "\u001b[1;32m     23\u001b[0m \u001b[38;5;28;01mfrom\u001b[39;00m \u001b[38;5;21;01mbs4\u001b[39;00m \u001b[38;5;28;01mimport\u001b[39;00m BeautifulSoup\n",
       "\n",
       "\u001b[0;31mModuleNotFoundError\u001b[0m: No module named 'aiohttp'"
      ]
     },
     "metadata": {
      "application/vnd.databricks.v1+output": {
       "addedWidgets": {},
       "arguments": {},
       "datasetInfos": [],
       "jupyterProps": {
        "ename": "ModuleNotFoundError",
        "evalue": "No module named 'aiohttp'"
       },
       "metadata": {
        "errorSummary": "Command skipped"
       },
       "removedWidgets": [],
       "sqlProps": null,
       "stackFrames": [
        "\u001b[0;31m---------------------------------------------------------------------------\u001b[0m",
        "\u001b[0;31mModuleNotFoundError\u001b[0m                       Traceback (most recent call last)",
        "File \u001b[0;32m<command-4884005352694818>, line 21\u001b[0m\n\u001b[1;32m     18\u001b[0m \u001b[38;5;28;01mfrom\u001b[39;00m \u001b[38;5;21;01mtyping\u001b[39;00m \u001b[38;5;28;01mimport\u001b[39;00m Any, Optional, Union, Iterable, Sequence, List, Dict\n\u001b[1;32m     19\u001b[0m \u001b[38;5;28;01mfrom\u001b[39;00m \u001b[38;5;21;01murllib\u001b[39;00m\u001b[38;5;21;01m.\u001b[39;00m\u001b[38;5;21;01mparse\u001b[39;00m \u001b[38;5;28;01mimport\u001b[39;00m urlparse\n\u001b[0;32m---> 21\u001b[0m \u001b[38;5;28;01mimport\u001b[39;00m \u001b[38;5;21;01maiohttp\u001b[39;00m\n\u001b[1;32m     22\u001b[0m \u001b[38;5;28;01mfrom\u001b[39;00m \u001b[38;5;21;01maiolimiter\u001b[39;00m \u001b[38;5;28;01mimport\u001b[39;00m AsyncLimiter\n\u001b[1;32m     23\u001b[0m \u001b[38;5;28;01mfrom\u001b[39;00m \u001b[38;5;21;01mbs4\u001b[39;00m \u001b[38;5;28;01mimport\u001b[39;00m BeautifulSoup\n",
        "\u001b[0;31mModuleNotFoundError\u001b[0m: No module named 'aiohttp'"
       ],
       "type": "baseError"
      }
     },
     "output_type": "display_data"
    }
   ],
   "source": [
    "tmp_df = pd.read_csv('hf_community.csv', encoding=ENCODING_TYPE)\n",
    "tmp_df[\"createdAt\"] = pd.to_datetime(tmp_df[\"createdAt\"], utc=True, errors=\"coerce\")\n",
    "\n",
    "# 특정 테이블에 데이터를 삽입하는 코드\n",
    "# mode 종류: overwrite, append, ignore, error\n",
    "insert_data(\n",
    "    data=spark.createDataFrame(tmp_df, schema=comu_schema),\n",
    "    schema=SCHEMA_LEVEL,\n",
    "    table=COMU_TABLE_NAME,\n",
    "    mode=\"overwrite\"\n",
    ")"
   ]
  },
  {
   "cell_type": "markdown",
   "metadata": {
    "application/vnd.databricks.v1+cell": {
     "cellMetadata": {
      "byteLimit": 2048000,
      "rowLimit": 10000
     },
     "inputWidgets": {},
     "nuid": "4e2783a6-e274-4c2b-a961-404b72f1f92d",
     "showTitle": false,
     "tableResultSettingsMap": {},
     "title": ""
    }
   },
   "source": [
    "# 12. END...?"
   ]
  },
  {
   "cell_type": "code",
   "execution_count": 0,
   "metadata": {
    "application/vnd.databricks.v1+cell": {
     "cellMetadata": {
      "byteLimit": 2048000,
      "rowLimit": 10000
     },
     "inputWidgets": {},
     "nuid": "cbf40e07-ed20-4e7b-b1fe-fabfe387c6bd",
     "showTitle": false,
     "tableResultSettingsMap": {},
     "title": ""
    }
   },
   "outputs": [
    {
     "data": {
      "text/plain": [
       "\u001b[0;31m---------------------------------------------------------------------------\u001b[0m\n",
       "\u001b[0;31mModuleNotFoundError\u001b[0m                       Traceback (most recent call last)\n",
       "File \u001b[0;32m<command-4884005352694818>, line 21\u001b[0m\n",
       "\u001b[1;32m     18\u001b[0m \u001b[38;5;28;01mfrom\u001b[39;00m \u001b[38;5;21;01mtyping\u001b[39;00m \u001b[38;5;28;01mimport\u001b[39;00m Any, Optional, Union, Iterable, Sequence, List, Dict\n",
       "\u001b[1;32m     19\u001b[0m \u001b[38;5;28;01mfrom\u001b[39;00m \u001b[38;5;21;01murllib\u001b[39;00m\u001b[38;5;21;01m.\u001b[39;00m\u001b[38;5;21;01mparse\u001b[39;00m \u001b[38;5;28;01mimport\u001b[39;00m urlparse\n",
       "\u001b[0;32m---> 21\u001b[0m \u001b[38;5;28;01mimport\u001b[39;00m \u001b[38;5;21;01maiohttp\u001b[39;00m\n",
       "\u001b[1;32m     22\u001b[0m \u001b[38;5;28;01mfrom\u001b[39;00m \u001b[38;5;21;01maiolimiter\u001b[39;00m \u001b[38;5;28;01mimport\u001b[39;00m AsyncLimiter\n",
       "\u001b[1;32m     23\u001b[0m \u001b[38;5;28;01mfrom\u001b[39;00m \u001b[38;5;21;01mbs4\u001b[39;00m \u001b[38;5;28;01mimport\u001b[39;00m BeautifulSoup\n",
       "\n",
       "\u001b[0;31mModuleNotFoundError\u001b[0m: No module named 'aiohttp'"
      ]
     },
     "metadata": {
      "application/vnd.databricks.v1+output": {
       "addedWidgets": {},
       "arguments": {},
       "datasetInfos": [],
       "jupyterProps": {
        "ename": "ModuleNotFoundError",
        "evalue": "No module named 'aiohttp'"
       },
       "metadata": {
        "errorSummary": "Command skipped"
       },
       "removedWidgets": [],
       "sqlProps": null,
       "stackFrames": [
        "\u001b[0;31m---------------------------------------------------------------------------\u001b[0m",
        "\u001b[0;31mModuleNotFoundError\u001b[0m                       Traceback (most recent call last)",
        "File \u001b[0;32m<command-4884005352694818>, line 21\u001b[0m\n\u001b[1;32m     18\u001b[0m \u001b[38;5;28;01mfrom\u001b[39;00m \u001b[38;5;21;01mtyping\u001b[39;00m \u001b[38;5;28;01mimport\u001b[39;00m Any, Optional, Union, Iterable, Sequence, List, Dict\n\u001b[1;32m     19\u001b[0m \u001b[38;5;28;01mfrom\u001b[39;00m \u001b[38;5;21;01murllib\u001b[39;00m\u001b[38;5;21;01m.\u001b[39;00m\u001b[38;5;21;01mparse\u001b[39;00m \u001b[38;5;28;01mimport\u001b[39;00m urlparse\n\u001b[0;32m---> 21\u001b[0m \u001b[38;5;28;01mimport\u001b[39;00m \u001b[38;5;21;01maiohttp\u001b[39;00m\n\u001b[1;32m     22\u001b[0m \u001b[38;5;28;01mfrom\u001b[39;00m \u001b[38;5;21;01maiolimiter\u001b[39;00m \u001b[38;5;28;01mimport\u001b[39;00m AsyncLimiter\n\u001b[1;32m     23\u001b[0m \u001b[38;5;28;01mfrom\u001b[39;00m \u001b[38;5;21;01mbs4\u001b[39;00m \u001b[38;5;28;01mimport\u001b[39;00m BeautifulSoup\n",
        "\u001b[0;31mModuleNotFoundError\u001b[0m: No module named 'aiohttp'"
       ],
       "type": "baseError"
      }
     },
     "output_type": "display_data"
    }
   ],
   "source": [
    "df = pd.read_csv('hf_metadata.csv', encoding='utf-8-sig')\n",
    "df.schema"
   ]
  }
 ],
 "metadata": {
  "application/vnd.databricks.v1+notebook": {
   "computePreferences": null,
   "dashboards": [],
   "environmentMetadata": {
    "base_environment": "",
    "environment_version": "3"
   },
   "inputWidgetPreferences": null,
   "language": "python",
   "notebookMetadata": {
    "mostRecentlyExecutedCommandWithImplicitDF": {
     "commandId": 8993352249731329,
     "dataframes": [
      "_sqldf"
     ]
    },
    "pythonIndentUnit": 4
   },
   "notebookName": "허깅페이스 모아모아",
   "widgets": {}
  },
  "language_info": {
   "name": "python"
  }
 },
 "nbformat": 4,
 "nbformat_minor": 0
}
